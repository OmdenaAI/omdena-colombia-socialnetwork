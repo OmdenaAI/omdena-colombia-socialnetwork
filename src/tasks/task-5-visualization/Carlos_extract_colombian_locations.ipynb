{
  "nbformat": 4,
  "nbformat_minor": 0,
  "metadata": {
    "colab": {
      "name": "Carlos_extract_colombian_locations.ipynb",
      "provenance": [],
      "collapsed_sections": [],
      "authorship_tag": "ABX9TyOxsYss6rpi9THhGghxJIIG",
      "include_colab_link": true
    },
    "kernelspec": {
      "name": "python3",
      "display_name": "Python 3"
    },
    "language_info": {
      "name": "python"
    }
  },
  "cells": [
    {
      "cell_type": "markdown",
      "metadata": {
        "id": "view-in-github",
        "colab_type": "text"
      },
      "source": [
        "<a href=\"https://colab.research.google.com/github/OmdenaAI/omdena-colombia-socialnetwork/blob/task-5-visualization/src/tasks/task-5-visualization/Carlos_extract_colombian_locations.ipynb\" target=\"_parent\"><img src=\"https://colab.research.google.com/assets/colab-badge.svg\" alt=\"Open In Colab\"/></a>"
      ]
    },
    {
      "cell_type": "code",
      "metadata": {
        "id": "2I276ZwGydVJ"
      },
      "source": [
        "import pandas as pd\n",
        "from geopy.geocoders import Nominatim"
      ],
      "execution_count": 1,
      "outputs": []
    },
    {
      "cell_type": "code",
      "metadata": {
        "id": "IjWixGH-0NrU"
      },
      "source": [
        "def clean_text(text):\n",
        "  text = text.lower()\n",
        "  text = text.replace(\"á\",\"a\")\n",
        "  text = text.replace(\"à\", \"a\")\n",
        "  text = text.replace(\"é\",\"e\")\n",
        "  text = text.replace(\"í\",\"i\")\n",
        "  text = text.replace(\"ó\",\"o\")\n",
        "  text = text.replace(\"ú\",\"u\")\n",
        "  text = text.replace(\"ü\",\"u\")\n",
        "  text = text.strip()\n",
        "  text = text.replace(\"🇨🇴\",\"\")\n",
        "  text = text.replace(\",d.c\",\"\")\n",
        "  text = text.replace(\"d.c\",\"\")\n",
        "  text = text.replace(\", d.c\",\"\")\n",
        "  text = text.replace(\".\",\" \")\n",
        "  text = text.replace(\"&\",\"\")\n",
        "  text = text.replace(\"#\",\"\")\n",
        "  text = text.replace(\"-\",\",\")\n",
        "  text = text.replace(\"/\",\",\")\n",
        "  #text = text.replace(\"polombia\",\"colombia\")\n",
        "  #text = text.replace(\"colombia\",\"\")\n",
        "  text = text.replace(\" dc\",\"\")\n",
        "  text = text.replace(\"@\",\"\")\n",
        "  #text = text.replace(\"¬\", \" \")\n",
        "  return text"
      ],
      "execution_count": 2,
      "outputs": []
    },
    {
      "cell_type": "code",
      "metadata": {
        "colab": {
          "base_uri": "https://localhost:8080/",
          "height": 206
        },
        "id": "nSL5YJiY0Fcn",
        "outputId": "4529b9ab-817a-4eff-dc9f-796ebe01d036"
      },
      "source": [
        "df = pd.read_csv(\"User_Location Dictionary.csv\", index_col=\"Unnamed: 0\")\n",
        "df.dropna(how=\"all\", subset=[\"Location\"],inplace=True)\n",
        "df.head()"
      ],
      "execution_count": 3,
      "outputs": [
        {
          "output_type": "execute_result",
          "data": {
            "text/html": [
              "<div>\n",
              "<style scoped>\n",
              "    .dataframe tbody tr th:only-of-type {\n",
              "        vertical-align: middle;\n",
              "    }\n",
              "\n",
              "    .dataframe tbody tr th {\n",
              "        vertical-align: top;\n",
              "    }\n",
              "\n",
              "    .dataframe thead th {\n",
              "        text-align: right;\n",
              "    }\n",
              "</style>\n",
              "<table border=\"1\" class=\"dataframe\">\n",
              "  <thead>\n",
              "    <tr style=\"text-align: right;\">\n",
              "      <th></th>\n",
              "      <th>User</th>\n",
              "      <th>Location</th>\n",
              "    </tr>\n",
              "  </thead>\n",
              "  <tbody>\n",
              "    <tr>\n",
              "      <th>2</th>\n",
              "      <td>DS_NAN</td>\n",
              "      <td>BS AS ARGENTINA</td>\n",
              "    </tr>\n",
              "    <tr>\n",
              "      <th>3</th>\n",
              "      <td>Robertob_ad</td>\n",
              "      <td>venezuela</td>\n",
              "    </tr>\n",
              "    <tr>\n",
              "      <th>5</th>\n",
              "      <td>julio2j</td>\n",
              "      <td>Venezuela</td>\n",
              "    </tr>\n",
              "    <tr>\n",
              "      <th>8</th>\n",
              "      <td>07mike</td>\n",
              "      <td>&amp;</td>\n",
              "    </tr>\n",
              "    <tr>\n",
              "      <th>10</th>\n",
              "      <td>josealejandrou</td>\n",
              "      <td>Maracaibo, Venezuela</td>\n",
              "    </tr>\n",
              "  </tbody>\n",
              "</table>\n",
              "</div>"
            ],
            "text/plain": [
              "              User              Location\n",
              "2           DS_NAN       BS AS ARGENTINA\n",
              "3      Robertob_ad             venezuela\n",
              "5          julio2j             Venezuela\n",
              "8           07mike                     &\n",
              "10  josealejandrou  Maracaibo, Venezuela"
            ]
          },
          "metadata": {},
          "execution_count": 3
        }
      ]
    },
    {
      "cell_type": "code",
      "metadata": {
        "colab": {
          "base_uri": "https://localhost:8080/"
        },
        "id": "ZmuDwsxo28Wa",
        "outputId": "409294a6-7bc1-4306-ad13-bc70ef82e5ce"
      },
      "source": [
        "df.shape"
      ],
      "execution_count": 4,
      "outputs": [
        {
          "output_type": "execute_result",
          "data": {
            "text/plain": [
              "(6559, 2)"
            ]
          },
          "metadata": {},
          "execution_count": 4
        }
      ]
    },
    {
      "cell_type": "code",
      "metadata": {
        "colab": {
          "base_uri": "https://localhost:8080/",
          "height": 206
        },
        "id": "thoiMJ_D0fPf",
        "outputId": "a06f1f57-ea82-4c8b-bdeb-970713f64e53"
      },
      "source": [
        "df[\"cleaned_location\"] = df[\"Location\"].apply(clean_text)\n",
        "df = df[df[\"cleaned_location\"] != \"\"]\n",
        "df.head()"
      ],
      "execution_count": 5,
      "outputs": [
        {
          "output_type": "execute_result",
          "data": {
            "text/html": [
              "<div>\n",
              "<style scoped>\n",
              "    .dataframe tbody tr th:only-of-type {\n",
              "        vertical-align: middle;\n",
              "    }\n",
              "\n",
              "    .dataframe tbody tr th {\n",
              "        vertical-align: top;\n",
              "    }\n",
              "\n",
              "    .dataframe thead th {\n",
              "        text-align: right;\n",
              "    }\n",
              "</style>\n",
              "<table border=\"1\" class=\"dataframe\">\n",
              "  <thead>\n",
              "    <tr style=\"text-align: right;\">\n",
              "      <th></th>\n",
              "      <th>User</th>\n",
              "      <th>Location</th>\n",
              "      <th>cleaned_location</th>\n",
              "    </tr>\n",
              "  </thead>\n",
              "  <tbody>\n",
              "    <tr>\n",
              "      <th>2</th>\n",
              "      <td>DS_NAN</td>\n",
              "      <td>BS AS ARGENTINA</td>\n",
              "      <td>bs as argentina</td>\n",
              "    </tr>\n",
              "    <tr>\n",
              "      <th>3</th>\n",
              "      <td>Robertob_ad</td>\n",
              "      <td>venezuela</td>\n",
              "      <td>venezuela</td>\n",
              "    </tr>\n",
              "    <tr>\n",
              "      <th>5</th>\n",
              "      <td>julio2j</td>\n",
              "      <td>Venezuela</td>\n",
              "      <td>venezuela</td>\n",
              "    </tr>\n",
              "    <tr>\n",
              "      <th>10</th>\n",
              "      <td>josealejandrou</td>\n",
              "      <td>Maracaibo, Venezuela</td>\n",
              "      <td>maracaibo, venezuela</td>\n",
              "    </tr>\n",
              "    <tr>\n",
              "      <th>12</th>\n",
              "      <td>magsegovia</td>\n",
              "      <td>Lima, Peru</td>\n",
              "      <td>lima, peru</td>\n",
              "    </tr>\n",
              "  </tbody>\n",
              "</table>\n",
              "</div>"
            ],
            "text/plain": [
              "              User              Location      cleaned_location\n",
              "2           DS_NAN       BS AS ARGENTINA       bs as argentina\n",
              "3      Robertob_ad             venezuela             venezuela\n",
              "5          julio2j             Venezuela             venezuela\n",
              "10  josealejandrou  Maracaibo, Venezuela  maracaibo, venezuela\n",
              "12      magsegovia            Lima, Peru            lima, peru"
            ]
          },
          "metadata": {},
          "execution_count": 5
        }
      ]
    },
    {
      "cell_type": "code",
      "metadata": {
        "colab": {
          "base_uri": "https://localhost:8080/"
        },
        "id": "YhDgADrV6vSe",
        "outputId": "af47e48d-699d-4f61-9c25-ee977a391abb"
      },
      "source": [
        "df.shape"
      ],
      "execution_count": 6,
      "outputs": [
        {
          "output_type": "execute_result",
          "data": {
            "text/plain": [
              "(6550, 3)"
            ]
          },
          "metadata": {},
          "execution_count": 6
        }
      ]
    },
    {
      "cell_type": "code",
      "metadata": {
        "id": "p96ESYko_ODg"
      },
      "source": [
        "def is_not_colombian(cleaned_location):\n",
        "  countries = [\"argentina\", \"venezuela\", \"peru\", \"chile\", \"spain\", \n",
        "               \"españa\", \"france\", \"costa rica\", \"uruguay\", \"cuba\",\n",
        "               \"italia\", \"england\", \"ecuador\", \"el salvador\", \"nicaragua\",\n",
        "               \"italy\", \"mexico\", \"rusia\"]\n",
        "  ans = False \n",
        "  for country in countries: \n",
        "    if country in cleaned_location: \n",
        "      ans = True\n",
        "    else: \n",
        "      ans = ans or False\n",
        "  return ans  "
      ],
      "execution_count": 7,
      "outputs": []
    },
    {
      "cell_type": "code",
      "metadata": {
        "colab": {
          "base_uri": "https://localhost:8080/",
          "height": 206
        },
        "id": "K90uDubT2Vzz",
        "outputId": "b559bd32-54c6-4241-ec28-7226caa20bdd"
      },
      "source": [
        "df[\"not_colombian\"] = df[\"cleaned_location\"].apply(is_not_colombian)\n",
        "df.head()"
      ],
      "execution_count": 8,
      "outputs": [
        {
          "output_type": "execute_result",
          "data": {
            "text/html": [
              "<div>\n",
              "<style scoped>\n",
              "    .dataframe tbody tr th:only-of-type {\n",
              "        vertical-align: middle;\n",
              "    }\n",
              "\n",
              "    .dataframe tbody tr th {\n",
              "        vertical-align: top;\n",
              "    }\n",
              "\n",
              "    .dataframe thead th {\n",
              "        text-align: right;\n",
              "    }\n",
              "</style>\n",
              "<table border=\"1\" class=\"dataframe\">\n",
              "  <thead>\n",
              "    <tr style=\"text-align: right;\">\n",
              "      <th></th>\n",
              "      <th>User</th>\n",
              "      <th>Location</th>\n",
              "      <th>cleaned_location</th>\n",
              "      <th>not_colombian</th>\n",
              "    </tr>\n",
              "  </thead>\n",
              "  <tbody>\n",
              "    <tr>\n",
              "      <th>2</th>\n",
              "      <td>DS_NAN</td>\n",
              "      <td>BS AS ARGENTINA</td>\n",
              "      <td>bs as argentina</td>\n",
              "      <td>True</td>\n",
              "    </tr>\n",
              "    <tr>\n",
              "      <th>3</th>\n",
              "      <td>Robertob_ad</td>\n",
              "      <td>venezuela</td>\n",
              "      <td>venezuela</td>\n",
              "      <td>True</td>\n",
              "    </tr>\n",
              "    <tr>\n",
              "      <th>5</th>\n",
              "      <td>julio2j</td>\n",
              "      <td>Venezuela</td>\n",
              "      <td>venezuela</td>\n",
              "      <td>True</td>\n",
              "    </tr>\n",
              "    <tr>\n",
              "      <th>10</th>\n",
              "      <td>josealejandrou</td>\n",
              "      <td>Maracaibo, Venezuela</td>\n",
              "      <td>maracaibo, venezuela</td>\n",
              "      <td>True</td>\n",
              "    </tr>\n",
              "    <tr>\n",
              "      <th>12</th>\n",
              "      <td>magsegovia</td>\n",
              "      <td>Lima, Peru</td>\n",
              "      <td>lima, peru</td>\n",
              "      <td>True</td>\n",
              "    </tr>\n",
              "  </tbody>\n",
              "</table>\n",
              "</div>"
            ],
            "text/plain": [
              "              User              Location      cleaned_location  not_colombian\n",
              "2           DS_NAN       BS AS ARGENTINA       bs as argentina           True\n",
              "3      Robertob_ad             venezuela             venezuela           True\n",
              "5          julio2j             Venezuela             venezuela           True\n",
              "10  josealejandrou  Maracaibo, Venezuela  maracaibo, venezuela           True\n",
              "12      magsegovia            Lima, Peru            lima, peru           True"
            ]
          },
          "metadata": {},
          "execution_count": 8
        }
      ]
    },
    {
      "cell_type": "code",
      "metadata": {
        "id": "La6_7764_mvp"
      },
      "source": [
        "df = df[df[\"not_colombian\"] == False]"
      ],
      "execution_count": 9,
      "outputs": []
    },
    {
      "cell_type": "code",
      "metadata": {
        "colab": {
          "base_uri": "https://localhost:8080/"
        },
        "id": "siMXEaI0_NPH",
        "outputId": "9c96d17e-1739-4c49-c36e-4a194d36a46a"
      },
      "source": [
        "df.shape"
      ],
      "execution_count": 10,
      "outputs": [
        {
          "output_type": "execute_result",
          "data": {
            "text/plain": [
              "(5867, 4)"
            ]
          },
          "metadata": {},
          "execution_count": 10
        }
      ]
    },
    {
      "cell_type": "code",
      "metadata": {
        "colab": {
          "base_uri": "https://localhost:8080/",
          "height": 206
        },
        "id": "desngJvm3yqw",
        "outputId": "cfa34234-0ca6-4d72-aa30-c259a7fc9822"
      },
      "source": [
        "colombian_locations = pd.read_csv(\"table-1.csv\",usecols=[\"City\", \"Department\"])\n",
        "colombian_locations[\"city_preprocessed\"] = colombian_locations[\"City\"].apply(clean_text)\n",
        "colombian_locations[\"department_preprocessed\"] = colombian_locations[\"Department\"].apply(clean_text)\n",
        "\n",
        "colombian_dict_cities = {}\n",
        "colombian_dict_departments = {}\n",
        "\n",
        "for _, row in colombian_locations.iterrows():\n",
        "  colombian_dict_cities[row[\"city_preprocessed\"]] = row[\"department_preprocessed\"]\n",
        "  colombian_dict_departments[row[\"department_preprocessed\"]] = row[\"city_preprocessed\"]\n",
        "\n",
        "colombian_dict_cities[\"santiago de cali\"] = colombian_dict_cities[\"cali\"]\n",
        "colombian_locations.head()"
      ],
      "execution_count": 11,
      "outputs": [
        {
          "output_type": "execute_result",
          "data": {
            "text/html": [
              "<div>\n",
              "<style scoped>\n",
              "    .dataframe tbody tr th:only-of-type {\n",
              "        vertical-align: middle;\n",
              "    }\n",
              "\n",
              "    .dataframe tbody tr th {\n",
              "        vertical-align: top;\n",
              "    }\n",
              "\n",
              "    .dataframe thead th {\n",
              "        text-align: right;\n",
              "    }\n",
              "</style>\n",
              "<table border=\"1\" class=\"dataframe\">\n",
              "  <thead>\n",
              "    <tr style=\"text-align: right;\">\n",
              "      <th></th>\n",
              "      <th>City</th>\n",
              "      <th>Department</th>\n",
              "      <th>city_preprocessed</th>\n",
              "      <th>department_preprocessed</th>\n",
              "    </tr>\n",
              "  </thead>\n",
              "  <tbody>\n",
              "    <tr>\n",
              "      <th>0</th>\n",
              "      <td>Bogotá</td>\n",
              "      <td>Capital District</td>\n",
              "      <td>bogota</td>\n",
              "      <td>capital district</td>\n",
              "    </tr>\n",
              "    <tr>\n",
              "      <th>1</th>\n",
              "      <td>Leticia</td>\n",
              "      <td>Amazonas</td>\n",
              "      <td>leticia</td>\n",
              "      <td>amazonas</td>\n",
              "    </tr>\n",
              "    <tr>\n",
              "      <th>2</th>\n",
              "      <td>El Encanto</td>\n",
              "      <td>Amazonas</td>\n",
              "      <td>el encanto</td>\n",
              "      <td>amazonas</td>\n",
              "    </tr>\n",
              "    <tr>\n",
              "      <th>3</th>\n",
              "      <td>La Chorrera</td>\n",
              "      <td>Amazonas</td>\n",
              "      <td>la chorrera</td>\n",
              "      <td>amazonas</td>\n",
              "    </tr>\n",
              "    <tr>\n",
              "      <th>4</th>\n",
              "      <td>La Pedrera</td>\n",
              "      <td>Amazonas</td>\n",
              "      <td>la pedrera</td>\n",
              "      <td>amazonas</td>\n",
              "    </tr>\n",
              "  </tbody>\n",
              "</table>\n",
              "</div>"
            ],
            "text/plain": [
              "          City        Department city_preprocessed department_preprocessed\n",
              "0       Bogotá  Capital District            bogota        capital district\n",
              "1      Leticia          Amazonas           leticia                amazonas\n",
              "2   El Encanto          Amazonas        el encanto                amazonas\n",
              "3  La Chorrera          Amazonas       la chorrera                amazonas\n",
              "4   La Pedrera          Amazonas        la pedrera                amazonas"
            ]
          },
          "metadata": {},
          "execution_count": 11
        }
      ]
    },
    {
      "cell_type": "code",
      "metadata": {
        "colab": {
          "base_uri": "https://localhost:8080/",
          "height": 206
        },
        "id": "k9EP-aTa4Its",
        "outputId": "ec1e26e2-5eb5-43e3-d298-94e6fee6c56e"
      },
      "source": [
        "df[\"location_array\"] = df[\"cleaned_location\"].str.split(\",\")\n",
        "df.head()"
      ],
      "execution_count": 12,
      "outputs": [
        {
          "output_type": "execute_result",
          "data": {
            "text/html": [
              "<div>\n",
              "<style scoped>\n",
              "    .dataframe tbody tr th:only-of-type {\n",
              "        vertical-align: middle;\n",
              "    }\n",
              "\n",
              "    .dataframe tbody tr th {\n",
              "        vertical-align: top;\n",
              "    }\n",
              "\n",
              "    .dataframe thead th {\n",
              "        text-align: right;\n",
              "    }\n",
              "</style>\n",
              "<table border=\"1\" class=\"dataframe\">\n",
              "  <thead>\n",
              "    <tr style=\"text-align: right;\">\n",
              "      <th></th>\n",
              "      <th>User</th>\n",
              "      <th>Location</th>\n",
              "      <th>cleaned_location</th>\n",
              "      <th>not_colombian</th>\n",
              "      <th>location_array</th>\n",
              "    </tr>\n",
              "  </thead>\n",
              "  <tbody>\n",
              "    <tr>\n",
              "      <th>15</th>\n",
              "      <td>Cephalosporium</td>\n",
              "      <td>Cali, Colombia</td>\n",
              "      <td>cali, colombia</td>\n",
              "      <td>False</td>\n",
              "      <td>[cali,  colombia]</td>\n",
              "    </tr>\n",
              "    <tr>\n",
              "      <th>16</th>\n",
              "      <td>Lucio_Biglione</td>\n",
              "      <td>#General Cabrera,Cordoba</td>\n",
              "      <td>general cabrera,cordoba</td>\n",
              "      <td>False</td>\n",
              "      <td>[general cabrera, cordoba]</td>\n",
              "    </tr>\n",
              "    <tr>\n",
              "      <th>21</th>\n",
              "      <td>FTG84</td>\n",
              "      <td>Corvera d'Asturies</td>\n",
              "      <td>corvera d'asturies</td>\n",
              "      <td>False</td>\n",
              "      <td>[corvera d'asturies]</td>\n",
              "    </tr>\n",
              "    <tr>\n",
              "      <th>27</th>\n",
              "      <td>arielucho1970</td>\n",
              "      <td>Ciudad Autónoma de Buenos Aire</td>\n",
              "      <td>ciudad autonoma de buenos aire</td>\n",
              "      <td>False</td>\n",
              "      <td>[ciudad autonoma de buenos aire]</td>\n",
              "    </tr>\n",
              "    <tr>\n",
              "      <th>28</th>\n",
              "      <td>Camiloramirez_s</td>\n",
              "      <td>Bogotá , Colombia</td>\n",
              "      <td>bogota , colombia</td>\n",
              "      <td>False</td>\n",
              "      <td>[bogota ,  colombia]</td>\n",
              "    </tr>\n",
              "  </tbody>\n",
              "</table>\n",
              "</div>"
            ],
            "text/plain": [
              "               User  ...                    location_array\n",
              "15   Cephalosporium  ...                 [cali,  colombia]\n",
              "16   Lucio_Biglione  ...        [general cabrera, cordoba]\n",
              "21            FTG84  ...              [corvera d'asturies]\n",
              "27    arielucho1970  ...  [ciudad autonoma de buenos aire]\n",
              "28  Camiloramirez_s  ...              [bogota ,  colombia]\n",
              "\n",
              "[5 rows x 5 columns]"
            ]
          },
          "metadata": {},
          "execution_count": 12
        }
      ]
    },
    {
      "cell_type": "code",
      "metadata": {
        "id": "_nEELCIz7NFy"
      },
      "source": [
        "def get_complete_location_from_csv(location_array):\n",
        "  city = \"\"\n",
        "  department = \"\"\n",
        "  country = \"\"\n",
        "  for location_item in location_array: \n",
        "    location_item = location_item.strip()\n",
        "    location_item = location_item.replace(\" colombia\", \"\")\n",
        "    location_item = location_item.replace(\"colombia \", \"\")\n",
        "    if location_item == \"colombia\" and len(location_array) == 1:\n",
        "      city = \"bogota\"\n",
        "      department = \"capital district\"\n",
        "      country = \"colombia\"\n",
        "    elif colombian_dict_cities.get(location_item):\n",
        "      city = location_item\n",
        "      department = colombian_dict_cities.get(location_item)\n",
        "      country = \"colombia\"\n",
        "      break\n",
        "    elif colombian_dict_departments.get(location_item):\n",
        "      city = colombian_dict_departments.get(location_item)\n",
        "      department = location_item \n",
        "      country = \"colombia\"\n",
        "  return pd.Series([city,department,country])"
      ],
      "execution_count": 13,
      "outputs": []
    },
    {
      "cell_type": "code",
      "metadata": {
        "id": "ZgdBd2q77YcD"
      },
      "source": [
        "df[[\"city\", \"department\", \"country\"]] = df[\"location_array\"].apply(get_complete_location_from_csv)"
      ],
      "execution_count": 14,
      "outputs": []
    },
    {
      "cell_type": "code",
      "metadata": {
        "colab": {
          "base_uri": "https://localhost:8080/",
          "height": 476
        },
        "id": "-OTOHx1E90Ui",
        "outputId": "5f8c639a-e41d-40da-dd90-40bbc668902f"
      },
      "source": [
        "df_co = df[df[\"country\"] == \"colombia\"]\n",
        "df_co"
      ],
      "execution_count": 31,
      "outputs": [
        {
          "output_type": "execute_result",
          "data": {
            "text/html": [
              "<div>\n",
              "<style scoped>\n",
              "    .dataframe tbody tr th:only-of-type {\n",
              "        vertical-align: middle;\n",
              "    }\n",
              "\n",
              "    .dataframe tbody tr th {\n",
              "        vertical-align: top;\n",
              "    }\n",
              "\n",
              "    .dataframe thead th {\n",
              "        text-align: right;\n",
              "    }\n",
              "</style>\n",
              "<table border=\"1\" class=\"dataframe\">\n",
              "  <thead>\n",
              "    <tr style=\"text-align: right;\">\n",
              "      <th></th>\n",
              "      <th>User</th>\n",
              "      <th>Location</th>\n",
              "      <th>cleaned_location</th>\n",
              "      <th>not_colombian</th>\n",
              "      <th>location_array</th>\n",
              "      <th>city</th>\n",
              "      <th>department</th>\n",
              "      <th>country</th>\n",
              "      <th>address</th>\n",
              "      <th>latitude</th>\n",
              "      <th>longitude</th>\n",
              "    </tr>\n",
              "  </thead>\n",
              "  <tbody>\n",
              "    <tr>\n",
              "      <th>15</th>\n",
              "      <td>Cephalosporium</td>\n",
              "      <td>Cali, Colombia</td>\n",
              "      <td>cali, colombia</td>\n",
              "      <td>False</td>\n",
              "      <td>[cali,  colombia]</td>\n",
              "      <td>cali</td>\n",
              "      <td>valle del cauca</td>\n",
              "      <td>colombia</td>\n",
              "      <td>NaN</td>\n",
              "      <td>NaN</td>\n",
              "      <td>NaN</td>\n",
              "    </tr>\n",
              "    <tr>\n",
              "      <th>16</th>\n",
              "      <td>Lucio_Biglione</td>\n",
              "      <td>#General Cabrera,Cordoba</td>\n",
              "      <td>general cabrera,cordoba</td>\n",
              "      <td>False</td>\n",
              "      <td>[general cabrera, cordoba]</td>\n",
              "      <td>cordoba</td>\n",
              "      <td>quindio</td>\n",
              "      <td>colombia</td>\n",
              "      <td>NaN</td>\n",
              "      <td>NaN</td>\n",
              "      <td>NaN</td>\n",
              "    </tr>\n",
              "    <tr>\n",
              "      <th>28</th>\n",
              "      <td>Camiloramirez_s</td>\n",
              "      <td>Bogotá , Colombia</td>\n",
              "      <td>bogota , colombia</td>\n",
              "      <td>False</td>\n",
              "      <td>[bogota ,  colombia]</td>\n",
              "      <td>bogota</td>\n",
              "      <td>capital district</td>\n",
              "      <td>colombia</td>\n",
              "      <td>NaN</td>\n",
              "      <td>NaN</td>\n",
              "      <td>NaN</td>\n",
              "    </tr>\n",
              "    <tr>\n",
              "      <th>33</th>\n",
              "      <td>RichardRiCampo</td>\n",
              "      <td>Cali - Valle</td>\n",
              "      <td>cali , valle</td>\n",
              "      <td>False</td>\n",
              "      <td>[cali ,  valle]</td>\n",
              "      <td>cali</td>\n",
              "      <td>valle del cauca</td>\n",
              "      <td>colombia</td>\n",
              "      <td>NaN</td>\n",
              "      <td>NaN</td>\n",
              "      <td>NaN</td>\n",
              "    </tr>\n",
              "    <tr>\n",
              "      <th>38</th>\n",
              "      <td>activistica</td>\n",
              "      <td>Colombia</td>\n",
              "      <td>colombia</td>\n",
              "      <td>False</td>\n",
              "      <td>[colombia]</td>\n",
              "      <td>bogota</td>\n",
              "      <td>capital district</td>\n",
              "      <td>colombia</td>\n",
              "      <td>NaN</td>\n",
              "      <td>NaN</td>\n",
              "      <td>NaN</td>\n",
              "    </tr>\n",
              "    <tr>\n",
              "      <th>...</th>\n",
              "      <td>...</td>\n",
              "      <td>...</td>\n",
              "      <td>...</td>\n",
              "      <td>...</td>\n",
              "      <td>...</td>\n",
              "      <td>...</td>\n",
              "      <td>...</td>\n",
              "      <td>...</td>\n",
              "      <td>...</td>\n",
              "      <td>...</td>\n",
              "      <td>...</td>\n",
              "    </tr>\n",
              "    <tr>\n",
              "      <th>10535</th>\n",
              "      <td>G_abrielaaa_</td>\n",
              "      <td>Bogotá, D.C., Colombia</td>\n",
              "      <td>bogota,  , colombia</td>\n",
              "      <td>False</td>\n",
              "      <td>[bogota,   ,  colombia]</td>\n",
              "      <td>bogota</td>\n",
              "      <td>capital district</td>\n",
              "      <td>colombia</td>\n",
              "      <td>NaN</td>\n",
              "      <td>NaN</td>\n",
              "      <td>NaN</td>\n",
              "    </tr>\n",
              "    <tr>\n",
              "      <th>10536</th>\n",
              "      <td>jennypaosuarezg</td>\n",
              "      <td>BOGOTA - COLOMBIA</td>\n",
              "      <td>bogota , colombia</td>\n",
              "      <td>False</td>\n",
              "      <td>[bogota ,  colombia]</td>\n",
              "      <td>bogota</td>\n",
              "      <td>capital district</td>\n",
              "      <td>colombia</td>\n",
              "      <td>NaN</td>\n",
              "      <td>NaN</td>\n",
              "      <td>NaN</td>\n",
              "    </tr>\n",
              "    <tr>\n",
              "      <th>10537</th>\n",
              "      <td>Martinpz02</td>\n",
              "      <td>Bogotá, D.C., Colombia</td>\n",
              "      <td>bogota,  , colombia</td>\n",
              "      <td>False</td>\n",
              "      <td>[bogota,   ,  colombia]</td>\n",
              "      <td>bogota</td>\n",
              "      <td>capital district</td>\n",
              "      <td>colombia</td>\n",
              "      <td>NaN</td>\n",
              "      <td>NaN</td>\n",
              "      <td>NaN</td>\n",
              "    </tr>\n",
              "    <tr>\n",
              "      <th>10539</th>\n",
              "      <td>somosmestizzo</td>\n",
              "      <td>bogota</td>\n",
              "      <td>bogota</td>\n",
              "      <td>False</td>\n",
              "      <td>[bogota]</td>\n",
              "      <td>bogota</td>\n",
              "      <td>capital district</td>\n",
              "      <td>colombia</td>\n",
              "      <td>NaN</td>\n",
              "      <td>NaN</td>\n",
              "      <td>NaN</td>\n",
              "    </tr>\n",
              "    <tr>\n",
              "      <th>10542</th>\n",
              "      <td>PenaVlado</td>\n",
              "      <td>Bogotá, D.C., Colombia</td>\n",
              "      <td>bogota,  , colombia</td>\n",
              "      <td>False</td>\n",
              "      <td>[bogota,   ,  colombia]</td>\n",
              "      <td>bogota</td>\n",
              "      <td>capital district</td>\n",
              "      <td>colombia</td>\n",
              "      <td>NaN</td>\n",
              "      <td>NaN</td>\n",
              "      <td>NaN</td>\n",
              "    </tr>\n",
              "  </tbody>\n",
              "</table>\n",
              "<p>3851 rows × 11 columns</p>\n",
              "</div>"
            ],
            "text/plain": [
              "                  User                  Location  ... latitude  longitude\n",
              "15      Cephalosporium            Cali, Colombia  ...      NaN        NaN\n",
              "16      Lucio_Biglione  #General Cabrera,Cordoba  ...      NaN        NaN\n",
              "28     Camiloramirez_s         Bogotá , Colombia  ...      NaN        NaN\n",
              "33      RichardRiCampo              Cali - Valle  ...      NaN        NaN\n",
              "38         activistica                  Colombia  ...      NaN        NaN\n",
              "...                ...                       ...  ...      ...        ...\n",
              "10535     G_abrielaaa_    Bogotá, D.C., Colombia  ...      NaN        NaN\n",
              "10536  jennypaosuarezg         BOGOTA - COLOMBIA  ...      NaN        NaN\n",
              "10537       Martinpz02    Bogotá, D.C., Colombia  ...      NaN        NaN\n",
              "10539    somosmestizzo                    bogota  ...      NaN        NaN\n",
              "10542        PenaVlado    Bogotá, D.C., Colombia  ...      NaN        NaN\n",
              "\n",
              "[3851 rows x 11 columns]"
            ]
          },
          "metadata": {},
          "execution_count": 31
        }
      ]
    },
    {
      "cell_type": "code",
      "metadata": {
        "colab": {
          "base_uri": "https://localhost:8080/",
          "height": 458
        },
        "id": "h5DlJOq497lC",
        "outputId": "977396c7-2c2c-4193-edc7-ec8ddb7280ec"
      },
      "source": [
        "df[df[\"country\"] != \"colombia\"]"
      ],
      "execution_count": 32,
      "outputs": [
        {
          "output_type": "execute_result",
          "data": {
            "text/html": [
              "<div>\n",
              "<style scoped>\n",
              "    .dataframe tbody tr th:only-of-type {\n",
              "        vertical-align: middle;\n",
              "    }\n",
              "\n",
              "    .dataframe tbody tr th {\n",
              "        vertical-align: top;\n",
              "    }\n",
              "\n",
              "    .dataframe thead th {\n",
              "        text-align: right;\n",
              "    }\n",
              "</style>\n",
              "<table border=\"1\" class=\"dataframe\">\n",
              "  <thead>\n",
              "    <tr style=\"text-align: right;\">\n",
              "      <th></th>\n",
              "      <th>User</th>\n",
              "      <th>Location</th>\n",
              "      <th>cleaned_location</th>\n",
              "      <th>not_colombian</th>\n",
              "      <th>location_array</th>\n",
              "      <th>city</th>\n",
              "      <th>department</th>\n",
              "      <th>country</th>\n",
              "      <th>address</th>\n",
              "      <th>latitude</th>\n",
              "      <th>longitude</th>\n",
              "    </tr>\n",
              "  </thead>\n",
              "  <tbody>\n",
              "    <tr>\n",
              "      <th>21</th>\n",
              "      <td>FTG84</td>\n",
              "      <td>Corvera d'Asturies</td>\n",
              "      <td>corvera d'asturies</td>\n",
              "      <td>False</td>\n",
              "      <td>[corvera d'asturies]</td>\n",
              "      <td></td>\n",
              "      <td></td>\n",
              "      <td></td>\n",
              "      <td>NaN</td>\n",
              "      <td>NaN</td>\n",
              "      <td>NaN</td>\n",
              "    </tr>\n",
              "    <tr>\n",
              "      <th>27</th>\n",
              "      <td>arielucho1970</td>\n",
              "      <td>Ciudad Autónoma de Buenos Aire</td>\n",
              "      <td>ciudad autonoma de buenos aire</td>\n",
              "      <td>False</td>\n",
              "      <td>[ciudad autonoma de buenos aire]</td>\n",
              "      <td></td>\n",
              "      <td></td>\n",
              "      <td></td>\n",
              "      <td>NaN</td>\n",
              "      <td>NaN</td>\n",
              "      <td>NaN</td>\n",
              "    </tr>\n",
              "    <tr>\n",
              "      <th>35</th>\n",
              "      <td>ConvocatoriasGz</td>\n",
              "      <td>Galiza</td>\n",
              "      <td>galiza</td>\n",
              "      <td>False</td>\n",
              "      <td>[galiza]</td>\n",
              "      <td></td>\n",
              "      <td></td>\n",
              "      <td></td>\n",
              "      <td>NaN</td>\n",
              "      <td>NaN</td>\n",
              "      <td>NaN</td>\n",
              "    </tr>\n",
              "    <tr>\n",
              "      <th>37</th>\n",
              "      <td>williamgarzon86</td>\n",
              "      <td>http://williamgarzon86</td>\n",
              "      <td>http:,,williamgarzon86</td>\n",
              "      <td>False</td>\n",
              "      <td>[http:, , williamgarzon86]</td>\n",
              "      <td></td>\n",
              "      <td></td>\n",
              "      <td></td>\n",
              "      <td>NaN</td>\n",
              "      <td>NaN</td>\n",
              "      <td>NaN</td>\n",
              "    </tr>\n",
              "    <tr>\n",
              "      <th>40</th>\n",
              "      <td>tecnochamana</td>\n",
              "      <td>Theremín.</td>\n",
              "      <td>theremin</td>\n",
              "      <td>False</td>\n",
              "      <td>[theremin ]</td>\n",
              "      <td></td>\n",
              "      <td></td>\n",
              "      <td></td>\n",
              "      <td>NaN</td>\n",
              "      <td>NaN</td>\n",
              "      <td>NaN</td>\n",
              "    </tr>\n",
              "    <tr>\n",
              "      <th>...</th>\n",
              "      <td>...</td>\n",
              "      <td>...</td>\n",
              "      <td>...</td>\n",
              "      <td>...</td>\n",
              "      <td>...</td>\n",
              "      <td>...</td>\n",
              "      <td>...</td>\n",
              "      <td>...</td>\n",
              "      <td>...</td>\n",
              "      <td>...</td>\n",
              "      <td>...</td>\n",
              "    </tr>\n",
              "    <tr>\n",
              "      <th>10435</th>\n",
              "      <td>AndresParbe</td>\n",
              "      <td>Deportivo Cali ois.</td>\n",
              "      <td>deportivo cali ois</td>\n",
              "      <td>False</td>\n",
              "      <td>[deportivo cali ois ]</td>\n",
              "      <td></td>\n",
              "      <td></td>\n",
              "      <td></td>\n",
              "      <td>NaN</td>\n",
              "      <td>NaN</td>\n",
              "      <td>NaN</td>\n",
              "    </tr>\n",
              "    <tr>\n",
              "      <th>10471</th>\n",
              "      <td>JotaAEmeA</td>\n",
              "      <td>Κολομβία</td>\n",
              "      <td>κολομβία</td>\n",
              "      <td>False</td>\n",
              "      <td>[κολομβία]</td>\n",
              "      <td></td>\n",
              "      <td></td>\n",
              "      <td></td>\n",
              "      <td>NaN</td>\n",
              "      <td>NaN</td>\n",
              "      <td>NaN</td>\n",
              "    </tr>\n",
              "    <tr>\n",
              "      <th>10477</th>\n",
              "      <td>fevelasquezd</td>\n",
              "      <td>narcoestado asesino colombiano</td>\n",
              "      <td>narcoestado asesino colombiano</td>\n",
              "      <td>False</td>\n",
              "      <td>[narcoestado asesino colombiano]</td>\n",
              "      <td></td>\n",
              "      <td></td>\n",
              "      <td></td>\n",
              "      <td>NaN</td>\n",
              "      <td>NaN</td>\n",
              "      <td>NaN</td>\n",
              "    </tr>\n",
              "    <tr>\n",
              "      <th>10484</th>\n",
              "      <td>emmanuelrangel6</td>\n",
              "      <td>Bogota Dc. Colombia</td>\n",
              "      <td>bogota  colombia</td>\n",
              "      <td>False</td>\n",
              "      <td>[bogota  colombia]</td>\n",
              "      <td></td>\n",
              "      <td></td>\n",
              "      <td></td>\n",
              "      <td>NaN</td>\n",
              "      <td>NaN</td>\n",
              "      <td>NaN</td>\n",
              "    </tr>\n",
              "    <tr>\n",
              "      <th>10513</th>\n",
              "      <td>Bbluezombie</td>\n",
              "      <td>Pereira o Algún lugar</td>\n",
              "      <td>pereira o algun lugar</td>\n",
              "      <td>False</td>\n",
              "      <td>[pereira o algun lugar]</td>\n",
              "      <td></td>\n",
              "      <td></td>\n",
              "      <td></td>\n",
              "      <td>NaN</td>\n",
              "      <td>NaN</td>\n",
              "      <td>NaN</td>\n",
              "    </tr>\n",
              "  </tbody>\n",
              "</table>\n",
              "<p>2016 rows × 11 columns</p>\n",
              "</div>"
            ],
            "text/plain": [
              "                  User                        Location  ... latitude  longitude\n",
              "21               FTG84              Corvera d'Asturies  ...      NaN        NaN\n",
              "27       arielucho1970  Ciudad Autónoma de Buenos Aire  ...      NaN        NaN\n",
              "35     ConvocatoriasGz                          Galiza  ...      NaN        NaN\n",
              "37     williamgarzon86          http://williamgarzon86  ...      NaN        NaN\n",
              "40        tecnochamana                       Theremín.  ...      NaN        NaN\n",
              "...                ...                             ...  ...      ...        ...\n",
              "10435      AndresParbe             Deportivo Cali ois.  ...      NaN        NaN\n",
              "10471        JotaAEmeA                        Κολομβία  ...      NaN        NaN\n",
              "10477     fevelasquezd  narcoestado asesino colombiano  ...      NaN        NaN\n",
              "10484  emmanuelrangel6            Bogota Dc. Colombia   ...      NaN        NaN\n",
              "10513      Bbluezombie           Pereira o Algún lugar  ...      NaN        NaN\n",
              "\n",
              "[2016 rows x 11 columns]"
            ]
          },
          "metadata": {},
          "execution_count": 32
        }
      ]
    },
    {
      "cell_type": "code",
      "metadata": {
        "id": "75GSfYIa-8U7",
        "outputId": "1dc44c2c-90bd-40f0-ed1e-047579731df0",
        "colab": {
          "base_uri": "https://localhost:8080/"
        }
      },
      "source": [
        "def get_lat_lon(row):\n",
        "  geolocator = Nominatim(user_agent=\"colombia_strike\")\n",
        "  location_str = f\"{row['city']}, {row['department']}\"\n",
        "  location = geolocator.geocode(location_str)\n",
        "  address = location.address if location else \"\"\n",
        "  latitude = location.latitude if location else \"\"\n",
        "  longitude = location.longitude if location else \"\"\n",
        "  if not location:\n",
        "    print(location_str)\n",
        "  return pd.Series([address, latitude, longitude])\n",
        "\n",
        "df_co[[\"address\", \"latitude\", \"longitude\"]] = df_co.apply(get_lat_lon, axis = 1)"
      ],
      "execution_count": 36,
      "outputs": [
        {
          "output_type": "stream",
          "name": "stdout",
          "text": [
            "salazar de las palmas, norte de santander\n"
          ]
        },
        {
          "output_type": "stream",
          "name": "stderr",
          "text": [
            "/usr/local/lib/python3.7/dist-packages/pandas/core/frame.py:3069: SettingWithCopyWarning: \n",
            "A value is trying to be set on a copy of a slice from a DataFrame.\n",
            "Try using .loc[row_indexer,col_indexer] = value instead\n",
            "\n",
            "See the caveats in the documentation: https://pandas.pydata.org/pandas-docs/stable/user_guide/indexing.html#returning-a-view-versus-a-copy\n",
            "  self[k1] = value[k2]\n"
          ]
        }
      ]
    },
    {
      "cell_type": "code",
      "metadata": {
        "id": "rJ6gXYy7TaAC",
        "outputId": "352a44ae-e8fd-4fce-8c13-1e300022087a",
        "colab": {
          "base_uri": "https://localhost:8080/"
        }
      },
      "source": [
        "df_co[\"address\"].isna().sum()"
      ],
      "execution_count": 41,
      "outputs": [
        {
          "output_type": "execute_result",
          "data": {
            "text/plain": [
              "0"
            ]
          },
          "metadata": {},
          "execution_count": 41
        }
      ]
    },
    {
      "cell_type": "code",
      "metadata": {
        "id": "878esIBGTcGe",
        "outputId": "0d9525f8-8106-4426-ded0-d84b23f73782",
        "colab": {
          "base_uri": "https://localhost:8080/"
        }
      },
      "source": [
        "df_co[\"address\"].shape"
      ],
      "execution_count": 42,
      "outputs": [
        {
          "output_type": "execute_result",
          "data": {
            "text/plain": [
              "(3851,)"
            ]
          },
          "metadata": {},
          "execution_count": 42
        }
      ]
    },
    {
      "cell_type": "code",
      "metadata": {
        "id": "rWrKcEnl_kl_",
        "outputId": "4299e3e1-eb81-4b4e-dfba-abc432bf373d",
        "colab": {
          "base_uri": "https://localhost:8080/",
          "height": 345
        }
      },
      "source": [
        "df_co.head()"
      ],
      "execution_count": 45,
      "outputs": [
        {
          "output_type": "execute_result",
          "data": {
            "text/html": [
              "<div>\n",
              "<style scoped>\n",
              "    .dataframe tbody tr th:only-of-type {\n",
              "        vertical-align: middle;\n",
              "    }\n",
              "\n",
              "    .dataframe tbody tr th {\n",
              "        vertical-align: top;\n",
              "    }\n",
              "\n",
              "    .dataframe thead th {\n",
              "        text-align: right;\n",
              "    }\n",
              "</style>\n",
              "<table border=\"1\" class=\"dataframe\">\n",
              "  <thead>\n",
              "    <tr style=\"text-align: right;\">\n",
              "      <th></th>\n",
              "      <th>User</th>\n",
              "      <th>Location</th>\n",
              "      <th>cleaned_location</th>\n",
              "      <th>not_colombian</th>\n",
              "      <th>location_array</th>\n",
              "      <th>city</th>\n",
              "      <th>department</th>\n",
              "      <th>country</th>\n",
              "      <th>address</th>\n",
              "      <th>latitude</th>\n",
              "      <th>longitude</th>\n",
              "    </tr>\n",
              "  </thead>\n",
              "  <tbody>\n",
              "    <tr>\n",
              "      <th>15</th>\n",
              "      <td>Cephalosporium</td>\n",
              "      <td>Cali, Colombia</td>\n",
              "      <td>cali, colombia</td>\n",
              "      <td>False</td>\n",
              "      <td>[cali,  colombia]</td>\n",
              "      <td>cali</td>\n",
              "      <td>valle del cauca</td>\n",
              "      <td>colombia</td>\n",
              "      <td>Cali, Sur, Valle del Cauca, Pacífica, Colombia</td>\n",
              "      <td>3.45179</td>\n",
              "      <td>-76.5325</td>\n",
              "    </tr>\n",
              "    <tr>\n",
              "      <th>16</th>\n",
              "      <td>Lucio_Biglione</td>\n",
              "      <td>#General Cabrera,Cordoba</td>\n",
              "      <td>general cabrera,cordoba</td>\n",
              "      <td>False</td>\n",
              "      <td>[general cabrera, cordoba]</td>\n",
              "      <td>cordoba</td>\n",
              "      <td>quindio</td>\n",
              "      <td>colombia</td>\n",
              "      <td>Córdoba, Cordillerana, Quindío, Región Andina,...</td>\n",
              "      <td>4.3956</td>\n",
              "      <td>-75.6518</td>\n",
              "    </tr>\n",
              "    <tr>\n",
              "      <th>28</th>\n",
              "      <td>Camiloramirez_s</td>\n",
              "      <td>Bogotá , Colombia</td>\n",
              "      <td>bogota , colombia</td>\n",
              "      <td>False</td>\n",
              "      <td>[bogota ,  colombia]</td>\n",
              "      <td>bogota</td>\n",
              "      <td>capital district</td>\n",
              "      <td>colombia</td>\n",
              "      <td>Bogotá, Bogotá Distrito Capital, Región Andina...</td>\n",
              "      <td>4.65333</td>\n",
              "      <td>-74.0837</td>\n",
              "    </tr>\n",
              "    <tr>\n",
              "      <th>33</th>\n",
              "      <td>RichardRiCampo</td>\n",
              "      <td>Cali - Valle</td>\n",
              "      <td>cali , valle</td>\n",
              "      <td>False</td>\n",
              "      <td>[cali ,  valle]</td>\n",
              "      <td>cali</td>\n",
              "      <td>valle del cauca</td>\n",
              "      <td>colombia</td>\n",
              "      <td>Cali, Sur, Valle del Cauca, Pacífica, Colombia</td>\n",
              "      <td>3.45179</td>\n",
              "      <td>-76.5325</td>\n",
              "    </tr>\n",
              "    <tr>\n",
              "      <th>38</th>\n",
              "      <td>activistica</td>\n",
              "      <td>Colombia</td>\n",
              "      <td>colombia</td>\n",
              "      <td>False</td>\n",
              "      <td>[colombia]</td>\n",
              "      <td>bogota</td>\n",
              "      <td>capital district</td>\n",
              "      <td>colombia</td>\n",
              "      <td>Bogotá, Bogotá Distrito Capital, Región Andina...</td>\n",
              "      <td>4.65333</td>\n",
              "      <td>-74.0837</td>\n",
              "    </tr>\n",
              "  </tbody>\n",
              "</table>\n",
              "</div>"
            ],
            "text/plain": [
              "               User                  Location  ... latitude  longitude\n",
              "15   Cephalosporium            Cali, Colombia  ...  3.45179   -76.5325\n",
              "16   Lucio_Biglione  #General Cabrera,Cordoba  ...   4.3956   -75.6518\n",
              "28  Camiloramirez_s         Bogotá , Colombia  ...  4.65333   -74.0837\n",
              "33   RichardRiCampo              Cali - Valle  ...  3.45179   -76.5325\n",
              "38      activistica                  Colombia  ...  4.65333   -74.0837\n",
              "\n",
              "[5 rows x 11 columns]"
            ]
          },
          "metadata": {},
          "execution_count": 45
        }
      ]
    },
    {
      "cell_type": "code",
      "metadata": {
        "id": "11iL7rwlEnW6"
      },
      "source": [
        "df_co.to_csv(\"cleaned_colombian_locations.csv\")"
      ],
      "execution_count": 46,
      "outputs": []
    }
  ]
}