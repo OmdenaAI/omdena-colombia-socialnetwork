{
  "nbformat": 4,
  "nbformat_minor": 0,
  "metadata": {
    "colab": {
      "name": "Carlos_extract_colombian_locations.ipynb",
      "provenance": [],
      "collapsed_sections": [],
      "authorship_tag": "ABX9TyNHSw9c2CUPA2uvu+Hz9U6Y",
      "include_colab_link": true
    },
    "kernelspec": {
      "name": "python3",
      "display_name": "Python 3"
    },
    "language_info": {
      "name": "python"
    }
  },
  "cells": [
    {
      "cell_type": "markdown",
      "metadata": {
        "id": "view-in-github",
        "colab_type": "text"
      },
      "source": [
        "<a href=\"https://colab.research.google.com/github/OmdenaAI/omdena-colombia-socialnetwork/blob/task-5-visualization/src/tasks/task-5-visualization/Carlos_extract_colombian_locations.ipynb\" target=\"_parent\"><img src=\"https://colab.research.google.com/assets/colab-badge.svg\" alt=\"Open In Colab\"/></a>"
      ]
    },
    {
      "cell_type": "code",
      "metadata": {
        "id": "2I276ZwGydVJ"
      },
      "source": [
        "import pandas as pd"
      ],
      "execution_count": null,
      "outputs": []
    },
    {
      "cell_type": "code",
      "metadata": {
        "id": "IjWixGH-0NrU"
      },
      "source": [
        "def clean_text(text):\n",
        "  text = text.lower()\n",
        "  text = text.replace(\"á\",\"a\")\n",
        "  text = text.replace(\"à\", \"a\")\n",
        "  text = text.replace(\"é\",\"e\")\n",
        "  text = text.replace(\"í\",\"i\")\n",
        "  text = text.replace(\"ó\",\"o\")\n",
        "  text = text.replace(\"ú\",\"u\")\n",
        "  text = text.replace(\"ü\",\"u\")\n",
        "  text = text.strip()\n",
        "  text = text.replace(\"🇨🇴\",\"\")\n",
        "  text = text.replace(\",d.c\",\"\")\n",
        "  text = text.replace(\"d.c\",\"\")\n",
        "  text = text.replace(\", d.c\",\"\")\n",
        "  text = text.replace(\".\",\" \")\n",
        "  text = text.replace(\"&\",\"\")\n",
        "  text = text.replace(\"#\",\"\")\n",
        "  text = text.replace(\"-\",\",\")\n",
        "  text = text.replace(\"/\",\",\")\n",
        "  #text = text.replace(\"polombia\",\"colombia\")\n",
        "  #text = text.replace(\"colombia\",\"\")\n",
        "  text = text.replace(\" dc\",\"\")\n",
        "  text = text.replace(\"@\",\"\")\n",
        "  #text = text.replace(\"¬\", \" \")\n",
        "  return text"
      ],
      "execution_count": null,
      "outputs": []
    },
    {
      "cell_type": "code",
      "metadata": {
        "colab": {
          "base_uri": "https://localhost:8080/",
          "height": 206
        },
        "id": "nSL5YJiY0Fcn",
        "outputId": "49c7bb5a-c913-4627-d06a-723555c00a46"
      },
      "source": [
        "df = pd.read_csv(\"User_Location Dictionary.csv\", index_col=\"Unnamed: 0\")\n",
        "df.dropna(how=\"all\", subset=[\"Location\"],inplace=True)\n",
        "df.head()"
      ],
      "execution_count": null,
      "outputs": [
        {
          "output_type": "execute_result",
          "data": {
            "text/html": [
              "<div>\n",
              "<style scoped>\n",
              "    .dataframe tbody tr th:only-of-type {\n",
              "        vertical-align: middle;\n",
              "    }\n",
              "\n",
              "    .dataframe tbody tr th {\n",
              "        vertical-align: top;\n",
              "    }\n",
              "\n",
              "    .dataframe thead th {\n",
              "        text-align: right;\n",
              "    }\n",
              "</style>\n",
              "<table border=\"1\" class=\"dataframe\">\n",
              "  <thead>\n",
              "    <tr style=\"text-align: right;\">\n",
              "      <th></th>\n",
              "      <th>User</th>\n",
              "      <th>Location</th>\n",
              "    </tr>\n",
              "  </thead>\n",
              "  <tbody>\n",
              "    <tr>\n",
              "      <th>2</th>\n",
              "      <td>DS_NAN</td>\n",
              "      <td>BS AS ARGENTINA</td>\n",
              "    </tr>\n",
              "    <tr>\n",
              "      <th>3</th>\n",
              "      <td>Robertob_ad</td>\n",
              "      <td>venezuela</td>\n",
              "    </tr>\n",
              "    <tr>\n",
              "      <th>5</th>\n",
              "      <td>julio2j</td>\n",
              "      <td>Venezuela</td>\n",
              "    </tr>\n",
              "    <tr>\n",
              "      <th>8</th>\n",
              "      <td>07mike</td>\n",
              "      <td>&amp;</td>\n",
              "    </tr>\n",
              "    <tr>\n",
              "      <th>10</th>\n",
              "      <td>josealejandrou</td>\n",
              "      <td>Maracaibo, Venezuela</td>\n",
              "    </tr>\n",
              "  </tbody>\n",
              "</table>\n",
              "</div>"
            ],
            "text/plain": [
              "              User              Location\n",
              "2           DS_NAN       BS AS ARGENTINA\n",
              "3      Robertob_ad             venezuela\n",
              "5          julio2j             Venezuela\n",
              "8           07mike                     &\n",
              "10  josealejandrou  Maracaibo, Venezuela"
            ]
          },
          "metadata": {},
          "execution_count": 580
        }
      ]
    },
    {
      "cell_type": "code",
      "metadata": {
        "colab": {
          "base_uri": "https://localhost:8080/"
        },
        "id": "ZmuDwsxo28Wa",
        "outputId": "6c1b0b22-80bb-48a9-dfba-f46703e54fe2"
      },
      "source": [
        "df.shape"
      ],
      "execution_count": null,
      "outputs": [
        {
          "output_type": "execute_result",
          "data": {
            "text/plain": [
              "(6559, 2)"
            ]
          },
          "metadata": {},
          "execution_count": 581
        }
      ]
    },
    {
      "cell_type": "code",
      "metadata": {
        "colab": {
          "base_uri": "https://localhost:8080/",
          "height": 206
        },
        "id": "thoiMJ_D0fPf",
        "outputId": "c06f9e61-f1b5-436c-9231-ecd1ebaa1df5"
      },
      "source": [
        "df[\"cleaned_location\"] = df[\"Location\"].apply(clean_text)\n",
        "df = df[df[\"cleaned_location\"] != \"\"]\n",
        "df.head()"
      ],
      "execution_count": null,
      "outputs": [
        {
          "output_type": "execute_result",
          "data": {
            "text/html": [
              "<div>\n",
              "<style scoped>\n",
              "    .dataframe tbody tr th:only-of-type {\n",
              "        vertical-align: middle;\n",
              "    }\n",
              "\n",
              "    .dataframe tbody tr th {\n",
              "        vertical-align: top;\n",
              "    }\n",
              "\n",
              "    .dataframe thead th {\n",
              "        text-align: right;\n",
              "    }\n",
              "</style>\n",
              "<table border=\"1\" class=\"dataframe\">\n",
              "  <thead>\n",
              "    <tr style=\"text-align: right;\">\n",
              "      <th></th>\n",
              "      <th>User</th>\n",
              "      <th>Location</th>\n",
              "      <th>cleaned_location</th>\n",
              "    </tr>\n",
              "  </thead>\n",
              "  <tbody>\n",
              "    <tr>\n",
              "      <th>2</th>\n",
              "      <td>DS_NAN</td>\n",
              "      <td>BS AS ARGENTINA</td>\n",
              "      <td>bs as argentina</td>\n",
              "    </tr>\n",
              "    <tr>\n",
              "      <th>3</th>\n",
              "      <td>Robertob_ad</td>\n",
              "      <td>venezuela</td>\n",
              "      <td>venezuela</td>\n",
              "    </tr>\n",
              "    <tr>\n",
              "      <th>5</th>\n",
              "      <td>julio2j</td>\n",
              "      <td>Venezuela</td>\n",
              "      <td>venezuela</td>\n",
              "    </tr>\n",
              "    <tr>\n",
              "      <th>10</th>\n",
              "      <td>josealejandrou</td>\n",
              "      <td>Maracaibo, Venezuela</td>\n",
              "      <td>maracaibo, venezuela</td>\n",
              "    </tr>\n",
              "    <tr>\n",
              "      <th>12</th>\n",
              "      <td>magsegovia</td>\n",
              "      <td>Lima, Peru</td>\n",
              "      <td>lima, peru</td>\n",
              "    </tr>\n",
              "  </tbody>\n",
              "</table>\n",
              "</div>"
            ],
            "text/plain": [
              "              User              Location      cleaned_location\n",
              "2           DS_NAN       BS AS ARGENTINA       bs as argentina\n",
              "3      Robertob_ad             venezuela             venezuela\n",
              "5          julio2j             Venezuela             venezuela\n",
              "10  josealejandrou  Maracaibo, Venezuela  maracaibo, venezuela\n",
              "12      magsegovia            Lima, Peru            lima, peru"
            ]
          },
          "metadata": {},
          "execution_count": 582
        }
      ]
    },
    {
      "cell_type": "code",
      "metadata": {
        "colab": {
          "base_uri": "https://localhost:8080/"
        },
        "id": "YhDgADrV6vSe",
        "outputId": "e88ba1ee-a965-44e4-bfa0-a97e1fea2274"
      },
      "source": [
        "df.shape"
      ],
      "execution_count": null,
      "outputs": [
        {
          "output_type": "execute_result",
          "data": {
            "text/plain": [
              "(6550, 3)"
            ]
          },
          "metadata": {},
          "execution_count": 583
        }
      ]
    },
    {
      "cell_type": "code",
      "metadata": {
        "id": "p96ESYko_ODg"
      },
      "source": [
        "def is_not_colombian(cleaned_location):\n",
        "  countries = [\"argentina\", \"venezuela\", \"peru\", \"chile\", \"spain\", \n",
        "               \"españa\", \"france\", \"costa rica\", \"uruguay\", \"cuba\",\n",
        "               \"italia\", \"england\", \"ecuador\", \"el salvador\", \"nicaragua\",\n",
        "               \"italy\", \"mexico\", \"rusia\"]\n",
        "  ans = False \n",
        "  for country in countries: \n",
        "    if country in cleaned_location: \n",
        "      ans = True\n",
        "    else: \n",
        "      ans = ans or False\n",
        "  return ans  "
      ],
      "execution_count": null,
      "outputs": []
    },
    {
      "cell_type": "code",
      "metadata": {
        "colab": {
          "base_uri": "https://localhost:8080/",
          "height": 206
        },
        "id": "K90uDubT2Vzz",
        "outputId": "f4eacce6-b03b-4e14-fe8b-648e73575060"
      },
      "source": [
        "df[\"not_colombian\"] = df[\"cleaned_location\"].apply(is_not_colombian)\n",
        "df.head()"
      ],
      "execution_count": null,
      "outputs": [
        {
          "output_type": "execute_result",
          "data": {
            "text/html": [
              "<div>\n",
              "<style scoped>\n",
              "    .dataframe tbody tr th:only-of-type {\n",
              "        vertical-align: middle;\n",
              "    }\n",
              "\n",
              "    .dataframe tbody tr th {\n",
              "        vertical-align: top;\n",
              "    }\n",
              "\n",
              "    .dataframe thead th {\n",
              "        text-align: right;\n",
              "    }\n",
              "</style>\n",
              "<table border=\"1\" class=\"dataframe\">\n",
              "  <thead>\n",
              "    <tr style=\"text-align: right;\">\n",
              "      <th></th>\n",
              "      <th>User</th>\n",
              "      <th>Location</th>\n",
              "      <th>cleaned_location</th>\n",
              "      <th>not_colombian</th>\n",
              "    </tr>\n",
              "  </thead>\n",
              "  <tbody>\n",
              "    <tr>\n",
              "      <th>2</th>\n",
              "      <td>DS_NAN</td>\n",
              "      <td>BS AS ARGENTINA</td>\n",
              "      <td>bs as argentina</td>\n",
              "      <td>True</td>\n",
              "    </tr>\n",
              "    <tr>\n",
              "      <th>3</th>\n",
              "      <td>Robertob_ad</td>\n",
              "      <td>venezuela</td>\n",
              "      <td>venezuela</td>\n",
              "      <td>True</td>\n",
              "    </tr>\n",
              "    <tr>\n",
              "      <th>5</th>\n",
              "      <td>julio2j</td>\n",
              "      <td>Venezuela</td>\n",
              "      <td>venezuela</td>\n",
              "      <td>True</td>\n",
              "    </tr>\n",
              "    <tr>\n",
              "      <th>10</th>\n",
              "      <td>josealejandrou</td>\n",
              "      <td>Maracaibo, Venezuela</td>\n",
              "      <td>maracaibo, venezuela</td>\n",
              "      <td>True</td>\n",
              "    </tr>\n",
              "    <tr>\n",
              "      <th>12</th>\n",
              "      <td>magsegovia</td>\n",
              "      <td>Lima, Peru</td>\n",
              "      <td>lima, peru</td>\n",
              "      <td>True</td>\n",
              "    </tr>\n",
              "  </tbody>\n",
              "</table>\n",
              "</div>"
            ],
            "text/plain": [
              "              User              Location      cleaned_location  not_colombian\n",
              "2           DS_NAN       BS AS ARGENTINA       bs as argentina           True\n",
              "3      Robertob_ad             venezuela             venezuela           True\n",
              "5          julio2j             Venezuela             venezuela           True\n",
              "10  josealejandrou  Maracaibo, Venezuela  maracaibo, venezuela           True\n",
              "12      magsegovia            Lima, Peru            lima, peru           True"
            ]
          },
          "metadata": {},
          "execution_count": 585
        }
      ]
    },
    {
      "cell_type": "code",
      "metadata": {
        "id": "La6_7764_mvp"
      },
      "source": [
        "df = df[df[\"not_colombian\"] == False]"
      ],
      "execution_count": null,
      "outputs": []
    },
    {
      "cell_type": "code",
      "metadata": {
        "colab": {
          "base_uri": "https://localhost:8080/"
        },
        "id": "siMXEaI0_NPH",
        "outputId": "9ffd9651-0c32-4f83-94f9-0f5a993d2d6e"
      },
      "source": [
        "df.shape"
      ],
      "execution_count": null,
      "outputs": [
        {
          "output_type": "execute_result",
          "data": {
            "text/plain": [
              "(5867, 4)"
            ]
          },
          "metadata": {},
          "execution_count": 587
        }
      ]
    },
    {
      "cell_type": "code",
      "metadata": {
        "colab": {
          "base_uri": "https://localhost:8080/",
          "height": 206
        },
        "id": "desngJvm3yqw",
        "outputId": "830bdd45-358d-4cc2-e876-2fdecbae14f1"
      },
      "source": [
        "colombian_locations = pd.read_csv(\"table-1.csv\",usecols=[\"City\", \"Department\"])\n",
        "colombian_locations[\"city_preprocessed\"] = colombian_locations[\"City\"].apply(clean_text)\n",
        "colombian_locations[\"department_preprocessed\"] = colombian_locations[\"Department\"].apply(clean_text)\n",
        "\n",
        "colombian_dict_cities = {}\n",
        "colombian_dict_departments = {}\n",
        "\n",
        "for _, row in colombian_locations.iterrows():\n",
        "  colombian_dict_cities[row[\"city_preprocessed\"]] = row[\"department_preprocessed\"]\n",
        "  colombian_dict_departments[row[\"department_preprocessed\"]] = row[\"city_preprocessed\"]\n",
        "\n",
        "colombian_dict_cities[\"santiago de cali\"] = colombian_dict_cities[\"cali\"]\n",
        "colombian_locations.head()"
      ],
      "execution_count": null,
      "outputs": [
        {
          "output_type": "execute_result",
          "data": {
            "text/html": [
              "<div>\n",
              "<style scoped>\n",
              "    .dataframe tbody tr th:only-of-type {\n",
              "        vertical-align: middle;\n",
              "    }\n",
              "\n",
              "    .dataframe tbody tr th {\n",
              "        vertical-align: top;\n",
              "    }\n",
              "\n",
              "    .dataframe thead th {\n",
              "        text-align: right;\n",
              "    }\n",
              "</style>\n",
              "<table border=\"1\" class=\"dataframe\">\n",
              "  <thead>\n",
              "    <tr style=\"text-align: right;\">\n",
              "      <th></th>\n",
              "      <th>City</th>\n",
              "      <th>Department</th>\n",
              "      <th>city_preprocessed</th>\n",
              "      <th>department_preprocessed</th>\n",
              "    </tr>\n",
              "  </thead>\n",
              "  <tbody>\n",
              "    <tr>\n",
              "      <th>0</th>\n",
              "      <td>Bogotá</td>\n",
              "      <td>Capital District</td>\n",
              "      <td>bogota</td>\n",
              "      <td>capital district</td>\n",
              "    </tr>\n",
              "    <tr>\n",
              "      <th>1</th>\n",
              "      <td>Leticia</td>\n",
              "      <td>Amazonas</td>\n",
              "      <td>leticia</td>\n",
              "      <td>amazonas</td>\n",
              "    </tr>\n",
              "    <tr>\n",
              "      <th>2</th>\n",
              "      <td>El Encanto</td>\n",
              "      <td>Amazonas</td>\n",
              "      <td>el encanto</td>\n",
              "      <td>amazonas</td>\n",
              "    </tr>\n",
              "    <tr>\n",
              "      <th>3</th>\n",
              "      <td>La Chorrera</td>\n",
              "      <td>Amazonas</td>\n",
              "      <td>la chorrera</td>\n",
              "      <td>amazonas</td>\n",
              "    </tr>\n",
              "    <tr>\n",
              "      <th>4</th>\n",
              "      <td>La Pedrera</td>\n",
              "      <td>Amazonas</td>\n",
              "      <td>la pedrera</td>\n",
              "      <td>amazonas</td>\n",
              "    </tr>\n",
              "  </tbody>\n",
              "</table>\n",
              "</div>"
            ],
            "text/plain": [
              "          City        Department city_preprocessed department_preprocessed\n",
              "0       Bogotá  Capital District            bogota        capital district\n",
              "1      Leticia          Amazonas           leticia                amazonas\n",
              "2   El Encanto          Amazonas        el encanto                amazonas\n",
              "3  La Chorrera          Amazonas       la chorrera                amazonas\n",
              "4   La Pedrera          Amazonas        la pedrera                amazonas"
            ]
          },
          "metadata": {},
          "execution_count": 588
        }
      ]
    },
    {
      "cell_type": "code",
      "metadata": {
        "colab": {
          "base_uri": "https://localhost:8080/",
          "height": 206
        },
        "id": "k9EP-aTa4Its",
        "outputId": "3d67d37e-d687-495d-99af-aff808a5002d"
      },
      "source": [
        "df[\"location_array\"] = df[\"cleaned_location\"].str.split(\",\")\n",
        "df.head()"
      ],
      "execution_count": null,
      "outputs": [
        {
          "output_type": "execute_result",
          "data": {
            "text/html": [
              "<div>\n",
              "<style scoped>\n",
              "    .dataframe tbody tr th:only-of-type {\n",
              "        vertical-align: middle;\n",
              "    }\n",
              "\n",
              "    .dataframe tbody tr th {\n",
              "        vertical-align: top;\n",
              "    }\n",
              "\n",
              "    .dataframe thead th {\n",
              "        text-align: right;\n",
              "    }\n",
              "</style>\n",
              "<table border=\"1\" class=\"dataframe\">\n",
              "  <thead>\n",
              "    <tr style=\"text-align: right;\">\n",
              "      <th></th>\n",
              "      <th>User</th>\n",
              "      <th>Location</th>\n",
              "      <th>cleaned_location</th>\n",
              "      <th>not_colombian</th>\n",
              "      <th>location_array</th>\n",
              "    </tr>\n",
              "  </thead>\n",
              "  <tbody>\n",
              "    <tr>\n",
              "      <th>15</th>\n",
              "      <td>Cephalosporium</td>\n",
              "      <td>Cali, Colombia</td>\n",
              "      <td>cali, colombia</td>\n",
              "      <td>False</td>\n",
              "      <td>[cali,  colombia]</td>\n",
              "    </tr>\n",
              "    <tr>\n",
              "      <th>16</th>\n",
              "      <td>Lucio_Biglione</td>\n",
              "      <td>#General Cabrera,Cordoba</td>\n",
              "      <td>general cabrera,cordoba</td>\n",
              "      <td>False</td>\n",
              "      <td>[general cabrera, cordoba]</td>\n",
              "    </tr>\n",
              "    <tr>\n",
              "      <th>21</th>\n",
              "      <td>FTG84</td>\n",
              "      <td>Corvera d'Asturies</td>\n",
              "      <td>corvera d'asturies</td>\n",
              "      <td>False</td>\n",
              "      <td>[corvera d'asturies]</td>\n",
              "    </tr>\n",
              "    <tr>\n",
              "      <th>27</th>\n",
              "      <td>arielucho1970</td>\n",
              "      <td>Ciudad Autónoma de Buenos Aire</td>\n",
              "      <td>ciudad autonoma de buenos aire</td>\n",
              "      <td>False</td>\n",
              "      <td>[ciudad autonoma de buenos aire]</td>\n",
              "    </tr>\n",
              "    <tr>\n",
              "      <th>28</th>\n",
              "      <td>Camiloramirez_s</td>\n",
              "      <td>Bogotá , Colombia</td>\n",
              "      <td>bogota , colombia</td>\n",
              "      <td>False</td>\n",
              "      <td>[bogota ,  colombia]</td>\n",
              "    </tr>\n",
              "  </tbody>\n",
              "</table>\n",
              "</div>"
            ],
            "text/plain": [
              "               User  ...                    location_array\n",
              "15   Cephalosporium  ...                 [cali,  colombia]\n",
              "16   Lucio_Biglione  ...        [general cabrera, cordoba]\n",
              "21            FTG84  ...              [corvera d'asturies]\n",
              "27    arielucho1970  ...  [ciudad autonoma de buenos aire]\n",
              "28  Camiloramirez_s  ...              [bogota ,  colombia]\n",
              "\n",
              "[5 rows x 5 columns]"
            ]
          },
          "metadata": {},
          "execution_count": 589
        }
      ]
    },
    {
      "cell_type": "code",
      "metadata": {
        "id": "_nEELCIz7NFy"
      },
      "source": [
        "def get_complete_location_from_csv(location_array):\n",
        "  city = \"\"\n",
        "  department = \"\"\n",
        "  country = \"\"\n",
        "  for location_item in location_array: \n",
        "    location_item = location_item.strip()\n",
        "    location_item = location_item.replace(\" colombia\", \"\")\n",
        "    location_item = location_item.replace(\"colombia \", \"\")\n",
        "    if location_item == \"colombia\" and len(location_array) == 1:\n",
        "      city = \"bogota\"\n",
        "      department = \"capital district\"\n",
        "      country = \"colombia\"\n",
        "    elif colombian_dict_cities.get(location_item):\n",
        "      city = location_item\n",
        "      department = colombian_dict_cities.get(location_item)\n",
        "      country = \"colombia\"\n",
        "      break\n",
        "    elif colombian_dict_departments.get(location_item):\n",
        "      city = colombian_dict_departments.get(location_item)\n",
        "      department = location_item \n",
        "      country = \"colombia\"\n",
        "  return pd.Series([city,department,country])"
      ],
      "execution_count": null,
      "outputs": []
    },
    {
      "cell_type": "code",
      "metadata": {
        "id": "ZgdBd2q77YcD"
      },
      "source": [
        "df[[\"city\", \"department\", \"country\"]] = df[\"location_array\"].apply(get_complete_location_from_csv)"
      ],
      "execution_count": null,
      "outputs": []
    },
    {
      "cell_type": "code",
      "metadata": {
        "colab": {
          "base_uri": "https://localhost:8080/",
          "height": 424
        },
        "id": "-OTOHx1E90Ui",
        "outputId": "6bc70fe1-298b-48cb-f1ce-77fe9722e881"
      },
      "source": [
        "df[df[\"country\"] == \"colombia\"]"
      ],
      "execution_count": null,
      "outputs": [
        {
          "output_type": "execute_result",
          "data": {
            "text/html": [
              "<div>\n",
              "<style scoped>\n",
              "    .dataframe tbody tr th:only-of-type {\n",
              "        vertical-align: middle;\n",
              "    }\n",
              "\n",
              "    .dataframe tbody tr th {\n",
              "        vertical-align: top;\n",
              "    }\n",
              "\n",
              "    .dataframe thead th {\n",
              "        text-align: right;\n",
              "    }\n",
              "</style>\n",
              "<table border=\"1\" class=\"dataframe\">\n",
              "  <thead>\n",
              "    <tr style=\"text-align: right;\">\n",
              "      <th></th>\n",
              "      <th>User</th>\n",
              "      <th>Location</th>\n",
              "      <th>cleaned_location</th>\n",
              "      <th>not_colombian</th>\n",
              "      <th>location_array</th>\n",
              "      <th>city</th>\n",
              "      <th>department</th>\n",
              "      <th>country</th>\n",
              "    </tr>\n",
              "  </thead>\n",
              "  <tbody>\n",
              "    <tr>\n",
              "      <th>15</th>\n",
              "      <td>Cephalosporium</td>\n",
              "      <td>Cali, Colombia</td>\n",
              "      <td>cali, colombia</td>\n",
              "      <td>False</td>\n",
              "      <td>[cali,  colombia]</td>\n",
              "      <td>cali</td>\n",
              "      <td>valle del cauca</td>\n",
              "      <td>colombia</td>\n",
              "    </tr>\n",
              "    <tr>\n",
              "      <th>16</th>\n",
              "      <td>Lucio_Biglione</td>\n",
              "      <td>#General Cabrera,Cordoba</td>\n",
              "      <td>general cabrera,cordoba</td>\n",
              "      <td>False</td>\n",
              "      <td>[general cabrera, cordoba]</td>\n",
              "      <td>cordoba</td>\n",
              "      <td>quindio</td>\n",
              "      <td>colombia</td>\n",
              "    </tr>\n",
              "    <tr>\n",
              "      <th>28</th>\n",
              "      <td>Camiloramirez_s</td>\n",
              "      <td>Bogotá , Colombia</td>\n",
              "      <td>bogota , colombia</td>\n",
              "      <td>False</td>\n",
              "      <td>[bogota ,  colombia]</td>\n",
              "      <td>bogota</td>\n",
              "      <td>capital district</td>\n",
              "      <td>colombia</td>\n",
              "    </tr>\n",
              "    <tr>\n",
              "      <th>33</th>\n",
              "      <td>RichardRiCampo</td>\n",
              "      <td>Cali - Valle</td>\n",
              "      <td>cali , valle</td>\n",
              "      <td>False</td>\n",
              "      <td>[cali ,  valle]</td>\n",
              "      <td>cali</td>\n",
              "      <td>valle del cauca</td>\n",
              "      <td>colombia</td>\n",
              "    </tr>\n",
              "    <tr>\n",
              "      <th>38</th>\n",
              "      <td>activistica</td>\n",
              "      <td>Colombia</td>\n",
              "      <td>colombia</td>\n",
              "      <td>False</td>\n",
              "      <td>[colombia]</td>\n",
              "      <td>bogota</td>\n",
              "      <td>capital district</td>\n",
              "      <td>colombia</td>\n",
              "    </tr>\n",
              "    <tr>\n",
              "      <th>...</th>\n",
              "      <td>...</td>\n",
              "      <td>...</td>\n",
              "      <td>...</td>\n",
              "      <td>...</td>\n",
              "      <td>...</td>\n",
              "      <td>...</td>\n",
              "      <td>...</td>\n",
              "      <td>...</td>\n",
              "    </tr>\n",
              "    <tr>\n",
              "      <th>10535</th>\n",
              "      <td>G_abrielaaa_</td>\n",
              "      <td>Bogotá, D.C., Colombia</td>\n",
              "      <td>bogota,  , colombia</td>\n",
              "      <td>False</td>\n",
              "      <td>[bogota,   ,  colombia]</td>\n",
              "      <td>bogota</td>\n",
              "      <td>capital district</td>\n",
              "      <td>colombia</td>\n",
              "    </tr>\n",
              "    <tr>\n",
              "      <th>10536</th>\n",
              "      <td>jennypaosuarezg</td>\n",
              "      <td>BOGOTA - COLOMBIA</td>\n",
              "      <td>bogota , colombia</td>\n",
              "      <td>False</td>\n",
              "      <td>[bogota ,  colombia]</td>\n",
              "      <td>bogota</td>\n",
              "      <td>capital district</td>\n",
              "      <td>colombia</td>\n",
              "    </tr>\n",
              "    <tr>\n",
              "      <th>10537</th>\n",
              "      <td>Martinpz02</td>\n",
              "      <td>Bogotá, D.C., Colombia</td>\n",
              "      <td>bogota,  , colombia</td>\n",
              "      <td>False</td>\n",
              "      <td>[bogota,   ,  colombia]</td>\n",
              "      <td>bogota</td>\n",
              "      <td>capital district</td>\n",
              "      <td>colombia</td>\n",
              "    </tr>\n",
              "    <tr>\n",
              "      <th>10539</th>\n",
              "      <td>somosmestizzo</td>\n",
              "      <td>bogota</td>\n",
              "      <td>bogota</td>\n",
              "      <td>False</td>\n",
              "      <td>[bogota]</td>\n",
              "      <td>bogota</td>\n",
              "      <td>capital district</td>\n",
              "      <td>colombia</td>\n",
              "    </tr>\n",
              "    <tr>\n",
              "      <th>10542</th>\n",
              "      <td>PenaVlado</td>\n",
              "      <td>Bogotá, D.C., Colombia</td>\n",
              "      <td>bogota,  , colombia</td>\n",
              "      <td>False</td>\n",
              "      <td>[bogota,   ,  colombia]</td>\n",
              "      <td>bogota</td>\n",
              "      <td>capital district</td>\n",
              "      <td>colombia</td>\n",
              "    </tr>\n",
              "  </tbody>\n",
              "</table>\n",
              "<p>3851 rows × 8 columns</p>\n",
              "</div>"
            ],
            "text/plain": [
              "                  User                  Location  ...        department   country\n",
              "15      Cephalosporium            Cali, Colombia  ...   valle del cauca  colombia\n",
              "16      Lucio_Biglione  #General Cabrera,Cordoba  ...           quindio  colombia\n",
              "28     Camiloramirez_s         Bogotá , Colombia  ...  capital district  colombia\n",
              "33      RichardRiCampo              Cali - Valle  ...   valle del cauca  colombia\n",
              "38         activistica                  Colombia  ...  capital district  colombia\n",
              "...                ...                       ...  ...               ...       ...\n",
              "10535     G_abrielaaa_    Bogotá, D.C., Colombia  ...  capital district  colombia\n",
              "10536  jennypaosuarezg         BOGOTA - COLOMBIA  ...  capital district  colombia\n",
              "10537       Martinpz02    Bogotá, D.C., Colombia  ...  capital district  colombia\n",
              "10539    somosmestizzo                    bogota  ...  capital district  colombia\n",
              "10542        PenaVlado    Bogotá, D.C., Colombia  ...  capital district  colombia\n",
              "\n",
              "[3851 rows x 8 columns]"
            ]
          },
          "metadata": {},
          "execution_count": 592
        }
      ]
    },
    {
      "cell_type": "code",
      "metadata": {
        "colab": {
          "base_uri": "https://localhost:8080/",
          "height": 424
        },
        "id": "h5DlJOq497lC",
        "outputId": "815b2e83-3d55-4e9e-fafb-fdfcdf03765f"
      },
      "source": [
        "df[df[\"country\"] != \"colombia\"]"
      ],
      "execution_count": null,
      "outputs": [
        {
          "output_type": "execute_result",
          "data": {
            "text/html": [
              "<div>\n",
              "<style scoped>\n",
              "    .dataframe tbody tr th:only-of-type {\n",
              "        vertical-align: middle;\n",
              "    }\n",
              "\n",
              "    .dataframe tbody tr th {\n",
              "        vertical-align: top;\n",
              "    }\n",
              "\n",
              "    .dataframe thead th {\n",
              "        text-align: right;\n",
              "    }\n",
              "</style>\n",
              "<table border=\"1\" class=\"dataframe\">\n",
              "  <thead>\n",
              "    <tr style=\"text-align: right;\">\n",
              "      <th></th>\n",
              "      <th>User</th>\n",
              "      <th>Location</th>\n",
              "      <th>cleaned_location</th>\n",
              "      <th>not_colombian</th>\n",
              "      <th>location_array</th>\n",
              "      <th>city</th>\n",
              "      <th>department</th>\n",
              "      <th>country</th>\n",
              "    </tr>\n",
              "  </thead>\n",
              "  <tbody>\n",
              "    <tr>\n",
              "      <th>21</th>\n",
              "      <td>FTG84</td>\n",
              "      <td>Corvera d'Asturies</td>\n",
              "      <td>corvera d'asturies</td>\n",
              "      <td>False</td>\n",
              "      <td>[corvera d'asturies]</td>\n",
              "      <td></td>\n",
              "      <td></td>\n",
              "      <td></td>\n",
              "    </tr>\n",
              "    <tr>\n",
              "      <th>27</th>\n",
              "      <td>arielucho1970</td>\n",
              "      <td>Ciudad Autónoma de Buenos Aire</td>\n",
              "      <td>ciudad autonoma de buenos aire</td>\n",
              "      <td>False</td>\n",
              "      <td>[ciudad autonoma de buenos aire]</td>\n",
              "      <td></td>\n",
              "      <td></td>\n",
              "      <td></td>\n",
              "    </tr>\n",
              "    <tr>\n",
              "      <th>35</th>\n",
              "      <td>ConvocatoriasGz</td>\n",
              "      <td>Galiza</td>\n",
              "      <td>galiza</td>\n",
              "      <td>False</td>\n",
              "      <td>[galiza]</td>\n",
              "      <td></td>\n",
              "      <td></td>\n",
              "      <td></td>\n",
              "    </tr>\n",
              "    <tr>\n",
              "      <th>37</th>\n",
              "      <td>williamgarzon86</td>\n",
              "      <td>http://williamgarzon86</td>\n",
              "      <td>http:,,williamgarzon86</td>\n",
              "      <td>False</td>\n",
              "      <td>[http:, , williamgarzon86]</td>\n",
              "      <td></td>\n",
              "      <td></td>\n",
              "      <td></td>\n",
              "    </tr>\n",
              "    <tr>\n",
              "      <th>40</th>\n",
              "      <td>tecnochamana</td>\n",
              "      <td>Theremín.</td>\n",
              "      <td>theremin</td>\n",
              "      <td>False</td>\n",
              "      <td>[theremin ]</td>\n",
              "      <td></td>\n",
              "      <td></td>\n",
              "      <td></td>\n",
              "    </tr>\n",
              "    <tr>\n",
              "      <th>...</th>\n",
              "      <td>...</td>\n",
              "      <td>...</td>\n",
              "      <td>...</td>\n",
              "      <td>...</td>\n",
              "      <td>...</td>\n",
              "      <td>...</td>\n",
              "      <td>...</td>\n",
              "      <td>...</td>\n",
              "    </tr>\n",
              "    <tr>\n",
              "      <th>10435</th>\n",
              "      <td>AndresParbe</td>\n",
              "      <td>Deportivo Cali ois.</td>\n",
              "      <td>deportivo cali ois</td>\n",
              "      <td>False</td>\n",
              "      <td>[deportivo cali ois ]</td>\n",
              "      <td></td>\n",
              "      <td></td>\n",
              "      <td></td>\n",
              "    </tr>\n",
              "    <tr>\n",
              "      <th>10471</th>\n",
              "      <td>JotaAEmeA</td>\n",
              "      <td>Κολομβία</td>\n",
              "      <td>κολομβία</td>\n",
              "      <td>False</td>\n",
              "      <td>[κολομβία]</td>\n",
              "      <td></td>\n",
              "      <td></td>\n",
              "      <td></td>\n",
              "    </tr>\n",
              "    <tr>\n",
              "      <th>10477</th>\n",
              "      <td>fevelasquezd</td>\n",
              "      <td>narcoestado asesino colombiano</td>\n",
              "      <td>narcoestado asesino colombiano</td>\n",
              "      <td>False</td>\n",
              "      <td>[narcoestado asesino colombiano]</td>\n",
              "      <td></td>\n",
              "      <td></td>\n",
              "      <td></td>\n",
              "    </tr>\n",
              "    <tr>\n",
              "      <th>10484</th>\n",
              "      <td>emmanuelrangel6</td>\n",
              "      <td>Bogota Dc. Colombia</td>\n",
              "      <td>bogota  colombia</td>\n",
              "      <td>False</td>\n",
              "      <td>[bogota  colombia]</td>\n",
              "      <td></td>\n",
              "      <td></td>\n",
              "      <td></td>\n",
              "    </tr>\n",
              "    <tr>\n",
              "      <th>10513</th>\n",
              "      <td>Bbluezombie</td>\n",
              "      <td>Pereira o Algún lugar</td>\n",
              "      <td>pereira o algun lugar</td>\n",
              "      <td>False</td>\n",
              "      <td>[pereira o algun lugar]</td>\n",
              "      <td></td>\n",
              "      <td></td>\n",
              "      <td></td>\n",
              "    </tr>\n",
              "  </tbody>\n",
              "</table>\n",
              "<p>2016 rows × 8 columns</p>\n",
              "</div>"
            ],
            "text/plain": [
              "                  User                        Location  ... department  country\n",
              "21               FTG84              Corvera d'Asturies  ...                    \n",
              "27       arielucho1970  Ciudad Autónoma de Buenos Aire  ...                    \n",
              "35     ConvocatoriasGz                          Galiza  ...                    \n",
              "37     williamgarzon86          http://williamgarzon86  ...                    \n",
              "40        tecnochamana                       Theremín.  ...                    \n",
              "...                ...                             ...  ...        ...      ...\n",
              "10435      AndresParbe             Deportivo Cali ois.  ...                    \n",
              "10471        JotaAEmeA                        Κολομβία  ...                    \n",
              "10477     fevelasquezd  narcoestado asesino colombiano  ...                    \n",
              "10484  emmanuelrangel6            Bogota Dc. Colombia   ...                    \n",
              "10513      Bbluezombie           Pereira o Algún lugar  ...                    \n",
              "\n",
              "[2016 rows x 8 columns]"
            ]
          },
          "metadata": {},
          "execution_count": 593
        }
      ]
    },
    {
      "cell_type": "code",
      "metadata": {
        "id": "11iL7rwlEnW6"
      },
      "source": [
        "df[df[\"country\"] == \"colombia\"].to_csv(\"cleaned_colombian_locations.csv\")"
      ],
      "execution_count": null,
      "outputs": []
    }
  ]
}