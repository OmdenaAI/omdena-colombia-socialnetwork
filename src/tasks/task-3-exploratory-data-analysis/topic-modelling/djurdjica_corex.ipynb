{
 "cells": [
  {
   "cell_type": "code",
   "execution_count": 39,
   "source": [
    "import pandas as pd\n",
    "import numpy as np\n",
    "import scipy.sparse as ss\n",
    "import matplotlib.pyplot as plt\n",
    "import re\n",
    "import corextopic.corextopic as ct\n",
    "import corextopic.vis_topic as vt # jupyter notebooks will complain matplotlib is being loaded twice\n",
    "from sklearn.feature_extraction.text import CountVectorizer\n",
    "\n",
    "%matplotlib inline"
   ],
   "outputs": [],
   "metadata": {}
  },
  {
   "cell_type": "code",
   "execution_count": 40,
   "source": [
    "df = pd.read_csv('/home/duvuki/omdena-colombia-socialnetwork/src/data/task-2-preprocessing/merged_data/Final/Corrected_Final_All.csv',  na_filter=True, na_values='[]')"
   ],
   "outputs": [],
   "metadata": {}
  },
  {
   "cell_type": "code",
   "execution_count": 41,
   "source": [
    "df.head()"
   ],
   "outputs": [
    {
     "output_type": "execute_result",
     "data": {
      "text/html": [
       "<div>\n",
       "<style scoped>\n",
       "    .dataframe tbody tr th:only-of-type {\n",
       "        vertical-align: middle;\n",
       "    }\n",
       "\n",
       "    .dataframe tbody tr th {\n",
       "        vertical-align: top;\n",
       "    }\n",
       "\n",
       "    .dataframe thead th {\n",
       "        text-align: right;\n",
       "    }\n",
       "</style>\n",
       "<table border=\"1\" class=\"dataframe\">\n",
       "  <thead>\n",
       "    <tr style=\"text-align: right;\">\n",
       "      <th></th>\n",
       "      <th>Unnamed: 0</th>\n",
       "      <th>Unnamed: 0.1</th>\n",
       "      <th>created_at</th>\n",
       "      <th>id_str</th>\n",
       "      <th>conversation_id_str</th>\n",
       "      <th>full_text</th>\n",
       "      <th>twitter_lang</th>\n",
       "      <th>favorited</th>\n",
       "      <th>retweeted</th>\n",
       "      <th>retweet_count</th>\n",
       "      <th>...</th>\n",
       "      <th>emoji_list</th>\n",
       "      <th>emoticons_list</th>\n",
       "      <th>filename</th>\n",
       "      <th>preprocessed_data_without_hashtags</th>\n",
       "      <th>data_source</th>\n",
       "      <th>lang</th>\n",
       "      <th>score</th>\n",
       "      <th>langTb</th>\n",
       "      <th>lang_langdetect</th>\n",
       "      <th>corrected_preprocessed</th>\n",
       "    </tr>\n",
       "  </thead>\n",
       "  <tbody>\n",
       "    <tr>\n",
       "      <th>0</th>\n",
       "      <td>0</td>\n",
       "      <td>0</td>\n",
       "      <td>2021-03-27T04:09:42+00:00</td>\n",
       "      <td>1.375661e+18</td>\n",
       "      <td>1.375265e+18</td>\n",
       "      <td>@Diputado_Canelo Hagamos otro por el uno de ma...</td>\n",
       "      <td>es</td>\n",
       "      <td>False</td>\n",
       "      <td>False</td>\n",
       "      <td>0.0</td>\n",
       "      <td>...</td>\n",
       "      <td>['']</td>\n",
       "      <td>[':/']</td>\n",
       "      <td>Mayo_SPANISH_tweets_stweet.csv</td>\n",
       "      <td>['hacer', 'mayo', 'cazar', 'fantasma']</td>\n",
       "      <td>Twitter</td>\n",
       "      <td>es</td>\n",
       "      <td>NaN</td>\n",
       "      <td>NaN</td>\n",
       "      <td>NaN</td>\n",
       "      <td>['hacer', 'mayo', 'cazar', 'fantasma']</td>\n",
       "    </tr>\n",
       "    <tr>\n",
       "      <th>1</th>\n",
       "      <td>1</td>\n",
       "      <td>1</td>\n",
       "      <td>2021-03-22T21:12:09+00:00</td>\n",
       "      <td>1.374107e+18</td>\n",
       "      <td>1.374107e+18</td>\n",
       "      <td>Después de esperar con ancias el #28F ahora es...</td>\n",
       "      <td>es</td>\n",
       "      <td>False</td>\n",
       "      <td>False</td>\n",
       "      <td>1.0</td>\n",
       "      <td>...</td>\n",
       "      <td>['💙🤍💙']</td>\n",
       "      <td>NaN</td>\n",
       "      <td>Mayo_SPANISH_tweets_stweet.csv</td>\n",
       "      <td>['despues', 'esperar', 'ancia', 'ahora', 'espe...</td>\n",
       "      <td>Twitter</td>\n",
       "      <td>es</td>\n",
       "      <td>NaN</td>\n",
       "      <td>NaN</td>\n",
       "      <td>NaN</td>\n",
       "      <td>['despues', 'esperar', 'ancia', 'ahora', 'espe...</td>\n",
       "    </tr>\n",
       "    <tr>\n",
       "      <th>2</th>\n",
       "      <td>2</td>\n",
       "      <td>2</td>\n",
       "      <td>2021-03-22T12:30:53+00:00</td>\n",
       "      <td>1.373975e+18</td>\n",
       "      <td>1.373975e+18</td>\n",
       "      <td>Espero que ésto llegue hasta oídos de la nueva...</td>\n",
       "      <td>es</td>\n",
       "      <td>False</td>\n",
       "      <td>False</td>\n",
       "      <td>0.0</td>\n",
       "      <td>...</td>\n",
       "      <td>['']</td>\n",
       "      <td>NaN</td>\n",
       "      <td>Mayo_SPANISH_tweets_stweet.csv</td>\n",
       "      <td>['esperar', 'llegar', 'oido', 'nuevo', 'inicia...</td>\n",
       "      <td>Twitter</td>\n",
       "      <td>es</td>\n",
       "      <td>NaN</td>\n",
       "      <td>NaN</td>\n",
       "      <td>NaN</td>\n",
       "      <td>['esperar', 'llegar', 'oido', 'nuevo', 'inicia...</td>\n",
       "    </tr>\n",
       "    <tr>\n",
       "      <th>3</th>\n",
       "      <td>3</td>\n",
       "      <td>3</td>\n",
       "      <td>2021-04-04T12:56:55+00:00</td>\n",
       "      <td>1.378693e+18</td>\n",
       "      <td>1.378693e+18</td>\n",
       "      <td>A menos de un mes del #1Mayo Urkullu teme perd...</td>\n",
       "      <td>es</td>\n",
       "      <td>False</td>\n",
       "      <td>False</td>\n",
       "      <td>3.0</td>\n",
       "      <td>...</td>\n",
       "      <td>['']</td>\n",
       "      <td>NaN</td>\n",
       "      <td>Mayo_SPANISH_tweets_stweet.csv</td>\n",
       "      <td>['menos', 'mes', 'urkullu', 'temer', 'perder',...</td>\n",
       "      <td>Twitter</td>\n",
       "      <td>es</td>\n",
       "      <td>NaN</td>\n",
       "      <td>NaN</td>\n",
       "      <td>NaN</td>\n",
       "      <td>['menos', 'mes', 'urkullu', 'temer', 'perder',...</td>\n",
       "    </tr>\n",
       "    <tr>\n",
       "      <th>4</th>\n",
       "      <td>4</td>\n",
       "      <td>4</td>\n",
       "      <td>2021-04-03T20:14:57+00:00</td>\n",
       "      <td>1.378441e+18</td>\n",
       "      <td>1.378441e+18</td>\n",
       "      <td>La X Edición del Festival Internacional Un Pue...</td>\n",
       "      <td>es</td>\n",
       "      <td>False</td>\n",
       "      <td>False</td>\n",
       "      <td>1.0</td>\n",
       "      <td>...</td>\n",
       "      <td>['']</td>\n",
       "      <td>[':/', ':/']</td>\n",
       "      <td>Mayo_SPANISH_tweets_stweet.csv</td>\n",
       "      <td>['edicion', 'festival', 'internacional', 'puen...</td>\n",
       "      <td>Twitter</td>\n",
       "      <td>es</td>\n",
       "      <td>NaN</td>\n",
       "      <td>NaN</td>\n",
       "      <td>NaN</td>\n",
       "      <td>['edicion', 'festival', 'internacional', 'puen...</td>\n",
       "    </tr>\n",
       "  </tbody>\n",
       "</table>\n",
       "<p>5 rows × 38 columns</p>\n",
       "</div>"
      ],
      "text/plain": [
       "   Unnamed: 0  Unnamed: 0.1                 created_at        id_str  \\\n",
       "0           0             0  2021-03-27T04:09:42+00:00  1.375661e+18   \n",
       "1           1             1  2021-03-22T21:12:09+00:00  1.374107e+18   \n",
       "2           2             2  2021-03-22T12:30:53+00:00  1.373975e+18   \n",
       "3           3             3  2021-04-04T12:56:55+00:00  1.378693e+18   \n",
       "4           4             4  2021-04-03T20:14:57+00:00  1.378441e+18   \n",
       "\n",
       "   conversation_id_str                                          full_text  \\\n",
       "0         1.375265e+18  @Diputado_Canelo Hagamos otro por el uno de ma...   \n",
       "1         1.374107e+18  Después de esperar con ancias el #28F ahora es...   \n",
       "2         1.373975e+18  Espero que ésto llegue hasta oídos de la nueva...   \n",
       "3         1.378693e+18  A menos de un mes del #1Mayo Urkullu teme perd...   \n",
       "4         1.378441e+18  La X Edición del Festival Internacional Un Pue...   \n",
       "\n",
       "  twitter_lang favorited retweeted  retweet_count  ...  emoji_list  \\\n",
       "0           es     False     False            0.0  ...        ['']   \n",
       "1           es     False     False            1.0  ...     ['💙🤍💙']   \n",
       "2           es     False     False            0.0  ...        ['']   \n",
       "3           es     False     False            3.0  ...        ['']   \n",
       "4           es     False     False            1.0  ...        ['']   \n",
       "\n",
       "   emoticons_list                        filename  \\\n",
       "0          [':/']  Mayo_SPANISH_tweets_stweet.csv   \n",
       "1             NaN  Mayo_SPANISH_tweets_stweet.csv   \n",
       "2             NaN  Mayo_SPANISH_tweets_stweet.csv   \n",
       "3             NaN  Mayo_SPANISH_tweets_stweet.csv   \n",
       "4    [':/', ':/']  Mayo_SPANISH_tweets_stweet.csv   \n",
       "\n",
       "                  preprocessed_data_without_hashtags  data_source  lang  \\\n",
       "0             ['hacer', 'mayo', 'cazar', 'fantasma']      Twitter    es   \n",
       "1  ['despues', 'esperar', 'ancia', 'ahora', 'espe...      Twitter    es   \n",
       "2  ['esperar', 'llegar', 'oido', 'nuevo', 'inicia...      Twitter    es   \n",
       "3  ['menos', 'mes', 'urkullu', 'temer', 'perder',...      Twitter    es   \n",
       "4  ['edicion', 'festival', 'internacional', 'puen...      Twitter    es   \n",
       "\n",
       "   score langTb lang_langdetect  \\\n",
       "0    NaN    NaN             NaN   \n",
       "1    NaN    NaN             NaN   \n",
       "2    NaN    NaN             NaN   \n",
       "3    NaN    NaN             NaN   \n",
       "4    NaN    NaN             NaN   \n",
       "\n",
       "                              corrected_preprocessed  \n",
       "0             ['hacer', 'mayo', 'cazar', 'fantasma']  \n",
       "1  ['despues', 'esperar', 'ancia', 'ahora', 'espe...  \n",
       "2  ['esperar', 'llegar', 'oido', 'nuevo', 'inicia...  \n",
       "3  ['menos', 'mes', 'urkullu', 'temer', 'perder',...  \n",
       "4  ['edicion', 'festival', 'internacional', 'puen...  \n",
       "\n",
       "[5 rows x 38 columns]"
      ]
     },
     "metadata": {},
     "execution_count": 41
    }
   ],
   "metadata": {}
  },
  {
   "cell_type": "code",
   "execution_count": 42,
   "source": [
    "spec_chars = [\"!\",'\"',\"#\",\"%\",\"&\",\"'\",\"(\",\")\",\n",
    "              \"*\",\"+\",\",\",\"-\",\".\",\"/\",\":\",\";\",\"<\",\n",
    "              \"=\",\">\",\"?\",\"@\",\"[\",\"\\\\\",\"]\",\"^\",\"_\",\n",
    "              \"`\",\"{\",\"|\",\"}\",\"~\",\"–\"]\n",
    "for char in spec_chars:\n",
    "    df['preprocessed_data_without_hashtags'] = df['preprocessed_data_without_hashtags'].str.replace(char, ' ')"
   ],
   "outputs": [
    {
     "output_type": "stream",
     "name": "stderr",
     "text": [
      "/tmp/ipykernel_166010/1264759976.py:6: FutureWarning: The default value of regex will change from True to False in a future version. In addition, single character regular expressions will *not* be treated as literal strings when regex=True.\n",
      "  df['preprocessed_data_without_hashtags'] = df['preprocessed_data_without_hashtags'].str.replace(char, ' ')\n"
     ]
    }
   ],
   "metadata": {}
  },
  {
   "cell_type": "code",
   "execution_count": 43,
   "source": [
    "#10 most repeated tweets\n",
    "df.groupby(['preprocessed_data_without_hashtags']).size().reset_index(name='counts')\\\n",
    "  .sort_values('counts', ascending=False).head(10)"
   ],
   "outputs": [
    {
     "output_type": "execute_result",
     "data": {
      "text/html": [
       "<div>\n",
       "<style scoped>\n",
       "    .dataframe tbody tr th:only-of-type {\n",
       "        vertical-align: middle;\n",
       "    }\n",
       "\n",
       "    .dataframe tbody tr th {\n",
       "        vertical-align: top;\n",
       "    }\n",
       "\n",
       "    .dataframe thead th {\n",
       "        text-align: right;\n",
       "    }\n",
       "</style>\n",
       "<table border=\"1\" class=\"dataframe\">\n",
       "  <thead>\n",
       "    <tr style=\"text-align: right;\">\n",
       "      <th></th>\n",
       "      <th>preprocessed_data_without_hashtags</th>\n",
       "      <th>counts</th>\n",
       "    </tr>\n",
       "  </thead>\n",
       "  <tbody>\n",
       "    <tr>\n",
       "      <th>17220</th>\n",
       "      <td>stamp</td>\n",
       "      <td>112</td>\n",
       "    </tr>\n",
       "    <tr>\n",
       "      <th>5706</th>\n",
       "      <td>difundir</td>\n",
       "      <td>88</td>\n",
       "    </tr>\n",
       "    <tr>\n",
       "      <th>13710</th>\n",
       "      <td>please    help    suppo    add</td>\n",
       "      <td>52</td>\n",
       "    </tr>\n",
       "    <tr>\n",
       "      <th>8341</th>\n",
       "      <td>help    u</td>\n",
       "      <td>44</td>\n",
       "    </tr>\n",
       "    <tr>\n",
       "      <th>5701</th>\n",
       "      <td>difundan</td>\n",
       "      <td>34</td>\n",
       "    </tr>\n",
       "    <tr>\n",
       "      <th>14106</th>\n",
       "      <td>por    favor</td>\n",
       "      <td>32</td>\n",
       "    </tr>\n",
       "    <tr>\n",
       "      <th>8321</th>\n",
       "      <td>help</td>\n",
       "      <td>29</td>\n",
       "    </tr>\n",
       "    <tr>\n",
       "      <th>9249</th>\n",
       "      <td>intervene    stop    humanrights    violatio...</td>\n",
       "      <td>21</td>\n",
       "    </tr>\n",
       "    <tr>\n",
       "      <th>15380</th>\n",
       "      <td>removed</td>\n",
       "      <td>21</td>\n",
       "    </tr>\n",
       "    <tr>\n",
       "      <th>7940</th>\n",
       "      <td>grande</td>\n",
       "      <td>20</td>\n",
       "    </tr>\n",
       "  </tbody>\n",
       "</table>\n",
       "</div>"
      ],
      "text/plain": [
       "                      preprocessed_data_without_hashtags  counts\n",
       "17220                                            stamp       112\n",
       "5706                                          difundir        88\n",
       "13710                   please    help    suppo    add        52\n",
       "8341                                         help    u        44\n",
       "5701                                          difundan        34\n",
       "14106                                     por    favor        32\n",
       "8321                                              help        29\n",
       "9249     intervene    stop    humanrights    violatio...      21\n",
       "15380                                          removed        21\n",
       "7940                                            grande        20"
      ]
     },
     "metadata": {},
     "execution_count": 43
    }
   ],
   "metadata": {}
  },
  {
   "cell_type": "code",
   "execution_count": 44,
   "source": [
    "from sklearn.feature_extraction.text import CountVectorizer\n",
    "\n",
    "# the vectorizer object will be used to transform text to vector form\n",
    "vectorizer = CountVectorizer(max_df=0.9, min_df=25, token_pattern='\\w+|\\$[\\d\\.]+|\\S+')\n",
    "\n",
    "# apply transformation to sparse matrix\n",
    "doc_word= vectorizer.fit_transform(df['preprocessed_data_without_hashtags'].values.astype('U')).toarray()\n",
    "doc_word = ss.csr_matrix(doc_word)\n",
    "\n",
    "doc_word.shape # n_docs x m_words\n"
   ],
   "outputs": [
    {
     "output_type": "execute_result",
     "data": {
      "text/plain": [
       "(22160, 1759)"
      ]
     },
     "metadata": {},
     "execution_count": 44
    }
   ],
   "metadata": {}
  },
  {
   "cell_type": "code",
   "execution_count": 45,
   "source": [
    "# Get words that label the columns\n",
    "words = list(np.asarray(vectorizer.get_feature_names()))\n"
   ],
   "outputs": [],
   "metadata": {}
  },
  {
   "cell_type": "markdown",
   "source": [
    "# CorEx Topic Model\n",
    "\n",
    "### The main parameters of the CorEx topic model are:\n",
    "\n",
    "#### n_hidden: number of topics (\"hidden\" as in \"hidden latent topics\")\n",
    "#### words: words that label the columns of the doc-word matrix (optional)\n",
    "#### docs: document labels that label the rows of the doc-word matrix (optional)\n",
    "#### max_iter: number of iterations to run through the update equations (optional, defaults to 200)\n",
    "#### verbose: if verbose=1, then CorEx will print the topic TCs with each iteration\n",
    "#### seed: random number seed to use for model initialization (optional)\n"
   ],
   "metadata": {}
  },
  {
   "cell_type": "code",
   "execution_count": 47,
   "source": [
    "topic_model = ct.Corex(n_hidden=50, words=words, max_iter=200, verbose=False, seed=1)\n",
    "topic_model.fit(doc_word, words=words);"
   ],
   "outputs": [],
   "metadata": {}
  },
  {
   "cell_type": "markdown",
   "source": [
    "# CorEx Output"
   ],
   "metadata": {}
  },
  {
   "cell_type": "code",
   "execution_count": 48,
   "source": [
    "# Print a single topic from CorEx topic model\n",
    "topic_model.get_topics(topic=3, n_words=15)"
   ],
   "outputs": [
    {
     "output_type": "execute_result",
     "data": {
      "text/plain": [
       "[('one', 0.03558615310772622, 1.0),\n",
       " ('like', 0.0299023197484427, 1.0),\n",
       " ('get', 0.028245058625944067, 1.0),\n",
       " ('i', 0.02493885916980106, 1.0),\n",
       " ('think', 0.021536965786588688, 1.0),\n",
       " ('see', 0.020760433007477617, 1.0),\n",
       " ('many', 0.01788719348093262, 1.0),\n",
       " ('time', 0.017259120509297735, 1.0),\n",
       " ('much', 0.014634984501005156, 1.0),\n",
       " ('lot', 0.014123501685508211, 1.0),\n",
       " ('really', 0.013835384893138205, 1.0),\n",
       " ('way', 0.013289281917633027, 1.0),\n",
       " ('good', 0.013274675463816131, 1.0),\n",
       " ('last', 0.012138024593544726, 1.0),\n",
       " ('something', 0.011638521233097505, 1.0)]"
      ]
     },
     "metadata": {},
     "execution_count": 48
    }
   ],
   "metadata": {}
  },
  {
   "cell_type": "markdown",
   "source": [
    "##### The topic words are those with the highest mutual information with the topic, rather than those with highest probability within the topic as in LDA. The mutual information with the topic is the number reported in each tuple. CorEx also returns the \"sign\" of each word, which is either 1 or -1. If the sign is -1, then that means the absence of a word is informative in that topic, rather than its presence.\n",
    "\n",
    "##### If the column labels have not been specified through words, then the code will return the column indices for the top words in each topic.\n",
    "\n"
   ],
   "metadata": {}
  },
  {
   "cell_type": "code",
   "execution_count": 49,
   "source": [
    "topics = topic_model.get_topics()\n",
    "try:\n",
    "    for topic_n,topic in enumerate(topics):\n",
    "        # w: word, mi: mutual information, s: sign\n",
    "        topic = [(w,mi,s) if s > 0 else ('~'+w,mi,s) for w,mi,s in topic]\n",
    "        # Unpack the info about the topic\n",
    "        words,mis,signs = zip(*topic)    \n",
    "        # Print topic\n",
    "        topic_str = str(topic_n+1)+': '+', '.join(words)\n",
    "        print(topic_str)\n",
    "except:\n",
    "    print('exception')"
   ],
   "outputs": [
    {
     "output_type": "stream",
     "name": "stdout",
     "text": [
      "1: police, right, protester, human, force, take, violence, amp, make, state\n",
      "2: people, government, colombian, protest, colombia, kill, go, day, know, want\n",
      "3: tax, reform, would, even, thing, money, increase, pay, year, could\n",
      "4: one, like, get, i, think, see, many, time, much, lot\n",
      "5: creer, tener, problema, impuesto, forma, politica, dinero, ejemplo, acuerdo, existir\n",
      "6: policia, derecho, ser, gobierno, joven, colombiano, civil, humanos, asesinado, deber\n",
      "7: idea, dialogo, participar, educacion, publico, empresa, situacion, tema, cambio, sistema\n",
      "8: hacer, ir, pais, ver, querer, decir, salir, asi, dejar, ahora\n",
      "9: gente, cosa, mismo, bien, buen, menos, pensar, mal, malo, siempre\n",
      "10: él, si, solo, vez, poner, cada, medio, hecho, mejor, alguno\n",
      "11: martuchis, vicky, roman, paraco, velez, uribe, polo, espriella, escobar, bolivar\n",
      "12: primero, linea, hoy, resistencia, vida, nuevo, jornada, portal, mayo, realizar\n",
      "13: help, please, u, need, suppo, add, come, spread, thanks, thank\n",
      "14: protesta, dia, muerto, manifestante, ano, ciudad, pacifico, llevar, desaparecido, herido\n",
      "15: caso, violencia, mucho, varios, recurso, incluso, respecto, sostener, requerir, cifra\n",
      "16: reforma, tributario, salud, retiro, hundir, aprobar, proyecto, tumbar, firmar, presentar\n",
      "17: pm, em, a, asamblea, fb, firma, trave, peticion, conectar, encuentro\n",
      "18: tanto, pasar, entonces, peor, pagar, igual, arma, ahi, comprar, realidad\n",
      "19: dar, tú, saber, unico, venir, quedar, votar, verdad, partido, yo\n",
      "20: paro, nacional, comite, indefinido, apoyar, marcha, cansado, urna\n",
      "21: mas, poder, haber, hijo, llegar, terminar, peligroso, perdido, fuerte, palabra\n",
      "22: mayor, regla, ayudar, comentario, embargo, sub, auxilio, ministro, petro, mencionar\n",
      "23: persona, tambien, grupo, ninguno, pensamiento, conocer, crear, informacion, fin, ultimo\n",
      "24: pueblo, lucha, dignidad, voz, luchar, colombio, solidaridad, pie, paz, callar\n",
      "25: policial, abuso, humanidad, crimen, comunitario, olla, tomar, brutalidad, edad, menor\n",
      "26: politico, centro, democratico, preso, buscar, pintar, mural, color, malparido, seguridad\n",
      "27: feedback, link, request, info, pablo, alvaro\n",
      "28: la, de, los, calles, en, del, son, ya, al, con\n",
      "29: estar, matar, indigena, noche, donde, minga, guardia, parir, proteger, muchacho\n",
      "30: terrorista, farc, urbano, financiar, carcel, eln, guerrilla, narco, captura, terrorismo\n",
      "31: necesitar, mano, ayuda, presidente, corrupto, delincuente, mundo, alcalde, empezar, defender\n",
      "32: favor, por, difundir, tendencia\n",
      "33: country, around, order, care, put, live, tell, allow, name\n",
      "34: social, red, estallido, actor\n",
      "35: falso, positivo, luego\n",
      "36: peso, renta, billón, declaracion, general, hospital, rico, bonito, covid, capital\n",
      "37: the, post, edit, to, usa, show, deal, twitter, similar, fake\n",
      "38: que, paso, horror, atacar, contexto, infiltrado, piedra, grabar, aprovechar, comercio\n",
      "39: vivo, parar, patria, heroe, avanzar, asesino, aqui, maldito, carajo, lista\n",
      "40: seguir, masacre, continuo, despertar, bastar, banda, enganar, impune, barbarie, renunciar\n",
      "41: sangre, mil, responsable, pena, retirar, tierra, diario, llorar, vacuna, renuncia\n",
      "42: youtube, ~is, facebook, instagram, web, ~so\n",
      "43: pa, video, horrible, area, union\n",
      "44: criminal, intentar, cometer, gustavo, utilizar\n",
      "45: detener, mujer, apoyo, juzgar, hombre, lindo\n",
      "46: nan, ~resistir, ~blanco, stamp, ~titular, ~azul, ~valiente, ~argentino, ~diputado, ~don\n",
      "47: actual, local, normal, fuente, ideal, estrato, art\n",
      "48: noticia, paar, excelente\n",
      "49: amar, frase, amor, genocidio, revolucionario, listo\n",
      "50: valor, para, hotel, ~hasta\n"
     ]
    }
   ],
   "metadata": {}
  },
  {
   "cell_type": "markdown",
   "source": [
    "# Total Correlation and Model Selection"
   ],
   "metadata": {}
  },
  {
   "cell_type": "code",
   "execution_count": 50,
   "source": [
    "topic_model.tc "
   ],
   "outputs": [
    {
     "output_type": "execute_result",
     "data": {
      "text/plain": [
       "3.4679951788079384"
      ]
     },
     "metadata": {},
     "execution_count": 50
    }
   ],
   "metadata": {}
  },
  {
   "cell_type": "code",
   "execution_count": 51,
   "source": [
    "topic_model.tcs.shape # k_topics"
   ],
   "outputs": [
    {
     "output_type": "execute_result",
     "data": {
      "text/plain": [
       "(50,)"
      ]
     },
     "metadata": {},
     "execution_count": 51
    }
   ],
   "metadata": {}
  },
  {
   "cell_type": "code",
   "execution_count": 52,
   "source": [
    "print(np.sum(topic_model.tcs))\n",
    "print(topic_model.tc)"
   ],
   "outputs": [
    {
     "output_type": "stream",
     "name": "stdout",
     "text": [
      "3.4679951788079384\n",
      "3.4679951788079384\n"
     ]
    }
   ],
   "metadata": {}
  },
  {
   "cell_type": "markdown",
   "source": [
    "## Selecting the Number of Topics\n",
    "#### One way to choose the number of topics is to observe the distribution of TCs for each topic to see how much each additional topic contributes to the overall TC. We should keep adding topics until additional topics do not significantly contribute to the overall TC. This is similar to choosing a cutoff eigenvalue when doing topic modeling via LSA."
   ],
   "metadata": {}
  },
  {
   "cell_type": "code",
   "execution_count": 53,
   "source": [
    "plt.figure(figsize=(10,5))\n",
    "plt.bar(range(topic_model.tcs.shape[0]), topic_model.tcs, color='#4e79a7', width=0.5)\n",
    "plt.xlabel('Topic', fontsize=16)\n",
    "plt.ylabel('Total Correlation (nats)', fontsize=16);"
   ],
   "outputs": [
    {
     "output_type": "display_data",
     "data": {
      "image/png": "[encoded data removed]",
      "text/plain": [
       "<Figure size 720x360 with 1 Axes>"
      ]
     },
     "metadata": {
      "needs_background": "light"
     }
    }
   ],
   "metadata": {}
  },
  {
   "cell_type": "markdown",
   "source": [
    "# Resources\n",
    "\n",
    "### https://github.com/gregversteeg/CorEx\n",
    "\n",
    "### https://ryanjgallagher.github.io/code/corex/example"
   ],
   "metadata": {}
  }
 ],
 "metadata": {
  "orig_nbformat": 4,
  "language_info": {
   "name": "python",
   "version": "3.9.6",
   "mimetype": "text/x-python",
   "codemirror_mode": {
    "name": "ipython",
    "version": 3
   },
   "pygments_lexer": "ipython3",
   "nbconvert_exporter": "python",
   "file_extension": ".py"
  },
  "kernelspec": {
   "name": "python3",
   "display_name": "Python 3.9.6 64-bit ('colstrike': conda)"
  },
  "interpreter": {
   "hash": "3374984cb31ce85442432e04038579e3b4c4ae7737a82e7b89bd4fd73db542b0"
  }
 },
 "nbformat": 4,
 "nbformat_minor": 2
}