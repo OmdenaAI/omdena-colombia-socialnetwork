{
 "cells": [
  {
   "cell_type": "markdown",
   "id": "34985281",
   "metadata": {},
   "source": [
    "#### Note: This code is written for Preprocessing Twitter data files extracted using stweet. For other extraction files, some modifications are required "
   ]
  },
  {
   "cell_type": "markdown",
   "id": "68d63655",
   "metadata": {},
   "source": [
    "For preprocessing on multiple files, add the name of the csv files in list named -- > files_list (Declared towards the end) \n",
    "Modify the paths according to your local folder paths "
   ]
  },
  {
   "cell_type": "markdown",
   "id": "c4f468dc",
   "metadata": {},
   "source": [
    "Installations"
   ]
  },
  {
   "cell_type": "code",
   "execution_count": 1,
   "id": "9de27af6",
   "metadata": {},
   "outputs": [
    {
     "name": "stdout",
     "output_type": "stream",
     "text": [
      "Requirement already satisfied: unidecode in /home/azulcou/miniconda3/lib/python3.9/site-packages (1.2.0)\n",
      "Requirement already satisfied: contractions in /home/azulcou/miniconda3/lib/python3.9/site-packages (0.0.52)\n",
      "Requirement already satisfied: textsearch>=0.0.21 in /home/azulcou/miniconda3/lib/python3.9/site-packages (from contractions) (0.0.21)\n",
      "Requirement already satisfied: anyascii in /home/azulcou/miniconda3/lib/python3.9/site-packages (from textsearch>=0.0.21->contractions) (0.2.0)\n",
      "Requirement already satisfied: pyahocorasick in /home/azulcou/miniconda3/lib/python3.9/site-packages (from textsearch>=0.0.21->contractions) (1.4.2)\n",
      "Requirement already satisfied: nltk in /home/azulcou/miniconda3/lib/python3.9/site-packages (3.6.2)\n",
      "Requirement already satisfied: tqdm in /home/azulcou/miniconda3/lib/python3.9/site-packages (from nltk) (4.54.1)\n",
      "Requirement already satisfied: regex in /home/azulcou/miniconda3/lib/python3.9/site-packages (from nltk) (2021.8.3)\n",
      "Requirement already satisfied: click in /home/azulcou/miniconda3/lib/python3.9/site-packages (from nltk) (7.1.2)\n",
      "Requirement already satisfied: joblib in /home/azulcou/miniconda3/lib/python3.9/site-packages (from nltk) (1.0.1)\n",
      "Collecting en-core-web-sm==3.1.0\n",
      "  Downloading https://github.com/explosion/spacy-models/releases/download/en_core_web_sm-3.1.0/en_core_web_sm-3.1.0-py3-none-any.whl (13.6 MB)\n",
      "\u001b[K     |████████████████████████████████| 13.6 MB 3.7 MB/s eta 0:00:01\n",
      "\u001b[?25hRequirement already satisfied: spacy<3.2.0,>=3.1.0 in /home/azulcou/miniconda3/lib/python3.9/site-packages (from en-core-web-sm==3.1.0) (3.1.2)\n",
      "Requirement already satisfied: tqdm<5.0.0,>=4.38.0 in /home/azulcou/miniconda3/lib/python3.9/site-packages (from spacy<3.2.0,>=3.1.0->en-core-web-sm==3.1.0) (4.54.1)\n",
      "Requirement already satisfied: numpy>=1.15.0 in /home/azulcou/miniconda3/lib/python3.9/site-packages (from spacy<3.2.0,>=3.1.0->en-core-web-sm==3.1.0) (1.20.2)\n",
      "Requirement already satisfied: pathy>=0.3.5 in /home/azulcou/miniconda3/lib/python3.9/site-packages (from spacy<3.2.0,>=3.1.0->en-core-web-sm==3.1.0) (0.6.0)\n",
      "Requirement already satisfied: pydantic!=1.8,!=1.8.1,<1.9.0,>=1.7.4 in /home/azulcou/miniconda3/lib/python3.9/site-packages (from spacy<3.2.0,>=3.1.0->en-core-web-sm==3.1.0) (1.8.2)\n",
      "Requirement already satisfied: jinja2 in /home/azulcou/miniconda3/lib/python3.9/site-packages (from spacy<3.2.0,>=3.1.0->en-core-web-sm==3.1.0) (2.11.3)\n",
      "Requirement already satisfied: wasabi<1.1.0,>=0.8.1 in /home/azulcou/miniconda3/lib/python3.9/site-packages (from spacy<3.2.0,>=3.1.0->en-core-web-sm==3.1.0) (0.8.2)\n",
      "Requirement already satisfied: packaging>=20.0 in /home/azulcou/miniconda3/lib/python3.9/site-packages (from spacy<3.2.0,>=3.1.0->en-core-web-sm==3.1.0) (20.9)\n",
      "Requirement already satisfied: blis<0.8.0,>=0.4.0 in /home/azulcou/miniconda3/lib/python3.9/site-packages (from spacy<3.2.0,>=3.1.0->en-core-web-sm==3.1.0) (0.7.4)\n",
      "Requirement already satisfied: murmurhash<1.1.0,>=0.28.0 in /home/azulcou/miniconda3/lib/python3.9/site-packages (from spacy<3.2.0,>=3.1.0->en-core-web-sm==3.1.0) (1.0.5)\n",
      "Requirement already satisfied: srsly<3.0.0,>=2.4.1 in /home/azulcou/miniconda3/lib/python3.9/site-packages (from spacy<3.2.0,>=3.1.0->en-core-web-sm==3.1.0) (2.4.1)\n",
      "Requirement already satisfied: cymem<2.1.0,>=2.0.2 in /home/azulcou/miniconda3/lib/python3.9/site-packages (from spacy<3.2.0,>=3.1.0->en-core-web-sm==3.1.0) (2.0.5)\n",
      "Requirement already satisfied: preshed<3.1.0,>=3.0.2 in /home/azulcou/miniconda3/lib/python3.9/site-packages (from spacy<3.2.0,>=3.1.0->en-core-web-sm==3.1.0) (3.0.5)\n",
      "Requirement already satisfied: catalogue<2.1.0,>=2.0.4 in /home/azulcou/miniconda3/lib/python3.9/site-packages (from spacy<3.2.0,>=3.1.0->en-core-web-sm==3.1.0) (2.0.6)\n",
      "Requirement already satisfied: requests<3.0.0,>=2.13.0 in /home/azulcou/miniconda3/lib/python3.9/site-packages (from spacy<3.2.0,>=3.1.0->en-core-web-sm==3.1.0) (2.25.0)\n",
      "Requirement already satisfied: setuptools in /home/azulcou/miniconda3/lib/python3.9/site-packages (from spacy<3.2.0,>=3.1.0->en-core-web-sm==3.1.0) (51.0.0.post20201207)\n",
      "Requirement already satisfied: typer<0.4.0,>=0.3.0 in /home/azulcou/miniconda3/lib/python3.9/site-packages (from spacy<3.2.0,>=3.1.0->en-core-web-sm==3.1.0) (0.3.2)\n",
      "Requirement already satisfied: spacy-legacy<3.1.0,>=3.0.7 in /home/azulcou/miniconda3/lib/python3.9/site-packages (from spacy<3.2.0,>=3.1.0->en-core-web-sm==3.1.0) (3.0.8)\n",
      "Requirement already satisfied: thinc<8.1.0,>=8.0.8 in /home/azulcou/miniconda3/lib/python3.9/site-packages (from spacy<3.2.0,>=3.1.0->en-core-web-sm==3.1.0) (8.0.8)\n",
      "Requirement already satisfied: numpy>=1.15.0 in /home/azulcou/miniconda3/lib/python3.9/site-packages (from spacy<3.2.0,>=3.1.0->en-core-web-sm==3.1.0) (1.20.2)\n",
      "Requirement already satisfied: MarkupSafe>=0.23 in /home/azulcou/miniconda3/lib/python3.9/site-packages (from jinja2->spacy<3.2.0,>=3.1.0->en-core-web-sm==3.1.0) (1.1.1)\n",
      "Requirement already satisfied: pyparsing>=2.0.2 in /home/azulcou/miniconda3/lib/python3.9/site-packages (from packaging>=20.0->spacy<3.2.0,>=3.1.0->en-core-web-sm==3.1.0) (2.4.7)\n",
      "Requirement already satisfied: typer<0.4.0,>=0.3.0 in /home/azulcou/miniconda3/lib/python3.9/site-packages (from spacy<3.2.0,>=3.1.0->en-core-web-sm==3.1.0) (0.3.2)\n",
      "Requirement already satisfied: smart-open<6.0.0,>=5.0.0 in /home/azulcou/miniconda3/lib/python3.9/site-packages (from pathy>=0.3.5->spacy<3.2.0,>=3.1.0->en-core-web-sm==3.1.0) (5.2.1)\n",
      "Requirement already satisfied: murmurhash<1.1.0,>=0.28.0 in /home/azulcou/miniconda3/lib/python3.9/site-packages (from spacy<3.2.0,>=3.1.0->en-core-web-sm==3.1.0) (1.0.5)\n",
      "Requirement already satisfied: cymem<2.1.0,>=2.0.2 in /home/azulcou/miniconda3/lib/python3.9/site-packages (from spacy<3.2.0,>=3.1.0->en-core-web-sm==3.1.0) (2.0.5)\n",
      "Requirement already satisfied: typing-extensions>=3.7.4.3 in /home/azulcou/miniconda3/lib/python3.9/site-packages (from pydantic!=1.8,!=1.8.1,<1.9.0,>=1.7.4->spacy<3.2.0,>=3.1.0->en-core-web-sm==3.1.0) (3.7.4.3)\n",
      "Requirement already satisfied: idna<3,>=2.5 in /home/azulcou/miniconda3/lib/python3.9/site-packages (from requests<3.0.0,>=2.13.0->spacy<3.2.0,>=3.1.0->en-core-web-sm==3.1.0) (2.10)\n",
      "Requirement already satisfied: certifi>=2017.4.17 in /home/azulcou/miniconda3/lib/python3.9/site-packages (from requests<3.0.0,>=2.13.0->spacy<3.2.0,>=3.1.0->en-core-web-sm==3.1.0) (2020.12.5)\n",
      "Requirement already satisfied: urllib3<1.27,>=1.21.1 in /home/azulcou/miniconda3/lib/python3.9/site-packages (from requests<3.0.0,>=2.13.0->spacy<3.2.0,>=3.1.0->en-core-web-sm==3.1.0) (1.25.11)\n",
      "Requirement already satisfied: chardet<4,>=3.0.2 in /home/azulcou/miniconda3/lib/python3.9/site-packages (from requests<3.0.0,>=2.13.0->spacy<3.2.0,>=3.1.0->en-core-web-sm==3.1.0) (3.0.4)\n",
      "Requirement already satisfied: catalogue<2.1.0,>=2.0.4 in /home/azulcou/miniconda3/lib/python3.9/site-packages (from spacy<3.2.0,>=3.1.0->en-core-web-sm==3.1.0) (2.0.6)\n",
      "Requirement already satisfied: numpy>=1.15.0 in /home/azulcou/miniconda3/lib/python3.9/site-packages (from spacy<3.2.0,>=3.1.0->en-core-web-sm==3.1.0) (1.20.2)\n",
      "Requirement already satisfied: pydantic!=1.8,!=1.8.1,<1.9.0,>=1.7.4 in /home/azulcou/miniconda3/lib/python3.9/site-packages (from spacy<3.2.0,>=3.1.0->en-core-web-sm==3.1.0) (1.8.2)\n",
      "Requirement already satisfied: wasabi<1.1.0,>=0.8.1 in /home/azulcou/miniconda3/lib/python3.9/site-packages (from spacy<3.2.0,>=3.1.0->en-core-web-sm==3.1.0) (0.8.2)\n",
      "Requirement already satisfied: murmurhash<1.1.0,>=0.28.0 in /home/azulcou/miniconda3/lib/python3.9/site-packages (from spacy<3.2.0,>=3.1.0->en-core-web-sm==3.1.0) (1.0.5)\n",
      "Requirement already satisfied: cymem<2.1.0,>=2.0.2 in /home/azulcou/miniconda3/lib/python3.9/site-packages (from spacy<3.2.0,>=3.1.0->en-core-web-sm==3.1.0) (2.0.5)\n",
      "Requirement already satisfied: preshed<3.1.0,>=3.0.2 in /home/azulcou/miniconda3/lib/python3.9/site-packages (from spacy<3.2.0,>=3.1.0->en-core-web-sm==3.1.0) (3.0.5)\n",
      "Requirement already satisfied: catalogue<2.1.0,>=2.0.4 in /home/azulcou/miniconda3/lib/python3.9/site-packages (from spacy<3.2.0,>=3.1.0->en-core-web-sm==3.1.0) (2.0.6)\n",
      "Requirement already satisfied: setuptools in /home/azulcou/miniconda3/lib/python3.9/site-packages (from spacy<3.2.0,>=3.1.0->en-core-web-sm==3.1.0) (51.0.0.post20201207)\n",
      "Requirement already satisfied: srsly<3.0.0,>=2.4.1 in /home/azulcou/miniconda3/lib/python3.9/site-packages (from spacy<3.2.0,>=3.1.0->en-core-web-sm==3.1.0) (2.4.1)\n",
      "Requirement already satisfied: blis<0.8.0,>=0.4.0 in /home/azulcou/miniconda3/lib/python3.9/site-packages (from spacy<3.2.0,>=3.1.0->en-core-web-sm==3.1.0) (0.7.4)\n"
     ]
    },
    {
     "name": "stdout",
     "output_type": "stream",
     "text": [
      "Requirement already satisfied: click<7.2.0,>=7.1.1 in /home/azulcou/miniconda3/lib/python3.9/site-packages (from typer<0.4.0,>=0.3.0->spacy<3.2.0,>=3.1.0->en-core-web-sm==3.1.0) (7.1.2)\n",
      "\u001b[38;5;2m✔ Download and installation successful\u001b[0m\n",
      "You can now load the package via spacy.load('en_core_web_sm')\n",
      "Requirement already satisfied: emoji in /home/azulcou/miniconda3/lib/python3.9/site-packages (1.4.2)\n",
      "\u001b[31mERROR: Could not find a version that satisfies the requirement emoticons_list\u001b[0m\n",
      "\u001b[31mERROR: No matching distribution found for emoticons_list\u001b[0m\n",
      "Requirement already satisfied: emot in /home/azulcou/miniconda3/lib/python3.9/site-packages (3.1)\n",
      "Requirement already satisfied: autocorrect in /home/azulcou/miniconda3/lib/python3.9/site-packages (2.5.0)\n",
      "Requirement already satisfied: langdetect in /home/azulcou/miniconda3/lib/python3.9/site-packages (1.0.7)\n",
      "Requirement already satisfied: six in /home/azulcou/miniconda3/lib/python3.9/site-packages (from langdetect) (1.15.0)\n",
      "Requirement already satisfied: textblob in /home/azulcou/miniconda3/lib/python3.9/site-packages (0.15.3)\n",
      "Requirement already satisfied: nltk>=3.1 in /home/azulcou/miniconda3/lib/python3.9/site-packages (from textblob) (3.6.2)\n",
      "Requirement already satisfied: tqdm in /home/azulcou/miniconda3/lib/python3.9/site-packages (from nltk>=3.1->textblob) (4.54.1)\n",
      "Requirement already satisfied: regex in /home/azulcou/miniconda3/lib/python3.9/site-packages (from nltk>=3.1->textblob) (2021.8.3)\n",
      "Requirement already satisfied: joblib in /home/azulcou/miniconda3/lib/python3.9/site-packages (from nltk>=3.1->textblob) (1.0.1)\n",
      "Requirement already satisfied: click in /home/azulcou/miniconda3/lib/python3.9/site-packages (from nltk>=3.1->textblob) (7.1.2)\n",
      "Requirement already satisfied: krovetzstemmer in /home/azulcou/miniconda3/lib/python3.9/site-packages (0.8)\n"
     ]
    }
   ],
   "source": [
    "\n",
    "!pip install unidecode\n",
    "!pip install contractions\n",
    "!pip install nltk\n",
    "!python -m spacy download en_core_web_sm\n",
    "!pip install emoji\n",
    "!pip install emoticons_list\n",
    "!pip install emot\n",
    "!pip install autocorrect\n",
    "!pip install langdetect\n",
    "!pip install textblob\n",
    "!pip install krovetzstemmer\n"
   ]
  },
  {
   "cell_type": "markdown",
   "id": "e25d81aa",
   "metadata": {},
   "source": [
    "Imports"
   ]
  },
  {
   "cell_type": "code",
   "execution_count": 7,
   "id": "64eaa643",
   "metadata": {},
   "outputs": [
    {
     "name": "stderr",
     "output_type": "stream",
     "text": [
      "[nltk_data] Downloading package stopwords to\n",
      "[nltk_data]     /home/azulcou/nltk_data...\n",
      "[nltk_data]   Package stopwords is already up-to-date!\n",
      "[nltk_data] Downloading package punkt to /home/azulcou/nltk_data...\n",
      "[nltk_data]   Package punkt is already up-to-date!\n"
     ]
    }
   ],
   "source": [
    "import os \n",
    "from tqdm.auto import tqdm \n",
    "from datetime import datetime\n",
    "import pandas as pd\n",
    "import re\n",
    "from autocorrect import Speller\n",
    "from spacy_langdetect import LanguageDetector\n",
    "import spacy\n",
    "import unidecode\n",
    "from pathlib import Path\n",
    "import itertools\n",
    "import contractions\n",
    "import nltk\n",
    "\n",
    "from functools import reduce\n",
    "from nltk.stem import PorterStemmer\n",
    "from nltk.corpus import stopwords\n",
    "from nltk.tokenize import TweetTokenizer\n",
    "from nltk.tokenize import word_tokenize\n",
    "import emoji\n",
    "import emot \n",
    "from string import punctuation\n",
    "from langdetect import detect_langs,detect\n",
    "from textblob import TextBlob\n",
    "from krovetzstemmer import Stemmer\n",
    "from nltk.stem import WordNetLemmatizer\n",
    "from nltk.stem import SnowballStemmer\n",
    "## Initialisations and general declarations\n",
    "\n",
    "tqdm.pandas()\n",
    "tokenizer = TweetTokenizer(preserve_case=False, \n",
    "                           strip_handles=True,\n",
    "                           reduce_len=True)\n",
    "nltk.download('stopwords')\n",
    "nltk.download('punkt')\n",
    "spanish_stopwords = stopwords.words('spanish')\n",
    "stemmer = SnowballStemmer('spanish')\n",
    "spell = Speller(lang = 'en')\n",
    "emot_obj = emot.core.emot()\n",
    "\n"
   ]
  },
  {
   "cell_type": "markdown",
   "id": "cbd3861c",
   "metadata": {},
   "source": [
    "File Paths "
   ]
  },
  {
   "cell_type": "code",
   "execution_count": 8,
   "id": "2bdf60b2",
   "metadata": {},
   "outputs": [],
   "source": [
    "#file paths\n",
    "\n",
    "\n",
    "slang_file_path = r\"/mnt/c/Users/ksafa/OneDrive/Desktop/Omdena/omdena-colombia-socialnetwork/src/data/task-2-preprocessing/mapping/slang.txt\"\n",
    "folder_path = Path(r'/mnt/c/Users/ksafa/OneDrive/Desktop/Omdena/omdena-colombia-socialnetwork/src/data/task-1-data-scraping/Twitter')\n",
    "output_folder_path = Path(r'/mnt/c/Users/ksafa/OneDrive/Desktop/Omdena/omdena-colombia-socialnetwork/src/data/task-2-preprocessing/preprocessed_raw_files/Twitter')"
   ]
  },
  {
   "cell_type": "code",
   "execution_count": 9,
   "id": "2f503d44",
   "metadata": {},
   "outputs": [
    {
     "data": {
      "text/plain": [
       "'/mnt/c/Users/ksafa/OneDrive/Desktop/Omdena/omdena-colombia-socialnetwork/src/tasks/task-2-preprocessing'"
      ]
     },
     "execution_count": 9,
     "metadata": {},
     "output_type": "execute_result"
    }
   ],
   "source": [
    "\n",
    "os.getcwd()"
   ]
  },
  {
   "cell_type": "code",
   "execution_count": 10,
   "id": "b1d93766",
   "metadata": {},
   "outputs": [],
   "source": [
    "files_list = ['ColombiaSOS_SPANISH_tweets_stweet.csv',\n",
    "              'soscolombia_SPANISH_tweets_stweet.csv']"
   ]
  },
  {
   "cell_type": "code",
   "execution_count": 11,
   "id": "9060e7c7",
   "metadata": {},
   "outputs": [
    {
     "name": "stdout",
     "output_type": "stream",
     "text": [
      "Index(['created_at', 'id_str', 'conversation_id_str', 'full_text', 'lang',\n",
      "       'favorited', 'retweeted', 'retweet_count', 'favorite_count',\n",
      "       'reply_count', 'quote_count', 'quoted_status_id_str',\n",
      "       'quoted_status_short_url', 'quoted_status_expand_url', 'user_id_str',\n",
      "       'user_name', 'user_full_name', 'user_verified',\n",
      "       'in_reply_to_status_id_str', 'in_reply_to_user_id_str', 'hashtags',\n",
      "       'mentions', 'urls', 'media'],\n",
      "      dtype='object')\n",
      "Index(['created_at', 'id_str', 'conversation_id_str', 'full_text', 'lang',\n",
      "       'favorited', 'retweeted', 'retweet_count', 'favorite_count',\n",
      "       'reply_count', 'quote_count', 'quoted_status_id_str',\n",
      "       'quoted_status_short_url', 'quoted_status_expand_url', 'user_id_str',\n",
      "       'user_name', 'user_full_name', 'user_verified',\n",
      "       'in_reply_to_status_id_str', 'in_reply_to_user_id_str', 'hashtags',\n",
      "       'mentions', 'urls', 'media'],\n",
      "      dtype='object')\n"
     ]
    }
   ],
   "source": [
    "#Checking if columns are similar\n",
    "for file in files_list:\n",
    "    data = pd.read_csv(folder_path/file)\n",
    "    print(data.columns)\n",
    "    "
   ]
  },
  {
   "cell_type": "code",
   "execution_count": 12,
   "id": "02ed17a2",
   "metadata": {},
   "outputs": [
    {
     "name": "stdout",
     "output_type": "stream",
     "text": [
      "{'AFAIK': 'As Far As I Know', 'AFK': 'Away From Keyboard', 'ASAP': 'As Soon As Possible', 'ATK': 'At The Keyboard', 'ATM': 'At The Moment', 'A3': 'Anytime, Anywhere, Anyplace', 'BAK': 'Back At Keyboard', 'BBL': 'Be Back Later', 'BBS': 'Be Back Soon', 'BFN': 'Bye For Now', 'B4N': 'Bye For Now', 'BRB': 'Be Right Back', 'BRT': 'Be Right There', 'BTW': 'By The Way', 'B4': 'Before', 'CU': 'See You', 'CUL8R': 'See You Later', 'CYA': 'See You', 'FAQ': 'Frequently Asked Questions', 'FC': 'Fingers Crossed', 'FWIW': \"For What It's Worth\", 'FYI': 'For Your Information', 'GAL': 'Get A Life', 'GG': 'Good Game', 'GN': 'Good Night', 'GMTA': 'Great Minds Think Alike', 'GR8': 'Great!', 'G9': 'Genius', 'IC': 'I See', 'ICQ': 'I Seek you (also a chat program)', 'ILU': 'ILU: I Love You', 'IMHO': 'In My Honest/Humble Opinion', 'IMO': 'In My Opinion', 'IOW': 'In Other Words', 'IRL': 'In Real Life', 'KISS': 'Keep It Simple, Stupid', 'LDR': 'Long Distance Relationship', 'LMAO': 'Laugh My A.. Off', 'LOL': 'Laughing Out Loud', 'LTNS': 'Long Time No See', 'L8R': 'Later', 'MTE': 'My Thoughts Exactly', 'M8': 'Mate', 'NRN': 'No Reply Necessary', 'OIC': 'Oh I See', 'PITA': 'Pain In The A..', 'PRT': 'Party', 'PRW': 'Parents Are Watching', 'QPSA?': 'Que Pasa?', 'ROFL': 'Rolling On The Floor Laughing', 'ROFLOL': 'Rolling On The Floor Laughing Out Loud', 'ROTFLMAO': 'Rolling On The Floor Laughing My A.. Off', 'SK8': 'Skate', 'STATS': 'Your sex and age', 'ASL': 'Age, Sex, Location', 'THX': 'Thank You', 'TTFN': 'Ta-Ta For Now!', 'TTYL': 'Talk To You Later', 'U': 'You', 'U2': 'You Too', 'U4E': 'Yours For Ever', 'WB': 'Welcome Back', 'WTF': 'What The F...', 'WTG': 'Way To Go!', 'WUF': 'Where Are You From?', 'W8': 'Wait...', '7K': 'Sick:-D Laugher'}\n"
     ]
    }
   ],
   "source": [
    "#Slang dictionary \n",
    "\n",
    "f = open(slang_file_path, 'r')\n",
    "slang_dict = {}\n",
    "for line in f:\n",
    "    k, v = line.strip().split('=')\n",
    "    slang_dict[k.strip()] = v.strip()\n",
    "\n",
    "f.close()\n",
    "\n",
    "print(slang_dict)"
   ]
  },
  {
   "cell_type": "code",
   "execution_count": 13,
   "id": "9c30b44a",
   "metadata": {},
   "outputs": [
    {
     "data": {
      "text/html": [
       "<div>\n",
       "<style scoped>\n",
       "    .dataframe tbody tr th:only-of-type {\n",
       "        vertical-align: middle;\n",
       "    }\n",
       "\n",
       "    .dataframe tbody tr th {\n",
       "        vertical-align: top;\n",
       "    }\n",
       "\n",
       "    .dataframe thead th {\n",
       "        text-align: right;\n",
       "    }\n",
       "</style>\n",
       "<table border=\"1\" class=\"dataframe\">\n",
       "  <thead>\n",
       "    <tr style=\"text-align: right;\">\n",
       "      <th></th>\n",
       "      <th>created_at</th>\n",
       "      <th>id_str</th>\n",
       "      <th>conversation_id_str</th>\n",
       "      <th>full_text</th>\n",
       "      <th>lang</th>\n",
       "      <th>favorited</th>\n",
       "      <th>retweeted</th>\n",
       "      <th>retweet_count</th>\n",
       "      <th>favorite_count</th>\n",
       "      <th>reply_count</th>\n",
       "      <th>...</th>\n",
       "      <th>user_id_str</th>\n",
       "      <th>user_name</th>\n",
       "      <th>user_full_name</th>\n",
       "      <th>user_verified</th>\n",
       "      <th>in_reply_to_status_id_str</th>\n",
       "      <th>in_reply_to_user_id_str</th>\n",
       "      <th>hashtags</th>\n",
       "      <th>mentions</th>\n",
       "      <th>urls</th>\n",
       "      <th>media</th>\n",
       "    </tr>\n",
       "  </thead>\n",
       "  <tbody>\n",
       "    <tr>\n",
       "      <th>0</th>\n",
       "      <td>2021-04-04T17:47:58+00:00</td>\n",
       "      <td>1378766306112069636</td>\n",
       "      <td>1378766306112069636</td>\n",
       "      <td>Ver noticias en este país es ver 5 o 6 noticia...</td>\n",
       "      <td>es</td>\n",
       "      <td>False</td>\n",
       "      <td>False</td>\n",
       "      <td>1</td>\n",
       "      <td>2</td>\n",
       "      <td>0</td>\n",
       "      <td>...</td>\n",
       "      <td>1235059598136090624</td>\n",
       "      <td>dannaso18864244</td>\n",
       "      <td>bailandin _Sofia</td>\n",
       "      <td>False</td>\n",
       "      <td>NaN</td>\n",
       "      <td>NaN</td>\n",
       "      <td>#SOSColombia , #Colombia</td>\n",
       "      <td>NaN</td>\n",
       "      <td>NaN</td>\n",
       "      <td>[]</td>\n",
       "    </tr>\n",
       "    <tr>\n",
       "      <th>1</th>\n",
       "      <td>2021-04-04T16:29:41+00:00</td>\n",
       "      <td>1378746605764026372</td>\n",
       "      <td>1378746605764026372</td>\n",
       "      <td>#25 masacres en 2021 en Colombia 🇨🇴 #SOSColomb...</td>\n",
       "      <td>es</td>\n",
       "      <td>False</td>\n",
       "      <td>False</td>\n",
       "      <td>0</td>\n",
       "      <td>0</td>\n",
       "      <td>0</td>\n",
       "      <td>...</td>\n",
       "      <td>90917823</td>\n",
       "      <td>FatimaMG</td>\n",
       "      <td>Fátima</td>\n",
       "      <td>False</td>\n",
       "      <td>NaN</td>\n",
       "      <td>NaN</td>\n",
       "      <td>#SOSColombia</td>\n",
       "      <td>NaN</td>\n",
       "      <td>NaN</td>\n",
       "      <td>[]</td>\n",
       "    </tr>\n",
       "    <tr>\n",
       "      <th>2</th>\n",
       "      <td>2021-04-04T15:56:48+00:00</td>\n",
       "      <td>1378738332021231618</td>\n",
       "      <td>1378733935430139907</td>\n",
       "      <td>@angelamrobledo @IvanDuque La #doblemoral y co...</td>\n",
       "      <td>es</td>\n",
       "      <td>False</td>\n",
       "      <td>False</td>\n",
       "      <td>0</td>\n",
       "      <td>1</td>\n",
       "      <td>0</td>\n",
       "      <td>...</td>\n",
       "      <td>126344207</td>\n",
       "      <td>Vlasoga</td>\n",
       "      <td>wlasoga</td>\n",
       "      <td>False</td>\n",
       "      <td>1.378734e+18</td>\n",
       "      <td>1.657483e+08</td>\n",
       "      <td>#doblemoral , #SOSColombia</td>\n",
       "      <td>angelamrobledo , IvanDuque</td>\n",
       "      <td>NaN</td>\n",
       "      <td>[{\"url\": \"https://pbs.twimg.com/media/EyJDNJ9W...</td>\n",
       "    </tr>\n",
       "    <tr>\n",
       "      <th>3</th>\n",
       "      <td>2021-04-04T15:39:36+00:00</td>\n",
       "      <td>1378734004057354249</td>\n",
       "      <td>1378734004057354249</td>\n",
       "      <td>Corrupción en órganos de control manejados por...</td>\n",
       "      <td>es</td>\n",
       "      <td>False</td>\n",
       "      <td>False</td>\n",
       "      <td>2</td>\n",
       "      <td>1</td>\n",
       "      <td>0</td>\n",
       "      <td>...</td>\n",
       "      <td>80101459</td>\n",
       "      <td>maomontenegro</td>\n",
       "      <td>Animales Seres Sintientes y Conscientes. Avanc...</td>\n",
       "      <td>False</td>\n",
       "      <td>NaN</td>\n",
       "      <td>NaN</td>\n",
       "      <td>#SOSColombia , #SOSColombis , #AntiUribistaSig...</td>\n",
       "      <td>RamiroBejaranoG</td>\n",
       "      <td>https://t.co/MRMC70aXED</td>\n",
       "      <td>[]</td>\n",
       "    </tr>\n",
       "    <tr>\n",
       "      <th>4</th>\n",
       "      <td>2021-04-04T15:33:35+00:00</td>\n",
       "      <td>1378732486910488582</td>\n",
       "      <td>1369122514899763201</td>\n",
       "      <td>@confispcol @WRadioColombia @lafm @GustavoBoli...</td>\n",
       "      <td>es</td>\n",
       "      <td>False</td>\n",
       "      <td>False</td>\n",
       "      <td>2</td>\n",
       "      <td>1</td>\n",
       "      <td>0</td>\n",
       "      <td>...</td>\n",
       "      <td>80101459</td>\n",
       "      <td>maomontenegro</td>\n",
       "      <td>Animales Seres Sintientes y Conscientes. Avanc...</td>\n",
       "      <td>False</td>\n",
       "      <td>1.369123e+18</td>\n",
       "      <td>1.090272e+18</td>\n",
       "      <td>#SOSColombis , #AntiUribistaSigueAntiUribista ...</td>\n",
       "      <td>confispcol , WRadioColombia , lafm , GustavoBo...</td>\n",
       "      <td>NaN</td>\n",
       "      <td>[]</td>\n",
       "    </tr>\n",
       "  </tbody>\n",
       "</table>\n",
       "<p>5 rows × 24 columns</p>\n",
       "</div>"
      ],
      "text/plain": [
       "                  created_at               id_str  conversation_id_str  \\\n",
       "0  2021-04-04T17:47:58+00:00  1378766306112069636  1378766306112069636   \n",
       "1  2021-04-04T16:29:41+00:00  1378746605764026372  1378746605764026372   \n",
       "2  2021-04-04T15:56:48+00:00  1378738332021231618  1378733935430139907   \n",
       "3  2021-04-04T15:39:36+00:00  1378734004057354249  1378734004057354249   \n",
       "4  2021-04-04T15:33:35+00:00  1378732486910488582  1369122514899763201   \n",
       "\n",
       "                                           full_text lang  favorited  \\\n",
       "0  Ver noticias en este país es ver 5 o 6 noticia...   es      False   \n",
       "1  #25 masacres en 2021 en Colombia 🇨🇴 #SOSColomb...   es      False   \n",
       "2  @angelamrobledo @IvanDuque La #doblemoral y co...   es      False   \n",
       "3  Corrupción en órganos de control manejados por...   es      False   \n",
       "4  @confispcol @WRadioColombia @lafm @GustavoBoli...   es      False   \n",
       "\n",
       "   retweeted  retweet_count  favorite_count  reply_count  ...  \\\n",
       "0      False              1               2            0  ...   \n",
       "1      False              0               0            0  ...   \n",
       "2      False              0               1            0  ...   \n",
       "3      False              2               1            0  ...   \n",
       "4      False              2               1            0  ...   \n",
       "\n",
       "           user_id_str        user_name  \\\n",
       "0  1235059598136090624  dannaso18864244   \n",
       "1             90917823         FatimaMG   \n",
       "2            126344207          Vlasoga   \n",
       "3             80101459    maomontenegro   \n",
       "4             80101459    maomontenegro   \n",
       "\n",
       "                                      user_full_name  user_verified  \\\n",
       "0                                   bailandin _Sofia          False   \n",
       "1                                             Fátima          False   \n",
       "2                                            wlasoga          False   \n",
       "3  Animales Seres Sintientes y Conscientes. Avanc...          False   \n",
       "4  Animales Seres Sintientes y Conscientes. Avanc...          False   \n",
       "\n",
       "   in_reply_to_status_id_str in_reply_to_user_id_str  \\\n",
       "0                        NaN                     NaN   \n",
       "1                        NaN                     NaN   \n",
       "2               1.378734e+18            1.657483e+08   \n",
       "3                        NaN                     NaN   \n",
       "4               1.369123e+18            1.090272e+18   \n",
       "\n",
       "                                            hashtags  \\\n",
       "0                           #SOSColombia , #Colombia   \n",
       "1                                       #SOSColombia   \n",
       "2                         #doblemoral , #SOSColombia   \n",
       "3  #SOSColombia , #SOSColombis , #AntiUribistaSig...   \n",
       "4  #SOSColombis , #AntiUribistaSigueAntiUribista ...   \n",
       "\n",
       "                                            mentions                     urls  \\\n",
       "0                                                NaN                      NaN   \n",
       "1                                                NaN                      NaN   \n",
       "2                         angelamrobledo , IvanDuque                      NaN   \n",
       "3                                    RamiroBejaranoG  https://t.co/MRMC70aXED   \n",
       "4  confispcol , WRadioColombia , lafm , GustavoBo...                      NaN   \n",
       "\n",
       "                                               media  \n",
       "0                                                 []  \n",
       "1                                                 []  \n",
       "2  [{\"url\": \"https://pbs.twimg.com/media/EyJDNJ9W...  \n",
       "3                                                 []  \n",
       "4                                                 []  \n",
       "\n",
       "[5 rows x 24 columns]"
      ]
     },
     "execution_count": 13,
     "metadata": {},
     "output_type": "execute_result"
    }
   ],
   "source": [
    "data.head()"
   ]
  },
  {
   "cell_type": "code",
   "execution_count": 30,
   "id": "b3d0c08c",
   "metadata": {},
   "outputs": [
    {
     "data": {
      "text/plain": [
       "0        Ver noticias en este país es ver 5 o 6 noticia...\n",
       "1        #25 masacres en 2021 en Colombia 🇨🇴 #SOSColomb...\n",
       "2        @angelamrobledo @IvanDuque La #doblemoral y co...\n",
       "3        Corrupción en órganos de control manejados por...\n",
       "4        @confispcol @WRadioColombia @lafm @GustavoBoli...\n",
       "                               ...                        \n",
       "43398    HASTA QUE LA DIGNIDAD SE HAGA COSTUMBRE\\r\\nEst...\n",
       "43399    NO IMPORTA LO QUE HAGAN O DIGAN\\r\\nNo nos vamo...\n",
       "43400    Ya no son 60 días son casi 120 días\\r\\nEl terr...\n",
       "43401    Un dato ahí:\\r\\n\\r\\nEn lo que va del año 2021,...\n",
       "43402    Para q tenga Biden callado sobre la violación ...\n",
       "Name: full_text, Length: 43403, dtype: object"
      ]
     },
     "execution_count": 30,
     "metadata": {},
     "output_type": "execute_result"
    }
   ],
   "source": [
    "data.full_text"
   ]
  },
  {
   "cell_type": "code",
   "execution_count": 14,
   "id": "73a6d7e6",
   "metadata": {
    "scrolled": true
   },
   "outputs": [
    {
     "data": {
      "text/plain": [
       "'Ver noticias en este país es ver 5 o 6 noticias seguidas con asesinatos, masacres y guerra en diferentes partes del país ! \\r\\nUn país que ruega paz ... #SOSColombia #Colombia'"
      ]
     },
     "execution_count": 14,
     "metadata": {},
     "output_type": "execute_result"
    }
   ],
   "source": [
    "data.full_text[0]"
   ]
  },
  {
   "cell_type": "markdown",
   "id": "3ab3a33b",
   "metadata": {},
   "source": [
    "# Detecting Language \n",
    " "
   ]
  },
  {
   "cell_type": "code",
   "execution_count": 15,
   "id": "51b6f076",
   "metadata": {},
   "outputs": [],
   "source": [
    "#Using TextBlob\n",
    "\n",
    "# lang = TextBlob(data.full_text[0])\n",
    "# print(lang.detect_language())\n"
   ]
  },
  {
   "cell_type": "code",
   "execution_count": 16,
   "id": "adda8bb3",
   "metadata": {},
   "outputs": [
    {
     "name": "stdout",
     "output_type": "stream",
     "text": [
      "[es:0.9999955795870841]\n",
      "es\n"
     ]
    }
   ],
   "source": [
    "#Using langdetect\n",
    "\n",
    "print(detect_langs(data.full_text[0]))\n",
    "print(detect(data.full_text[0]))"
   ]
  },
  {
   "cell_type": "code",
   "execution_count": 17,
   "id": "a9a8ed3e",
   "metadata": {},
   "outputs": [
    {
     "data": {
      "text/plain": [
       "'\\n#Using spacy\\n\\n!python -m spacy download en_core_web_trf\\n!pip install spacy-transformers\\nnlp = spacy.load(\"en_core_web_trf\")\\nnlp.add_pipe(LanguageDetector(), name=\\'language_detector\\', last=True)\\ndoc = nlp(text)\\nreturn doc._.language\\n\\n#Using pycld2\\n\\n!pip install pycld2\\nimport pycld2 as cld2\\n_, _, _, detected_language = cld2.detect(data.full_text[0],  returnVectors=True)\\nprint(detected_language)\\'   \\n\\n'"
      ]
     },
     "execution_count": 17,
     "metadata": {},
     "output_type": "execute_result"
    }
   ],
   "source": [
    "# Needs some fix \n",
    "'''\n",
    "#Using spacy\n",
    "\n",
    "!python -m spacy download en_core_web_trf\n",
    "!pip install spacy-transformers\n",
    "nlp = spacy.load(\"en_core_web_trf\")\n",
    "nlp.add_pipe(LanguageDetector(), name='language_detector', last=True)\n",
    "doc = nlp(text)\n",
    "return doc._.language\n",
    "\n",
    "#Using pycld2\n",
    "\n",
    "!pip install pycld2\n",
    "import pycld2 as cld2\n",
    "_, _, _, detected_language = cld2.detect(data.full_text[0],  returnVectors=True)\n",
    "print(detected_language)'   \n",
    "\n",
    "''' "
   ]
  },
  {
   "cell_type": "markdown",
   "id": "f63c2e17",
   "metadata": {},
   "source": [
    "Helper Functions"
   ]
  },
  {
   "cell_type": "code",
   "execution_count": 18,
   "id": "ee5dbc0f",
   "metadata": {
    "collapsed": true
   },
   "outputs": [
    {
     "name": "stdout",
     "output_type": "stream",
     "text": [
      "Collecting es-core-news-md==3.1.0\n",
      "  Downloading https://github.com/explosion/spacy-models/releases/download/es_core_news_md-3.1.0/es_core_news_md-3.1.0-py3-none-any.whl (42.7 MB)\n",
      "\u001b[K     |█████████████████████▍          | 28.5 MB 3.6 MB/s eta 0:00:04^C\n",
      "\n",
      "\u001b[31mERROR: Operation cancelled by user\u001b[0m\n",
      "\u001b[?25h\n",
      "Aborted!\n"
     ]
    }
   ],
   "source": [
    "!python -m spacy download es_core_news_md"
   ]
  },
  {
   "cell_type": "code",
   "execution_count": 6,
   "id": "177b3243",
   "metadata": {},
   "outputs": [],
   "source": [
    "import spacy\n",
    "nlp = spacy.load('es_core_news_md')"
   ]
  },
  {
   "cell_type": "code",
   "execution_count": 19,
   "id": "bfc7c499",
   "metadata": {},
   "outputs": [],
   "source": [
    "def language_detect(text):\n",
    "    ##Using langdetect\n",
    "    detect(text)\n",
    "#     print('lang')\n",
    "\n",
    "def lower_case_conversion(text):\n",
    "#     print('lower')\n",
    "    \n",
    "    return text.lower()\n",
    "\n",
    "\n",
    "def removing_html_tag(text):\n",
    "#     print('html')\n",
    "    clean_text = re.compile('<.*?>')\n",
    "    return re.sub(clean_text,'',text)\n",
    "\n",
    "\n",
    "def removing_urls(text):\n",
    "#     print('url')\n",
    "    return re.sub(r'https?://\\S+|www\\.\\S+','',text)\n",
    "\n",
    "def spelling_correction_en(text):\n",
    "#     print('spell')\n",
    "#     spell = Speller(lang = 'en')\n",
    "    return spell(text)\n",
    "\n",
    "def accented_to_ascii(text):\n",
    "#     print('accented')\n",
    "    return unidecode.unidecode(text)\n",
    "\n",
    "def short_to_original(text):\n",
    "#     print('short')\n",
    "    #replace the slang word with meaning\n",
    "    \n",
    "    '''\n",
    "    f = open(slang_file_path, 'r')\n",
    "    slang_dict = {}\n",
    "    for line in f:\n",
    "        k, v = line.strip().split('=')\n",
    "        slang_dict[k.strip()] = v.strip()\n",
    "\n",
    "    f.close()\n",
    "    '''\n",
    "    text_tokens=text.split()\n",
    "    for i,word in enumerate(text_tokens):\n",
    "        if word in slang_dict.keys():\n",
    "            text_tokens[i]=slang_dict[word]\n",
    "\n",
    "    text_new=\" \".join(text_tokens)\n",
    "\n",
    "    return text_new\n",
    "\n",
    "def standardizing(text):\n",
    "#     print('standard')\n",
    "    #One letter in a word should not be present more than twice in continuation\n",
    "    return ''.join(''.join(s)[:2] for _, s in itertools.groupby(text))\n",
    "\n",
    "\n",
    "def contractions_text(text):\n",
    "#     print('contractions')\n",
    "    expanded_words = []    \n",
    "    for word in text.split():\n",
    "      # using contractions.fix to expand the shortened words\n",
    "      expanded_words.append(contractions.fix(word))   \n",
    "\n",
    "    return ' '.join(expanded_words)\n",
    "\n",
    "def stemming(text):\n",
    "    return [stemmer.stem(token) for token in text.split()]\n",
    "    \n",
    "\n",
    "def lemmatization(text):\n",
    "    return [lemmatizer.lemmatize(token) for token in text.split()]\n",
    "\n",
    "def spanish(text):\n",
    "    return \" \".join(w for w  in nltk.wordpunct_tokenize(text) \\\n",
    "         if w.lower() not in words or not w.isalpha())\n",
    "    \n",
    "def extract_emojis(text):\n",
    "#     print('extract emoji')\n",
    "    return [''.join(c for c in text if c in emoji.UNICODE_EMOJI['en'])]\n",
    "\n",
    "def extract_emoticons(text):\n",
    "#     print('emoticons')\n",
    "    \n",
    "    return emot_obj.emoticons(text)['value']\n",
    "\n",
    "\n",
    "def remove_punctuation(text):\n",
    "#     print('punc')\n",
    "    return text.translate(str.maketrans('', '', punctuation))\n",
    "\n",
    "def remove_emojis(text):\n",
    "#     print('emoji')\n",
    "    return ''.join(c for c in text if c not in emoji.UNICODE_EMOJI['en'])\n",
    "\n",
    "def remove_stopwords(text):\n",
    "#     print('stop')\n",
    "#     nltk.download('stopwords')\n",
    "    stop = set(stopwords.words('spanish'))\n",
    "    return ' '.join([word for word in text.split() if word.lower() not in stop])\n",
    "\n",
    "    \n",
    "def remove_extra_spaces(text):\n",
    "#     print('space')\n",
    "    space_pattern = r'\\s+'\n",
    "    without_space = re.sub(pattern=space_pattern, repl=\" \", string=text)\n",
    "    return without_space\n",
    "\n",
    "def remove_single_char(text):\n",
    "#     print('single')\n",
    "    single_char_pattern = r'\\s+[a-zA-Z]\\s+'\n",
    "    without_sc = re.sub(pattern=single_char_pattern, repl=\" \", string=text)\n",
    "    return without_sc\n",
    "    \n",
    "def twitter_preprocessed_date(text):\n",
    "    return datetime.strptime(text.split('T')[0], \"%Y-%m-%d\").date()\n",
    "\n",
    "def remove_mention_text(text):\n",
    "#     print('mention')\n",
    "    mention_pattern = r'@\\S+'\n",
    "    return re.sub(pattern=mention_pattern, repl=' ', string=text)\n",
    "    \n",
    "def remove_digits(text):\n",
    "#     print('digit')\n",
    "    digits = r'[0-9]'\n",
    "    return re.sub(pattern=digits, repl=' ', string=text)\n",
    "    "
   ]
  },
  {
   "cell_type": "code",
   "execution_count": 20,
   "id": "c7f492b7",
   "metadata": {},
   "outputs": [],
   "source": [
    "    \n",
    "def spanish_preprocessing(text, func_list):\n",
    "    \n",
    "    return reduce(lambda o, func: func(o), func_list, text)"
   ]
  },
  {
   "cell_type": "code",
   "execution_count": 21,
   "id": "336beb6c",
   "metadata": {},
   "outputs": [],
   "source": [
    "\n",
    "\n",
    "preprocessed_data = data.copy()\n",
    "\n",
    "## Storing emoticons and emojis separately\n",
    "\n",
    "preprocessed_data['emoji_list'] = preprocessed_data['full_text'].apply(lambda x: extract_emojis(x))\n",
    "                                                                       \n",
    "preprocessed_data['emoticons_list'] = preprocessed_data['full_text'].apply(lambda x: extract_emoticons(removing_urls(x)))\n",
    "\n",
    "preprocessed_data['preprocessed_created_at'] = preprocessed_data['created_at'].apply(lambda x: twitter_preprocessed_date(x))\n"
   ]
  },
  {
   "cell_type": "code",
   "execution_count": 34,
   "id": "3d85f29a",
   "metadata": {
    "scrolled": true
   },
   "outputs": [
    {
     "name": "stdout",
     "output_type": "stream",
     "text": [
      "[\"['']\" \"['🐷']\" \"['🌎🌍🌍🐷👇👇']\" \"['🌍']\" \"['📌']\" \"['🐷🌎']\" \"['🐷🐷👇👇']\"\n",
      " \"['🐷🐷😭😭']\" \"['🐷👇👇👇']\" \"['🐷🐷👇🐷👇👇👇']\" \"['🌎🐷👇']\" \"['🎶🎶🎶🎵🙈🙉🙊']\" \"['✊🏼']\"\n",
      " \"['‼']\" \"['🍑']\" \"['🙏']\" \"['😑']\" \"['🤦🏽♂🤦🏽♂🤦🏽♂']\" \"['➕']\" \"['🤣🤣🤣🤣']\"\n",
      " \"['🤣']\" \"['😞']\" \"['🆘🖕💩']\" \"['😔']\" \"['😒😒🤫🤔😒😒😎😎😎✊✊✊']\" \"['💩']\"\n",
      " \"['✊✊✊✊😎😎😎👏👏👏💖💖🥺🥺']\" \"['👁👏🏽👇🏽']\" \"['🤮🤮']\" \"['🤔😘']\" \"['🤔🤣😂']\" \"['💪']\"\n",
      " \"['⭕']\" \"['🧵🤫']\" \"['✊✊✊']\" \"['🤣🤣🤣']\" \"['🌎']\" \"['😁😁😁❤❤']\" \"['☠🎭']\" \"['😢']\"\n",
      " \"['😭🙏']\" \"['😫']\" \"['😂😂']\" \"['🔗']\" \"['⬇']\" \"['👇']\" \"['🔥']\" \"['🤝']\"\n",
      " \"['😂😂😂']\" \"['💪✊']\" \"['😂😂💪']\" \"['❓']\" \"['🔫🤬']\" \"['▶']\" \"['👇👇👇👇👇👇']\"\n",
      " \"['🤦♀💔']\" \"['💯💪']\" \"['💪😍']\" \"['🤮🤮🤮']\" \"['😳😐']\" \"['🤬😡']\" \"['💩💩']\"\n",
      " \"['😓😠😫']\" \"['🤮']\" \"['🗣']\" \"['✌💛💙❤']\" \"['🖐🏾🖐🏻']\" \"['😪✊🏼✊✊🏽✊🏾✊🏻✊🏿']\"\n",
      " \"['🤮💩']\" \"['☠']\" \"['👉']\" \"['✨💋']\" \"['🤔🙄🤦🏻♀😡']\" \"['🤌🏻🤦🏼♂']\" \"['📢📢']\"\n",
      " \"['👇👇']\" \"['👇👇👇']\" \"['💩💪']\" \"['🎥']\" \"['💔😪🙏🏽🌿']\" \"['🆘']\" \"['🙄🙏🙏']\" \"['💔']\"\n",
      " \"['😡😡😡😭😭😭😓😓😓😓']\" \"['😪']\" \"['😔💔']\" \"['🤬']\" \"['🎗💛💙🖤']\" \"['🔴']\" \"['🌎🐷']\"\n",
      " \"['🐷🐷👇']\" \"['🐷😭😭👇👇👇👇👇👇👇👇👇']\" \"['🐷👇']\" \"['😡']\" \"['💪💪💪🐷']\" \"['🐷👇👇👇👇']\"\n",
      " \"['😠']\" \"['💀🦴']\" \"['☝']\" \"['✊✊🙏😱😱✊😡😡']\" \"['📍']\" \"['⚖🌏🤗']\" \"['👇🏼']\"\n",
      " \"['🔴🔥']\" \"['👉📻🔥🔥🎙']\" \"['😭😭😭😭']\" \"['✊🏾🔥']\" \"['🖕🏽🖕🏽']\" \"['🙏🙏']\" \"['😒']\"\n",
      " \"['⭕👁👇🏽❗']\" \"['🤡👊🏻']\" \"['😎💪🏾💔']\" \"['🆘🆘']\" \"['🙏🙏🙏🙏🙏🙏']\" \"['👉🏻']\"\n",
      " \"['🐷👇👇👇👇👇👇👇👇']\" \"['🌎🙏🙏🙏🙏🐷']\" \"['🏴☠']\" \"['🐷😭😭']\" \"['📣']\" \"['🔥✊🏼']\" \"['⚖']\"\n",
      " \"['⚠⚠']\" \"['🆘👉']\" \"['💔💔']\" \"['🤣🤡🐀😎']\"]\n"
     ]
    }
   ],
   "source": [
    "print(preprocessed_data['emoji_list'].astype(str).unique())"
   ]
  },
  {
   "cell_type": "code",
   "execution_count": 35,
   "id": "aff880a1",
   "metadata": {},
   "outputs": [
    {
     "name": "stdout",
     "output_type": "stream",
     "text": [
      "['[]' \"[':#']\" \"[':P']\" \"[':L']\" \"['oO']\" \"['XP']\" \"['XD']\" \"['D:']\"\n",
      " \"[':3']\" \"[':@']\"]\n"
     ]
    }
   ],
   "source": [
    "print(preprocessed_data['emoticons_list'].astype(str).unique())"
   ]
  },
  {
   "cell_type": "code",
   "execution_count": 23,
   "id": "0d2ca37e",
   "metadata": {
    "scrolled": true
   },
   "outputs": [
    {
     "data": {
      "application/vnd.jupyter.widget-view+json": {
       "model_id": "297210bd8e95455ab646cc18e2aef778",
       "version_major": 2,
       "version_minor": 0
      },
      "text/plain": [
       "HBox(children=(HTML(value=''), FloatProgress(value=0.0, max=2.0), HTML(value='')))"
      ]
     },
     "metadata": {},
     "output_type": "display_data"
    },
    {
     "name": "stdout",
     "output_type": "stream",
     "text": [
      "\n"
     ]
    },
    {
     "data": {
      "text/plain": [
       "0    [ver, notici, pais, ver, notici, segu, asesina...\n",
       "1                 [masacr, colombi, soscolombi, dolor]\n",
       "Name: full_text, dtype: object"
      ]
     },
     "execution_count": 23,
     "metadata": {},
     "output_type": "execute_result"
    }
   ],
   "source": [
    "##Stemming\n",
    "spanish_func_list_stem  = [short_to_original, contractions_text, \n",
    "             standardizing, lower_case_conversion, \n",
    "             remove_emojis,remove_mention_text, removing_html_tag, \n",
    "             removing_urls, remove_punctuation, remove_extra_spaces,\n",
    "             remove_digits, remove_single_char,lower_case_conversion, accented_to_ascii,\n",
    "                      remove_stopwords,\n",
    "                    stemming] \n",
    "preprocessed_data['full_text'][:2].progress_apply(lambda x: spanish_preprocessing(x, spanish_func_list_stem))"
   ]
  },
  {
   "cell_type": "code",
   "execution_count": 25,
   "id": "f1a581a5",
   "metadata": {},
   "outputs": [
    {
     "data": {
      "application/vnd.jupyter.widget-view+json": {
       "model_id": "9372e81090a5407699755c14f2ce62b3",
       "version_major": 2,
       "version_minor": 0
      },
      "text/plain": [
       "HBox(children=(HTML(value=''), FloatProgress(value=0.0, max=43403.0), HTML(value='')))"
      ]
     },
     "metadata": {},
     "output_type": "display_data"
    },
    {
     "name": "stdout",
     "output_type": "stream",
     "text": [
      "\n"
     ]
    }
   ],
   "source": [
    "\n",
    "\n",
    "preprocessed_data['preprocessed_data'] = preprocessed_data['full_text'].progress_apply(lambda x: spanish_preprocessing(x, spanish_func_list_stem))"
   ]
  },
  {
   "cell_type": "code",
   "execution_count": 26,
   "id": "d9611218",
   "metadata": {},
   "outputs": [
    {
     "data": {
      "text/html": [
       "<div>\n",
       "<style scoped>\n",
       "    .dataframe tbody tr th:only-of-type {\n",
       "        vertical-align: middle;\n",
       "    }\n",
       "\n",
       "    .dataframe tbody tr th {\n",
       "        vertical-align: top;\n",
       "    }\n",
       "\n",
       "    .dataframe thead th {\n",
       "        text-align: right;\n",
       "    }\n",
       "</style>\n",
       "<table border=\"1\" class=\"dataframe\">\n",
       "  <thead>\n",
       "    <tr style=\"text-align: right;\">\n",
       "      <th></th>\n",
       "      <th>created_at</th>\n",
       "      <th>id_str</th>\n",
       "      <th>conversation_id_str</th>\n",
       "      <th>full_text</th>\n",
       "      <th>lang</th>\n",
       "      <th>favorited</th>\n",
       "      <th>retweeted</th>\n",
       "      <th>retweet_count</th>\n",
       "      <th>favorite_count</th>\n",
       "      <th>reply_count</th>\n",
       "      <th>...</th>\n",
       "      <th>in_reply_to_status_id_str</th>\n",
       "      <th>in_reply_to_user_id_str</th>\n",
       "      <th>hashtags</th>\n",
       "      <th>mentions</th>\n",
       "      <th>urls</th>\n",
       "      <th>media</th>\n",
       "      <th>emoji_list</th>\n",
       "      <th>emoticons_list</th>\n",
       "      <th>preprocessed_created_at</th>\n",
       "      <th>preprocessed_data</th>\n",
       "    </tr>\n",
       "  </thead>\n",
       "  <tbody>\n",
       "    <tr>\n",
       "      <th>0</th>\n",
       "      <td>2021-04-04T17:47:58+00:00</td>\n",
       "      <td>1378766306112069636</td>\n",
       "      <td>1378766306112069636</td>\n",
       "      <td>Ver noticias en este país es ver 5 o 6 noticia...</td>\n",
       "      <td>es</td>\n",
       "      <td>False</td>\n",
       "      <td>False</td>\n",
       "      <td>1</td>\n",
       "      <td>2</td>\n",
       "      <td>0</td>\n",
       "      <td>...</td>\n",
       "      <td>NaN</td>\n",
       "      <td>NaN</td>\n",
       "      <td>#SOSColombia , #Colombia</td>\n",
       "      <td>NaN</td>\n",
       "      <td>NaN</td>\n",
       "      <td>[]</td>\n",
       "      <td>[]</td>\n",
       "      <td>[]</td>\n",
       "      <td>2021-04-04</td>\n",
       "      <td>[ver, notici, pais, ver, notici, segu, asesina...</td>\n",
       "    </tr>\n",
       "    <tr>\n",
       "      <th>1</th>\n",
       "      <td>2021-04-04T16:29:41+00:00</td>\n",
       "      <td>1378746605764026372</td>\n",
       "      <td>1378746605764026372</td>\n",
       "      <td>#25 masacres en 2021 en Colombia 🇨🇴 #SOSColomb...</td>\n",
       "      <td>es</td>\n",
       "      <td>False</td>\n",
       "      <td>False</td>\n",
       "      <td>0</td>\n",
       "      <td>0</td>\n",
       "      <td>0</td>\n",
       "      <td>...</td>\n",
       "      <td>NaN</td>\n",
       "      <td>NaN</td>\n",
       "      <td>#SOSColombia</td>\n",
       "      <td>NaN</td>\n",
       "      <td>NaN</td>\n",
       "      <td>[]</td>\n",
       "      <td>[]</td>\n",
       "      <td>[]</td>\n",
       "      <td>2021-04-04</td>\n",
       "      <td>[masacr, colombi, soscolombi, dolor]</td>\n",
       "    </tr>\n",
       "    <tr>\n",
       "      <th>2</th>\n",
       "      <td>2021-04-04T15:56:48+00:00</td>\n",
       "      <td>1378738332021231618</td>\n",
       "      <td>1378733935430139907</td>\n",
       "      <td>@angelamrobledo @IvanDuque La #doblemoral y co...</td>\n",
       "      <td>es</td>\n",
       "      <td>False</td>\n",
       "      <td>False</td>\n",
       "      <td>0</td>\n",
       "      <td>1</td>\n",
       "      <td>0</td>\n",
       "      <td>...</td>\n",
       "      <td>1.378734e+18</td>\n",
       "      <td>1.657483e+08</td>\n",
       "      <td>#doblemoral , #SOSColombia</td>\n",
       "      <td>angelamrobledo , IvanDuque</td>\n",
       "      <td>NaN</td>\n",
       "      <td>[{\"url\": \"https://pbs.twimg.com/media/EyJDNJ9W...</td>\n",
       "      <td>[]</td>\n",
       "      <td>[]</td>\n",
       "      <td>2021-04-04</td>\n",
       "      <td>[doblemoral, compr, concienci, har, nuev, col,...</td>\n",
       "    </tr>\n",
       "    <tr>\n",
       "      <th>3</th>\n",
       "      <td>2021-04-04T15:39:36+00:00</td>\n",
       "      <td>1378734004057354249</td>\n",
       "      <td>1378734004057354249</td>\n",
       "      <td>Corrupción en órganos de control manejados por...</td>\n",
       "      <td>es</td>\n",
       "      <td>False</td>\n",
       "      <td>False</td>\n",
       "      <td>2</td>\n",
       "      <td>1</td>\n",
       "      <td>0</td>\n",
       "      <td>...</td>\n",
       "      <td>NaN</td>\n",
       "      <td>NaN</td>\n",
       "      <td>#SOSColombia , #SOSColombis , #AntiUribistaSig...</td>\n",
       "      <td>RamiroBejaranoG</td>\n",
       "      <td>https://t.co/MRMC70aXED</td>\n",
       "      <td>[]</td>\n",
       "      <td>[]</td>\n",
       "      <td>[]</td>\n",
       "      <td>2021-04-04</td>\n",
       "      <td>[corrupcion, organ, control, manej, urib, busc...</td>\n",
       "    </tr>\n",
       "    <tr>\n",
       "      <th>4</th>\n",
       "      <td>2021-04-04T15:33:35+00:00</td>\n",
       "      <td>1378732486910488582</td>\n",
       "      <td>1369122514899763201</td>\n",
       "      <td>@confispcol @WRadioColombia @lafm @GustavoBoli...</td>\n",
       "      <td>es</td>\n",
       "      <td>False</td>\n",
       "      <td>False</td>\n",
       "      <td>2</td>\n",
       "      <td>1</td>\n",
       "      <td>0</td>\n",
       "      <td>...</td>\n",
       "      <td>1.369123e+18</td>\n",
       "      <td>1.090272e+18</td>\n",
       "      <td>#SOSColombis , #AntiUribistaSigueAntiUribista ...</td>\n",
       "      <td>confispcol , WRadioColombia , lafm , GustavoBo...</td>\n",
       "      <td>NaN</td>\n",
       "      <td>[]</td>\n",
       "      <td>[]</td>\n",
       "      <td>[]</td>\n",
       "      <td>2021-04-04</td>\n",
       "      <td>[asi, actu, urib, manipul, vot, nefast, propue...</td>\n",
       "    </tr>\n",
       "    <tr>\n",
       "      <th>...</th>\n",
       "      <td>...</td>\n",
       "      <td>...</td>\n",
       "      <td>...</td>\n",
       "      <td>...</td>\n",
       "      <td>...</td>\n",
       "      <td>...</td>\n",
       "      <td>...</td>\n",
       "      <td>...</td>\n",
       "      <td>...</td>\n",
       "      <td>...</td>\n",
       "      <td>...</td>\n",
       "      <td>...</td>\n",
       "      <td>...</td>\n",
       "      <td>...</td>\n",
       "      <td>...</td>\n",
       "      <td>...</td>\n",
       "      <td>...</td>\n",
       "      <td>...</td>\n",
       "      <td>...</td>\n",
       "      <td>...</td>\n",
       "      <td>...</td>\n",
       "    </tr>\n",
       "    <tr>\n",
       "      <th>43398</th>\n",
       "      <td>2021-08-23T01:36:07+00:00</td>\n",
       "      <td>1429618420253929473</td>\n",
       "      <td>1429611015919083522</td>\n",
       "      <td>HASTA QUE LA DIGNIDAD SE HAGA COSTUMBRE\\r\\nEst...</td>\n",
       "      <td>es</td>\n",
       "      <td>False</td>\n",
       "      <td>False</td>\n",
       "      <td>4</td>\n",
       "      <td>7</td>\n",
       "      <td>1</td>\n",
       "      <td>...</td>\n",
       "      <td>1.429616e+18</td>\n",
       "      <td>1.140842e+08</td>\n",
       "      <td>#soscolombia , #YoSoy1raLinea , #colombiaendic...</td>\n",
       "      <td>CIDH , MisionONUCol , ONUHumanRights , JMVivan...</td>\n",
       "      <td>NaN</td>\n",
       "      <td>[{\"url\": \"https://pbs.twimg.com/ext_tw_video_t...</td>\n",
       "      <td>[]</td>\n",
       "      <td>[]</td>\n",
       "      <td>2021-08-23</td>\n",
       "      <td>[dignid, hag, costumbr, luch, individual, tod,...</td>\n",
       "    </tr>\n",
       "    <tr>\n",
       "      <th>43399</th>\n",
       "      <td>2021-08-23T01:27:22+00:00</td>\n",
       "      <td>1429616221402673152</td>\n",
       "      <td>1429611015919083522</td>\n",
       "      <td>NO IMPORTA LO QUE HAGAN O DIGAN\\r\\nNo nos vamo...</td>\n",
       "      <td>es</td>\n",
       "      <td>False</td>\n",
       "      <td>False</td>\n",
       "      <td>5</td>\n",
       "      <td>13</td>\n",
       "      <td>1</td>\n",
       "      <td>...</td>\n",
       "      <td>1.429611e+18</td>\n",
       "      <td>1.140842e+08</td>\n",
       "      <td>#soscolombia , #YoSoy1raLinea , #colombiaendic...</td>\n",
       "      <td>CIDH , MisionONUCol , ONUHumanRights , JMVivan...</td>\n",
       "      <td>NaN</td>\n",
       "      <td>[{\"url\": \"https://pbs.twimg.com/ext_tw_video_t...</td>\n",
       "      <td>[]</td>\n",
       "      <td>[]</td>\n",
       "      <td>2021-08-23</td>\n",
       "      <td>[import, hag, dig, vam, deten, recuper, colomb...</td>\n",
       "    </tr>\n",
       "    <tr>\n",
       "      <th>43400</th>\n",
       "      <td>2021-08-23T01:06:41+00:00</td>\n",
       "      <td>1429611015919083522</td>\n",
       "      <td>1429611015919083522</td>\n",
       "      <td>Ya no son 60 días son casi 120 días\\r\\nEl terr...</td>\n",
       "      <td>es</td>\n",
       "      <td>False</td>\n",
       "      <td>False</td>\n",
       "      <td>80</td>\n",
       "      <td>93</td>\n",
       "      <td>4</td>\n",
       "      <td>...</td>\n",
       "      <td>NaN</td>\n",
       "      <td>NaN</td>\n",
       "      <td>#soscolombia , #YoSoy1raLinea , #colombiaendic...</td>\n",
       "      <td>CIDH , MisionONUCol , UEenColombia , ONUHumanR...</td>\n",
       "      <td>NaN</td>\n",
       "      <td>[{\"url\": \"https://pbs.twimg.com/ext_tw_video_t...</td>\n",
       "      <td>[]</td>\n",
       "      <td>[]</td>\n",
       "      <td>2021-08-23</td>\n",
       "      <td>[dias, casi, dias, terror, detien, segund, dia...</td>\n",
       "    </tr>\n",
       "    <tr>\n",
       "      <th>43401</th>\n",
       "      <td>2021-08-23T01:05:14+00:00</td>\n",
       "      <td>1429610648011481093</td>\n",
       "      <td>1429610648011481093</td>\n",
       "      <td>Un dato ahí:\\r\\n\\r\\nEn lo que va del año 2021,...</td>\n",
       "      <td>es</td>\n",
       "      <td>False</td>\n",
       "      <td>False</td>\n",
       "      <td>30</td>\n",
       "      <td>49</td>\n",
       "      <td>0</td>\n",
       "      <td>...</td>\n",
       "      <td>NaN</td>\n",
       "      <td>NaN</td>\n",
       "      <td>#SOSColombia</td>\n",
       "      <td>NaN</td>\n",
       "      <td>NaN</td>\n",
       "      <td>[]</td>\n",
       "      <td>[]</td>\n",
       "      <td>[]</td>\n",
       "      <td>2021-08-23</td>\n",
       "      <td>[dat, ahi, va, ano, colombi, perpetr, masacr, ...</td>\n",
       "    </tr>\n",
       "    <tr>\n",
       "      <th>43402</th>\n",
       "      <td>2021-08-23T00:17:32+00:00</td>\n",
       "      <td>1429598644043386880</td>\n",
       "      <td>1429598644043386880</td>\n",
       "      <td>Para q tenga Biden callado sobre la violación ...</td>\n",
       "      <td>es</td>\n",
       "      <td>False</td>\n",
       "      <td>False</td>\n",
       "      <td>0</td>\n",
       "      <td>0</td>\n",
       "      <td>0</td>\n",
       "      <td>...</td>\n",
       "      <td>NaN</td>\n",
       "      <td>NaN</td>\n",
       "      <td>#SOSColombia</td>\n",
       "      <td>NaN</td>\n",
       "      <td>https://t.co/DB7iNnBXE7</td>\n",
       "      <td>[]</td>\n",
       "      <td>[]</td>\n",
       "      <td>[]</td>\n",
       "      <td>2021-08-23</td>\n",
       "      <td>[bid, call, violacion, derech, human, colombi,...</td>\n",
       "    </tr>\n",
       "  </tbody>\n",
       "</table>\n",
       "<p>43403 rows × 28 columns</p>\n",
       "</div>"
      ],
      "text/plain": [
       "                      created_at               id_str  conversation_id_str  \\\n",
       "0      2021-04-04T17:47:58+00:00  1378766306112069636  1378766306112069636   \n",
       "1      2021-04-04T16:29:41+00:00  1378746605764026372  1378746605764026372   \n",
       "2      2021-04-04T15:56:48+00:00  1378738332021231618  1378733935430139907   \n",
       "3      2021-04-04T15:39:36+00:00  1378734004057354249  1378734004057354249   \n",
       "4      2021-04-04T15:33:35+00:00  1378732486910488582  1369122514899763201   \n",
       "...                          ...                  ...                  ...   \n",
       "43398  2021-08-23T01:36:07+00:00  1429618420253929473  1429611015919083522   \n",
       "43399  2021-08-23T01:27:22+00:00  1429616221402673152  1429611015919083522   \n",
       "43400  2021-08-23T01:06:41+00:00  1429611015919083522  1429611015919083522   \n",
       "43401  2021-08-23T01:05:14+00:00  1429610648011481093  1429610648011481093   \n",
       "43402  2021-08-23T00:17:32+00:00  1429598644043386880  1429598644043386880   \n",
       "\n",
       "                                               full_text lang  favorited  \\\n",
       "0      Ver noticias en este país es ver 5 o 6 noticia...   es      False   \n",
       "1      #25 masacres en 2021 en Colombia 🇨🇴 #SOSColomb...   es      False   \n",
       "2      @angelamrobledo @IvanDuque La #doblemoral y co...   es      False   \n",
       "3      Corrupción en órganos de control manejados por...   es      False   \n",
       "4      @confispcol @WRadioColombia @lafm @GustavoBoli...   es      False   \n",
       "...                                                  ...  ...        ...   \n",
       "43398  HASTA QUE LA DIGNIDAD SE HAGA COSTUMBRE\\r\\nEst...   es      False   \n",
       "43399  NO IMPORTA LO QUE HAGAN O DIGAN\\r\\nNo nos vamo...   es      False   \n",
       "43400  Ya no son 60 días son casi 120 días\\r\\nEl terr...   es      False   \n",
       "43401  Un dato ahí:\\r\\n\\r\\nEn lo que va del año 2021,...   es      False   \n",
       "43402  Para q tenga Biden callado sobre la violación ...   es      False   \n",
       "\n",
       "       retweeted  retweet_count  favorite_count  reply_count  ...  \\\n",
       "0          False              1               2            0  ...   \n",
       "1          False              0               0            0  ...   \n",
       "2          False              0               1            0  ...   \n",
       "3          False              2               1            0  ...   \n",
       "4          False              2               1            0  ...   \n",
       "...          ...            ...             ...          ...  ...   \n",
       "43398      False              4               7            1  ...   \n",
       "43399      False              5              13            1  ...   \n",
       "43400      False             80              93            4  ...   \n",
       "43401      False             30              49            0  ...   \n",
       "43402      False              0               0            0  ...   \n",
       "\n",
       "       in_reply_to_status_id_str  in_reply_to_user_id_str  \\\n",
       "0                            NaN                      NaN   \n",
       "1                            NaN                      NaN   \n",
       "2                   1.378734e+18             1.657483e+08   \n",
       "3                            NaN                      NaN   \n",
       "4                   1.369123e+18             1.090272e+18   \n",
       "...                          ...                      ...   \n",
       "43398               1.429616e+18             1.140842e+08   \n",
       "43399               1.429611e+18             1.140842e+08   \n",
       "43400                        NaN                      NaN   \n",
       "43401                        NaN                      NaN   \n",
       "43402                        NaN                      NaN   \n",
       "\n",
       "                                                hashtags  \\\n",
       "0                               #SOSColombia , #Colombia   \n",
       "1                                           #SOSColombia   \n",
       "2                             #doblemoral , #SOSColombia   \n",
       "3      #SOSColombia , #SOSColombis , #AntiUribistaSig...   \n",
       "4      #SOSColombis , #AntiUribistaSigueAntiUribista ...   \n",
       "...                                                  ...   \n",
       "43398  #soscolombia , #YoSoy1raLinea , #colombiaendic...   \n",
       "43399  #soscolombia , #YoSoy1raLinea , #colombiaendic...   \n",
       "43400  #soscolombia , #YoSoy1raLinea , #colombiaendic...   \n",
       "43401                                       #SOSColombia   \n",
       "43402                                       #SOSColombia   \n",
       "\n",
       "                                                mentions  \\\n",
       "0                                                    NaN   \n",
       "1                                                    NaN   \n",
       "2                             angelamrobledo , IvanDuque   \n",
       "3                                        RamiroBejaranoG   \n",
       "4      confispcol , WRadioColombia , lafm , GustavoBo...   \n",
       "...                                                  ...   \n",
       "43398  CIDH , MisionONUCol , ONUHumanRights , JMVivan...   \n",
       "43399  CIDH , MisionONUCol , ONUHumanRights , JMVivan...   \n",
       "43400  CIDH , MisionONUCol , UEenColombia , ONUHumanR...   \n",
       "43401                                                NaN   \n",
       "43402                                                NaN   \n",
       "\n",
       "                          urls  \\\n",
       "0                          NaN   \n",
       "1                          NaN   \n",
       "2                          NaN   \n",
       "3      https://t.co/MRMC70aXED   \n",
       "4                          NaN   \n",
       "...                        ...   \n",
       "43398                      NaN   \n",
       "43399                      NaN   \n",
       "43400                      NaN   \n",
       "43401                      NaN   \n",
       "43402  https://t.co/DB7iNnBXE7   \n",
       "\n",
       "                                                   media emoji_list  \\\n",
       "0                                                     []         []   \n",
       "1                                                     []         []   \n",
       "2      [{\"url\": \"https://pbs.twimg.com/media/EyJDNJ9W...         []   \n",
       "3                                                     []         []   \n",
       "4                                                     []         []   \n",
       "...                                                  ...        ...   \n",
       "43398  [{\"url\": \"https://pbs.twimg.com/ext_tw_video_t...         []   \n",
       "43399  [{\"url\": \"https://pbs.twimg.com/ext_tw_video_t...         []   \n",
       "43400  [{\"url\": \"https://pbs.twimg.com/ext_tw_video_t...         []   \n",
       "43401                                                 []         []   \n",
       "43402                                                 []         []   \n",
       "\n",
       "       emoticons_list  preprocessed_created_at  \\\n",
       "0                  []               2021-04-04   \n",
       "1                  []               2021-04-04   \n",
       "2                  []               2021-04-04   \n",
       "3                  []               2021-04-04   \n",
       "4                  []               2021-04-04   \n",
       "...               ...                      ...   \n",
       "43398              []               2021-08-23   \n",
       "43399              []               2021-08-23   \n",
       "43400              []               2021-08-23   \n",
       "43401              []               2021-08-23   \n",
       "43402              []               2021-08-23   \n",
       "\n",
       "                                       preprocessed_data  \n",
       "0      [ver, notici, pais, ver, notici, segu, asesina...  \n",
       "1                   [masacr, colombi, soscolombi, dolor]  \n",
       "2      [doblemoral, compr, concienci, har, nuev, col,...  \n",
       "3      [corrupcion, organ, control, manej, urib, busc...  \n",
       "4      [asi, actu, urib, manipul, vot, nefast, propue...  \n",
       "...                                                  ...  \n",
       "43398  [dignid, hag, costumbr, luch, individual, tod,...  \n",
       "43399  [import, hag, dig, vam, deten, recuper, colomb...  \n",
       "43400  [dias, casi, dias, terror, detien, segund, dia...  \n",
       "43401  [dat, ahi, va, ano, colombi, perpetr, masacr, ...  \n",
       "43402  [bid, call, violacion, derech, human, colombi,...  \n",
       "\n",
       "[43403 rows x 28 columns]"
      ]
     },
     "execution_count": 26,
     "metadata": {},
     "output_type": "execute_result"
    }
   ],
   "source": [
    "preprocessed_data"
   ]
  },
  {
   "cell_type": "code",
   "execution_count": 28,
   "id": "3564306e",
   "metadata": {
    "scrolled": true
   },
   "outputs": [
    {
     "name": "stdout",
     "output_type": "stream",
     "text": [
      "Original Data ---> Ver noticias en este país es ver 5 o 6 noticias seguidas con asesinatos, masacres y guerra en diferentes partes del país ! \r\n",
      "Un país que ruega paz ... #SOSColombia #Colombia\n",
      " \n",
      "\n",
      "Preprocessed Data ---> ['ver', 'notici', 'pais', 'ver', 'notici', 'segu', 'asesinat', 'masacr', 'guerr', 'diferent', 'part', 'pais', 'pais', 'rueg', 'paz', 'soscolombi', 'colombi']\n"
     ]
    }
   ],
   "source": [
    "print(f'Original Data ---> {preprocessed_data.full_text[0]}\\n \\n')\n",
    "print(f'Preprocessed Data ---> {preprocessed_data.preprocessed_data[0]}')"
   ]
  },
  {
   "cell_type": "code",
   "execution_count": 29,
   "id": "16a14bb0",
   "metadata": {
    "scrolled": true
   },
   "outputs": [
    {
     "name": "stdout",
     "output_type": "stream",
     "text": [
      "Original Data ---> #25 masacres en 2021 en Colombia 🇨🇴 #SOSColombia con mucho dolor\n",
      " \n",
      "\n",
      "Preprocessed Data ---> ['masacr', 'colombi', 'soscolombi', 'dolor']\n"
     ]
    }
   ],
   "source": [
    "print(f'Original Data ---> {preprocessed_data.full_text[1]}\\n \\n')\n",
    "print(f'Preprocessed Data ---> {preprocessed_data.preprocessed_data[1]}')"
   ]
  },
  {
   "cell_type": "markdown",
   "id": "95130542",
   "metadata": {},
   "source": [
    "## Preprocessing Multiple Files together "
   ]
  },
  {
   "cell_type": "markdown",
   "id": "b1186b21",
   "metadata": {},
   "source": [
    "Modify files_list based on the name of csv files "
   ]
  },
  {
   "cell_type": "code",
   "execution_count": 36,
   "id": "82803257",
   "metadata": {},
   "outputs": [],
   "source": [
    "files_list = ['VivaElParoNacional_SPANISH_tweets_stweet.csv',\n",
    "              'comitedelparo_SPANISH_tweets_stweet.csv',\n",
    "              'noalareformatributaria _SPANISH_tweets_stweet.csv',\n",
    "              'soscolombia_SPANISH_tweets_stweet.csv',\n",
    "              'soscolombiaendictadura_SPANISH_tweets_stweet.csv',\n",
    "              'soscolombianoduerme_SPANISH_tweets_stweet.csv',\n",
    "              'ColombiaSOS_SPANISH_tweets_stweet.csv'\n",
    "             ]\n"
   ]
  },
  {
   "cell_type": "code",
   "execution_count": 38,
   "id": "c49848b0",
   "metadata": {},
   "outputs": [
    {
     "data": {
      "application/vnd.jupyter.widget-view+json": {
       "model_id": "5e7fdeee71b7413bbb1980187483e8d2",
       "version_major": 2,
       "version_minor": 0
      },
      "text/plain": [
       "HBox(children=(HTML(value=''), FloatProgress(value=0.0, max=3506.0), HTML(value='')))"
      ]
     },
     "metadata": {},
     "output_type": "display_data"
    },
    {
     "name": "stdout",
     "output_type": "stream",
     "text": [
      "\n"
     ]
    },
    {
     "data": {
      "application/vnd.jupyter.widget-view+json": {
       "model_id": "c092200e84b94ca6812618b2e2444510",
       "version_major": 2,
       "version_minor": 0
      },
      "text/plain": [
       "HBox(children=(HTML(value=''), FloatProgress(value=0.0, max=4458.0), HTML(value='')))"
      ]
     },
     "metadata": {},
     "output_type": "display_data"
    },
    {
     "name": "stdout",
     "output_type": "stream",
     "text": [
      "\n"
     ]
    },
    {
     "data": {
      "application/vnd.jupyter.widget-view+json": {
       "model_id": "02e1843a4ac7494cb4741e694a15fa90",
       "version_major": 2,
       "version_minor": 0
      },
      "text/plain": [
       "HBox(children=(HTML(value=''), FloatProgress(value=0.0, max=8249.0), HTML(value='')))"
      ]
     },
     "metadata": {},
     "output_type": "display_data"
    },
    {
     "name": "stdout",
     "output_type": "stream",
     "text": [
      "\n"
     ]
    },
    {
     "data": {
      "application/vnd.jupyter.widget-view+json": {
       "model_id": "090af46563df46cc8490045d20fd5804",
       "version_major": 2,
       "version_minor": 0
      },
      "text/plain": [
       "HBox(children=(HTML(value=''), FloatProgress(value=0.0, max=43403.0), HTML(value='')))"
      ]
     },
     "metadata": {},
     "output_type": "display_data"
    },
    {
     "name": "stdout",
     "output_type": "stream",
     "text": [
      "\n"
     ]
    },
    {
     "data": {
      "application/vnd.jupyter.widget-view+json": {
       "model_id": "2a68b249928b413ba21f55206ef8547d",
       "version_major": 2,
       "version_minor": 0
      },
      "text/plain": [
       "HBox(children=(HTML(value=''), FloatProgress(value=0.0, max=16592.0), HTML(value='')))"
      ]
     },
     "metadata": {},
     "output_type": "display_data"
    },
    {
     "name": "stdout",
     "output_type": "stream",
     "text": [
      "\n"
     ]
    },
    {
     "data": {
      "application/vnd.jupyter.widget-view+json": {
       "model_id": "74710d4d030c49dbbf2c64938736e894",
       "version_major": 2,
       "version_minor": 0
      },
      "text/plain": [
       "HBox(children=(HTML(value=''), FloatProgress(value=0.0, max=4078.0), HTML(value='')))"
      ]
     },
     "metadata": {},
     "output_type": "display_data"
    },
    {
     "name": "stdout",
     "output_type": "stream",
     "text": [
      "\n"
     ]
    },
    {
     "data": {
      "application/vnd.jupyter.widget-view+json": {
       "model_id": "bd017ee6bdcc4125b1cf74d23d604842",
       "version_major": 2,
       "version_minor": 0
      },
      "text/plain": [
       "HBox(children=(HTML(value=''), FloatProgress(value=0.0, max=28473.0), HTML(value='')))"
      ]
     },
     "metadata": {},
     "output_type": "display_data"
    },
    {
     "name": "stdout",
     "output_type": "stream",
     "text": [
      "\n"
     ]
    }
   ],
   "source": [
    "#Checking if columns are similar\n",
    "for file in files_list:\n",
    "    data = pd.read_csv(folder_path/file)\n",
    "    preprocessed_data = data.copy()\n",
    "\n",
    "    ## Storing emoticons and emojis separately\n",
    "\n",
    "    preprocessed_data['emoji_list'] = preprocessed_data['full_text'].apply(lambda x: extract_emojis(x))\n",
    "\n",
    "    preprocessed_data['emoticons_list'] = preprocessed_data['full_text'].apply(lambda x: extract_emoticons(x))\n",
    "\n",
    "    preprocessed_data['preprocessed_created_at'] = preprocessed_data['created_at'].apply(lambda x: twitter_preprocessed_date(x))\n",
    "\n",
    "    preprocessed_data['preprocessed_data'] = preprocessed_data['full_text'].progress_apply(lambda x: spanish_preprocessing(x, spanish_func_list_stem))\n",
    "\n",
    "    preprocessed_data.to_csv(output_folder_path/file)"
   ]
  },
  {
   "cell_type": "code",
   "execution_count": null,
   "id": "81df039f",
   "metadata": {},
   "outputs": [],
   "source": []
  }
 ],
 "metadata": {
  "kernelspec": {
   "display_name": "Python 3",
   "language": "python",
   "name": "python3"
  },
  "language_info": {
   "codemirror_mode": {
    "name": "ipython",
    "version": 3
   },
   "file_extension": ".py",
   "mimetype": "text/x-python",
   "name": "python",
   "nbconvert_exporter": "python",
   "pygments_lexer": "ipython3",
   "version": "3.9.1"
  }
 },
 "nbformat": 4,
 "nbformat_minor": 5
}
