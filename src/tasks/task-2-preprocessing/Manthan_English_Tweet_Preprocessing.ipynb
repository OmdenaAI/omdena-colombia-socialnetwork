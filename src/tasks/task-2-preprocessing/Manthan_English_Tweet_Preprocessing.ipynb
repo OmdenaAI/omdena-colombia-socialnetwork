{
 "cells": [
  {
   "cell_type": "code",
   "execution_count": 98,
   "id": "63ef1caa",
   "metadata": {},
   "outputs": [
    {
     "name": "stderr",
     "output_type": "stream",
     "text": [
      "[nltk_data] Downloading package wordnet to\n",
      "[nltk_data]     /Users/manthanfursule/nltk_data...\n",
      "[nltk_data]   Package wordnet is already up-to-date!\n"
     ]
    },
    {
     "data": {
      "text/plain": [
       "True"
      ]
     },
     "execution_count": 98,
     "metadata": {},
     "output_type": "execute_result"
    }
   ],
   "source": [
    "nltk.download('wordnet')"
   ]
  },
  {
   "cell_type": "code",
   "execution_count": 99,
   "id": "774a2120",
   "metadata": {},
   "outputs": [
    {
     "name": "stderr",
     "output_type": "stream",
     "text": [
      "[nltk_data] Downloading package averaged_perceptron_tagger to\n",
      "[nltk_data]     /Users/manthanfursule/nltk_data...\n",
      "[nltk_data]   Package averaged_perceptron_tagger is already up-to-\n",
      "[nltk_data]       date!\n"
     ]
    },
    {
     "data": {
      "text/plain": [
       "True"
      ]
     },
     "execution_count": 99,
     "metadata": {},
     "output_type": "execute_result"
    }
   ],
   "source": [
    "nltk.download('averaged_perceptron_tagger')"
   ]
  },
  {
   "cell_type": "code",
   "execution_count": 100,
   "id": "5239126f",
   "metadata": {},
   "outputs": [
    {
     "name": "stderr",
     "output_type": "stream",
     "text": [
      "[nltk_data] Downloading package stopwords to\n",
      "[nltk_data]     /Users/manthanfursule/nltk_data...\n",
      "[nltk_data]   Package stopwords is already up-to-date!\n"
     ]
    }
   ],
   "source": [
    "nltk.download('stopwords')\n",
    "stopwords_english = stopwords.words('english')"
   ]
  },
  {
   "cell_type": "code",
   "execution_count": 101,
   "id": "f55141d8",
   "metadata": {},
   "outputs": [],
   "source": [
    "import pandas as pd\n",
    "import re\n",
    "import nltk\n",
    "from nltk.corpus import stopwords \n",
    "from nltk.stem import PorterStemmer\n",
    "from nltk.tokenize import TweetTokenizer  \n",
    "import string\n",
    "import contractions\n",
    "import emoji\n",
    "from nltk.stem import WordNetLemmatizer \n",
    "from datetime import datetime\n",
    "import emot\n",
    "from nltk.corpus import wordnet"
   ]
  },
  {
   "cell_type": "code",
   "execution_count": 102,
   "id": "a1497afd",
   "metadata": {},
   "outputs": [],
   "source": [
    "lemmatizer = WordNetLemmatizer()"
   ]
  },
  {
   "cell_type": "code",
   "execution_count": 103,
   "id": "315651f4",
   "metadata": {},
   "outputs": [],
   "source": [
    "#stemmer = PorterStemmer() "
   ]
  },
  {
   "cell_type": "code",
   "execution_count": 104,
   "id": "80517993",
   "metadata": {},
   "outputs": [],
   "source": [
    "tokenizer = TweetTokenizer(preserve_case=False, \n",
    "                           strip_handles=True,\n",
    "                           reduce_len=True)"
   ]
  },
  {
   "cell_type": "code",
   "execution_count": 105,
   "id": "3413414d",
   "metadata": {},
   "outputs": [],
   "source": [
    "emot_obj = emot.core.emot()"
   ]
  },
  {
   "cell_type": "code",
   "execution_count": 106,
   "id": "5020be52",
   "metadata": {},
   "outputs": [],
   "source": [
    "data = pd.read_csv(\"Twitter/1Mayo_ENGLISH_tweets_stweet.csv\")"
   ]
  },
  {
   "cell_type": "code",
   "execution_count": 107,
   "id": "9d72cafa",
   "metadata": {},
   "outputs": [
    {
     "data": {
      "text/plain": [
       "(4502, 24)"
      ]
     },
     "execution_count": 107,
     "metadata": {},
     "output_type": "execute_result"
    }
   ],
   "source": [
    "data.shape"
   ]
  },
  {
   "cell_type": "code",
   "execution_count": 108,
   "id": "ccb8759f",
   "metadata": {},
   "outputs": [
    {
     "data": {
      "text/plain": [
       "\"\\ndata = data.drop(['id_str', 'conversation_id_str', 'lang', 'favorite_count',\\n       'reply_count', 'quote_count', 'quoted_status_id_str',\\n       'quoted_status_short_url', 'quoted_status_expand_url', 'user_id_str',\\n       'user_name', 'user_full_name', 'user_verified',\\n       'in_reply_to_status_id_str', 'in_reply_to_user_id_str',\\n       'mentions', 'urls', 'media'],axis = 1)\\n\""
      ]
     },
     "execution_count": 108,
     "metadata": {},
     "output_type": "execute_result"
    }
   ],
   "source": [
    "'''\n",
    "data = data.drop(['id_str', 'conversation_id_str', 'lang', 'favorite_count',\n",
    "       'reply_count', 'quote_count', 'quoted_status_id_str',\n",
    "       'quoted_status_short_url', 'quoted_status_expand_url', 'user_id_str',\n",
    "       'user_name', 'user_full_name', 'user_verified',\n",
    "       'in_reply_to_status_id_str', 'in_reply_to_user_id_str',\n",
    "       'mentions', 'urls', 'media'],axis = 1)\n",
    "'''"
   ]
  },
  {
   "cell_type": "code",
   "execution_count": 109,
   "id": "4eba9874",
   "metadata": {},
   "outputs": [],
   "source": [
    "#data = data.dropna(subset = ['full_text'])"
   ]
  },
  {
   "cell_type": "code",
   "execution_count": 110,
   "id": "638ed6a9",
   "metadata": {},
   "outputs": [],
   "source": [
    "#data.isnull().sum()*100/len(data)"
   ]
  },
  {
   "cell_type": "code",
   "execution_count": 111,
   "id": "192ce3d8",
   "metadata": {},
   "outputs": [],
   "source": [
    "data_copy = data.copy()"
   ]
  },
  {
   "cell_type": "code",
   "execution_count": 112,
   "id": "a176bcaa",
   "metadata": {},
   "outputs": [
    {
     "data": {
      "text/html": [
       "<div>\n",
       "<style scoped>\n",
       "    .dataframe tbody tr th:only-of-type {\n",
       "        vertical-align: middle;\n",
       "    }\n",
       "\n",
       "    .dataframe tbody tr th {\n",
       "        vertical-align: top;\n",
       "    }\n",
       "\n",
       "    .dataframe thead th {\n",
       "        text-align: right;\n",
       "    }\n",
       "</style>\n",
       "<table border=\"1\" class=\"dataframe\">\n",
       "  <thead>\n",
       "    <tr style=\"text-align: right;\">\n",
       "      <th></th>\n",
       "      <th>created_at</th>\n",
       "      <th>id_str</th>\n",
       "      <th>conversation_id_str</th>\n",
       "      <th>full_text</th>\n",
       "      <th>lang</th>\n",
       "      <th>favorited</th>\n",
       "      <th>retweeted</th>\n",
       "      <th>retweet_count</th>\n",
       "      <th>favorite_count</th>\n",
       "      <th>reply_count</th>\n",
       "      <th>...</th>\n",
       "      <th>user_id_str</th>\n",
       "      <th>user_name</th>\n",
       "      <th>user_full_name</th>\n",
       "      <th>user_verified</th>\n",
       "      <th>in_reply_to_status_id_str</th>\n",
       "      <th>in_reply_to_user_id_str</th>\n",
       "      <th>hashtags</th>\n",
       "      <th>mentions</th>\n",
       "      <th>urls</th>\n",
       "      <th>media</th>\n",
       "    </tr>\n",
       "  </thead>\n",
       "  <tbody>\n",
       "    <tr>\n",
       "      <th>0</th>\n",
       "      <td>2021-04-23T07:14:36+00:00</td>\n",
       "      <td>1385492282971987968</td>\n",
       "      <td>1385492282971987968</td>\n",
       "      <td>📢Join the seminar aiming at supporting #1May #...</td>\n",
       "      <td>en</td>\n",
       "      <td>False</td>\n",
       "      <td>False</td>\n",
       "      <td>5</td>\n",
       "      <td>4</td>\n",
       "      <td>0</td>\n",
       "      <td>...</td>\n",
       "      <td>1054637281389223936</td>\n",
       "      <td>_EuropeanForum</td>\n",
       "      <td>European Forum</td>\n",
       "      <td>False</td>\n",
       "      <td>NaN</td>\n",
       "      <td>NaN</td>\n",
       "      <td>#1May , #1maggio , #1Mayo</td>\n",
       "      <td>LeftHeinz , Yolanda_Diaz_ , VisentiniLuca , lu...</td>\n",
       "      <td>NaN</td>\n",
       "      <td>[{\"url\": \"https://pbs.twimg.com/media/EzpAFBfX...</td>\n",
       "    </tr>\n",
       "    <tr>\n",
       "      <th>1</th>\n",
       "      <td>2021-04-22T04:12:43+00:00</td>\n",
       "      <td>1385084126307528709</td>\n",
       "      <td>1384884688829943809</td>\n",
       "      <td>@julioacosta1701 @DiazCanelB @AlejandroGilF @r...</td>\n",
       "      <td>es</td>\n",
       "      <td>False</td>\n",
       "      <td>False</td>\n",
       "      <td>7</td>\n",
       "      <td>1</td>\n",
       "      <td>0</td>\n",
       "      <td>...</td>\n",
       "      <td>1210365797702492160</td>\n",
       "      <td>BauzaCuba</td>\n",
       "      <td>Alejandro Rodríguez Bauza</td>\n",
       "      <td>False</td>\n",
       "      <td>1.384885e+18</td>\n",
       "      <td>1.194288e+18</td>\n",
       "      <td>#PrevenirPorLaVida , #PatriaOMuerte , #UnBlock...</td>\n",
       "      <td>julioacosta1701 , DiazCanelB , AlejandroGilF ,...</td>\n",
       "      <td>NaN</td>\n",
       "      <td>[]</td>\n",
       "    </tr>\n",
       "    <tr>\n",
       "      <th>2</th>\n",
       "      <td>2021-04-22T04:12:00+00:00</td>\n",
       "      <td>1385083944001998850</td>\n",
       "      <td>1384803265381031938</td>\n",
       "      <td>@julioacosta1701 @AliRubioGlez @Vicente7397772...</td>\n",
       "      <td>es</td>\n",
       "      <td>False</td>\n",
       "      <td>False</td>\n",
       "      <td>7</td>\n",
       "      <td>1</td>\n",
       "      <td>0</td>\n",
       "      <td>...</td>\n",
       "      <td>1210365797702492160</td>\n",
       "      <td>BauzaCuba</td>\n",
       "      <td>Alejandro Rodríguez Bauza</td>\n",
       "      <td>False</td>\n",
       "      <td>1.384889e+18</td>\n",
       "      <td>1.194288e+18</td>\n",
       "      <td>#PrevenirPorLaVida , #PatriaOMuerte , #UnBlock...</td>\n",
       "      <td>julioacosta1701 , AliRubioGlez , Vicente739777...</td>\n",
       "      <td>NaN</td>\n",
       "      <td>[]</td>\n",
       "    </tr>\n",
       "    <tr>\n",
       "      <th>3</th>\n",
       "      <td>2021-04-22T04:09:48+00:00</td>\n",
       "      <td>1385083390022586370</td>\n",
       "      <td>1384882418755178498</td>\n",
       "      <td>@AdrinMartnezGo1 @julioacosta1701 @DiazCanelB ...</td>\n",
       "      <td>es</td>\n",
       "      <td>False</td>\n",
       "      <td>False</td>\n",
       "      <td>6</td>\n",
       "      <td>0</td>\n",
       "      <td>0</td>\n",
       "      <td>...</td>\n",
       "      <td>1210365797702492160</td>\n",
       "      <td>BauzaCuba</td>\n",
       "      <td>Alejandro Rodríguez Bauza</td>\n",
       "      <td>False</td>\n",
       "      <td>1.385057e+18</td>\n",
       "      <td>1.136331e+18</td>\n",
       "      <td>#PrevenirPorLaVida , #PatriaOMuerte , #UnBlock...</td>\n",
       "      <td>AdrinMartnezGo1 , julioacosta1701 , DiazCanelB...</td>\n",
       "      <td>NaN</td>\n",
       "      <td>[]</td>\n",
       "    </tr>\n",
       "    <tr>\n",
       "      <th>4</th>\n",
       "      <td>2021-04-22T03:32:26+00:00</td>\n",
       "      <td>1385073986363658244</td>\n",
       "      <td>1384941470390661126</td>\n",
       "      <td>@VilmaPrez14 @Laura53538740 @Granma_Digital @D...</td>\n",
       "      <td>es</td>\n",
       "      <td>False</td>\n",
       "      <td>False</td>\n",
       "      <td>5</td>\n",
       "      <td>1</td>\n",
       "      <td>0</td>\n",
       "      <td>...</td>\n",
       "      <td>1210365797702492160</td>\n",
       "      <td>BauzaCuba</td>\n",
       "      <td>Alejandro Rodríguez Bauza</td>\n",
       "      <td>False</td>\n",
       "      <td>1.384977e+18</td>\n",
       "      <td>1.101197e+18</td>\n",
       "      <td>#PrevenirPorLaVida , #PatriaOMuerte , #UnBlock...</td>\n",
       "      <td>VilmaPrez14 , Laura53538740 , Granma_Digital ,...</td>\n",
       "      <td>NaN</td>\n",
       "      <td>[]</td>\n",
       "    </tr>\n",
       "  </tbody>\n",
       "</table>\n",
       "<p>5 rows × 24 columns</p>\n",
       "</div>"
      ],
      "text/plain": [
       "                  created_at               id_str  conversation_id_str  \\\n",
       "0  2021-04-23T07:14:36+00:00  1385492282971987968  1385492282971987968   \n",
       "1  2021-04-22T04:12:43+00:00  1385084126307528709  1384884688829943809   \n",
       "2  2021-04-22T04:12:00+00:00  1385083944001998850  1384803265381031938   \n",
       "3  2021-04-22T04:09:48+00:00  1385083390022586370  1384882418755178498   \n",
       "4  2021-04-22T03:32:26+00:00  1385073986363658244  1384941470390661126   \n",
       "\n",
       "                                           full_text lang  favorited  \\\n",
       "0  📢Join the seminar aiming at supporting #1May #...   en      False   \n",
       "1  @julioacosta1701 @DiazCanelB @AlejandroGilF @r...   es      False   \n",
       "2  @julioacosta1701 @AliRubioGlez @Vicente7397772...   es      False   \n",
       "3  @AdrinMartnezGo1 @julioacosta1701 @DiazCanelB ...   es      False   \n",
       "4  @VilmaPrez14 @Laura53538740 @Granma_Digital @D...   es      False   \n",
       "\n",
       "   retweeted  retweet_count  favorite_count  reply_count  ...  \\\n",
       "0      False              5               4            0  ...   \n",
       "1      False              7               1            0  ...   \n",
       "2      False              7               1            0  ...   \n",
       "3      False              6               0            0  ...   \n",
       "4      False              5               1            0  ...   \n",
       "\n",
       "           user_id_str       user_name             user_full_name  \\\n",
       "0  1054637281389223936  _EuropeanForum             European Forum   \n",
       "1  1210365797702492160       BauzaCuba  Alejandro Rodríguez Bauza   \n",
       "2  1210365797702492160       BauzaCuba  Alejandro Rodríguez Bauza   \n",
       "3  1210365797702492160       BauzaCuba  Alejandro Rodríguez Bauza   \n",
       "4  1210365797702492160       BauzaCuba  Alejandro Rodríguez Bauza   \n",
       "\n",
       "   user_verified  in_reply_to_status_id_str in_reply_to_user_id_str  \\\n",
       "0          False                        NaN                     NaN   \n",
       "1          False               1.384885e+18            1.194288e+18   \n",
       "2          False               1.384889e+18            1.194288e+18   \n",
       "3          False               1.385057e+18            1.136331e+18   \n",
       "4          False               1.384977e+18            1.101197e+18   \n",
       "\n",
       "                                            hashtags  \\\n",
       "0                          #1May , #1maggio , #1Mayo   \n",
       "1  #PrevenirPorLaVida , #PatriaOMuerte , #UnBlock...   \n",
       "2  #PrevenirPorLaVida , #PatriaOMuerte , #UnBlock...   \n",
       "3  #PrevenirPorLaVida , #PatriaOMuerte , #UnBlock...   \n",
       "4  #PrevenirPorLaVida , #PatriaOMuerte , #UnBlock...   \n",
       "\n",
       "                                            mentions  urls  \\\n",
       "0  LeftHeinz , Yolanda_Diaz_ , VisentiniLuca , lu...   NaN   \n",
       "1  julioacosta1701 , DiazCanelB , AlejandroGilF ,...   NaN   \n",
       "2  julioacosta1701 , AliRubioGlez , Vicente739777...   NaN   \n",
       "3  AdrinMartnezGo1 , julioacosta1701 , DiazCanelB...   NaN   \n",
       "4  VilmaPrez14 , Laura53538740 , Granma_Digital ,...   NaN   \n",
       "\n",
       "                                               media  \n",
       "0  [{\"url\": \"https://pbs.twimg.com/media/EzpAFBfX...  \n",
       "1                                                 []  \n",
       "2                                                 []  \n",
       "3                                                 []  \n",
       "4                                                 []  \n",
       "\n",
       "[5 rows x 24 columns]"
      ]
     },
     "execution_count": 112,
     "metadata": {},
     "output_type": "execute_result"
    }
   ],
   "source": [
    "data_copy.head()"
   ]
  },
  {
   "cell_type": "code",
   "execution_count": 113,
   "id": "4b07e847",
   "metadata": {},
   "outputs": [],
   "source": [
    "emoji_pattern = re.compile(\"[\"\n",
    "                           u\"\\U00002728-\\U0001FAD6\"  # emoticons\n",
    "                           u\"\\U0001F300-\\U0001F5FF\"  # symbols & pictographs\n",
    "                           u\"\\U0001F680-\\U0001F6FF\"  # transport & map symbols\n",
    "                           u\"\\U0001F1E0-\\U0001F1FF\"  # flags (iOS)\n",
    "                           u\"\\U00002702-\\U000027B0\"\n",
    "                           u\"\\U000024C2-\\U0001F251\"\n",
    "                           \"]+\", flags=re.UNICODE)\n",
    "Emoji_list = []\n",
    "for line in data['full_text']:\n",
    "    temp = []\n",
    "    m = re.search(emoji_pattern,line)   \n",
    "    if m is not None:\n",
    "        temp.append(line[m.start():m.end()])\n",
    "    Emoji_list.append((temp))"
   ]
  },
  {
   "cell_type": "code",
   "execution_count": 114,
   "id": "a26022ad",
   "metadata": {},
   "outputs": [],
   "source": [
    "preprocessed_dates = []\n",
    "for i in range(len(data_copy)):\n",
    "    preprocessed_dates.append(datetime.strptime(data_copy['created_at'].values[i].split('T')[0], \"%Y-%m-%d\").date())\n",
    "\n",
    "data['preprocessed_created_at'] = preprocessed_dates"
   ]
  },
  {
   "cell_type": "code",
   "execution_count": 115,
   "id": "c755ecde",
   "metadata": {},
   "outputs": [],
   "source": [
    "def get_wordnet_pos(word):\n",
    "    \"\"\"Map POS tag to first character lemmatize() accepts\"\"\"\n",
    "    tag = nltk.pos_tag([word])[0][1][0].upper()\n",
    "    tag_dict = {\"J\": wordnet.ADJ,\n",
    "                \"N\": wordnet.NOUN,\n",
    "                \"V\": wordnet.VERB,\n",
    "                \"R\": wordnet.ADV}\n",
    "\n",
    "    return tag_dict.get(tag, wordnet.NOUN)"
   ]
  },
  {
   "cell_type": "code",
   "execution_count": 116,
   "id": "90e0b5aa",
   "metadata": {},
   "outputs": [],
   "source": [
    "count=0\n",
    "url_pattern = r'https?://\\S+|www\\.\\S+'\n",
    "preprocessed_tweets_list = []\n",
    "hash_pattern = r'#'\n",
    "mention_pattern = r'@\\S+'\n",
    "digits = r'[0-9]'\n",
    "emoticon_list = []\n",
    "punctuation_pattern = r'[^\\w\\s]'\n",
    "for i in range(len(data_copy)):\n",
    "    contraction_removed_tweet = []\n",
    "    preprocessed_tweets = []\n",
    "    data_copy['full_text'].values[i] = data['full_text'].values[i].lower()\n",
    "    data_copy['full_text'].values[i] = data_copy['full_text'].values[i].replace(\"\\n\",\" \")\n",
    "    data_copy['full_text'].values[i] = re.sub(pattern=url_pattern, repl=' ', string=data_copy['full_text'].values[i])\n",
    "    data_copy['full_text'].values[i] = re.sub(pattern=hash_pattern, repl=' ', string=data_copy['full_text'].values[i])\n",
    "    data_copy['full_text'].values[i] = re.sub(pattern=mention_pattern, repl=' ', string=data_copy['full_text'].values[i])\n",
    "    emoticon_list.append(emot_obj.emoticons(data_copy['full_text'].values[i])['value'])\n",
    "    data_copy['full_text'].values[i] = re.sub(pattern=digits, repl=' ', string=data_copy['full_text'].values[i])\n",
    "    data_copy['full_text'].values[i] = re.sub(pattern=emoji_pattern, repl='', string=data_copy['full_text'].values[i])\n",
    "    data_copy['full_text'].values[i] = re.sub(pattern=punctuation_pattern, repl='', string=data_copy['full_text'].values[i])\n",
    "    data_copy['full_text'].values[i] = tweet_tokens = tokenizer.tokenize(data_copy['full_text'].values[i])\n",
    "    for word in data_copy['full_text'].values[i]:\n",
    "        contraction_removed_tweet.append(contractions.fix(word))\n",
    "    for word in contraction_removed_tweet:\n",
    "        if word not in stopwords_english:  \n",
    "            preprocessed_tweets.append(lemmatizer.lemmatize(word,get_wordnet_pos(word)))\n",
    "    preprocessed_tweets_list.append(preprocessed_tweets)\n",
    "data['preprocessed_data'] = preprocessed_tweets_list\n",
    "data['emoji_list'] = Emoji_list\n",
    "data['emoticon_list'] = emoticon_list"
   ]
  },
  {
   "cell_type": "code",
   "execution_count": 117,
   "id": "ae06bfb7",
   "metadata": {},
   "outputs": [
    {
     "name": "stdout",
     "output_type": "stream",
     "text": [
      "['join', 'seminar', 'aim', 'support', 'may', 'maggio', 'mayo', 'trade', 'union', 'activity', 'amp', 'mobilization']\n"
     ]
    }
   ],
   "source": [
    "print(data[\"preprocessed_data\"][0])"
   ]
  },
  {
   "cell_type": "code",
   "execution_count": 118,
   "id": "d540f162",
   "metadata": {},
   "outputs": [
    {
     "data": {
      "text/plain": [
       "Index(['created_at', 'id_str', 'conversation_id_str', 'full_text', 'lang',\n",
       "       'favorited', 'retweeted', 'retweet_count', 'favorite_count',\n",
       "       'reply_count', 'quote_count', 'quoted_status_id_str',\n",
       "       'quoted_status_short_url', 'quoted_status_expand_url', 'user_id_str',\n",
       "       'user_name', 'user_full_name', 'user_verified',\n",
       "       'in_reply_to_status_id_str', 'in_reply_to_user_id_str', 'hashtags',\n",
       "       'mentions', 'urls', 'media', 'preprocessed_created_at',\n",
       "       'preprocessed_data', 'emoji_list', 'emoticon_list'],\n",
       "      dtype='object')"
      ]
     },
     "execution_count": 118,
     "metadata": {},
     "output_type": "execute_result"
    }
   ],
   "source": [
    "data.columns"
   ]
  },
  {
   "cell_type": "code",
   "execution_count": null,
   "id": "5d36a991",
   "metadata": {},
   "outputs": [],
   "source": []
  }
 ],
 "metadata": {
  "kernelspec": {
   "display_name": "Python 3 (ipykernel)",
   "language": "python",
   "name": "python3"
  },
  "language_info": {
   "codemirror_mode": {
    "name": "ipython",
    "version": 3
   },
   "file_extension": ".py",
   "mimetype": "text/x-python",
   "name": "python",
   "nbconvert_exporter": "python",
   "pygments_lexer": "ipython3",
   "version": "3.9.6"
  }
 },
 "nbformat": 4,
 "nbformat_minor": 5
}
