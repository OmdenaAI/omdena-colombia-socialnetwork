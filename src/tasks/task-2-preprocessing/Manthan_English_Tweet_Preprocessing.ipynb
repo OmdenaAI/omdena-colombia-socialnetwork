{
 "cells": [
  {
   "cell_type": "code",
   "execution_count": 98,
   "id": "2e2f8486",
   "metadata": {},
   "outputs": [
    {
     "name": "stderr",
     "output_type": "stream",
     "text": [
      "[nltk_data] Downloading package wordnet to\n",
      "[nltk_data]     /Users/manthanfursule/nltk_data...\n",
      "[nltk_data]   Package wordnet is already up-to-date!\n"
     ]
    },
    {
     "data": {
      "text/plain": [
       "True"
      ]
     },
     "execution_count": 98,
     "metadata": {},
     "output_type": "execute_result"
    }
   ],
   "source": [
    "nltk.download('wordnet')"
   ]
  },
  {
   "cell_type": "code",
   "execution_count": 99,
   "id": "6ee916a9",
   "metadata": {},
   "outputs": [
    {
     "name": "stderr",
     "output_type": "stream",
     "text": [
      "[nltk_data] Downloading package averaged_perceptron_tagger to\n",
      "[nltk_data]     /Users/manthanfursule/nltk_data...\n",
      "[nltk_data]   Package averaged_perceptron_tagger is already up-to-\n",
      "[nltk_data]       date!\n"
     ]
    },
    {
     "data": {
      "text/plain": [
       "True"
      ]
     },
     "execution_count": 99,
     "metadata": {},
     "output_type": "execute_result"
    }
   ],
   "source": [
    "nltk.download('averaged_perceptron_tagger')"
   ]
  },
  {
   "cell_type": "code",
   "execution_count": 100,
   "id": "5239126f",
   "metadata": {},
   "outputs": [
    {
     "name": "stderr",
     "output_type": "stream",
     "text": [
      "[nltk_data] Downloading package stopwords to\n",
      "[nltk_data]     /Users/manthanfursule/nltk_data...\n",
      "[nltk_data]   Package stopwords is already up-to-date!\n"
     ]
    }
   ],
   "source": [
    "nltk.download('stopwords')\n",
    "stopwords_english = stopwords.words('english')"
   ]
  },
  {
   "cell_type": "code",
   "execution_count": 121,
   "id": "f55141d8",
   "metadata": {},
   "outputs": [],
   "source": [
    "import pandas as pd\n",
    "import re\n",
    "import nltk\n",
    "from nltk.corpus import stopwords \n",
    "from nltk.stem import PorterStemmer\n",
    "from nltk.tokenize import TweetTokenizer  \n",
    "import string\n",
    "import contractions\n",
    "import emoji\n",
    "from nltk.stem import WordNetLemmatizer \n",
    "from datetime import datetime\n",
    "import emot\n",
    "from nltk.corpus import wordnet"
   ]
  },
  {
   "cell_type": "code",
   "execution_count": 122,
   "id": "5846296e",
   "metadata": {},
   "outputs": [],
   "source": [
    "lemmatizer = WordNetLemmatizer()"
   ]
  },
  {
   "cell_type": "code",
   "execution_count": 123,
   "id": "315651f4",
   "metadata": {},
   "outputs": [],
   "source": [
    "#stemmer = PorterStemmer() "
   ]
  },
  {
   "cell_type": "code",
   "execution_count": 124,
   "id": "80517993",
   "metadata": {},
   "outputs": [],
   "source": [
    "tokenizer = TweetTokenizer(preserve_case=False, \n",
    "                           strip_handles=True,\n",
    "                           reduce_len=True)"
   ]
  },
  {
   "cell_type": "code",
   "execution_count": 125,
   "id": "d67fdf5a",
   "metadata": {},
   "outputs": [],
   "source": [
    "emot_obj = emot.core.emot()"
   ]
  },
  {
   "cell_type": "code",
   "execution_count": 298,
   "id": "76a4a6a4",
   "metadata": {},
   "outputs": [],
   "source": [
    "file_name = \"ParoNacionalIndefinido_ENGLISH_tweets_stweet (2).csv\""
   ]
  },
  {
   "cell_type": "code",
   "execution_count": 299,
   "id": "5020be52",
   "metadata": {},
   "outputs": [],
   "source": [
    "data = pd.read_csv(\"Twitter/\"+file_name)"
   ]
  },
  {
   "cell_type": "code",
   "execution_count": 300,
   "id": "c5636ca1",
   "metadata": {},
   "outputs": [
    {
     "data": {
      "text/plain": [
       "(10153, 24)"
      ]
     },
     "execution_count": 300,
     "metadata": {},
     "output_type": "execute_result"
    }
   ],
   "source": [
    "data.shape"
   ]
  },
  {
   "cell_type": "code",
   "execution_count": 301,
   "id": "192ce3d8",
   "metadata": {},
   "outputs": [],
   "source": [
    "data_copy = data.copy()"
   ]
  },
  {
   "cell_type": "code",
   "execution_count": 302,
   "id": "a176bcaa",
   "metadata": {},
   "outputs": [
    {
     "data": {
      "text/html": [
       "<div>\n",
       "<style scoped>\n",
       "    .dataframe tbody tr th:only-of-type {\n",
       "        vertical-align: middle;\n",
       "    }\n",
       "\n",
       "    .dataframe tbody tr th {\n",
       "        vertical-align: top;\n",
       "    }\n",
       "\n",
       "    .dataframe thead th {\n",
       "        text-align: right;\n",
       "    }\n",
       "</style>\n",
       "<table border=\"1\" class=\"dataframe\">\n",
       "  <thead>\n",
       "    <tr style=\"text-align: right;\">\n",
       "      <th></th>\n",
       "      <th>created_at</th>\n",
       "      <th>id_str</th>\n",
       "      <th>conversation_id_str</th>\n",
       "      <th>full_text</th>\n",
       "      <th>lang</th>\n",
       "      <th>favorited</th>\n",
       "      <th>retweeted</th>\n",
       "      <th>retweet_count</th>\n",
       "      <th>favorite_count</th>\n",
       "      <th>reply_count</th>\n",
       "      <th>...</th>\n",
       "      <th>user_id_str</th>\n",
       "      <th>user_name</th>\n",
       "      <th>user_full_name</th>\n",
       "      <th>user_verified</th>\n",
       "      <th>in_reply_to_status_id_str</th>\n",
       "      <th>in_reply_to_user_id_str</th>\n",
       "      <th>hashtags</th>\n",
       "      <th>mentions</th>\n",
       "      <th>urls</th>\n",
       "      <th>media</th>\n",
       "    </tr>\n",
       "  </thead>\n",
       "  <tbody>\n",
       "    <tr>\n",
       "      <th>0</th>\n",
       "      <td>2021-04-18T22:51:03+00:00</td>\n",
       "      <td>1383916011364052994</td>\n",
       "      <td>1383916011364052994</td>\n",
       "      <td>Con toda al #ParoNacionalIndefinido</td>\n",
       "      <td>es</td>\n",
       "      <td>False</td>\n",
       "      <td>False</td>\n",
       "      <td>0</td>\n",
       "      <td>1</td>\n",
       "      <td>0</td>\n",
       "      <td>...</td>\n",
       "      <td>1248980769474859008</td>\n",
       "      <td>marcejara2020</td>\n",
       "      <td>¿TINTICO?</td>\n",
       "      <td>False</td>\n",
       "      <td>NaN</td>\n",
       "      <td>NaN</td>\n",
       "      <td>#ParoNacionalIndefinido</td>\n",
       "      <td>NaN</td>\n",
       "      <td>NaN</td>\n",
       "      <td>[]</td>\n",
       "    </tr>\n",
       "    <tr>\n",
       "      <th>1</th>\n",
       "      <td>2021-04-18T22:34:27+00:00</td>\n",
       "      <td>1383911834042867722</td>\n",
       "      <td>1383911834042867722</td>\n",
       "      <td>#ParoNacionalIndefinido a ver si consigo follo...</td>\n",
       "      <td>fr</td>\n",
       "      <td>False</td>\n",
       "      <td>False</td>\n",
       "      <td>0</td>\n",
       "      <td>0</td>\n",
       "      <td>0</td>\n",
       "      <td>...</td>\n",
       "      <td>1382894776278736899</td>\n",
       "      <td>ElVerdades14</td>\n",
       "      <td>Yo lo digo por ti</td>\n",
       "      <td>False</td>\n",
       "      <td>NaN</td>\n",
       "      <td>NaN</td>\n",
       "      <td>#ParoNacionalIndefinido</td>\n",
       "      <td>NaN</td>\n",
       "      <td>NaN</td>\n",
       "      <td>[]</td>\n",
       "    </tr>\n",
       "    <tr>\n",
       "      <th>2</th>\n",
       "      <td>2021-04-18T22:05:56+00:00</td>\n",
       "      <td>1383904658553409541</td>\n",
       "      <td>1383904658553409541</td>\n",
       "      <td>#ParoNacionalIndefinido a las calles</td>\n",
       "      <td>es</td>\n",
       "      <td>False</td>\n",
       "      <td>False</td>\n",
       "      <td>0</td>\n",
       "      <td>0</td>\n",
       "      <td>0</td>\n",
       "      <td>...</td>\n",
       "      <td>1210733637659963392</td>\n",
       "      <td>Movilgas1</td>\n",
       "      <td>Gas Vehícular 🌏</td>\n",
       "      <td>False</td>\n",
       "      <td>NaN</td>\n",
       "      <td>NaN</td>\n",
       "      <td>#ParoNacionalIndefinido</td>\n",
       "      <td>NaN</td>\n",
       "      <td>NaN</td>\n",
       "      <td>[]</td>\n",
       "    </tr>\n",
       "    <tr>\n",
       "      <th>3</th>\n",
       "      <td>2021-04-18T18:40:01+00:00</td>\n",
       "      <td>1383852835310215172</td>\n",
       "      <td>1383852835310215172</td>\n",
       "      <td>#ParoNacionalIndefinido\\nA las calles!!! https...</td>\n",
       "      <td>es</td>\n",
       "      <td>False</td>\n",
       "      <td>False</td>\n",
       "      <td>0</td>\n",
       "      <td>1</td>\n",
       "      <td>0</td>\n",
       "      <td>...</td>\n",
       "      <td>1126786254</td>\n",
       "      <td>jaiver_zambrano</td>\n",
       "      <td>Jaiver Zambrano - #PetroPresidente2022</td>\n",
       "      <td>False</td>\n",
       "      <td>NaN</td>\n",
       "      <td>NaN</td>\n",
       "      <td>#ParoNacionalIndefinido</td>\n",
       "      <td>NaN</td>\n",
       "      <td>NaN</td>\n",
       "      <td>[{\"url\": \"https://pbs.twimg.com/media/EzRu0bjU...</td>\n",
       "    </tr>\n",
       "    <tr>\n",
       "      <th>4</th>\n",
       "      <td>2021-04-18T18:24:05+00:00</td>\n",
       "      <td>1383848826700636162</td>\n",
       "      <td>1383848826700636162</td>\n",
       "      <td>#Emprendedores \\nInstagram https://t.co/KGQXui...</td>\n",
       "      <td>en</td>\n",
       "      <td>False</td>\n",
       "      <td>False</td>\n",
       "      <td>0</td>\n",
       "      <td>2</td>\n",
       "      <td>0</td>\n",
       "      <td>...</td>\n",
       "      <td>366270888</td>\n",
       "      <td>SebasBoshell</td>\n",
       "      <td>JuanSe Boshell</td>\n",
       "      <td>False</td>\n",
       "      <td>NaN</td>\n",
       "      <td>NaN</td>\n",
       "      <td>#Emprendedores , #QuinteroDestruyeAMedellin , ...</td>\n",
       "      <td>MillosFCoficial , nacionaloficial , AmericadeC...</td>\n",
       "      <td>https://t.co/KGQXuiXoCh , https://t.co/LgRZC5ihMU</td>\n",
       "      <td>[{\"url\": \"https://pbs.twimg.com/media/EzRrJsvV...</td>\n",
       "    </tr>\n",
       "  </tbody>\n",
       "</table>\n",
       "<p>5 rows × 24 columns</p>\n",
       "</div>"
      ],
      "text/plain": [
       "                  created_at               id_str  conversation_id_str  \\\n",
       "0  2021-04-18T22:51:03+00:00  1383916011364052994  1383916011364052994   \n",
       "1  2021-04-18T22:34:27+00:00  1383911834042867722  1383911834042867722   \n",
       "2  2021-04-18T22:05:56+00:00  1383904658553409541  1383904658553409541   \n",
       "3  2021-04-18T18:40:01+00:00  1383852835310215172  1383852835310215172   \n",
       "4  2021-04-18T18:24:05+00:00  1383848826700636162  1383848826700636162   \n",
       "\n",
       "                                           full_text lang  favorited  \\\n",
       "0                Con toda al #ParoNacionalIndefinido   es      False   \n",
       "1  #ParoNacionalIndefinido a ver si consigo follo...   fr      False   \n",
       "2               #ParoNacionalIndefinido a las calles   es      False   \n",
       "3  #ParoNacionalIndefinido\\nA las calles!!! https...   es      False   \n",
       "4  #Emprendedores \\nInstagram https://t.co/KGQXui...   en      False   \n",
       "\n",
       "   retweeted  retweet_count  favorite_count  reply_count  ...  \\\n",
       "0      False              0               1            0  ...   \n",
       "1      False              0               0            0  ...   \n",
       "2      False              0               0            0  ...   \n",
       "3      False              0               1            0  ...   \n",
       "4      False              0               2            0  ...   \n",
       "\n",
       "           user_id_str        user_name  \\\n",
       "0  1248980769474859008    marcejara2020   \n",
       "1  1382894776278736899     ElVerdades14   \n",
       "2  1210733637659963392        Movilgas1   \n",
       "3           1126786254  jaiver_zambrano   \n",
       "4            366270888     SebasBoshell   \n",
       "\n",
       "                           user_full_name  user_verified  \\\n",
       "0                               ¿TINTICO?          False   \n",
       "1                       Yo lo digo por ti          False   \n",
       "2                         Gas Vehícular 🌏          False   \n",
       "3  Jaiver Zambrano - #PetroPresidente2022          False   \n",
       "4                          JuanSe Boshell          False   \n",
       "\n",
       "   in_reply_to_status_id_str in_reply_to_user_id_str  \\\n",
       "0                        NaN                     NaN   \n",
       "1                        NaN                     NaN   \n",
       "2                        NaN                     NaN   \n",
       "3                        NaN                     NaN   \n",
       "4                        NaN                     NaN   \n",
       "\n",
       "                                            hashtags  \\\n",
       "0                            #ParoNacionalIndefinido   \n",
       "1                            #ParoNacionalIndefinido   \n",
       "2                            #ParoNacionalIndefinido   \n",
       "3                            #ParoNacionalIndefinido   \n",
       "4  #Emprendedores , #QuinteroDestruyeAMedellin , ...   \n",
       "\n",
       "                                            mentions  \\\n",
       "0                                                NaN   \n",
       "1                                                NaN   \n",
       "2                                                NaN   \n",
       "3                                                NaN   \n",
       "4  MillosFCoficial , nacionaloficial , AmericadeC...   \n",
       "\n",
       "                                                urls  \\\n",
       "0                                                NaN   \n",
       "1                                                NaN   \n",
       "2                                                NaN   \n",
       "3                                                NaN   \n",
       "4  https://t.co/KGQXuiXoCh , https://t.co/LgRZC5ihMU   \n",
       "\n",
       "                                               media  \n",
       "0                                                 []  \n",
       "1                                                 []  \n",
       "2                                                 []  \n",
       "3  [{\"url\": \"https://pbs.twimg.com/media/EzRu0bjU...  \n",
       "4  [{\"url\": \"https://pbs.twimg.com/media/EzRrJsvV...  \n",
       "\n",
       "[5 rows x 24 columns]"
      ]
     },
     "execution_count": 302,
     "metadata": {},
     "output_type": "execute_result"
    }
   ],
   "source": [
    "data_copy.head()"
   ]
  },
  {
   "cell_type": "code",
   "execution_count": 303,
   "id": "4b07e847",
   "metadata": {},
   "outputs": [],
   "source": [
    "emoji_pattern = re.compile(\"[\"\n",
    "                           u\"\\U00002728-\\U0001FAD6\"  # emoticons\n",
    "                           u\"\\U0001F300-\\U0001F5FF\"  # symbols & pictographs\n",
    "                           u\"\\U0001F680-\\U0001F6FF\"  # transport & map symbols\n",
    "                           u\"\\U0001F1E0-\\U0001F1FF\"  # flags (iOS)\n",
    "                           u\"\\U00002702-\\U000027B0\"\n",
    "                           u\"\\U000024C2-\\U0001F251\"\n",
    "                           \"]+\", flags=re.UNICODE)\n",
    "Emoji_list = []\n",
    "for line in data['full_text']:\n",
    "    temp = []\n",
    "    m = re.search(emoji_pattern,line)   \n",
    "    if m is not None:\n",
    "        temp.append(line[m.start():m.end()])\n",
    "    Emoji_list.append((temp))"
   ]
  },
  {
   "cell_type": "code",
   "execution_count": 304,
   "id": "c458df4e",
   "metadata": {},
   "outputs": [],
   "source": [
    "preprocessed_dates = []\n",
    "for i in range(len(data_copy)):\n",
    "    preprocessed_dates.append(datetime.strptime(data_copy['created_at'].values[i].split('T')[0], \"%Y-%m-%d\").date())\n",
    "\n",
    "data['preprocessed_created_at'] = preprocessed_dates"
   ]
  },
  {
   "cell_type": "code",
   "execution_count": 305,
   "id": "81e86222",
   "metadata": {},
   "outputs": [],
   "source": [
    "def get_wordnet_pos(word):\n",
    "    \"\"\"Map POS tag to first character lemmatize() accepts\"\"\"\n",
    "    tag = nltk.pos_tag([word])[0][1][0].upper()\n",
    "    tag_dict = {\"J\": wordnet.ADJ,\n",
    "                \"N\": wordnet.NOUN,\n",
    "                \"V\": wordnet.VERB,\n",
    "                \"R\": wordnet.ADV}\n",
    "\n",
    "    return tag_dict.get(tag, wordnet.NOUN)"
   ]
  },
  {
   "cell_type": "code",
   "execution_count": 306,
   "id": "90e0b5aa",
   "metadata": {},
   "outputs": [],
   "source": [
    "count=0\n",
    "url_pattern = r'https?://\\S+|www\\.\\S+'\n",
    "preprocessed_tweets_list = []\n",
    "hash_pattern = r'#'\n",
    "mention_pattern = r'@\\S+'\n",
    "digits = r'[0-9]'\n",
    "retweets = r'rt[\\s]+'\n",
    "emoticon_list = []\n",
    "punctuation_pattern = r'[^\\w\\s]'\n",
    "for i in range(len(data_copy)):\n",
    "    contraction_removed_tweet = []\n",
    "    preprocessed_tweets = []\n",
    "    data_copy['full_text'].values[i] = data['full_text'].values[i].replace(\"\\n\",\" \")\n",
    "    data_copy['full_text'].values[i] = data_copy['full_text'].values[i].lower()\n",
    "    data_copy['full_text'].values[i] = re.sub(pattern=retweets, repl=' ', string=data_copy['full_text'].values[i])    \n",
    "    data_copy['full_text'].values[i] = re.sub(pattern=url_pattern, repl=' ', string=data_copy['full_text'].values[i])\n",
    "    data_copy['full_text'].values[i] = re.sub(pattern=hash_pattern, repl=' ', string=data_copy['full_text'].values[i])\n",
    "    data_copy['full_text'].values[i] = re.sub(pattern=mention_pattern, repl=' ', string=data_copy['full_text'].values[i])\n",
    "    emoticon_list.append(emot_obj.emoticons(data_copy['full_text'].values[i])['value'])\n",
    "    data_copy['full_text'].values[i] = re.sub(pattern=digits, repl=' ', string=data_copy['full_text'].values[i])\n",
    "    data_copy['full_text'].values[i] = re.sub(pattern=emoji_pattern, repl='', string=data_copy['full_text'].values[i])\n",
    "    data_copy['full_text'].values[i] = re.sub(pattern=punctuation_pattern, repl='', string=data_copy['full_text'].values[i])\n",
    "    data_copy['full_text'].values[i] = tweet_tokens = tokenizer.tokenize(data_copy['full_text'].values[i])\n",
    "    for word in data_copy['full_text'].values[i]:\n",
    "        words = contractions.fix(word).split(\" \")\n",
    "        for item in words:\n",
    "            contraction_removed_tweet.append(item)\n",
    "    for word in contraction_removed_tweet:\n",
    "        if word not in stopwords_english:  \n",
    "            preprocessed_tweets.append(lemmatizer.lemmatize(word,get_wordnet_pos(word)))\n",
    "    preprocessed_tweets_list.append(preprocessed_tweets)\n",
    "data['preprocessed_data'] = preprocessed_tweets_list\n",
    "data['emoji_list'] = Emoji_list\n",
    "data['emoticon_list'] = emoticon_list"
   ]
  },
  {
   "cell_type": "code",
   "execution_count": 307,
   "id": "ae06bfb7",
   "metadata": {},
   "outputs": [
    {
     "name": "stdout",
     "output_type": "stream",
     "text": [
      "Por favor compartan #ParoIndefinido #ParoNacionalIndefinido #ElPeorPresidenteDeLaHistoria https://t.co/rGi0pEfSXe\n"
     ]
    }
   ],
   "source": [
    "print(data[\"full_text\"][100])"
   ]
  },
  {
   "cell_type": "code",
   "execution_count": 308,
   "id": "3e15fb9f",
   "metadata": {},
   "outputs": [
    {
     "name": "stdout",
     "output_type": "stream",
     "text": [
      "['por', 'favor', 'compartan', 'paroindefinido', 'paronacionalindefinido', 'elpeorpresidentedelahistoria']\n"
     ]
    }
   ],
   "source": [
    "print(data[\"preprocessed_data\"][100])"
   ]
  },
  {
   "cell_type": "code",
   "execution_count": 309,
   "id": "a28ae62c",
   "metadata": {},
   "outputs": [
    {
     "data": {
      "text/plain": [
       "28"
      ]
     },
     "execution_count": 309,
     "metadata": {},
     "output_type": "execute_result"
    }
   ],
   "source": [
    "len(data.columns)"
   ]
  },
  {
   "cell_type": "code",
   "execution_count": 310,
   "id": "6b34bc37",
   "metadata": {},
   "outputs": [],
   "source": [
    "data.to_csv(\"Twitter_Preprocessed/\"+file_name)"
   ]
  },
  {
   "cell_type": "code",
   "execution_count": null,
   "id": "ed1d2c2b",
   "metadata": {},
   "outputs": [],
   "source": []
  }
 ],
 "metadata": {
  "kernelspec": {
   "display_name": "Python 3 (ipykernel)",
   "language": "python",
   "name": "python3"
  },
  "language_info": {
   "codemirror_mode": {
    "name": "ipython",
    "version": 3
   },
   "file_extension": ".py",
   "mimetype": "text/x-python",
   "name": "python",
   "nbconvert_exporter": "python",
   "pygments_lexer": "ipython3",
   "version": "3.9.6"
  }
 },
 "nbformat": 4,
 "nbformat_minor": 5
}
