{
  "nbformat": 4,
  "nbformat_minor": 5,
  "metadata": {
    "kernelspec": {
      "name": "python3",
      "display_name": "Python 3.8.8 64-bit ('base': conda)"
    },
    "language_info": {
      "codemirror_mode": {
        "name": "ipython",
        "version": 3
      },
      "file_extension": ".py",
      "mimetype": "text/x-python",
      "name": "python",
      "nbconvert_exporter": "python",
      "pygments_lexer": "ipython3",
      "version": "3.8.8"
    },
    "colab": {
      "name": "Interactive Twitter scrapers.ipynb",
      "provenance": [],
      "collapsed_sections": [
        "j0K77MkscffZ",
        "148cb934",
        "EjYCg_vTTIhD",
        "oaNiZuhHTMCM",
        "208a2237",
        "DAYTkeKcZRhY",
        "78aafcd9",
        "uO5ghedzb2lE",
        "nOonvJLzb4Zi",
        "cUtze57HmmAQ"
      ],
      "include_colab_link": true
    },
    "interpreter": {
      "hash": "1b007364462035d7d7debdcae39cd66c15ca9aac683a175d7d0391bdb85e582c"
    }
  },
  "cells": [
    {
      "cell_type": "code",
      "execution_count": 6,
      "source": [
        "import arrow\n",
        "import pandas as pd\n",
        "import os\n",
        "import time \n",
        "#from google.colab import files\n",
        "#import twint\n",
        "#import nest_asyncio\n",
        "#nest_asyncio.apply()\n",
        "\n",
        "#import snscrape.modules.twitter as sntwitter\n",
        "\n",
        "import stweet as st\n",
        "\n",
        "pd.set_option('display.max_colwidth', None)\n",
        "pd.set_option('display.max_columns', None)\n",
        "\n",
        "CSV_PATH = \"/Users/inna/Documents/GitHub/omdena-colombia-socialnetwork/src/data/task-1-data-scraping/Twitter\"\n",
        "#os.mkdir(CSV_PATH)"
      ],
      "outputs": [],
      "metadata": {
        "id": "2bGbetDgSERQ"
      }
    },
    {
      "cell_type": "markdown",
      "source": [
        "# Scraper-3 STweet\n",
        "This is one of the best API's in terms of adapting to changes in Twitter's API ( a recent change affected a lot of popular API's to extract tweets) It can find the changes and report failures to find the point of failure so that the owner or any other user can make a fix . It is also quite customizable and is very simple code to use and explore ( unlike TWINT where the name of exact parameters need to be remembered) \n",
        "Has a dedicated documentation and examples to go through\n",
        "[Github Repo](https://github.com/markowanga/stweet)"
      ],
      "metadata": {
        "id": "78aafcd9"
      }
    },
    {
      "cell_type": "code",
      "execution_count": 7,
      "source": [
        "start_date = \"2021-04-28\" #@param {type:\"date\"}\n",
        "end_date = \"2021-08-24\" #@param {type:\"date\"}\n",
        "hashtag = \"fueravenezolanos\" #@param {type:\"string\"}\n",
        "language = \"SPANISH\" #@param [\"SPANISH\", \"ENGLISH\"]\n",
        "\n",
        "flag = False \n",
        "for r in arrow.Arrow.span_range('week', arrow.get(start_date), arrow.get(end_date)):\n",
        "  start, end = r\n",
        "  search_tweets_task = st.SearchTweetsTask(\n",
        "      all_words=f\"#{hashtag}\",\n",
        "      since = start,\n",
        "      until = end,\n",
        "      language = st.Language[language]\n",
        "\n",
        "  )\n",
        "  tweets_collector = st.CollectorTweetOutput()\n",
        "  st.TweetSearchRunner(\n",
        "      search_tweets_task=search_tweets_task,\n",
        "      tweet_outputs=[tweets_collector, st.CsvTweetOutput(f\"{CSV_PATH}/{hashtag}_{language}_tweets_stweet_temp.csv\")]\n",
        "  ).run()\n",
        "  df = pd.read_csv(f\"{CSV_PATH}/{hashtag}_{language}_tweets_stweet_temp.csv\")\n",
        "  if not flag: \n",
        "    df.to_csv((f\"{CSV_PATH}/{hashtag}_{language}_tweets_stweet.csv\"), index = False)  \n",
        "    flag = True \n",
        "  else: \n",
        "    df_original = pd.read_csv((f\"{CSV_PATH}/{hashtag}_{language}_tweets_stweet.csv\"))\n",
        "    df_original = pd.concat([df_original, df])\n",
        "    df_original.to_csv((f\"{CSV_PATH}/{hashtag}_{language}_tweets_stweet.csv\"), index = False)"
      ],
      "outputs": [],
      "metadata": {
        "id": "f5171e0f",
        "cellView": "form"
      }
    },
    {
      "cell_type": "markdown",
      "source": [
        "## Preview"
      ],
      "metadata": {
        "id": "uO5ghedzb2lE"
      }
    },
    {
      "cell_type": "code",
      "execution_count": 8,
      "source": [
        "df3 = pd.read_csv(f\"{CSV_PATH}/{hashtag}_{language}_tweets_stweet.csv\")\n",
        "df3.head()"
      ],
      "outputs": [
        {
          "output_type": "execute_result",
          "data": {
            "text/plain": [
              "                  created_at               id_str  conversation_id_str  \\\n",
              "0  2021-04-27T11:42:01+00:00  1387009135707832321  1387009135707832321   \n",
              "1  2021-04-27T11:42:01+00:00  1387009135707832321  1387009135707832321   \n",
              "2  2021-05-05T22:42:35+00:00  1390074473827688453  1390074473827688453   \n",
              "3  2021-05-05T04:12:22+00:00  1389795079552970760  1389392610234707969   \n",
              "4  2021-04-27T11:42:01+00:00  1387009135707832321  1387009135707832321   \n",
              "\n",
              "                                                                                                                                                                                                                                                                                                    full_text  \\\n",
              "0                                                                    Progreso gracias a los astronautas #Venezolanos #venezolano\\n#NoMásVenezolanos\\n#FueraVenezolanos\\n#LosBuenosSomosMas\\n@embajadave_pe\\n@carlosscull\\n@jguaido\\n@leopoldolopez\\n@AmnistiaOnline\\n@BancoMundialLAC https://t.co/ZdFHkHXd8n   \n",
              "1                                                                    Progreso gracias a los astronautas #Venezolanos #venezolano\\n#NoMásVenezolanos\\n#FueraVenezolanos\\n#LosBuenosSomosMas\\n@embajadave_pe\\n@carlosscull\\n@jguaido\\n@leopoldolopez\\n@AmnistiaOnline\\n@BancoMundialLAC https://t.co/ZdFHkHXd8n   \n",
              "2                                                                                                                                                                     Primera línea mis ovarios! Eso es primeras RATAS Y VENECOS #YaNoMas #AsistenciaMilitarEs #ADuqueLeDigo #CaliSeRespeta #fueravenezolanos   \n",
              "3  @Vllcarolina @perro0728 @IvanDuque Vaya señora periodista a Bogotá. Huila. Bucaramanga y reporte que los bandalos que dices decir están quemando los caí con piedritas como dices y hay policías heridos eso sí no lo dices\\n#FUERAPETRO\\n#FUERABANDALOS\\n#FUERAELN\\n#FUERALANARCOTALIA\\n#FUERAVENEZOLANOS   \n",
              "4                                                                    Progreso gracias a los astronautas #Venezolanos #venezolano\\n#NoMásVenezolanos\\n#FueraVenezolanos\\n#LosBuenosSomosMas\\n@embajadave_pe\\n@carlosscull\\n@jguaido\\n@leopoldolopez\\n@AmnistiaOnline\\n@BancoMundialLAC https://t.co/ZdFHkHXd8n   \n",
              "\n",
              "  lang  favorited  retweeted  retweet_count  favorite_count  reply_count  \\\n",
              "0   es      False      False              0               0            0   \n",
              "1   es      False      False              0               0            0   \n",
              "2   es      False      False              1               0            0   \n",
              "3   es      False      False              0               0            0   \n",
              "4   es      False      False              0               0            0   \n",
              "\n",
              "   quote_count  quoted_status_id_str  quoted_status_short_url  \\\n",
              "0            0                   NaN                      NaN   \n",
              "1            0                   NaN                      NaN   \n",
              "2            0                   NaN                      NaN   \n",
              "3            0                   NaN                      NaN   \n",
              "4            0                   NaN                      NaN   \n",
              "\n",
              "   quoted_status_expand_url          user_id_str        user_name  \\\n",
              "0                       NaN  1191707051707244545   GeorgioMonreal   \n",
              "1                       NaN  1191707051707244545   GeorgioMonreal   \n",
              "2                       NaN             84917723    STANDUPSIANDO   \n",
              "3                       NaN  1357810817736077313  nataliahildred1   \n",
              "4                       NaN  1191707051707244545   GeorgioMonreal   \n",
              "\n",
              "    user_full_name  user_verified  in_reply_to_status_id_str  \\\n",
              "0  Georgio Monreal          False                        NaN   \n",
              "1  Georgio Monreal          False                        NaN   \n",
              "2      YO COLOMBIA          False                        NaN   \n",
              "3   nataliahildred          False               1.389759e+18   \n",
              "4  Georgio Monreal          False                        NaN   \n",
              "\n",
              "   in_reply_to_user_id_str  \\\n",
              "0                      NaN   \n",
              "1                      NaN   \n",
              "2                      NaN   \n",
              "3             3.089849e+09   \n",
              "4                      NaN   \n",
              "\n",
              "                                                                                  hashtags  \\\n",
              "0  #Venezolanos , #venezolano , #NoMásVenezolanos , #FueraVenezolanos , #LosBuenosSomosMas   \n",
              "1  #Venezolanos , #venezolano , #NoMásVenezolanos , #FueraVenezolanos , #LosBuenosSomosMas   \n",
              "2     #YaNoMas , #AsistenciaMilitarEs , #ADuqueLeDigo , #CaliSeRespeta , #fueravenezolanos   \n",
              "3        #FUERAPETRO , #FUERABANDALOS , #FUERAELN , #FUERALANARCOTALIA , #FUERAVENEZOLANOS   \n",
              "4  #Venezolanos , #venezolano , #NoMásVenezolanos , #FueraVenezolanos , #LosBuenosSomosMas   \n",
              "\n",
              "                                                                                   mentions  \\\n",
              "0  embajadave_pe , carlosscull , jguaido , leopoldolopez , AmnistiaOnline , BancoMundialLAC   \n",
              "1  embajadave_pe , carlosscull , jguaido , leopoldolopez , AmnistiaOnline , BancoMundialLAC   \n",
              "2                                                                                       NaN   \n",
              "3                                                       Vllcarolina , perro0728 , IvanDuque   \n",
              "4  embajadave_pe , carlosscull , jguaido , leopoldolopez , AmnistiaOnline , BancoMundialLAC   \n",
              "\n",
              "   urls  \\\n",
              "0   NaN   \n",
              "1   NaN   \n",
              "2   NaN   \n",
              "3   NaN   \n",
              "4   NaN   \n",
              "\n",
              "                                                                           media  \n",
              "0  [{\"url\": \"https://pbs.twimg.com/media/Ez-ldTGX0AERy4k.jpg\", \"type\": \"photo\"}]  \n",
              "1  [{\"url\": \"https://pbs.twimg.com/media/Ez-ldTGX0AERy4k.jpg\", \"type\": \"photo\"}]  \n",
              "2                                                                             []  \n",
              "3                                                                             []  \n",
              "4  [{\"url\": \"https://pbs.twimg.com/media/Ez-ldTGX0AERy4k.jpg\", \"type\": \"photo\"}]  "
            ],
            "text/html": [
              "<div>\n",
              "<style scoped>\n",
              "    .dataframe tbody tr th:only-of-type {\n",
              "        vertical-align: middle;\n",
              "    }\n",
              "\n",
              "    .dataframe tbody tr th {\n",
              "        vertical-align: top;\n",
              "    }\n",
              "\n",
              "    .dataframe thead th {\n",
              "        text-align: right;\n",
              "    }\n",
              "</style>\n",
              "<table border=\"1\" class=\"dataframe\">\n",
              "  <thead>\n",
              "    <tr style=\"text-align: right;\">\n",
              "      <th></th>\n",
              "      <th>created_at</th>\n",
              "      <th>id_str</th>\n",
              "      <th>conversation_id_str</th>\n",
              "      <th>full_text</th>\n",
              "      <th>lang</th>\n",
              "      <th>favorited</th>\n",
              "      <th>retweeted</th>\n",
              "      <th>retweet_count</th>\n",
              "      <th>favorite_count</th>\n",
              "      <th>reply_count</th>\n",
              "      <th>quote_count</th>\n",
              "      <th>quoted_status_id_str</th>\n",
              "      <th>quoted_status_short_url</th>\n",
              "      <th>quoted_status_expand_url</th>\n",
              "      <th>user_id_str</th>\n",
              "      <th>user_name</th>\n",
              "      <th>user_full_name</th>\n",
              "      <th>user_verified</th>\n",
              "      <th>in_reply_to_status_id_str</th>\n",
              "      <th>in_reply_to_user_id_str</th>\n",
              "      <th>hashtags</th>\n",
              "      <th>mentions</th>\n",
              "      <th>urls</th>\n",
              "      <th>media</th>\n",
              "    </tr>\n",
              "  </thead>\n",
              "  <tbody>\n",
              "    <tr>\n",
              "      <th>0</th>\n",
              "      <td>2021-04-27T11:42:01+00:00</td>\n",
              "      <td>1387009135707832321</td>\n",
              "      <td>1387009135707832321</td>\n",
              "      <td>Progreso gracias a los astronautas #Venezolanos #venezolano\\n#NoMásVenezolanos\\n#FueraVenezolanos\\n#LosBuenosSomosMas\\n@embajadave_pe\\n@carlosscull\\n@jguaido\\n@leopoldolopez\\n@AmnistiaOnline\\n@BancoMundialLAC https://t.co/ZdFHkHXd8n</td>\n",
              "      <td>es</td>\n",
              "      <td>False</td>\n",
              "      <td>False</td>\n",
              "      <td>0</td>\n",
              "      <td>0</td>\n",
              "      <td>0</td>\n",
              "      <td>0</td>\n",
              "      <td>NaN</td>\n",
              "      <td>NaN</td>\n",
              "      <td>NaN</td>\n",
              "      <td>1191707051707244545</td>\n",
              "      <td>GeorgioMonreal</td>\n",
              "      <td>Georgio Monreal</td>\n",
              "      <td>False</td>\n",
              "      <td>NaN</td>\n",
              "      <td>NaN</td>\n",
              "      <td>#Venezolanos , #venezolano , #NoMásVenezolanos , #FueraVenezolanos , #LosBuenosSomosMas</td>\n",
              "      <td>embajadave_pe , carlosscull , jguaido , leopoldolopez , AmnistiaOnline , BancoMundialLAC</td>\n",
              "      <td>NaN</td>\n",
              "      <td>[{\"url\": \"https://pbs.twimg.com/media/Ez-ldTGX0AERy4k.jpg\", \"type\": \"photo\"}]</td>\n",
              "    </tr>\n",
              "    <tr>\n",
              "      <th>1</th>\n",
              "      <td>2021-04-27T11:42:01+00:00</td>\n",
              "      <td>1387009135707832321</td>\n",
              "      <td>1387009135707832321</td>\n",
              "      <td>Progreso gracias a los astronautas #Venezolanos #venezolano\\n#NoMásVenezolanos\\n#FueraVenezolanos\\n#LosBuenosSomosMas\\n@embajadave_pe\\n@carlosscull\\n@jguaido\\n@leopoldolopez\\n@AmnistiaOnline\\n@BancoMundialLAC https://t.co/ZdFHkHXd8n</td>\n",
              "      <td>es</td>\n",
              "      <td>False</td>\n",
              "      <td>False</td>\n",
              "      <td>0</td>\n",
              "      <td>0</td>\n",
              "      <td>0</td>\n",
              "      <td>0</td>\n",
              "      <td>NaN</td>\n",
              "      <td>NaN</td>\n",
              "      <td>NaN</td>\n",
              "      <td>1191707051707244545</td>\n",
              "      <td>GeorgioMonreal</td>\n",
              "      <td>Georgio Monreal</td>\n",
              "      <td>False</td>\n",
              "      <td>NaN</td>\n",
              "      <td>NaN</td>\n",
              "      <td>#Venezolanos , #venezolano , #NoMásVenezolanos , #FueraVenezolanos , #LosBuenosSomosMas</td>\n",
              "      <td>embajadave_pe , carlosscull , jguaido , leopoldolopez , AmnistiaOnline , BancoMundialLAC</td>\n",
              "      <td>NaN</td>\n",
              "      <td>[{\"url\": \"https://pbs.twimg.com/media/Ez-ldTGX0AERy4k.jpg\", \"type\": \"photo\"}]</td>\n",
              "    </tr>\n",
              "    <tr>\n",
              "      <th>2</th>\n",
              "      <td>2021-05-05T22:42:35+00:00</td>\n",
              "      <td>1390074473827688453</td>\n",
              "      <td>1390074473827688453</td>\n",
              "      <td>Primera línea mis ovarios! Eso es primeras RATAS Y VENECOS #YaNoMas #AsistenciaMilitarEs #ADuqueLeDigo #CaliSeRespeta #fueravenezolanos</td>\n",
              "      <td>es</td>\n",
              "      <td>False</td>\n",
              "      <td>False</td>\n",
              "      <td>1</td>\n",
              "      <td>0</td>\n",
              "      <td>0</td>\n",
              "      <td>0</td>\n",
              "      <td>NaN</td>\n",
              "      <td>NaN</td>\n",
              "      <td>NaN</td>\n",
              "      <td>84917723</td>\n",
              "      <td>STANDUPSIANDO</td>\n",
              "      <td>YO COLOMBIA</td>\n",
              "      <td>False</td>\n",
              "      <td>NaN</td>\n",
              "      <td>NaN</td>\n",
              "      <td>#YaNoMas , #AsistenciaMilitarEs , #ADuqueLeDigo , #CaliSeRespeta , #fueravenezolanos</td>\n",
              "      <td>NaN</td>\n",
              "      <td>NaN</td>\n",
              "      <td>[]</td>\n",
              "    </tr>\n",
              "    <tr>\n",
              "      <th>3</th>\n",
              "      <td>2021-05-05T04:12:22+00:00</td>\n",
              "      <td>1389795079552970760</td>\n",
              "      <td>1389392610234707969</td>\n",
              "      <td>@Vllcarolina @perro0728 @IvanDuque Vaya señora periodista a Bogotá. Huila. Bucaramanga y reporte que los bandalos que dices decir están quemando los caí con piedritas como dices y hay policías heridos eso sí no lo dices\\n#FUERAPETRO\\n#FUERABANDALOS\\n#FUERAELN\\n#FUERALANARCOTALIA\\n#FUERAVENEZOLANOS</td>\n",
              "      <td>es</td>\n",
              "      <td>False</td>\n",
              "      <td>False</td>\n",
              "      <td>0</td>\n",
              "      <td>0</td>\n",
              "      <td>0</td>\n",
              "      <td>0</td>\n",
              "      <td>NaN</td>\n",
              "      <td>NaN</td>\n",
              "      <td>NaN</td>\n",
              "      <td>1357810817736077313</td>\n",
              "      <td>nataliahildred1</td>\n",
              "      <td>nataliahildred</td>\n",
              "      <td>False</td>\n",
              "      <td>1.389759e+18</td>\n",
              "      <td>3.089849e+09</td>\n",
              "      <td>#FUERAPETRO , #FUERABANDALOS , #FUERAELN , #FUERALANARCOTALIA , #FUERAVENEZOLANOS</td>\n",
              "      <td>Vllcarolina , perro0728 , IvanDuque</td>\n",
              "      <td>NaN</td>\n",
              "      <td>[]</td>\n",
              "    </tr>\n",
              "    <tr>\n",
              "      <th>4</th>\n",
              "      <td>2021-04-27T11:42:01+00:00</td>\n",
              "      <td>1387009135707832321</td>\n",
              "      <td>1387009135707832321</td>\n",
              "      <td>Progreso gracias a los astronautas #Venezolanos #venezolano\\n#NoMásVenezolanos\\n#FueraVenezolanos\\n#LosBuenosSomosMas\\n@embajadave_pe\\n@carlosscull\\n@jguaido\\n@leopoldolopez\\n@AmnistiaOnline\\n@BancoMundialLAC https://t.co/ZdFHkHXd8n</td>\n",
              "      <td>es</td>\n",
              "      <td>False</td>\n",
              "      <td>False</td>\n",
              "      <td>0</td>\n",
              "      <td>0</td>\n",
              "      <td>0</td>\n",
              "      <td>0</td>\n",
              "      <td>NaN</td>\n",
              "      <td>NaN</td>\n",
              "      <td>NaN</td>\n",
              "      <td>1191707051707244545</td>\n",
              "      <td>GeorgioMonreal</td>\n",
              "      <td>Georgio Monreal</td>\n",
              "      <td>False</td>\n",
              "      <td>NaN</td>\n",
              "      <td>NaN</td>\n",
              "      <td>#Venezolanos , #venezolano , #NoMásVenezolanos , #FueraVenezolanos , #LosBuenosSomosMas</td>\n",
              "      <td>embajadave_pe , carlosscull , jguaido , leopoldolopez , AmnistiaOnline , BancoMundialLAC</td>\n",
              "      <td>NaN</td>\n",
              "      <td>[{\"url\": \"https://pbs.twimg.com/media/Ez-ldTGX0AERy4k.jpg\", \"type\": \"photo\"}]</td>\n",
              "    </tr>\n",
              "  </tbody>\n",
              "</table>\n",
              "</div>"
            ]
          },
          "metadata": {},
          "execution_count": 8
        }
      ],
      "metadata": {
        "id": "6d774f07",
        "colab": {
          "base_uri": "https://localhost:8080/",
          "height": 988
        },
        "outputId": "97d4e089-be45-4182-d1a1-09e63df2f8d5"
      }
    },
    {
      "cell_type": "code",
      "execution_count": 9,
      "source": [
        "df3.dtypes"
      ],
      "outputs": [
        {
          "output_type": "execute_result",
          "data": {
            "text/plain": [
              "created_at                    object\n",
              "id_str                         int64\n",
              "conversation_id_str            int64\n",
              "full_text                     object\n",
              "lang                          object\n",
              "favorited                       bool\n",
              "retweeted                       bool\n",
              "retweet_count                  int64\n",
              "favorite_count                 int64\n",
              "reply_count                    int64\n",
              "quote_count                    int64\n",
              "quoted_status_id_str         float64\n",
              "quoted_status_short_url      float64\n",
              "quoted_status_expand_url     float64\n",
              "user_id_str                    int64\n",
              "user_name                     object\n",
              "user_full_name                object\n",
              "user_verified                   bool\n",
              "in_reply_to_status_id_str    float64\n",
              "in_reply_to_user_id_str      float64\n",
              "hashtags                      object\n",
              "mentions                      object\n",
              "urls                         float64\n",
              "media                         object\n",
              "dtype: object"
            ]
          },
          "metadata": {},
          "execution_count": 9
        }
      ],
      "metadata": {
        "id": "XU54kNJIyccs",
        "colab": {
          "base_uri": "https://localhost:8080/"
        },
        "outputId": "d099186b-7b29-44f3-f7a8-a3b321c14b1a"
      }
    },
    {
      "cell_type": "markdown",
      "source": [
        "## Download"
      ],
      "metadata": {
        "id": "nOonvJLzb4Zi"
      }
    },
    {
      "cell_type": "code",
      "execution_count": null,
      "source": [
        "files.download(f\"{CSV_PATH}/{hashtag}_tweets_stweet.csv\")"
      ],
      "outputs": [],
      "metadata": {
        "id": "cb10817c"
      }
    },
    {
      "cell_type": "markdown",
      "source": [
        "# Automatic scrap \n",
        "Given the hashtags present in the spreadsheet, it scraps tuits containing them between an specific date range and downloads the csv file generated."
      ],
      "metadata": {
        "id": "VWphlmWmjTs4"
      }
    },
    {
      "cell_type": "code",
      "execution_count": null,
      "source": [
        "hashtags = ['28DeAbril', '28A', 'ParoNacionalIndefinido', 'ColombiaSOS', 'ElParoNOPara', 'ColombiaResiste', '1Mayo', 'noalareformatributaria ', 'NoALaReformaALaSalud', 'PARONACIONAL28A', 'soscolombia', 'SOScolombiaDDHH', 'ParoNacional1M', 'NosEstanMatando', 'ColombiaResiste', 'soscolombiaendictadura', 'SOSColombiaNosEstanMatando', 'soscolombianoduerme', 'ColombiaSomosTodos', 'ParoNacionalIndefinido', 'SomosColombia', 'ColombiaAlertaRoja', 'SOSSiloe', 'CaliResiste', 'soscali', 'ParoNacional15M', 'ResisteColombia', 'VivaElParoNacional', 'PorUnMejorMañana', 'ColombiaEnAlertaRoja', 'ColombiaDDHH', 'NoMasViolencia', 'ParoMataBebes', 'ElParioViolaDDHH', 'RepudioAlVandalo', 'VandalosAsesinos', 'NosMasBloqueos', 'NosMasParo', 'ApoyoAMiPolicia', 'ConmocionInteriorYA', 'DejanosPasar', 'ParoDestructorSOS', 'PrimeraLinea', 'ParoNacional', 'NuestroProblemaEs', 'PrimeraLineaAsesina', 'comitedelparo', 'ElParoSigue', 'PrimeraLineaColombia', 'ElParoNoPuedeParar', 'AmorAPrimeraLínea']"
      ],
      "outputs": [],
      "metadata": {
        "id": "AOqR03-XpXGC"
      }
    },
    {
      "cell_type": "markdown",
      "source": [
        "## Stweet"
      ],
      "metadata": {
        "id": "cUtze57HmmAQ"
      }
    },
    {
      "cell_type": "code",
      "execution_count": null,
      "source": [
        "for i in range(0,len(hashtags)+10,10):\n",
        "  for hashtag in hashtags[i:(i+10)]:\n",
        "    start_date = \"2021-03-28\" #@param {type:\"date\"}\n",
        "    end_date = \"2021-08-25\" #@param {type:\"date\"}\n",
        "    for language in [\"SPANISH\",\"ENGLISH\"]:\n",
        "      flag = False \n",
        "      for r in arrow.Arrow.span_range('week', arrow.get(start_date), arrow.get(end_date)):\n",
        "        start, end = r\n",
        "        search_tweets_task = st.SearchTweetsTask(\n",
        "            all_words=f\"#{hashtag}\",\n",
        "            since = start,\n",
        "            until = end,\n",
        "            language = st.Language[language]\n",
        "        )\n",
        "        tweets_collector = st.CollectorTweetOutput()\n",
        "\n",
        "        st.TweetSearchRunner(\n",
        "            search_tweets_task=search_tweets_task,\n",
        "            tweet_outputs=[tweets_collector, st.CsvTweetOutput(f\"{CSV_PATH}/{hashtag}_{language}_tweets_stweet_temp.csv\")]\n",
        "        ).run()\n",
        "        df = pd.read_csv(f\"{CSV_PATH}/{hashtag}_{language}_tweets_stweet_temp.csv\")\n",
        "        if not flag: \n",
        "          df.to_csv((f\"{CSV_PATH}/{hashtag}_{language}_tweets_stweet.csv\"), index = False)  \n",
        "          flag = True \n",
        "        else: \n",
        "          df_original = pd.read_csv((f\"{CSV_PATH}/{hashtag}_{language}_tweets_stweet.csv\"))\n",
        "          df_original = pd.concat([df_original, df])\n",
        "          df_original.to_csv((f\"{CSV_PATH}/{hashtag}_{language}_tweets_stweet.csv\"), index = False)\n",
        "      #files.download(f\"{CSV_PATH}/{hashtag}_{language}_tweets_stweet.csv\")\n",
        "  time.sleep(120)"
      ],
      "outputs": [],
      "metadata": {
        "id": "YoFDzUn0jWmm",
        "cellView": "form"
      }
    }
  ]
}