{
  "nbformat": 4,
  "nbformat_minor": 5,
  "metadata": {
    "kernelspec": {
      "name": "python3",
      "display_name": "Python 3.8.8 64-bit ('base': conda)"
    },
    "language_info": {
      "codemirror_mode": {
        "name": "ipython",
        "version": 3
      },
      "file_extension": ".py",
      "mimetype": "text/x-python",
      "name": "python",
      "nbconvert_exporter": "python",
      "pygments_lexer": "ipython3",
      "version": "3.8.8"
    },
    "colab": {
      "name": "Interactive Twitter scrapers.ipynb",
      "provenance": [],
      "collapsed_sections": [
        "j0K77MkscffZ",
        "148cb934",
        "EjYCg_vTTIhD",
        "oaNiZuhHTMCM",
        "208a2237",
        "DAYTkeKcZRhY",
        "78aafcd9",
        "uO5ghedzb2lE",
        "nOonvJLzb4Zi",
        "cUtze57HmmAQ"
      ],
      "include_colab_link": true
    },
    "interpreter": {
      "hash": "1b007364462035d7d7debdcae39cd66c15ca9aac683a175d7d0391bdb85e582c"
    }
  },
  "cells": [
    {
      "cell_type": "code",
      "execution_count": 32,
      "source": [
        "import arrow\n",
        "import pandas as pd\n",
        "import os\n",
        "import time \n",
        "#from google.colab import files\n",
        "#import twint\n",
        "#import nest_asyncio\n",
        "#nest_asyncio.apply()\n",
        "\n",
        "#import snscrape.modules.twitter as sntwitter\n",
        "\n",
        "import stweet as st\n",
        "\n",
        "pd.set_option('display.max_colwidth', None)\n",
        "pd.set_option('display.max_columns', None)\n",
        "\n",
        "CSV_PATH = \"/Users/inna/Documents/GitHub/omdena-colombia-socialnetwork/src/data/task-1-data-scraping/Twitter\"\n",
        "#os.mkdir(CSV_PATH)"
      ],
      "outputs": [],
      "metadata": {
        "id": "2bGbetDgSERQ"
      }
    },
    {
      "cell_type": "markdown",
      "source": [
        "# Scraper-3 STweet\n",
        "This is one of the best API's in terms of adapting to changes in Twitter's API ( a recent change affected a lot of popular API's to extract tweets) It can find the changes and report failures to find the point of failure so that the owner or any other user can make a fix . It is also quite customizable and is very simple code to use and explore ( unlike TWINT where the name of exact parameters need to be remembered) \n",
        "Has a dedicated documentation and examples to go through\n",
        "[Github Repo](https://github.com/markowanga/stweet)"
      ],
      "metadata": {
        "id": "78aafcd9"
      }
    },
    {
      "cell_type": "code",
      "execution_count": 33,
      "source": [
        "start_date = \"2021-08-28\" #@param {type:\"date\"}\n",
        "end_date = \"2021-09-04\" #@param {type:\"date\"}\n",
        "hashtag = \"SOScolombiaDDHH\" #@param {type:\"string\"}\n",
        "language = \"ENGLISH\" #@param [\"SPANISH\", \"ENGLISH\"]\n",
        "\n",
        "flag = False \n",
        "for r in arrow.Arrow.span_range('week', arrow.get(start_date), arrow.get(end_date)):\n",
        "  start, end = r\n",
        "  search_tweets_task = st.SearchTweetsTask(\n",
        "      all_words=f\"#{hashtag}\",\n",
        "      since = start,\n",
        "      until = end,\n",
        "      language = st.Language[language]\n",
        "\n",
        "  )\n",
        "  tweets_collector = st.CollectorTweetOutput()\n",
        "  st.TweetSearchRunner(\n",
        "      search_tweets_task=search_tweets_task,\n",
        "      tweet_outputs=[tweets_collector, st.CsvTweetOutput(f\"{CSV_PATH}/{hashtag}_{language}_tweets_stweet_temp_newdata.csv\")]\n",
        "  ).run()\n",
        "  df = pd.read_csv(f\"{CSV_PATH}/{hashtag}_{language}_tweets_stweet_temp_newdata.csv\")\n",
        "  if not flag: \n",
        "    df.to_csv((f\"{CSV_PATH}/{hashtag}_{language}_tweets_stweet_newdata.csv\"), index = False)  \n",
        "    flag = True \n",
        "  else: \n",
        "    df_original = pd.read_csv((f\"{CSV_PATH}/{hashtag}_{language}_tweets_stweet_newdata.csv\"))\n",
        "    df_original = pd.concat([df_original, df])\n",
        "    df_original.to_csv((f\"{CSV_PATH}/{hashtag}_{language}_tweets_stweet_newdata.csv\"), index = False)"
      ],
      "outputs": [],
      "metadata": {
        "id": "f5171e0f",
        "cellView": "form"
      }
    },
    {
      "cell_type": "markdown",
      "source": [
        "## Preview"
      ],
      "metadata": {
        "id": "uO5ghedzb2lE"
      }
    },
    {
      "cell_type": "code",
      "execution_count": 25,
      "source": [
        "df3 = pd.read_csv(f\"{CSV_PATH}/{hashtag}_{language}_tweets_stweet.csv\")\n",
        "df3.head()"
      ],
      "outputs": [
        {
          "output_type": "execute_result",
          "data": {
            "text/plain": [
              "                  created_at               id_str  conversation_id_str  \\\n",
              "0  2021-08-29T22:27:21+00:00  1432107633847279616  1432038502645043201   \n",
              "1  2021-08-29T21:24:55+00:00  1432091922592583686  1432091922592583686   \n",
              "2  2021-08-29T21:08:03+00:00  1432087674630942731  1432087674630942731   \n",
              "3  2021-08-29T18:56:56+00:00  1432054679471595527  1432054679471595527   \n",
              "4  2021-08-29T18:25:31+00:00  1432046771837063173  1432046771837063173   \n",
              "\n",
              "                                                                                                                                                                                                                                                                                                               full_text  \\\n",
              "0  HILO EL ODIO DE NAYIBE\\nEsta mujer s la viva replica del matarife igual de sicopata\\n3\\n#SOSBogota \\n@pgn_col @DefensoriaCol\\n@CIDH @MisionONUCol @ONUHumanRights @JMVivancoHRW @personeriabta @UEenColombia @OEA_oficial @PoliciaBogota #soscolombia  @claudialopez @Bogota @PoliciaColombia https://t.co/IsNVkxFNCE   \n",
              "1                                                      @ONUHumanRights y @CourPenaleInt  detengan y juzguen el #GenocidioEnColombia\\n\\n#ColombiaEsUnaDictadura\\n#SOSColombia #ColombiaEnAlertaRoja  \\n#DDHH \\n#HumanRightsViolations  \\n#29A\\n#ProhibidoOlvidar\\n#PorLaPaz \\n#HoyPorLaVida \\n#DondeEstanLosDesaparecidos   \n",
              "2      En serio después de lo que han hecho ustedes creando venenos crueles e injustos, xenofobias y genocidios? \\nSon un asco estos tibios malditos uribistas solapados\\n#soscolombia #YoSoy1raLinea #colombiaendictadura #Colombia #ProgresistaSigueProgresista #AntiUribistaSigueAntiUribista https://t.co/khm3gRtx3B   \n",
              "3                                                                                                                               #NoMásViolenciaPolicial #SOSColombia #ParoNacional si quieres reportar un caso o requieres acompañamiento legal en Manizales, comunícate con un servicio ciudadano a la línea 3125458394   \n",
              "4                                                                        Las quiero recordar que inscriban sus cédulas, la lucha tiene que ser desde las calles hasta las urnas. \\n\\nNo más a las mismas ratas 🐀 en cargos de elección popular.\\n\\n#Elecciones2022 #SOSColombia #nosestanmatando https://t.co/APHHumnaWP   \n",
              "\n",
              "  lang  favorited  retweeted  retweet_count  favorite_count  reply_count  \\\n",
              "0   es      False      False              0               1            1   \n",
              "1   es      False      False              0               0            0   \n",
              "2   es      False      False              4               6            0   \n",
              "3   es      False      False              0               0            0   \n",
              "4   es      False      False              0               0            0   \n",
              "\n",
              "   quote_count  quoted_status_id_str  quoted_status_short_url  \\\n",
              "0            0                   NaN                      NaN   \n",
              "1            0          1.432082e+18                      NaN   \n",
              "2            0                   NaN                      NaN   \n",
              "3            0                   NaN                      NaN   \n",
              "4            0                   NaN                      NaN   \n",
              "\n",
              "   quoted_status_expand_url          user_id_str        user_name  \\\n",
              "0                       NaN            114084227  americavalerosa   \n",
              "1                       NaN           3155858063  Tweetsweethings   \n",
              "2                       NaN            114084227  americavalerosa   \n",
              "3                       NaN  1329812003096047616    LaPolaCapucha   \n",
              "4                       NaN  1431436560914948102     JuanCuencaPH   \n",
              "\n",
              "                   user_full_name  user_verified  in_reply_to_status_id_str  \\\n",
              "0  PRIMERA LÍNEA VIRTUAL COLOMBIA          False               1.432056e+18   \n",
              "1                               T          False                        NaN   \n",
              "2  PRIMERA LÍNEA VIRTUAL COLOMBIA          False                        NaN   \n",
              "3                 La Pola Capucha          False                        NaN   \n",
              "4                     Juan Cuenca          False                        NaN   \n",
              "\n",
              "   in_reply_to_user_id_str  \\\n",
              "0              114084227.0   \n",
              "1               95326483.0   \n",
              "2                      NaN   \n",
              "3                      NaN   \n",
              "4                      NaN   \n",
              "\n",
              "                                                                                                                                                                                                      hashtags  \\\n",
              "0                                                                                                                                                                                    #SOSBogota , #soscolombia   \n",
              "1  #GenocidioEnColombia , #ColombiaEsUnaDictadura , #SOSColombia , #ColombiaEnAlertaRoja , #DDHH , #HumanRightsViolations , #29A , #ProhibidoOlvidar , #PorLaPaz , #HoyPorLaVida , #DondeEstanLosDesaparecidos   \n",
              "2                                                                             #soscolombia , #YoSoy1raLinea , #colombiaendictadura , #Colombia , #ProgresistaSigueProgresista , #AntiUribistaSigueAntiUribista   \n",
              "3                                                                                                                                                       #NoMásViolenciaPolicial , #SOSColombia , #ParoNacional   \n",
              "4                                                                                                                                                            #Elecciones2022 , #SOSColombia , #nosestanmatando   \n",
              "\n",
              "                                                                                                                                                                               mentions  \\\n",
              "0  PGN_COL , DefensoriaCol , CIDH , MisionONUCol , ONUHumanRights , JMVivancoHRW , personeriabta , UEenColombia , OEA_oficial , PoliciaBogota , ClaudiaLopez , Bogota , PoliciaColombia   \n",
              "1                                                                                                                                                        ONUHumanRights , CourPenaleInt   \n",
              "2                                                                                                                                                                                   NaN   \n",
              "3                                                                                                                                                                                   NaN   \n",
              "4                                                                                                                                                                                   NaN   \n",
              "\n",
              "  urls  \\\n",
              "0  NaN   \n",
              "1  NaN   \n",
              "2  NaN   \n",
              "3  NaN   \n",
              "4  NaN   \n",
              "\n",
              "                                                                                                                    media  \n",
              "0  [{\"url\": \"https://pbs.twimg.com/ext_tw_video_thumb/1432106653181227012/pu/img/GUXi4STA51b6uaxe.jpg\", \"type\": \"photo\"}]  \n",
              "1                                                                                                                      []  \n",
              "2                                           [{\"url\": \"https://pbs.twimg.com/media/E9_MJCpWQAcNIgm.jpg\", \"type\": \"photo\"}]  \n",
              "3                                                                                                                      []  \n",
              "4                                           [{\"url\": \"https://pbs.twimg.com/media/E9-m8dyXEAgwYLt.jpg\", \"type\": \"photo\"}]  "
            ],
            "text/html": [
              "<div>\n",
              "<style scoped>\n",
              "    .dataframe tbody tr th:only-of-type {\n",
              "        vertical-align: middle;\n",
              "    }\n",
              "\n",
              "    .dataframe tbody tr th {\n",
              "        vertical-align: top;\n",
              "    }\n",
              "\n",
              "    .dataframe thead th {\n",
              "        text-align: right;\n",
              "    }\n",
              "</style>\n",
              "<table border=\"1\" class=\"dataframe\">\n",
              "  <thead>\n",
              "    <tr style=\"text-align: right;\">\n",
              "      <th></th>\n",
              "      <th>created_at</th>\n",
              "      <th>id_str</th>\n",
              "      <th>conversation_id_str</th>\n",
              "      <th>full_text</th>\n",
              "      <th>lang</th>\n",
              "      <th>favorited</th>\n",
              "      <th>retweeted</th>\n",
              "      <th>retweet_count</th>\n",
              "      <th>favorite_count</th>\n",
              "      <th>reply_count</th>\n",
              "      <th>quote_count</th>\n",
              "      <th>quoted_status_id_str</th>\n",
              "      <th>quoted_status_short_url</th>\n",
              "      <th>quoted_status_expand_url</th>\n",
              "      <th>user_id_str</th>\n",
              "      <th>user_name</th>\n",
              "      <th>user_full_name</th>\n",
              "      <th>user_verified</th>\n",
              "      <th>in_reply_to_status_id_str</th>\n",
              "      <th>in_reply_to_user_id_str</th>\n",
              "      <th>hashtags</th>\n",
              "      <th>mentions</th>\n",
              "      <th>urls</th>\n",
              "      <th>media</th>\n",
              "    </tr>\n",
              "  </thead>\n",
              "  <tbody>\n",
              "    <tr>\n",
              "      <th>0</th>\n",
              "      <td>2021-08-29T22:27:21+00:00</td>\n",
              "      <td>1432107633847279616</td>\n",
              "      <td>1432038502645043201</td>\n",
              "      <td>HILO EL ODIO DE NAYIBE\\nEsta mujer s la viva replica del matarife igual de sicopata\\n3\\n#SOSBogota \\n@pgn_col @DefensoriaCol\\n@CIDH @MisionONUCol @ONUHumanRights @JMVivancoHRW @personeriabta @UEenColombia @OEA_oficial @PoliciaBogota #soscolombia  @claudialopez @Bogota @PoliciaColombia https://t.co/IsNVkxFNCE</td>\n",
              "      <td>es</td>\n",
              "      <td>False</td>\n",
              "      <td>False</td>\n",
              "      <td>0</td>\n",
              "      <td>1</td>\n",
              "      <td>1</td>\n",
              "      <td>0</td>\n",
              "      <td>NaN</td>\n",
              "      <td>NaN</td>\n",
              "      <td>NaN</td>\n",
              "      <td>114084227</td>\n",
              "      <td>americavalerosa</td>\n",
              "      <td>PRIMERA LÍNEA VIRTUAL COLOMBIA</td>\n",
              "      <td>False</td>\n",
              "      <td>1.432056e+18</td>\n",
              "      <td>114084227.0</td>\n",
              "      <td>#SOSBogota , #soscolombia</td>\n",
              "      <td>PGN_COL , DefensoriaCol , CIDH , MisionONUCol , ONUHumanRights , JMVivancoHRW , personeriabta , UEenColombia , OEA_oficial , PoliciaBogota , ClaudiaLopez , Bogota , PoliciaColombia</td>\n",
              "      <td>NaN</td>\n",
              "      <td>[{\"url\": \"https://pbs.twimg.com/ext_tw_video_thumb/1432106653181227012/pu/img/GUXi4STA51b6uaxe.jpg\", \"type\": \"photo\"}]</td>\n",
              "    </tr>\n",
              "    <tr>\n",
              "      <th>1</th>\n",
              "      <td>2021-08-29T21:24:55+00:00</td>\n",
              "      <td>1432091922592583686</td>\n",
              "      <td>1432091922592583686</td>\n",
              "      <td>@ONUHumanRights y @CourPenaleInt  detengan y juzguen el #GenocidioEnColombia\\n\\n#ColombiaEsUnaDictadura\\n#SOSColombia #ColombiaEnAlertaRoja  \\n#DDHH \\n#HumanRightsViolations  \\n#29A\\n#ProhibidoOlvidar\\n#PorLaPaz \\n#HoyPorLaVida \\n#DondeEstanLosDesaparecidos</td>\n",
              "      <td>es</td>\n",
              "      <td>False</td>\n",
              "      <td>False</td>\n",
              "      <td>0</td>\n",
              "      <td>0</td>\n",
              "      <td>0</td>\n",
              "      <td>0</td>\n",
              "      <td>1.432082e+18</td>\n",
              "      <td>NaN</td>\n",
              "      <td>NaN</td>\n",
              "      <td>3155858063</td>\n",
              "      <td>Tweetsweethings</td>\n",
              "      <td>T</td>\n",
              "      <td>False</td>\n",
              "      <td>NaN</td>\n",
              "      <td>95326483.0</td>\n",
              "      <td>#GenocidioEnColombia , #ColombiaEsUnaDictadura , #SOSColombia , #ColombiaEnAlertaRoja , #DDHH , #HumanRightsViolations , #29A , #ProhibidoOlvidar , #PorLaPaz , #HoyPorLaVida , #DondeEstanLosDesaparecidos</td>\n",
              "      <td>ONUHumanRights , CourPenaleInt</td>\n",
              "      <td>NaN</td>\n",
              "      <td>[]</td>\n",
              "    </tr>\n",
              "    <tr>\n",
              "      <th>2</th>\n",
              "      <td>2021-08-29T21:08:03+00:00</td>\n",
              "      <td>1432087674630942731</td>\n",
              "      <td>1432087674630942731</td>\n",
              "      <td>En serio después de lo que han hecho ustedes creando venenos crueles e injustos, xenofobias y genocidios? \\nSon un asco estos tibios malditos uribistas solapados\\n#soscolombia #YoSoy1raLinea #colombiaendictadura #Colombia #ProgresistaSigueProgresista #AntiUribistaSigueAntiUribista https://t.co/khm3gRtx3B</td>\n",
              "      <td>es</td>\n",
              "      <td>False</td>\n",
              "      <td>False</td>\n",
              "      <td>4</td>\n",
              "      <td>6</td>\n",
              "      <td>0</td>\n",
              "      <td>0</td>\n",
              "      <td>NaN</td>\n",
              "      <td>NaN</td>\n",
              "      <td>NaN</td>\n",
              "      <td>114084227</td>\n",
              "      <td>americavalerosa</td>\n",
              "      <td>PRIMERA LÍNEA VIRTUAL COLOMBIA</td>\n",
              "      <td>False</td>\n",
              "      <td>NaN</td>\n",
              "      <td>NaN</td>\n",
              "      <td>#soscolombia , #YoSoy1raLinea , #colombiaendictadura , #Colombia , #ProgresistaSigueProgresista , #AntiUribistaSigueAntiUribista</td>\n",
              "      <td>NaN</td>\n",
              "      <td>NaN</td>\n",
              "      <td>[{\"url\": \"https://pbs.twimg.com/media/E9_MJCpWQAcNIgm.jpg\", \"type\": \"photo\"}]</td>\n",
              "    </tr>\n",
              "    <tr>\n",
              "      <th>3</th>\n",
              "      <td>2021-08-29T18:56:56+00:00</td>\n",
              "      <td>1432054679471595527</td>\n",
              "      <td>1432054679471595527</td>\n",
              "      <td>#NoMásViolenciaPolicial #SOSColombia #ParoNacional si quieres reportar un caso o requieres acompañamiento legal en Manizales, comunícate con un servicio ciudadano a la línea 3125458394</td>\n",
              "      <td>es</td>\n",
              "      <td>False</td>\n",
              "      <td>False</td>\n",
              "      <td>0</td>\n",
              "      <td>0</td>\n",
              "      <td>0</td>\n",
              "      <td>0</td>\n",
              "      <td>NaN</td>\n",
              "      <td>NaN</td>\n",
              "      <td>NaN</td>\n",
              "      <td>1329812003096047616</td>\n",
              "      <td>LaPolaCapucha</td>\n",
              "      <td>La Pola Capucha</td>\n",
              "      <td>False</td>\n",
              "      <td>NaN</td>\n",
              "      <td>NaN</td>\n",
              "      <td>#NoMásViolenciaPolicial , #SOSColombia , #ParoNacional</td>\n",
              "      <td>NaN</td>\n",
              "      <td>NaN</td>\n",
              "      <td>[]</td>\n",
              "    </tr>\n",
              "    <tr>\n",
              "      <th>4</th>\n",
              "      <td>2021-08-29T18:25:31+00:00</td>\n",
              "      <td>1432046771837063173</td>\n",
              "      <td>1432046771837063173</td>\n",
              "      <td>Las quiero recordar que inscriban sus cédulas, la lucha tiene que ser desde las calles hasta las urnas. \\n\\nNo más a las mismas ratas 🐀 en cargos de elección popular.\\n\\n#Elecciones2022 #SOSColombia #nosestanmatando https://t.co/APHHumnaWP</td>\n",
              "      <td>es</td>\n",
              "      <td>False</td>\n",
              "      <td>False</td>\n",
              "      <td>0</td>\n",
              "      <td>0</td>\n",
              "      <td>0</td>\n",
              "      <td>0</td>\n",
              "      <td>NaN</td>\n",
              "      <td>NaN</td>\n",
              "      <td>NaN</td>\n",
              "      <td>1431436560914948102</td>\n",
              "      <td>JuanCuencaPH</td>\n",
              "      <td>Juan Cuenca</td>\n",
              "      <td>False</td>\n",
              "      <td>NaN</td>\n",
              "      <td>NaN</td>\n",
              "      <td>#Elecciones2022 , #SOSColombia , #nosestanmatando</td>\n",
              "      <td>NaN</td>\n",
              "      <td>NaN</td>\n",
              "      <td>[{\"url\": \"https://pbs.twimg.com/media/E9-m8dyXEAgwYLt.jpg\", \"type\": \"photo\"}]</td>\n",
              "    </tr>\n",
              "  </tbody>\n",
              "</table>\n",
              "</div>"
            ]
          },
          "metadata": {},
          "execution_count": 25
        }
      ],
      "metadata": {
        "id": "6d774f07",
        "colab": {
          "base_uri": "https://localhost:8080/",
          "height": 988
        },
        "outputId": "97d4e089-be45-4182-d1a1-09e63df2f8d5"
      }
    },
    {
      "cell_type": "code",
      "execution_count": 21,
      "source": [
        "df3.dtypes"
      ],
      "outputs": [
        {
          "output_type": "execute_result",
          "data": {
            "text/plain": [
              "created_at                    object\n",
              "id_str                         int64\n",
              "conversation_id_str            int64\n",
              "full_text                     object\n",
              "lang                          object\n",
              "favorited                       bool\n",
              "retweeted                       bool\n",
              "retweet_count                  int64\n",
              "favorite_count                 int64\n",
              "reply_count                    int64\n",
              "quote_count                    int64\n",
              "quoted_status_id_str         float64\n",
              "quoted_status_short_url      float64\n",
              "quoted_status_expand_url     float64\n",
              "user_id_str                    int64\n",
              "user_name                     object\n",
              "user_full_name                object\n",
              "user_verified                   bool\n",
              "in_reply_to_status_id_str    float64\n",
              "in_reply_to_user_id_str      float64\n",
              "hashtags                      object\n",
              "mentions                      object\n",
              "urls                         float64\n",
              "media                         object\n",
              "dtype: object"
            ]
          },
          "metadata": {},
          "execution_count": 21
        }
      ],
      "metadata": {
        "id": "XU54kNJIyccs",
        "colab": {
          "base_uri": "https://localhost:8080/"
        },
        "outputId": "d099186b-7b29-44f3-f7a8-a3b321c14b1a"
      }
    },
    {
      "cell_type": "markdown",
      "source": [
        "## Download"
      ],
      "metadata": {
        "id": "nOonvJLzb4Zi"
      }
    },
    {
      "cell_type": "code",
      "execution_count": 22,
      "source": [
        "df3.to_csv(f\"{CSV_PATH}/{hashtag}_tweets_stweet.csv\")\n",
        "\n",
        "#files.download(f\"{CSV_PATH}/{hashtag}_tweets_stweet.csv\")"
      ],
      "outputs": [],
      "metadata": {
        "id": "cb10817c"
      }
    },
    {
      "cell_type": "markdown",
      "source": [
        "# Automatic scrap \n",
        "Given the hashtags present in the spreadsheet, it scraps tuits containing them between an specific date range and downloads the csv file generated."
      ],
      "metadata": {
        "id": "VWphlmWmjTs4"
      }
    },
    {
      "cell_type": "code",
      "execution_count": 11,
      "source": [
        "hashtags = ['28DeAbril', '28A', 'ParoNacionalIndefinido', 'ColombiaSOS', 'ElParoNOPara', 'ColombiaResiste', '1Mayo', 'noalareformatributaria ', 'NoALaReformaALaSalud', 'PARONACIONAL28A', 'soscolombia', 'SOScolombiaDDHH', 'ParoNacional1M', 'NosEstanMatando', 'ColombiaResiste', 'soscolombiaendictadura', 'SOSColombiaNosEstanMatando', 'soscolombianoduerme', 'ColombiaSomosTodos', 'ParoNacionalIndefinido', 'SomosColombia', 'ColombiaAlertaRoja', 'SOSSiloe', 'CaliResiste', 'soscali', 'ParoNacional15M', 'ResisteColombia', 'VivaElParoNacional', 'PorUnMejorMañana', 'ColombiaEnAlertaRoja', 'ColombiaDDHH', 'NoMasViolencia', 'ParoMataBebes', 'ElParioViolaDDHH', 'RepudioAlVandalo', 'VandalosAsesinos', 'NosMasBloqueos', 'NosMasParo', 'ApoyoAMiPolicia', 'ConmocionInteriorYA', 'DejanosPasar', 'ParoDestructorSOS', 'PrimeraLinea', 'ParoNacional', 'NuestroProblemaEs', 'PrimeraLineaAsesina', 'comitedelparo', 'ElParoSigue', 'PrimeraLineaColombia', 'ElParoNoPuedeParar', 'AmorAPrimeraLínea']"
      ],
      "outputs": [],
      "metadata": {
        "id": "AOqR03-XpXGC"
      }
    },
    {
      "cell_type": "markdown",
      "source": [
        "## Stweet"
      ],
      "metadata": {
        "id": "cUtze57HmmAQ"
      }
    },
    {
      "cell_type": "code",
      "execution_count": 10,
      "source": [
        "for i in range(0,len(hashtags)+10,10):\n",
        "  for hashtag in hashtags[i:(i+10)]:\n",
        "    start_date = \"2021-03-28\" #@param {type:\"date\"}\n",
        "    end_date = \"2021-08-25\" #@param {type:\"date\"}\n",
        "    for language in [\"SPANISH\",\"ENGLISH\"]:\n",
        "      flag = False \n",
        "      for r in arrow.Arrow.span_range('week', arrow.get(start_date), arrow.get(end_date)):\n",
        "        start, end = r\n",
        "        search_tweets_task = st.SearchTweetsTask(\n",
        "            all_words=f\"#{hashtag}\",\n",
        "            since = start,\n",
        "            until = end,\n",
        "            language = st.Language[language]\n",
        "        )\n",
        "        tweets_collector = st.CollectorTweetOutput()\n",
        "\n",
        "        st.TweetSearchRunner(\n",
        "            search_tweets_task=search_tweets_task,\n",
        "            tweet_outputs=[tweets_collector, st.CsvTweetOutput(f\"{CSV_PATH}/{hashtag}_{language}_tweets_stweet_temp.csv\")]\n",
        "        ).run()\n",
        "        df = pd.read_csv(f\"{CSV_PATH}/{hashtag}_{language}_tweets_stweet_temp.csv\")\n",
        "        if not flag: \n",
        "          df.to_csv((f\"{CSV_PATH}/{hashtag}_{language}_tweets_stweet.csv\"), index = False)  \n",
        "          flag = True \n",
        "        else: \n",
        "          df_original = pd.read_csv((f\"{CSV_PATH}/{hashtag}_{language}_tweets_stweet.csv\"))\n",
        "          df_original = pd.concat([df_original, df])\n",
        "          df_original.to_csv((f\"{CSV_PATH}/{hashtag}_{language}_tweets_stweet.csv\"), index = False)\n",
        "      #files.download(f\"{CSV_PATH}/{hashtag}_{language}_tweets_stweet.csv\")\n",
        "  time.sleep(120)"
      ],
      "outputs": [
        {
          "output_type": "error",
          "ename": "NameError",
          "evalue": "name 'hashtags' is not defined",
          "traceback": [
            "\u001b[0;31m---------------------------------------------------------------------------\u001b[0m",
            "\u001b[0;31mNameError\u001b[0m                                 Traceback (most recent call last)",
            "\u001b[0;32m<ipython-input-10-a1c220bc6f46>\u001b[0m in \u001b[0;36m<module>\u001b[0;34m\u001b[0m\n\u001b[0;32m----> 1\u001b[0;31m \u001b[0;32mfor\u001b[0m \u001b[0mi\u001b[0m \u001b[0;32min\u001b[0m \u001b[0mrange\u001b[0m\u001b[0;34m(\u001b[0m\u001b[0;36m0\u001b[0m\u001b[0;34m,\u001b[0m\u001b[0mlen\u001b[0m\u001b[0;34m(\u001b[0m\u001b[0mhashtags\u001b[0m\u001b[0;34m)\u001b[0m\u001b[0;34m+\u001b[0m\u001b[0;36m10\u001b[0m\u001b[0;34m,\u001b[0m\u001b[0;36m10\u001b[0m\u001b[0;34m)\u001b[0m\u001b[0;34m:\u001b[0m\u001b[0;34m\u001b[0m\u001b[0;34m\u001b[0m\u001b[0m\n\u001b[0m\u001b[1;32m      2\u001b[0m   \u001b[0;32mfor\u001b[0m \u001b[0mhashtag\u001b[0m \u001b[0;32min\u001b[0m \u001b[0mhashtags\u001b[0m\u001b[0;34m[\u001b[0m\u001b[0mi\u001b[0m\u001b[0;34m:\u001b[0m\u001b[0;34m(\u001b[0m\u001b[0mi\u001b[0m\u001b[0;34m+\u001b[0m\u001b[0;36m10\u001b[0m\u001b[0;34m)\u001b[0m\u001b[0;34m]\u001b[0m\u001b[0;34m:\u001b[0m\u001b[0;34m\u001b[0m\u001b[0;34m\u001b[0m\u001b[0m\n\u001b[1;32m      3\u001b[0m     \u001b[0mstart_date\u001b[0m \u001b[0;34m=\u001b[0m \u001b[0;34m\"2021-03-28\"\u001b[0m \u001b[0;31m#@param {type:\"date\"}\u001b[0m\u001b[0;34m\u001b[0m\u001b[0;34m\u001b[0m\u001b[0m\n\u001b[1;32m      4\u001b[0m     \u001b[0mend_date\u001b[0m \u001b[0;34m=\u001b[0m \u001b[0;34m\"2021-08-25\"\u001b[0m \u001b[0;31m#@param {type:\"date\"}\u001b[0m\u001b[0;34m\u001b[0m\u001b[0;34m\u001b[0m\u001b[0m\n\u001b[1;32m      5\u001b[0m     \u001b[0;32mfor\u001b[0m \u001b[0mlanguage\u001b[0m \u001b[0;32min\u001b[0m \u001b[0;34m[\u001b[0m\u001b[0;34m\"SPANISH\"\u001b[0m\u001b[0;34m,\u001b[0m\u001b[0;34m\"ENGLISH\"\u001b[0m\u001b[0;34m]\u001b[0m\u001b[0;34m:\u001b[0m\u001b[0;34m\u001b[0m\u001b[0;34m\u001b[0m\u001b[0m\n",
            "\u001b[0;31mNameError\u001b[0m: name 'hashtags' is not defined"
          ]
        }
      ],
      "metadata": {
        "id": "YoFDzUn0jWmm",
        "cellView": "form"
      }
    }
  ]
}