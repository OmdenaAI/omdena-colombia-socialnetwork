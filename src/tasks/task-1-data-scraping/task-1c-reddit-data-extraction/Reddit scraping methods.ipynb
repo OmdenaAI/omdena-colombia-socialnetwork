{
  "nbformat": 4,
  "nbformat_minor": 0,
  "metadata": {
    "colab": {
      "name": "reddit scrape.ipynb",
      "provenance": [],
      "collapsed_sections": []
    },
    "kernelspec": {
      "name": "python3",
      "display_name": "Python 3"
    },
    "language_info": {
      "name": "python"
    }
  },
  "cells": [
    {
      "cell_type": "markdown",
      "metadata": {
        "id": "gAJkQl-dt_l7"
      },
      "source": [
        "# Import and install useful libraries"
      ]
    },
    {
      "cell_type": "code",
      "metadata": {
        "id": "PZ2dDOCw63fj"
      },
      "source": [
        "!pip install praw -q\n",
        "!pip install psaw -q"
      ],
      "execution_count": 1,
      "outputs": []
    },
    {
      "cell_type": "code",
      "metadata": {
        "id": "ZQVovHZd63cz"
      },
      "source": [
        "import praw\n",
        "import pandas as pd\n",
        "from psaw import PushshiftAPI\n",
        "import datetime \n",
        "from google.colab import files\n",
        "pd.set_option('display.max_colwidth', None)\n",
        "pd.set_option('display.max_columns', None)"
      ],
      "execution_count": 2,
      "outputs": []
    },
    {
      "cell_type": "code",
      "metadata": {
        "colab": {
          "base_uri": "https://localhost:8080/"
        },
        "id": "6eWdN6iDFM5k",
        "outputId": "b1f20a9a-5f5a-4660-c70d-bed35923daa0"
      },
      "source": [
        "!mkdir CSV_FILES   # folder for saving the csv\n",
        "%cd /content/CSV_FILES"
      ],
      "execution_count": 3,
      "outputs": [
        {
          "output_type": "stream",
          "text": [
            "mkdir: cannot create directory ‘CSV_FILES’: File exists\n",
            "/content/CSV_FILES\n"
          ],
          "name": "stdout"
        }
      ]
    },
    {
      "cell_type": "markdown",
      "metadata": {
        "id": "4ir7sj5puE-R"
      },
      "source": [
        "# Authentication\n",
        "Follow this article https://towardsdatascience.com/scraping-reddit-data-1c0af3040768 to get your client id, secret and agent details."
      ]
    },
    {
      "cell_type": "code",
      "metadata": {
        "id": "qenvAvk363aM"
      },
      "source": [
        "# Authenticate\n",
        "my_client_id = ''\n",
        "my_client_secret = ''\n",
        "my_user_agent = ''\n",
        "api = PushshiftAPI()\n",
        "reddit = praw.Reddit(client_id=my_client_id, client_secret=my_client_secret, user_agent=my_user_agent, check_for_async=False)"
      ],
      "execution_count": 4,
      "outputs": []
    },
    {
      "cell_type": "markdown",
      "metadata": {
        "id": "WezKlkq0tXAS"
      },
      "source": [
        "# Extract comments by URL"
      ]
    },
    {
      "cell_type": "code",
      "metadata": {
        "id": "jdWgKdlw4c_u"
      },
      "source": [
        "# Function to scrape data from reddit and save it as a dataframe\n",
        "def reddit_scraper(urls):\n",
        "  posts_url = []\n",
        "  date_url = []\n",
        "  score_url = []\n",
        "  for url in urls:\n",
        "    submission = reddit.submission(url=url)\n",
        "    submission.comments.replace_more(limit=None)\n",
        "    for comment in submission.comments.list():\n",
        "      posts_url.append(comment.body)\n",
        "      date_url.append(comment.created_utc)\n",
        "      score_url.append(comment.score)\n",
        "  return posts_url, date_url, score_url"
      ],
      "execution_count": 5,
      "outputs": []
    },
    {
      "cell_type": "code",
      "metadata": {
        "id": "NcQoDQMi49_b"
      },
      "source": [
        "urls = [\n",
        "        'https://www.reddit.com/r/asklatinamerica/comments/n4fsua/what_the_fuck_is_going_on_in_colombia/',\n",
        "        'https://www.reddit.com/r/asklatinamerica/comments/nef330/colombians_and_non_colombians_are_you_aware_of/'\n",
        "    \n",
        "        ]\n",
        "\n",
        "df = pd.DataFrame(reddit_scraper(urls)).T"
      ],
      "execution_count": 6,
      "outputs": []
    },
    {
      "cell_type": "code",
      "metadata": {
        "colab": {
          "base_uri": "https://localhost:8080/",
          "height": 518
        },
        "id": "KfxCEtfb6R7X",
        "outputId": "d5c1be7c-69dd-4021-a30a-e35ff0bb294a"
      },
      "source": [
        "df"
      ],
      "execution_count": 7,
      "outputs": [
        {
          "output_type": "execute_result",
          "data": {
            "text/html": [
              "<div>\n",
              "<style scoped>\n",
              "    .dataframe tbody tr th:only-of-type {\n",
              "        vertical-align: middle;\n",
              "    }\n",
              "\n",
              "    .dataframe tbody tr th {\n",
              "        vertical-align: top;\n",
              "    }\n",
              "\n",
              "    .dataframe thead th {\n",
              "        text-align: right;\n",
              "    }\n",
              "</style>\n",
              "<table border=\"1\" class=\"dataframe\">\n",
              "  <thead>\n",
              "    <tr style=\"text-align: right;\">\n",
              "      <th></th>\n",
              "      <th>0</th>\n",
              "      <th>1</th>\n",
              "      <th>2</th>\n",
              "    </tr>\n",
              "  </thead>\n",
              "  <tbody>\n",
              "    <tr>\n",
              "      <th>0</th>\n",
              "      <td>[deleted]</td>\n",
              "      <td>1.62023e+09</td>\n",
              "      <td>7</td>\n",
              "    </tr>\n",
              "    <tr>\n",
              "      <th>1</th>\n",
              "      <td>The absolute state of the answers.\\n\\nShort response: We were protesting a tax reform and it's getting intense. Tax reform is done at this point it's pretty clear it's gonna continue because people are DONE with this government.\\n\\nPolice repression, military action, estate violence, it's all in full effect. \\n\\nLa policía está matando civiles en Cali. Y cada día está peor.</td>\n",
              "      <td>1.62013e+09</td>\n",
              "      <td>29</td>\n",
              "    </tr>\n",
              "    <tr>\n",
              "      <th>2</th>\n",
              "      <td>Nos emberracamos</td>\n",
              "      <td>1.62014e+09</td>\n",
              "      <td>3</td>\n",
              "    </tr>\n",
              "    <tr>\n",
              "      <th>3</th>\n",
              "      <td>Is there a good online source to follow this situation? Also, is it just Cali or other cities as well?</td>\n",
              "      <td>1.62014e+09</td>\n",
              "      <td>2</td>\n",
              "    </tr>\n",
              "    <tr>\n",
              "      <th>4</th>\n",
              "      <td>Fucking Duque</td>\n",
              "      <td>1.62014e+09</td>\n",
              "      <td>3</td>\n",
              "    </tr>\n",
              "    <tr>\n",
              "      <th>...</th>\n",
              "      <td>...</td>\n",
              "      <td>...</td>\n",
              "      <td>...</td>\n",
              "    </tr>\n",
              "    <tr>\n",
              "      <th>93</th>\n",
              "      <td>If you generate billions of dollars but it all pools at the top then you still haven't solved poverty. Reducing inequality is very effective at bringing people out of poverty.</td>\n",
              "      <td>1.62127e+09</td>\n",
              "      <td>1</td>\n",
              "    </tr>\n",
              "    <tr>\n",
              "      <th>94</th>\n",
              "      <td>New Zealand doesn't border the world's largest drug consumer who also sells weapons to the cartels. Reducing the government's size and power in countries like Mexico or Colombia would be insane for that same reason. Cartels would just step up and assume full political power.</td>\n",
              "      <td>1.62134e+09</td>\n",
              "      <td>0</td>\n",
              "    </tr>\n",
              "    <tr>\n",
              "      <th>95</th>\n",
              "      <td>Latin America is not producing \"billions of dollars\", if we reduce ineaquality to the GINI point of 0 (every person receives the same income), everybody would still be as poor as the lower classes of Europe. Iraq is two times more equal than Chile.</td>\n",
              "      <td>1.62132e+09</td>\n",
              "      <td>1</td>\n",
              "    </tr>\n",
              "    <tr>\n",
              "      <th>96</th>\n",
              "      <td>I'm saying if you were to create all that money, it is completely useless if it doesn't reach 99% of the population. Which it won't, because trickle-down economics are bullshit.\\n\\nAnd there are plenty of Latin American billionaires.</td>\n",
              "      <td>1.62134e+09</td>\n",
              "      <td>1</td>\n",
              "    </tr>\n",
              "    <tr>\n",
              "      <th>97</th>\n",
              "      <td>&gt;I'm saying if you were to create all that money, it is completely useless if it doesn't reach 99% of the population. Which it won't, because trickle-down economics are bullshit.\\n\\nTrickle-down economics is not an actual economic model. It was invented as a boogeyman by the democrat left in the United States and later got exported to the rest of the world. Market liberalism would never propose a capitalism model based on \"charity\" or vertical growth. Modern microeconomic theory is based on individual choice, action and motivation. \\n\\n99% seems a pretty arbritary number.</td>\n",
              "      <td>1.62137e+09</td>\n",
              "      <td>1</td>\n",
              "    </tr>\n",
              "  </tbody>\n",
              "</table>\n",
              "<p>98 rows × 3 columns</p>\n",
              "</div>"
            ],
            "text/plain": [
              "                                                                                                                                                                                                                                                                                                                                                                                                                                                                                                                                                                                                     0  \\\n",
              "0                                                                                                                                                                                                                                                                                                                                                                                                                                                                                                                                                                                            [deleted]   \n",
              "1                                                                                                                                                                                                             The absolute state of the answers.\\n\\nShort response: We were protesting a tax reform and it's getting intense. Tax reform is done at this point it's pretty clear it's gonna continue because people are DONE with this government.\\n\\nPolice repression, military action, estate violence, it's all in full effect. \\n\\nLa policía está matando civiles en Cali. Y cada día está peor.   \n",
              "2                                                                                                                                                                                                                                                                                                                                                                                                                                                                                                                                                                                     Nos emberracamos   \n",
              "3                                                                                                                                                                                                                                                                                                                                                                                                                                                                                               Is there a good online source to follow this situation? Also, is it just Cali or other cities as well?   \n",
              "4                                                                                                                                                                                                                                                                                                                                                                                                                                                                                                                                                                                        Fucking Duque   \n",
              "..                                                                                                                                                                                                                                                                                                                                                                                                                                                                                                                                                                                                 ...   \n",
              "93                                                                                                                                                                                                                                                                                                                                                                                                                     If you generate billions of dollars but it all pools at the top then you still haven't solved poverty. Reducing inequality is very effective at bringing people out of poverty.   \n",
              "94                                                                                                                                                                                                                                                                                                                 New Zealand doesn't border the world's largest drug consumer who also sells weapons to the cartels. Reducing the government's size and power in countries like Mexico or Colombia would be insane for that same reason. Cartels would just step up and assume full political power.   \n",
              "95                                                                                                                                                                                                                                                                                                                                            Latin America is not producing \"billions of dollars\", if we reduce ineaquality to the GINI point of 0 (every person receives the same income), everybody would still be as poor as the lower classes of Europe. Iraq is two times more equal than Chile.   \n",
              "96                                                                                                                                                                                                                                                                                                                                                           I'm saying if you were to create all that money, it is completely useless if it doesn't reach 99% of the population. Which it won't, because trickle-down economics are bullshit.\\n\\nAnd there are plenty of Latin American billionaires.   \n",
              "97  >I'm saying if you were to create all that money, it is completely useless if it doesn't reach 99% of the population. Which it won't, because trickle-down economics are bullshit.\\n\\nTrickle-down economics is not an actual economic model. It was invented as a boogeyman by the democrat left in the United States and later got exported to the rest of the world. Market liberalism would never propose a capitalism model based on \"charity\" or vertical growth. Modern microeconomic theory is based on individual choice, action and motivation. \\n\\n99% seems a pretty arbritary number.   \n",
              "\n",
              "              1   2  \n",
              "0   1.62023e+09   7  \n",
              "1   1.62013e+09  29  \n",
              "2   1.62014e+09   3  \n",
              "3   1.62014e+09   2  \n",
              "4   1.62014e+09   3  \n",
              "..          ...  ..  \n",
              "93  1.62127e+09   1  \n",
              "94  1.62134e+09   0  \n",
              "95  1.62132e+09   1  \n",
              "96  1.62134e+09   1  \n",
              "97  1.62137e+09   1  \n",
              "\n",
              "[98 rows x 3 columns]"
            ]
          },
          "metadata": {},
          "execution_count": 7
        }
      ]
    },
    {
      "cell_type": "markdown",
      "metadata": {
        "id": "QATSnCIdtddc"
      },
      "source": [
        "# Extract comments by keywords"
      ]
    },
    {
      "cell_type": "code",
      "metadata": {
        "id": "XuCSogaFXBrY"
      },
      "source": [
        "# Function to get the comments from subreddits results\n",
        "\n",
        "start_time = int(datetime.datetime(2021,4,1).timestamp())\n",
        "end_time = int(datetime.datetime(2021,8,29).timestamp())\n",
        "\n",
        "\n",
        "def get_comments(subreddit, keyword):\n",
        "  posts = []\n",
        "  date = []\n",
        "  score = []\n",
        "\n",
        "  # Get the URLs\n",
        "  submissions = list(api.search_submissions(after= start_time, before=end_time,\n",
        "                             subreddit = subreddit,\n",
        "                             q = keyword,\n",
        "                             filter = ['full_link', 'num_comments'],\n",
        "                             limit = 100))\n",
        "  sub = pd.DataFrame(submissions)\n",
        "  comments = sub[sub['num_comments']>0] #only posts with comments\n",
        "  comments.astype('str')\n",
        "  urls = comments['full_link'].tolist()\n",
        " \n",
        "# Get the comments\n",
        "  for url in urls:\n",
        "    submission = reddit.submission(url=url)\n",
        "    submission.comments.replace_more(limit=None)\n",
        "    for comment in submission.comments.list():\n",
        "      posts.append(comment.body)\n",
        "      date.append(comment.created_utc) \n",
        "      score.append(comment.score)\n",
        "  return posts, date, score\n"
      ],
      "execution_count": 8,
      "outputs": []
    },
    {
      "cell_type": "code",
      "metadata": {
        "id": "1LZTWf_DlxMN"
      },
      "source": [
        "# Creating dataframes for differents subreddits and keywords\n",
        "df1 = pd.DataFrame(get_comments('Colombia', 'paro')).transpose()   \n",
        "df2 = pd.DataFrame(get_comments('Colombia', 'protesta')).transpose()  \n",
        "df3 = pd.DataFrame(get_comments('Colombia', 'strike')).transpose()  \n",
        "df4 = pd.DataFrame(get_comments('Colombia', 'ddhh')).transpose()   "
      ],
      "execution_count": 9,
      "outputs": []
    },
    {
      "cell_type": "code",
      "metadata": {
        "colab": {
          "base_uri": "https://localhost:8080/",
          "height": 635
        },
        "id": "auwvVHkb4GBW",
        "outputId": "185bbb3c-793e-4666-eaa6-12e68fa4db02"
      },
      "source": [
        "# Data as a single dataframe\n",
        "reddit_data = pd.concat([df, df1, df2, df3, df4], ignore_index=True)\n",
        "reddit_data.rename(columns={0:'comment', 1:'date', 2:'score'}, inplace=True)\n",
        "reddit_data['date'] = pd.to_datetime(reddit_data['date'],unit='s')\n",
        "reddit_data.sort_values(by=['date'], inplace=True)\n",
        "reddit_data"
      ],
      "execution_count": 10,
      "outputs": [
        {
          "output_type": "execute_result",
          "data": {
            "text/html": [
              "<div>\n",
              "<style scoped>\n",
              "    .dataframe tbody tr th:only-of-type {\n",
              "        vertical-align: middle;\n",
              "    }\n",
              "\n",
              "    .dataframe tbody tr th {\n",
              "        vertical-align: top;\n",
              "    }\n",
              "\n",
              "    .dataframe thead th {\n",
              "        text-align: right;\n",
              "    }\n",
              "</style>\n",
              "<table border=\"1\" class=\"dataframe\">\n",
              "  <thead>\n",
              "    <tr style=\"text-align: right;\">\n",
              "      <th></th>\n",
              "      <th>comment</th>\n",
              "      <th>date</th>\n",
              "      <th>score</th>\n",
              "    </tr>\n",
              "  </thead>\n",
              "  <tbody>\n",
              "    <tr>\n",
              "      <th>1639</th>\n",
              "      <td>[removed]</td>\n",
              "      <td>2021-04-16 03:59:28</td>\n",
              "      <td>1</td>\n",
              "    </tr>\n",
              "    <tr>\n",
              "      <th>1641</th>\n",
              "      <td>Su post o comentario ha sido removido por violar la regla de auto-promoción o spam del sub.\\n\\nYour post or comment has been removed due to its violation of the self-promotion or spam rule of the sub.</td>\n",
              "      <td>2021-04-16 07:39:42</td>\n",
              "      <td>1</td>\n",
              "    </tr>\n",
              "    <tr>\n",
              "      <th>1640</th>\n",
              "      <td>El pan nuestro de cada día.</td>\n",
              "      <td>2021-04-16 15:00:21</td>\n",
              "      <td>1</td>\n",
              "    </tr>\n",
              "    <tr>\n",
              "      <th>1585</th>\n",
              "      <td>Asista bajo su propio riesgo, si finalmente va a asistir, lleve un morral con agua, mascarillas adicionales, alcohol en gel y pañitos húmedos, una gorra, use zapatos cómodos. No lleve billetera, solo vaya con un documento de identidad y solo dinero en efectivo. Tampoco lleve celular de alta gama, las situaciones se salen muy fácil de control y si puede ir acompañado y avisando a algún familiar o amigo en que parte se encuentra y establezca un sitio de recogida en caso que la situación no de más.\\n\\nSi la situación se sale de control, retírese del lugar, en las manifestaciones violentas los que pagan el \"pato\" son los menos experimentados o los curiosos.</td>\n",
              "      <td>2021-04-23 19:39:04</td>\n",
              "      <td>1</td>\n",
              "    </tr>\n",
              "    <tr>\n",
              "      <th>1586</th>\n",
              "      <td>Watasandia</td>\n",
              "      <td>2021-04-24 04:11:21</td>\n",
              "      <td>1</td>\n",
              "    </tr>\n",
              "    <tr>\n",
              "      <th>...</th>\n",
              "      <td>...</td>\n",
              "      <td>...</td>\n",
              "      <td>...</td>\n",
              "    </tr>\n",
              "    <tr>\n",
              "      <th>107</th>\n",
              "      <td>Por que proponen soluciones peores que los problemas actuales. \\n\\n\"R3nt4 b4s1c4 y4 p4rc3r0s\" LOL</td>\n",
              "      <td>2021-08-26 17:13:16</td>\n",
              "      <td>-8</td>\n",
              "    </tr>\n",
              "    <tr>\n",
              "      <th>104</th>\n",
              "      <td>Yo también quisiera ir el mes de septiembre pero esta en el nivel 4 en el Travel Advisory. Dice que hay terrorismo.</td>\n",
              "      <td>2021-08-26 21:16:19</td>\n",
              "      <td>0</td>\n",
              "    </tr>\n",
              "    <tr>\n",
              "      <th>101</th>\n",
              "      <td>No existe \"ilegalidad\" en el movimiento, el problema es cuando aparece la policía, usted puede unirse a la marcha sin problema, puede caminar por el anden al lado sin mezclarse con los marchantes, pero el problema es cuando aparece la policia, los negocios en general no cierran a menos que existan disturbios, por otro lado si necesita moverse es mejor evitar las vias donde hay marchas para no perder tiempo cruzando esas vias.</td>\n",
              "      <td>2021-08-26 23:26:52</td>\n",
              "      <td>2</td>\n",
              "    </tr>\n",
              "    <tr>\n",
              "      <th>103</th>\n",
              "      <td>Por 4 pelagatos que van no va a pasar nada, es pura bulla, ya nadie apoya a esa gente que no estudia ni trabaja, solo hacen \"paro nacional\" cada 8 días</td>\n",
              "      <td>2021-08-27 04:15:48</td>\n",
              "      <td>1</td>\n",
              "    </tr>\n",
              "    <tr>\n",
              "      <th>105</th>\n",
              "      <td>Hay paro? Según tiktok no</td>\n",
              "      <td>2021-08-27 17:13:45</td>\n",
              "      <td>1</td>\n",
              "    </tr>\n",
              "  </tbody>\n",
              "</table>\n",
              "<p>1733 rows × 3 columns</p>\n",
              "</div>"
            ],
            "text/plain": [
              "                                                                                                                                                                                                                                                                                                                                                                                                                                                                                                                                                                                                                                                                                    comment  \\\n",
              "1639                                                                                                                                                                                                                                                                                                                                                                                                                                                                                                                                                                                                                                                                              [removed]   \n",
              "1641                                                                                                                                                                                                                                                                                                                                                                                                                                                                               Su post o comentario ha sido removido por violar la regla de auto-promoción o spam del sub.\\n\\nYour post or comment has been removed due to its violation of the self-promotion or spam rule of the sub.   \n",
              "1640                                                                                                                                                                                                                                                                                                                                                                                                                                                                                                                                                                                                                                                            El pan nuestro de cada día.   \n",
              "1585  Asista bajo su propio riesgo, si finalmente va a asistir, lleve un morral con agua, mascarillas adicionales, alcohol en gel y pañitos húmedos, una gorra, use zapatos cómodos. No lleve billetera, solo vaya con un documento de identidad y solo dinero en efectivo. Tampoco lleve celular de alta gama, las situaciones se salen muy fácil de control y si puede ir acompañado y avisando a algún familiar o amigo en que parte se encuentra y establezca un sitio de recogida en caso que la situación no de más.\\n\\nSi la situación se sale de control, retírese del lugar, en las manifestaciones violentas los que pagan el \"pato\" son los menos experimentados o los curiosos.   \n",
              "1586                                                                                                                                                                                                                                                                                                                                                                                                                                                                                                                                                                                                                                                                             Watasandia   \n",
              "...                                                                                                                                                                                                                                                                                                                                                                                                                                                                                                                                                                                                                                                                                     ...   \n",
              "107                                                                                                                                                                                                                                                                                                                                                                                                                                                                                                                                                                                       Por que proponen soluciones peores que los problemas actuales. \\n\\n\"R3nt4 b4s1c4 y4 p4rc3r0s\" LOL   \n",
              "104                                                                                                                                                                                                                                                                                                                                                                                                                                                                                                                                                                     Yo también quisiera ir el mes de septiembre pero esta en el nivel 4 en el Travel Advisory. Dice que hay terrorismo.   \n",
              "101                                                                                                                                                                                                                                           No existe \"ilegalidad\" en el movimiento, el problema es cuando aparece la policía, usted puede unirse a la marcha sin problema, puede caminar por el anden al lado sin mezclarse con los marchantes, pero el problema es cuando aparece la policia, los negocios en general no cierran a menos que existan disturbios, por otro lado si necesita moverse es mejor evitar las vias donde hay marchas para no perder tiempo cruzando esas vias.   \n",
              "103                                                                                                                                                                                                                                                                                                                                                                                                                                                                                                                                 Por 4 pelagatos que van no va a pasar nada, es pura bulla, ya nadie apoya a esa gente que no estudia ni trabaja, solo hacen \"paro nacional\" cada 8 días   \n",
              "105                                                                                                                                                                                                                                                                                                                                                                                                                                                                                                                                                                                                                                                               Hay paro? Según tiktok no   \n",
              "\n",
              "                    date score  \n",
              "1639 2021-04-16 03:59:28     1  \n",
              "1641 2021-04-16 07:39:42     1  \n",
              "1640 2021-04-16 15:00:21     1  \n",
              "1585 2021-04-23 19:39:04     1  \n",
              "1586 2021-04-24 04:11:21     1  \n",
              "...                  ...   ...  \n",
              "107  2021-08-26 17:13:16    -8  \n",
              "104  2021-08-26 21:16:19     0  \n",
              "101  2021-08-26 23:26:52     2  \n",
              "103  2021-08-27 04:15:48     1  \n",
              "105  2021-08-27 17:13:45     1  \n",
              "\n",
              "[1733 rows x 3 columns]"
            ]
          },
          "metadata": {},
          "execution_count": 10
        }
      ]
    },
    {
      "cell_type": "code",
      "metadata": {
        "id": "80V92lIqmzwO"
      },
      "source": [
        "# Save as csv\n",
        "reddit_data.to_csv('reddit_data.csv')"
      ],
      "execution_count": 11,
      "outputs": []
    }
  ]
}