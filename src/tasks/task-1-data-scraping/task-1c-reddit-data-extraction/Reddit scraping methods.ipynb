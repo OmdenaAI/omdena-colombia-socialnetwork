{
  "nbformat": 4,
  "nbformat_minor": 0,
  "metadata": {
    "colab": {
      "name": "reddit scrape.ipynb",
      "provenance": [],
      "collapsed_sections": []
    },
    "kernelspec": {
      "name": "python3",
      "display_name": "Python 3"
    },
    "language_info": {
      "name": "python"
    }
  },
  "cells": [
    {
      "cell_type": "markdown",
      "metadata": {
        "id": "gAJkQl-dt_l7"
      },
      "source": [
        "# Import and install useful libraries"
      ]
    },
    {
      "cell_type": "code",
      "metadata": {
        "id": "PZ2dDOCw63fj"
      },
      "source": [
        "!pip install praw -q\n",
        "!pip install psaw -q"
      ],
      "execution_count": null,
      "outputs": []
    },
    {
      "cell_type": "code",
      "metadata": {
        "id": "ZQVovHZd63cz"
      },
      "source": [
        "import praw\n",
        "import pandas as pd\n",
        "from psaw import PushshiftAPI\n",
        "import datetime \n",
        "from google.colab import files\n",
        "pd.set_option('display.max_colwidth', None)\n",
        "pd.set_option('display.max_columns', None)"
      ],
      "execution_count": null,
      "outputs": []
    },
    {
      "cell_type": "code",
      "metadata": {
        "colab": {
          "base_uri": "https://localhost:8080/"
        },
        "id": "6eWdN6iDFM5k",
        "outputId": "c7fe417e-8c04-4c20-d430-7e63dc43fe5f"
      },
      "source": [
        "!mkdir CSV_FILES   # folder for saving the csv\n",
        "%cd /content/CSV_FILES"
      ],
      "execution_count": null,
      "outputs": [
        {
          "output_type": "stream",
          "text": [
            "mkdir: cannot create directory ‘CSV_FILES’: File exists\n",
            "/content/CSV_FILES\n"
          ],
          "name": "stdout"
        }
      ]
    },
    {
      "cell_type": "markdown",
      "metadata": {
        "id": "4ir7sj5puE-R"
      },
      "source": [
        "# Authentication\n",
        "Follow this article https://towardsdatascience.com/scraping-reddit-data-1c0af3040768 to get your client id, secret and agent details."
      ]
    },
    {
      "cell_type": "code",
      "metadata": {
        "id": "qenvAvk363aM"
      },
      "source": [
        "# Authenticate\n",
        "my_client_id = ''\n",
        "my_client_secret = ''\n",
        "my_user_agent = ''\n",
        "api = PushshiftAPI()\n",
        "reddit = praw.Reddit(client_id=my_client_id, client_secret=my_client_secret, user_agent=my_user_agent, check_for_async=False)"
      ],
      "execution_count": null,
      "outputs": []
    },
    {
      "cell_type": "markdown",
      "metadata": {
        "id": "WezKlkq0tXAS"
      },
      "source": [
        "# Extract comments by URL"
      ]
    },
    {
      "cell_type": "code",
      "metadata": {
        "id": "jdWgKdlw4c_u"
      },
      "source": [
        "# Function to scrape data from reddit and save it as a dataframe\n",
        "posts_url = []\n",
        "\n",
        "def reddit_scraper(urls):\n",
        "  for url in urls:\n",
        "    submission = reddit.submission(url=url)\n",
        "    submission.comments.replace_more(limit=None)\n",
        "    for comment in submission.comments.list():\n",
        "      posts_url.append(comment.body)\n",
        "  return posts_url"
      ],
      "execution_count": null,
      "outputs": []
    },
    {
      "cell_type": "code",
      "metadata": {
        "id": "NcQoDQMi49_b"
      },
      "source": [
        "urls = [\n",
        "        'https://www.reddit.com/r/asklatinamerica/comments/n4omdw/colombia_protests_megathread_all_colombia_related/',\n",
        "        'https://www.reddit.com/r/asklatinamerica/comments/n4fsua/what_the_fuck_is_going_on_in_colombia/',\n",
        "        'https://www.reddit.com/r/asklatinamerica/comments/nef330/colombians_and_non_colombians_are_you_aware_of/'\n",
        "        ]\n",
        "\n",
        "df = pd.DataFrame(reddit_scraper(urls),columns=[\"body\"])"
      ],
      "execution_count": null,
      "outputs": []
    },
    {
      "cell_type": "code",
      "metadata": {
        "colab": {
          "base_uri": "https://localhost:8080/",
          "height": 635
        },
        "id": "KfxCEtfb6R7X",
        "outputId": "cd4d51b9-9641-4c04-e412-63738a6bdf7b"
      },
      "source": [
        "df"
      ],
      "execution_count": null,
      "outputs": [
        {
          "output_type": "execute_result",
          "data": {
            "text/html": [
              "<div>\n",
              "<style scoped>\n",
              "    .dataframe tbody tr th:only-of-type {\n",
              "        vertical-align: middle;\n",
              "    }\n",
              "\n",
              "    .dataframe tbody tr th {\n",
              "        vertical-align: top;\n",
              "    }\n",
              "\n",
              "    .dataframe thead th {\n",
              "        text-align: right;\n",
              "    }\n",
              "</style>\n",
              "<table border=\"1\" class=\"dataframe\">\n",
              "  <thead>\n",
              "    <tr style=\"text-align: right;\">\n",
              "      <th></th>\n",
              "      <th>body</th>\n",
              "    </tr>\n",
              "  </thead>\n",
              "  <tbody>\n",
              "    <tr>\n",
              "      <th>0</th>\n",
              "      <td>Weekly discussion post will be restickied by tomorrow.\\n\\nEdit: please report comments that break rules. This thread has over 200 comments</td>\n",
              "    </tr>\n",
              "    <tr>\n",
              "      <th>1</th>\n",
              "      <td>How much the police brutality helped to the grow of the protest? People in favor of the government justified everything the police do?</td>\n",
              "    </tr>\n",
              "    <tr>\n",
              "      <th>2</th>\n",
              "      <td>Can someone explain the tax reform and what the governamment were proposing?</td>\n",
              "    </tr>\n",
              "    <tr>\n",
              "      <th>3</th>\n",
              "      <td>Argentinians in this thread rn are like that \"you guys are getting paid?!\" guy from the meme</td>\n",
              "    </tr>\n",
              "    <tr>\n",
              "      <th>4</th>\n",
              "      <td>It's interesting to see that the proposed tax reform for Colombia is very similar to the one the Costa Rican government is trying to pass as part of its commitments to the IMF for a relief plan.\\n\\nCR is in a similar deficit situation and, thanks to the pandemic, the previous fiscal reform (from 2018 which saw VAT added to services and income tax hikes) showed how short sighted it was in not doing anything to curb spending. So they proposed several taxes last year including more income tax hikes and tripling property taxes. This resulted in a series of protests which made the government backpedal.\\n\\nThey learned from the experience and now introduced the new reform as part of the IMF commitments, with the most vague and surreptitious wording, trying to confuse people and avoid more protests. Things are astonishingly similar to Colombia: lowering the exempt ceiling and changing income thresholds that at least for me will result in a very hefty tax burden increase. It will be interesting to see what happens here when it enters  actual discussion (the government does not have a majority and there are elections next year), so this unfortunate Colombia case can point a bit to what can happen here.</td>\n",
              "    </tr>\n",
              "    <tr>\n",
              "      <th>...</th>\n",
              "      <td>...</td>\n",
              "    </tr>\n",
              "    <tr>\n",
              "      <th>515</th>\n",
              "      <td>If you generate billions of dollars but it all pools at the top then you still haven't solved poverty. Reducing inequality is very effective at bringing people out of poverty.</td>\n",
              "    </tr>\n",
              "    <tr>\n",
              "      <th>516</th>\n",
              "      <td>New Zealand doesn't border the world's largest drug consumer who also sells weapons to the cartels. Reducing the government's size and power in countries like Mexico or Colombia would be insane for that same reason. Cartels would just step up and assume full political power.</td>\n",
              "    </tr>\n",
              "    <tr>\n",
              "      <th>517</th>\n",
              "      <td>Latin America is not producing \"billions of dollars\", if we reduce ineaquality to the GINI point of 0 (every person receives the same income), everybody would still be as poor as the lower classes of Europe. Iraq is two times more equal than Chile.</td>\n",
              "    </tr>\n",
              "    <tr>\n",
              "      <th>518</th>\n",
              "      <td>I'm saying if you were to create all that money, it is completely useless if it doesn't reach 99% of the population. Which it won't, because trickle-down economics are bullshit.\\n\\nAnd there are plenty of Latin American billionaires.</td>\n",
              "    </tr>\n",
              "    <tr>\n",
              "      <th>519</th>\n",
              "      <td>&gt;I'm saying if you were to create all that money, it is completely useless if it doesn't reach 99% of the population. Which it won't, because trickle-down economics are bullshit.\\n\\nTrickle-down economics is not an actual economic model. It was invented as a boogeyman by the democrat left in the United States and later got exported to the rest of the world. Market liberalism would never propose a capitalism model based on \"charity\" or vertical growth. Modern microeconomic theory is based on individual choice, action and motivation. \\n\\n99% seems a pretty arbritary number.</td>\n",
              "    </tr>\n",
              "  </tbody>\n",
              "</table>\n",
              "<p>520 rows × 1 columns</p>\n",
              "</div>"
            ],
            "text/plain": [
              "                                                                                                                                                                                                                                                                                                                                                                                                                                                                                                                                                                                                                                                                                                                                                                                                                                                                                                                                                                                                                                                                                                                                                                                                                                                             body\n",
              "0                                                                                                                                                                                                                                                                                                                                                                                                                                                                                                                                                                                                                                                                                                                                                                                                                                                                                                                                                                                                                                                                                                                      Weekly discussion post will be restickied by tomorrow.\\n\\nEdit: please report comments that break rules. This thread has over 200 comments\n",
              "1                                                                                                                                                                                                                                                                                                                                                                                                                                                                                                                                                                                                                                                                                                                                                                                                                                                                                                                                                                                                                                                                                                                          How much the police brutality helped to the grow of the protest? People in favor of the government justified everything the police do?\n",
              "2                                                                                                                                                                                                                                                                                                                                                                                                                                                                                                                                                                                                                                                                                                                                                                                                                                                                                                                                                                                                                                                                                                                                                                                    Can someone explain the tax reform and what the governamment were proposing?\n",
              "3                                                                                                                                                                                                                                                                                                                                                                                                                                                                                                                                                                                                                                                                                                                                                                                                                                                                                                                                                                                                                                                                                                                                                                    Argentinians in this thread rn are like that \"you guys are getting paid?!\" guy from the meme\n",
              "4    It's interesting to see that the proposed tax reform for Colombia is very similar to the one the Costa Rican government is trying to pass as part of its commitments to the IMF for a relief plan.\\n\\nCR is in a similar deficit situation and, thanks to the pandemic, the previous fiscal reform (from 2018 which saw VAT added to services and income tax hikes) showed how short sighted it was in not doing anything to curb spending. So they proposed several taxes last year including more income tax hikes and tripling property taxes. This resulted in a series of protests which made the government backpedal.\\n\\nThey learned from the experience and now introduced the new reform as part of the IMF commitments, with the most vague and surreptitious wording, trying to confuse people and avoid more protests. Things are astonishingly similar to Colombia: lowering the exempt ceiling and changing income thresholds that at least for me will result in a very hefty tax burden increase. It will be interesting to see what happens here when it enters  actual discussion (the government does not have a majority and there are elections next year), so this unfortunate Colombia case can point a bit to what can happen here.\n",
              "..                                                                                                                                                                                                                                                                                                                                                                                                                                                                                                                                                                                                                                                                                                                                                                                                                                                                                                                                                                                                                                                                                                                                                                                                                                                            ...\n",
              "515                                                                                                                                                                                                                                                                                                                                                                                                                                                                                                                                                                                                                                                                                                                                                                                                                                                                                                                                                                                                                                                                               If you generate billions of dollars but it all pools at the top then you still haven't solved poverty. Reducing inequality is very effective at bringing people out of poverty.\n",
              "516                                                                                                                                                                                                                                                                                                                                                                                                                                                                                                                                                                                                                                                                                                                                                                                                                                                                                                                                                                           New Zealand doesn't border the world's largest drug consumer who also sells weapons to the cartels. Reducing the government's size and power in countries like Mexico or Colombia would be insane for that same reason. Cartels would just step up and assume full political power.\n",
              "517                                                                                                                                                                                                                                                                                                                                                                                                                                                                                                                                                                                                                                                                                                                                                                                                                                                                                                                                                                                                      Latin America is not producing \"billions of dollars\", if we reduce ineaquality to the GINI point of 0 (every person receives the same income), everybody would still be as poor as the lower classes of Europe. Iraq is two times more equal than Chile.\n",
              "518                                                                                                                                                                                                                                                                                                                                                                                                                                                                                                                                                                                                                                                                                                                                                                                                                                                                                                                                                                                                                     I'm saying if you were to create all that money, it is completely useless if it doesn't reach 99% of the population. Which it won't, because trickle-down economics are bullshit.\\n\\nAnd there are plenty of Latin American billionaires.\n",
              "519                                                                                                                                                                                                                                                                                                                                                                                                                                                                                                                                                                                                                                                            >I'm saying if you were to create all that money, it is completely useless if it doesn't reach 99% of the population. Which it won't, because trickle-down economics are bullshit.\\n\\nTrickle-down economics is not an actual economic model. It was invented as a boogeyman by the democrat left in the United States and later got exported to the rest of the world. Market liberalism would never propose a capitalism model based on \"charity\" or vertical growth. Modern microeconomic theory is based on individual choice, action and motivation. \\n\\n99% seems a pretty arbritary number.\n",
              "\n",
              "[520 rows x 1 columns]"
            ]
          },
          "metadata": {},
          "execution_count": 7
        }
      ]
    },
    {
      "cell_type": "markdown",
      "metadata": {
        "id": "QATSnCIdtddc"
      },
      "source": [
        "# Extract comments by keywords"
      ]
    },
    {
      "cell_type": "code",
      "metadata": {
        "id": "XuCSogaFXBrY"
      },
      "source": [
        "# Function to get the comments from subreddits results\n",
        "\n",
        "start_time = int(datetime.datetime(2021,4,1).timestamp())\n",
        "end_time = int(datetime.datetime(2021,8,27).timestamp())\n",
        "posts = []\n",
        "\n",
        "def get_comments(subreddit, keyword):\n",
        "  # Get the URLs\n",
        "  submissions = list(api.search_submissions(after= start_time, before=end_time,\n",
        "                             subreddit = subreddit,\n",
        "                             q = keyword,\n",
        "                             filter = ['full_link', 'num_comments', ],\n",
        "                             limit = 100))\n",
        "  sub = pd.DataFrame(submissions)\n",
        "  comments = sub[sub['num_comments']>0] #only post with comments\n",
        "  comments.astype('str')\n",
        "  urls = comments['full_link'].tolist()\n",
        "# Get the comments\n",
        "  for url in urls:\n",
        "    submission = reddit.submission(url=url)\n",
        "    submission.comments.replace_more(limit=None)\n",
        "    for comment in submission.comments.list():\n",
        "      posts.append(comment.body)\n",
        "  return posts\n"
      ],
      "execution_count": null,
      "outputs": []
    },
    {
      "cell_type": "code",
      "metadata": {
        "id": "1LZTWf_DlxMN"
      },
      "source": [
        "# Creating dataframes for differents subreddits and keywords\n",
        "df1 = pd.DataFrame(get_comments('Colombia', 'paro'),columns=[\"body\"])    \n",
        "df2 = pd.DataFrame(get_comments('Colombia', 'protesta'),columns=[\"body\"])    \n",
        "df3 = pd.DataFrame(get_comments('Colombia', 'strike'),columns=[\"body\"])   \n",
        "df4 = pd.DataFrame(get_comments('Colombia', 'ddhh'),columns=[\"body\"])  "
      ],
      "execution_count": null,
      "outputs": []
    },
    {
      "cell_type": "code",
      "metadata": {
        "colab": {
          "base_uri": "https://localhost:8080/",
          "height": 652
        },
        "id": "auwvVHkb4GBW",
        "outputId": "eed91ed0-38f5-4e14-881c-6640f4c8a442"
      },
      "source": [
        "# Data as a single dataframe\n",
        "reddit_data = pd.concat([df, df1, df2, df3, df4], ignore_index=True )\n",
        "reddit_data"
      ],
      "execution_count": null,
      "outputs": [
        {
          "output_type": "execute_result",
          "data": {
            "text/html": [
              "<div>\n",
              "<style scoped>\n",
              "    .dataframe tbody tr th:only-of-type {\n",
              "        vertical-align: middle;\n",
              "    }\n",
              "\n",
              "    .dataframe tbody tr th {\n",
              "        vertical-align: top;\n",
              "    }\n",
              "\n",
              "    .dataframe thead th {\n",
              "        text-align: right;\n",
              "    }\n",
              "</style>\n",
              "<table border=\"1\" class=\"dataframe\">\n",
              "  <thead>\n",
              "    <tr style=\"text-align: right;\">\n",
              "      <th></th>\n",
              "      <th>body</th>\n",
              "    </tr>\n",
              "  </thead>\n",
              "  <tbody>\n",
              "    <tr>\n",
              "      <th>0</th>\n",
              "      <td>Weekly discussion post will be restickied by tomorrow.\\n\\nEdit: please report comments that break rules. This thread has over 200 comments</td>\n",
              "    </tr>\n",
              "    <tr>\n",
              "      <th>1</th>\n",
              "      <td>How much the police brutality helped to the grow of the protest? People in favor of the government justified everything the police do?</td>\n",
              "    </tr>\n",
              "    <tr>\n",
              "      <th>2</th>\n",
              "      <td>Can someone explain the tax reform and what the governamment were proposing?</td>\n",
              "    </tr>\n",
              "    <tr>\n",
              "      <th>3</th>\n",
              "      <td>Argentinians in this thread rn are like that \"you guys are getting paid?!\" guy from the meme</td>\n",
              "    </tr>\n",
              "    <tr>\n",
              "      <th>4</th>\n",
              "      <td>It's interesting to see that the proposed tax reform for Colombia is very similar to the one the Costa Rican government is trying to pass as part of its commitments to the IMF for a relief plan.\\n\\nCR is in a similar deficit situation and, thanks to the pandemic, the previous fiscal reform (from 2018 which saw VAT added to services and income tax hikes) showed how short sighted it was in not doing anything to curb spending. So they proposed several taxes last year including more income tax hikes and tripling property taxes. This resulted in a series of protests which made the government backpedal.\\n\\nThey learned from the experience and now introduced the new reform as part of the IMF commitments, with the most vague and surreptitious wording, trying to confuse people and avoid more protests. Things are astonishingly similar to Colombia: lowering the exempt ceiling and changing income thresholds that at least for me will result in a very hefty tax burden increase. It will be interesting to see what happens here when it enters  actual discussion (the government does not have a majority and there are elections next year), so this unfortunate Colombia case can point a bit to what can happen here.</td>\n",
              "    </tr>\n",
              "    <tr>\n",
              "      <th>...</th>\n",
              "      <td>...</td>\n",
              "    </tr>\n",
              "    <tr>\n",
              "      <th>6243</th>\n",
              "      <td>&gt;ColombianLivesMatter\\n\\nNo, porfavor...</td>\n",
              "    </tr>\n",
              "    <tr>\n",
              "      <th>6244</th>\n",
              "      <td>Totalmente de acuerdo con usted. De alguna manera la gente cree que rompiendo vidrios y robando tiendas el país va a progresar. Me encantaría saber cuál es la lógica detrás de eso.</td>\n",
              "    </tr>\n",
              "    <tr>\n",
              "      <th>6245</th>\n",
              "      <td>Dicen que es necesario porque no los han escuchado antes, porque llevan años protestando y nada, pero en realidad es la primera vez que protestan por esto.</td>\n",
              "    </tr>\n",
              "    <tr>\n",
              "      <th>6246</th>\n",
              "      <td>¿Cómo van a decir que llevan años protesta do por una reforma que se sacó hace unas semanas? Además, los actos vandálicos lo único que logran es desprestigiar la protesta, la gente en vez de apoyar le da la espalda a este tipo de movilizaciones precisamente cuando hay violencias.</td>\n",
              "    </tr>\n",
              "    <tr>\n",
              "      <th>6247</th>\n",
              "      <td>No me pregunte eso, yo no se. Pero la lógica de ellos es que llevan protestando toda la vida (así la mayoría no tenga ni 25 años) y nunca los escuchan. \\n\\nEn vez de ir al congreso a dar ponencias y así.\\n\\nYo siempre pongo el ejemplo de que los residentes médicos lograron ganarse un salario y los pilotos hace 3 años bloquearon el país en busca de mejores condiciones laborales (aunque los culearon diciendo que es un servicio vital básico cuando no lo es) sin romper un solo vidrio.\\nLa gente que va por la violencia se va es por el camino fácil y no por las vías que tienen para ser escuchados, esa es básicamente la historia de nuestro país desde la creación de las farc, pero ahora alimentado es por las redes sociales. Reddit también siempre está en el limbo entre progresismo y a veces pensamiento lógico. \\n\\nUno pensaría que porque se empapan más de conocimiento aquí pensarían pero no, aquí son a veces igual de basura que en Facebook.</td>\n",
              "    </tr>\n",
              "  </tbody>\n",
              "</table>\n",
              "<p>6248 rows × 1 columns</p>\n",
              "</div>"
            ],
            "text/plain": [
              "                                                                                                                                                                                                                                                                                                                                                                                                                                                                                                                                                                                                                                                                                                                                                                                                                                                                                                                                                                                                                                                                                                                                                                                                                                                              body\n",
              "0                                                                                                                                                                                                                                                                                                                                                                                                                                                                                                                                                                                                                                                                                                                                                                                                                                                                                                                                                                                                                                                                                                                       Weekly discussion post will be restickied by tomorrow.\\n\\nEdit: please report comments that break rules. This thread has over 200 comments\n",
              "1                                                                                                                                                                                                                                                                                                                                                                                                                                                                                                                                                                                                                                                                                                                                                                                                                                                                                                                                                                                                                                                                                                                           How much the police brutality helped to the grow of the protest? People in favor of the government justified everything the police do?\n",
              "2                                                                                                                                                                                                                                                                                                                                                                                                                                                                                                                                                                                                                                                                                                                                                                                                                                                                                                                                                                                                                                                                                                                                                                                     Can someone explain the tax reform and what the governamment were proposing?\n",
              "3                                                                                                                                                                                                                                                                                                                                                                                                                                                                                                                                                                                                                                                                                                                                                                                                                                                                                                                                                                                                                                                                                                                                                                     Argentinians in this thread rn are like that \"you guys are getting paid?!\" guy from the meme\n",
              "4     It's interesting to see that the proposed tax reform for Colombia is very similar to the one the Costa Rican government is trying to pass as part of its commitments to the IMF for a relief plan.\\n\\nCR is in a similar deficit situation and, thanks to the pandemic, the previous fiscal reform (from 2018 which saw VAT added to services and income tax hikes) showed how short sighted it was in not doing anything to curb spending. So they proposed several taxes last year including more income tax hikes and tripling property taxes. This resulted in a series of protests which made the government backpedal.\\n\\nThey learned from the experience and now introduced the new reform as part of the IMF commitments, with the most vague and surreptitious wording, trying to confuse people and avoid more protests. Things are astonishingly similar to Colombia: lowering the exempt ceiling and changing income thresholds that at least for me will result in a very hefty tax burden increase. It will be interesting to see what happens here when it enters  actual discussion (the government does not have a majority and there are elections next year), so this unfortunate Colombia case can point a bit to what can happen here.\n",
              "...                                                                                                                                                                                                                                                                                                                                                                                                                                                                                                                                                                                                                                                                                                                                                                                                                                                                                                                                                                                                                                                                                                                                                                                                                                                            ...\n",
              "6243                                                                                                                                                                                                                                                                                                                                                                                                                                                                                                                                                                                                                                                                                                                                                                                                                                                                                                                                                                                                                                                                                                                                                                                                                      >ColombianLivesMatter\\n\\nNo, porfavor...\n",
              "6244                                                                                                                                                                                                                                                                                                                                                                                                                                                                                                                                                                                                                                                                                                                                                                                                                                                                                                                                                                                                                                                                          Totalmente de acuerdo con usted. De alguna manera la gente cree que rompiendo vidrios y robando tiendas el país va a progresar. Me encantaría saber cuál es la lógica detrás de eso.\n",
              "6245                                                                                                                                                                                                                                                                                                                                                                                                                                                                                                                                                                                                                                                                                                                                                                                                                                                                                                                                                                                                                                                                                                   Dicen que es necesario porque no los han escuchado antes, porque llevan años protestando y nada, pero en realidad es la primera vez que protestan por esto.\n",
              "6246                                                                                                                                                                                                                                                                                                                                                                                                                                                                                                                                                                                                                                                                                                                                                                                                                                                                                                                                                                      ¿Cómo van a decir que llevan años protesta do por una reforma que se sacó hace unas semanas? Además, los actos vandálicos lo único que logran es desprestigiar la protesta, la gente en vez de apoyar le da la espalda a este tipo de movilizaciones precisamente cuando hay violencias.\n",
              "6247                                                                                                                                                                                                                                                                            No me pregunte eso, yo no se. Pero la lógica de ellos es que llevan protestando toda la vida (así la mayoría no tenga ni 25 años) y nunca los escuchan. \\n\\nEn vez de ir al congreso a dar ponencias y así.\\n\\nYo siempre pongo el ejemplo de que los residentes médicos lograron ganarse un salario y los pilotos hace 3 años bloquearon el país en busca de mejores condiciones laborales (aunque los culearon diciendo que es un servicio vital básico cuando no lo es) sin romper un solo vidrio.\\nLa gente que va por la violencia se va es por el camino fácil y no por las vías que tienen para ser escuchados, esa es básicamente la historia de nuestro país desde la creación de las farc, pero ahora alimentado es por las redes sociales. Reddit también siempre está en el limbo entre progresismo y a veces pensamiento lógico. \\n\\nUno pensaría que porque se empapan más de conocimiento aquí pensarían pero no, aquí son a veces igual de basura que en Facebook.\n",
              "\n",
              "[6248 rows x 1 columns]"
            ]
          },
          "metadata": {},
          "execution_count": 10
        }
      ]
    },
    {
      "cell_type": "code",
      "metadata": {
        "id": "80V92lIqmzwO"
      },
      "source": [
        "# Save as csv\n",
        "reddit_data.to_csv('reddit_data.csv')"
      ],
      "execution_count": null,
      "outputs": []
    }
  ]
}