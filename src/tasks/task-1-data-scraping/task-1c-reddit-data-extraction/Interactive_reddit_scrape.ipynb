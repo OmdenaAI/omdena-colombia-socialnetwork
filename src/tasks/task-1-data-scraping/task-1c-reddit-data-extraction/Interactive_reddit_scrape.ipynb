{
  "nbformat": 4,
  "nbformat_minor": 0,
  "metadata": {
    "colab": {
      "name": "Interactive reddit scrape.ipynb",
      "provenance": [],
      "collapsed_sections": [],
      "toc_visible": true,
      "include_colab_link": true
    },
    "kernelspec": {
      "name": "python3",
      "display_name": "Python 3"
    },
    "language_info": {
      "name": "python"
    }
  },
  "cells": [
    {
      "cell_type": "markdown",
      "metadata": {
        "id": "view-in-github",
        "colab_type": "text"
      },
      "source": [
        "<a href=\"https://colab.research.google.com/github/OmdenaAI/omdena-colombia-socialnetwork/blob/task-1c-reddit-data-extraction/src/tasks/task-1-data-scraping/task-1c-reddit-data-extraction/Interactive_reddit_scrape.ipynb\" target=\"_parent\"><img src=\"https://colab.research.google.com/assets/colab-badge.svg\" alt=\"Open In Colab\"/></a>"
      ]
    },
    {
      "cell_type": "markdown",
      "metadata": {
        "id": "gAJkQl-dt_l7"
      },
      "source": [
        "# Import and install useful libraries"
      ]
    },
    {
      "cell_type": "code",
      "metadata": {
        "id": "PZ2dDOCw63fj",
        "colab": {
          "base_uri": "https://localhost:8080/"
        },
        "outputId": "670b1bbf-b1ac-4204-ea5d-04735e41d2b3"
      },
      "source": [
        "!pip install praw -q\n",
        "!pip install psaw -q"
      ],
      "execution_count": 1,
      "outputs": [
        {
          "output_type": "stream",
          "text": [
            "\u001b[?25l\r\u001b[K     |██                              | 10 kB 16.0 MB/s eta 0:00:01\r\u001b[K     |████                            | 20 kB 18.5 MB/s eta 0:00:01\r\u001b[K     |█████▉                          | 30 kB 12.6 MB/s eta 0:00:01\r\u001b[K     |███████▉                        | 40 kB 10.3 MB/s eta 0:00:01\r\u001b[K     |█████████▉                      | 51 kB 5.7 MB/s eta 0:00:01\r\u001b[K     |███████████▊                    | 61 kB 6.3 MB/s eta 0:00:01\r\u001b[K     |█████████████▊                  | 71 kB 6.0 MB/s eta 0:00:01\r\u001b[K     |███████████████▋                | 81 kB 6.7 MB/s eta 0:00:01\r\u001b[K     |█████████████████▋              | 92 kB 6.6 MB/s eta 0:00:01\r\u001b[K     |███████████████████▋            | 102 kB 5.6 MB/s eta 0:00:01\r\u001b[K     |█████████████████████▌          | 112 kB 5.6 MB/s eta 0:00:01\r\u001b[K     |███████████████████████▌        | 122 kB 5.6 MB/s eta 0:00:01\r\u001b[K     |█████████████████████████▌      | 133 kB 5.6 MB/s eta 0:00:01\r\u001b[K     |███████████████████████████▍    | 143 kB 5.6 MB/s eta 0:00:01\r\u001b[K     |█████████████████████████████▍  | 153 kB 5.6 MB/s eta 0:00:01\r\u001b[K     |███████████████████████████████▎| 163 kB 5.6 MB/s eta 0:00:01\r\u001b[K     |████████████████████████████████| 167 kB 5.6 MB/s \n",
            "\u001b[?25h\u001b[?25l\r\u001b[K     |██████▏                         | 10 kB 20.8 MB/s eta 0:00:01\r\u001b[K     |████████████▍                   | 20 kB 25.5 MB/s eta 0:00:01\r\u001b[K     |██████████████████▋             | 30 kB 31.7 MB/s eta 0:00:01\r\u001b[K     |████████████████████████▉       | 40 kB 35.8 MB/s eta 0:00:01\r\u001b[K     |███████████████████████████████ | 51 kB 36.1 MB/s eta 0:00:01\r\u001b[K     |████████████████████████████████| 52 kB 848 kB/s \n",
            "\u001b[?25h"
          ],
          "name": "stdout"
        }
      ]
    },
    {
      "cell_type": "code",
      "metadata": {
        "id": "ZQVovHZd63cz"
      },
      "source": [
        "import praw\n",
        "import pandas as pd\n",
        "from psaw import PushshiftAPI\n",
        "import datetime \n",
        "from google.colab import files\n",
        "pd.set_option('display.max_colwidth', None)\n",
        "pd.set_option('display.max_columns', None)"
      ],
      "execution_count": 2,
      "outputs": []
    },
    {
      "cell_type": "code",
      "metadata": {
        "colab": {
          "base_uri": "https://localhost:8080/"
        },
        "id": "6eWdN6iDFM5k",
        "outputId": "d3c9adbf-2558-4b1d-b6aa-893b9c026b89"
      },
      "source": [
        "!mkdir CSV_FILES   # folder for saving the csv\n",
        "%cd /content/CSV_FILES"
      ],
      "execution_count": 3,
      "outputs": [
        {
          "output_type": "stream",
          "text": [
            "/content/CSV_FILES\n"
          ],
          "name": "stdout"
        }
      ]
    },
    {
      "cell_type": "markdown",
      "metadata": {
        "id": "4ir7sj5puE-R"
      },
      "source": [
        "# Authentication\n",
        "Follow this article https://towardsdatascience.com/scraping-reddit-data-1c0af3040768 to get your client id, secret and agent details."
      ]
    },
    {
      "cell_type": "code",
      "metadata": {
        "id": "qenvAvk363aM",
        "cellView": "form"
      },
      "source": [
        "# Authenticate\n",
        "my_client_id = '' #@param {type: \"string\"}\n",
        "my_client_secret = '' #@param {type: \"string\"}\n",
        "my_user_agent = '' #@param {type: \"string\"}\n",
        "api = PushshiftAPI()\n",
        "reddit = praw.Reddit(client_id=my_client_id, client_secret=my_client_secret, user_agent=my_user_agent, check_for_async=False)"
      ],
      "execution_count": 4,
      "outputs": []
    },
    {
      "cell_type": "markdown",
      "metadata": {
        "id": "WezKlkq0tXAS"
      },
      "source": [
        "# Extract comments by URL"
      ]
    },
    {
      "cell_type": "code",
      "metadata": {
        "id": "jdWgKdlw4c_u"
      },
      "source": [
        "# Function to scrape data from reddit and save it as a dataframe\n",
        "def reddit_scraper(urls):\n",
        "  posts_url = []\n",
        "  for url in urls:\n",
        "    submission = reddit.submission(url=url)\n",
        "    submission.comments.replace_more(limit=None)\n",
        "    for comment in submission.comments.list():\n",
        "      posts_url.append(comment.body)\n",
        "  return posts_url"
      ],
      "execution_count": 5,
      "outputs": []
    },
    {
      "cell_type": "code",
      "metadata": {
        "id": "NcQoDQMi49_b",
        "colab": {
          "base_uri": "https://localhost:8080/",
          "height": 531
        },
        "outputId": "1272e744-e680-4fd2-af2f-e07b6c478b6a"
      },
      "source": [
        "urls = ['https://www.reddit.com/r/Colombia/comments/n40s29/megathread_de_protestas_2021/', \n",
        "        'https://www.reddit.com/r/Colombia/comments/jrtyn0/para_ls_libertatis_de_colombia_consideran_que/', \n",
        "        'https://www.reddit.com/r/Colombia/comments/n2vzqr/colombia_est%C3%A1_pasando_por_un_momento_grav%C3%ADsimo_y/', \n",
        "        'https://www.reddit.com/r/Colombia/comments/n6bl52/quiero_felicitar_a_todos_los_colombianos_y/', \n",
        "        'https://www.reddit.com/r/Colombia/comments/n2vzqr/colombia_est%C3%A1_pasando_por_un_momento_grav%C3%ADsimo_y/', \n",
        "        'https://www.reddit.com/r/Colombia/comments/nfqunl/cu%C3%A1l_es_la_opinion_de_ustedes_sobre_los_bloqueos/', \n",
        "        'https://www.reddit.com/r/Colombia/comments/nbtnqc/%C3%A1lvaro_uribe_violencia_en_colombia_busca_tumbar/', \n",
        "        'https://www.reddit.com/r/Colombia/comments/owtv86/por_que_seguimos_perdiendo_el_tiempo_entre/']\n",
        "\n",
        "df = pd.DataFrame(reddit_scraper(urls),columns=[\"body\"])\n",
        "df"
      ],
      "execution_count": 14,
      "outputs": [
        {
          "output_type": "execute_result",
          "data": {
            "text/html": [
              "<div>\n",
              "<style scoped>\n",
              "    .dataframe tbody tr th:only-of-type {\n",
              "        vertical-align: middle;\n",
              "    }\n",
              "\n",
              "    .dataframe tbody tr th {\n",
              "        vertical-align: top;\n",
              "    }\n",
              "\n",
              "    .dataframe thead th {\n",
              "        text-align: right;\n",
              "    }\n",
              "</style>\n",
              "<table border=\"1\" class=\"dataframe\">\n",
              "  <thead>\n",
              "    <tr style=\"text-align: right;\">\n",
              "      <th></th>\n",
              "      <th>body</th>\n",
              "    </tr>\n",
              "  </thead>\n",
              "  <tbody>\n",
              "    <tr>\n",
              "      <th>0</th>\n",
              "      <td>Hola Amigos. I am a 25 year old born and raised in Canada to first generation Colombian parents. I speak fluent Spanish but I feel like I can express myself better in english. I was in Colombia for the first time 2 years ago on a solo 4 month backpacking trip and it was the best 4 months of my life. During that time I saw and experienced more of Colombia than my parents ever have. Colombians are the nicest people I have ever met. I could go on for days with stories of kind strangers. Everyone I met treated me like i was part of their family. It was the first time I was surrounded with my own people. Growing up in a suburban dominantly white neighbourhood, I had never experienced that. It was a very life changing experience. It made me so proud to be where I am from. The Colombian people's passion and patriotism is what really stood out for me. I am so proud of my brothers and sister for standing up to what is right. Seeing the news makes me so sad. I have been crying. Looking at videos of police brutality against civilians makes me tear up every time. It makes me very angry. I have lived an incredibly privileged life and feel like I shouldn't be getting so emotional over something that is not directly affecting my life here in Canada. I feel like an impostor or something. I just want to say I am sending my support and I wish I could help in anyway. Viva Colombia ❤️</td>\n",
              "    </tr>\n",
              "    <tr>\n",
              "      <th>1</th>\n",
              "      <td>Vivo en Tabio, un pueblo una hora al norte de Bogotá, las protestas son pacíficas pero con todo el perrenque... Soy nuevo en Reddit además y no sé cómo adjuntar una foto xdd</td>\n",
              "    </tr>\n",
              "    <tr>\n",
              "      <th>2</th>\n",
              "      <td>[deleted]</td>\n",
              "    </tr>\n",
              "    <tr>\n",
              "      <th>3</th>\n",
              "      <td>Fuerza desde Argentina hermanos.  \\n\\n\\nDuque y Uribe estan cometiendo delitos de lesa humanidad.</td>\n",
              "    </tr>\n",
              "    <tr>\n",
              "      <th>4</th>\n",
              "      <td>Acabo de revisar Twitter y las etiquetas uribistas han sido inundadas de fancams. El activismo social de los fanáticos de K-Pop me divierte y me confunde en igual medida.</td>\n",
              "    </tr>\n",
              "    <tr>\n",
              "      <th>...</th>\n",
              "      <td>...</td>\n",
              "    </tr>\n",
              "    <tr>\n",
              "      <th>212</th>\n",
              "      <td>Criptomonedas!y NUNCA tratarse con Cámara de Comercio NUNCA!</td>\n",
              "    </tr>\n",
              "    <tr>\n",
              "      <th>213</th>\n",
              "      <td>Si la deforestación para siembra y vías en lugares cada vez más lejanos no es un daño ecológico o si el uso de glifosato para acabar terrenos cultivados (en pausa) o los vertimientos accidentales de químicos en laboratorios de producción no son un daño ecológico, me temo que le falta embarrarse las botas después de andar por trochas en área rural de Colombia.</td>\n",
              "    </tr>\n",
              "    <tr>\n",
              "      <th>214</th>\n",
              "      <td>Le pido que de cifras especificas por favor</td>\n",
              "    </tr>\n",
              "    <tr>\n",
              "      <th>215</th>\n",
              "      <td>Es fácil desvirtuar con comodidades en vez de tener una conversación como mencionó el OP de alguien que en diferentes regiones ha aprendido un par de lecciones que van más allá del bien y el mal.</td>\n",
              "    </tr>\n",
              "    <tr>\n",
              "      <th>216</th>\n",
              "      <td>Podría al menos decir cuántas hectareas son deforestadas? Cuánto vale el glifosato? Lo veo diciendo cosas con muy poca sustancia.</td>\n",
              "    </tr>\n",
              "  </tbody>\n",
              "</table>\n",
              "<p>217 rows × 1 columns</p>\n",
              "</div>"
            ],
            "text/plain": [
              "                                                                                                                                                                                                                                                                                                                                                                                                                                                                                                                                                                                                                                                                                                                                                                                                                                                                                                                                                                                                                                                                                                                                                                                                                                                                                                                                                                                                                                            body\n",
              "0    Hola Amigos. I am a 25 year old born and raised in Canada to first generation Colombian parents. I speak fluent Spanish but I feel like I can express myself better in english. I was in Colombia for the first time 2 years ago on a solo 4 month backpacking trip and it was the best 4 months of my life. During that time I saw and experienced more of Colombia than my parents ever have. Colombians are the nicest people I have ever met. I could go on for days with stories of kind strangers. Everyone I met treated me like i was part of their family. It was the first time I was surrounded with my own people. Growing up in a suburban dominantly white neighbourhood, I had never experienced that. It was a very life changing experience. It made me so proud to be where I am from. The Colombian people's passion and patriotism is what really stood out for me. I am so proud of my brothers and sister for standing up to what is right. Seeing the news makes me so sad. I have been crying. Looking at videos of police brutality against civilians makes me tear up every time. It makes me very angry. I have lived an incredibly privileged life and feel like I shouldn't be getting so emotional over something that is not directly affecting my life here in Canada. I feel like an impostor or something. I just want to say I am sending my support and I wish I could help in anyway. Viva Colombia ❤️\n",
              "1                                                                                                                                                                                                                                                                                                                                                                                                                                                                                                                                                                                                                                                                                                                                                                                                                                                                                                                                                                                                                                                                                                                                                                                                                                                                  Vivo en Tabio, un pueblo una hora al norte de Bogotá, las protestas son pacíficas pero con todo el perrenque... Soy nuevo en Reddit además y no sé cómo adjuntar una foto xdd\n",
              "2                                                                                                                                                                                                                                                                                                                                                                                                                                                                                                                                                                                                                                                                                                                                                                                                                                                                                                                                                                                                                                                                                                                                                                                                                                                                                                                                                                                                                                      [deleted]\n",
              "3                                                                                                                                                                                                                                                                                                                                                                                                                                                                                                                                                                                                                                                                                                                                                                                                                                                                                                                                                                                                                                                                                                                                                                                                                                                                                                                                              Fuerza desde Argentina hermanos.  \\n\\n\\nDuque y Uribe estan cometiendo delitos de lesa humanidad.\n",
              "4                                                                                                                                                                                                                                                                                                                                                                                                                                                                                                                                                                                                                                                                                                                                                                                                                                                                                                                                                                                                                                                                                                                                                                                                                                                                     Acabo de revisar Twitter y las etiquetas uribistas han sido inundadas de fancams. El activismo social de los fanáticos de K-Pop me divierte y me confunde en igual medida.\n",
              "..                                                                                                                                                                                                                                                                                                                                                                                                                                                                                                                                                                                                                                                                                                                                                                                                                                                                                                                                                                                                                                                                                                                                                                                                                                                                                                                                                                                                                                           ...\n",
              "212                                                                                                                                                                                                                                                                                                                                                                                                                                                                                                                                                                                                                                                                                                                                                                                                                                                                                                                                                                                                                                                                                                                                                                                                                                                                                                                                                                                 Criptomonedas!y NUNCA tratarse con Cámara de Comercio NUNCA!\n",
              "213                                                                                                                                                                                                                                                                                                                                                                                                                                                                                                                                                                                                                                                                                                                                                                                                                                                                                                                                                                                                                                                                    Si la deforestación para siembra y vías en lugares cada vez más lejanos no es un daño ecológico o si el uso de glifosato para acabar terrenos cultivados (en pausa) o los vertimientos accidentales de químicos en laboratorios de producción no son un daño ecológico, me temo que le falta embarrarse las botas después de andar por trochas en área rural de Colombia.\n",
              "214                                                                                                                                                                                                                                                                                                                                                                                                                                                                                                                                                                                                                                                                                                                                                                                                                                                                                                                                                                                                                                                                                                                                                                                                                                                                                                                                                                                                  Le pido que de cifras especificas por favor\n",
              "215                                                                                                                                                                                                                                                                                                                                                                                                                                                                                                                                                                                                                                                                                                                                                                                                                                                                                                                                                                                                                                                                                                                                                                                                                                          Es fácil desvirtuar con comodidades en vez de tener una conversación como mencionó el OP de alguien que en diferentes regiones ha aprendido un par de lecciones que van más allá del bien y el mal.\n",
              "216                                                                                                                                                                                                                                                                                                                                                                                                                                                                                                                                                                                                                                                                                                                                                                                                                                                                                                                                                                                                                                                                                                                                                                                                                                                                                                            Podría al menos decir cuántas hectareas son deforestadas? Cuánto vale el glifosato? Lo veo diciendo cosas con muy poca sustancia.\n",
              "\n",
              "[217 rows x 1 columns]"
            ]
          },
          "metadata": {},
          "execution_count": 14
        }
      ]
    },
    {
      "cell_type": "markdown",
      "metadata": {
        "id": "QATSnCIdtddc"
      },
      "source": [
        "# Extract comments by keywords"
      ]
    },
    {
      "cell_type": "code",
      "metadata": {
        "id": "XuCSogaFXBrY",
        "cellView": "form"
      },
      "source": [
        "# Function to get the comments from subreddits results\n",
        "start_date = '2021-04-01'  #@param {type: \"date\"}\n",
        "end_date = '2021-08-27'  #@param {type: \"date\"}\n",
        "limit =   100#@param {type: \"number\"}\n",
        "\n",
        "year_1, month_1, day_1 = [int(x) for x in start_date.split(\"-\")]\n",
        "year_2, month_2, day_2 = [int(x) for x in end_date.split(\"-\")]\n",
        "\n",
        "start_time = int(datetime.datetime(year_1,month_1,day_1).timestamp())\n",
        "end_time = int(datetime.datetime(year_2,month_2,day_2).timestamp())\n",
        "\n",
        "def get_comments(subreddit, keyword):\n",
        "  posts = []\n",
        "  # Get the URLs\n",
        "  submissions = list(api.search_submissions(after= start_time, before=end_time,\n",
        "                             subreddit = subreddit,\n",
        "                             q = keyword,\n",
        "                             filter = ['full_link', 'num_comments', ],\n",
        "                             limit = limit))\n",
        "  sub = pd.DataFrame(submissions)\n",
        "  comments = sub[sub['num_comments']>0] #only post with comments\n",
        "  comments.astype('str')\n",
        "  urls = comments['full_link'].tolist()\n",
        "# Get the comments\n",
        "  for url in urls:\n",
        "    submission = reddit.submission(url=url)\n",
        "    submission.comments.replace_more(limit=None)\n",
        "    for comment in submission.comments.list():\n",
        "      posts.append(comment.body)\n",
        "  return posts\n"
      ],
      "execution_count": 15,
      "outputs": []
    },
    {
      "cell_type": "code",
      "metadata": {
        "id": "CeYS-3XDIuRm",
        "colab": {
          "base_uri": "https://localhost:8080/",
          "height": 431
        },
        "outputId": "34c18dad-745c-4fc9-bc72-7142f8aa6b4d"
      },
      "source": [
        "keywords = [\"protest\"]\n",
        "# Creating dataframes for differents subreddits and keywords\n",
        "dfs = [pd.DataFrame(get_comments('Colombia', keyword),columns=[\"body\"]) for keyword in keywords]\n",
        "dfs.append(df)\n",
        "# Data as a single dataframe\n",
        "reddit_data = pd.concat(dfs, ignore_index=True)\n",
        "reddit_data"
      ],
      "execution_count": 16,
      "outputs": [
        {
          "output_type": "execute_result",
          "data": {
            "text/html": [
              "<div>\n",
              "<style scoped>\n",
              "    .dataframe tbody tr th:only-of-type {\n",
              "        vertical-align: middle;\n",
              "    }\n",
              "\n",
              "    .dataframe tbody tr th {\n",
              "        vertical-align: top;\n",
              "    }\n",
              "\n",
              "    .dataframe thead th {\n",
              "        text-align: right;\n",
              "    }\n",
              "</style>\n",
              "<table border=\"1\" class=\"dataframe\">\n",
              "  <thead>\n",
              "    <tr style=\"text-align: right;\">\n",
              "      <th></th>\n",
              "      <th>body</th>\n",
              "    </tr>\n",
              "  </thead>\n",
              "  <tbody>\n",
              "    <tr>\n",
              "      <th>0</th>\n",
              "      <td>Que Lamparas</td>\n",
              "    </tr>\n",
              "    <tr>\n",
              "      <th>1</th>\n",
              "      <td>Y no esta muerto hasta donde se, solo estaba convulsiónando</td>\n",
              "    </tr>\n",
              "    <tr>\n",
              "      <th>2</th>\n",
              "      <td>Cali?</td>\n",
              "    </tr>\n",
              "    <tr>\n",
              "      <th>3</th>\n",
              "      <td>tipico comunista dando pena</td>\n",
              "    </tr>\n",
              "    <tr>\n",
              "      <th>4</th>\n",
              "      <td>Contexto? Que paso?</td>\n",
              "    </tr>\n",
              "    <tr>\n",
              "      <th>...</th>\n",
              "      <td>...</td>\n",
              "    </tr>\n",
              "    <tr>\n",
              "      <th>393</th>\n",
              "      <td>Criptomonedas!y NUNCA tratarse con Cámara de Comercio NUNCA!</td>\n",
              "    </tr>\n",
              "    <tr>\n",
              "      <th>394</th>\n",
              "      <td>Si la deforestación para siembra y vías en lugares cada vez más lejanos no es un daño ecológico o si el uso de glifosato para acabar terrenos cultivados (en pausa) o los vertimientos accidentales de químicos en laboratorios de producción no son un daño ecológico, me temo que le falta embarrarse las botas después de andar por trochas en área rural de Colombia.</td>\n",
              "    </tr>\n",
              "    <tr>\n",
              "      <th>395</th>\n",
              "      <td>Le pido que de cifras especificas por favor</td>\n",
              "    </tr>\n",
              "    <tr>\n",
              "      <th>396</th>\n",
              "      <td>Es fácil desvirtuar con comodidades en vez de tener una conversación como mencionó el OP de alguien que en diferentes regiones ha aprendido un par de lecciones que van más allá del bien y el mal.</td>\n",
              "    </tr>\n",
              "    <tr>\n",
              "      <th>397</th>\n",
              "      <td>Podría al menos decir cuántas hectareas son deforestadas? Cuánto vale el glifosato? Lo veo diciendo cosas con muy poca sustancia.</td>\n",
              "    </tr>\n",
              "  </tbody>\n",
              "</table>\n",
              "<p>398 rows × 1 columns</p>\n",
              "</div>"
            ],
            "text/plain": [
              "                                                                                                                                                                                                                                                                                                                                                                          body\n",
              "0                                                                                                                                                                                                                                                                                                                                                                 Que Lamparas\n",
              "1                                                                                                                                                                                                                                                                                                                  Y no esta muerto hasta donde se, solo estaba convulsiónando\n",
              "2                                                                                                                                                                                                                                                                                                                                                                        Cali?\n",
              "3                                                                                                                                                                                                                                                                                                                                                  tipico comunista dando pena\n",
              "4                                                                                                                                                                                                                                                                                                                                                          Contexto? Que paso?\n",
              "..                                                                                                                                                                                                                                                                                                                                                                         ...\n",
              "393                                                                                                                                                                                                                                                                                                               Criptomonedas!y NUNCA tratarse con Cámara de Comercio NUNCA!\n",
              "394  Si la deforestación para siembra y vías en lugares cada vez más lejanos no es un daño ecológico o si el uso de glifosato para acabar terrenos cultivados (en pausa) o los vertimientos accidentales de químicos en laboratorios de producción no son un daño ecológico, me temo que le falta embarrarse las botas después de andar por trochas en área rural de Colombia.\n",
              "395                                                                                                                                                                                                                                                                                                                                Le pido que de cifras especificas por favor\n",
              "396                                                                                                                                                                        Es fácil desvirtuar con comodidades en vez de tener una conversación como mencionó el OP de alguien que en diferentes regiones ha aprendido un par de lecciones que van más allá del bien y el mal.\n",
              "397                                                                                                                                                                                                                                          Podría al menos decir cuántas hectareas son deforestadas? Cuánto vale el glifosato? Lo veo diciendo cosas con muy poca sustancia.\n",
              "\n",
              "[398 rows x 1 columns]"
            ]
          },
          "metadata": {},
          "execution_count": 16
        }
      ]
    },
    {
      "cell_type": "code",
      "metadata": {
        "id": "80V92lIqmzwO",
        "colab": {
          "base_uri": "https://localhost:8080/",
          "height": 16
        },
        "outputId": "f9bed552-47de-4a2f-e3d3-0f5d74303ace"
      },
      "source": [
        "# Save as csv\n",
        "reddit_data.to_csv('reddit_data_2.csv')\n",
        "files.download('reddit_data_2.csv')"
      ],
      "execution_count": 10,
      "outputs": [
        {
          "output_type": "display_data",
          "data": {
            "application/javascript": [
              "\n",
              "    async function download(id, filename, size) {\n",
              "      if (!google.colab.kernel.accessAllowed) {\n",
              "        return;\n",
              "      }\n",
              "      const div = document.createElement('div');\n",
              "      const label = document.createElement('label');\n",
              "      label.textContent = `Downloading \"${filename}\": `;\n",
              "      div.appendChild(label);\n",
              "      const progress = document.createElement('progress');\n",
              "      progress.max = size;\n",
              "      div.appendChild(progress);\n",
              "      document.body.appendChild(div);\n",
              "\n",
              "      const buffers = [];\n",
              "      let downloaded = 0;\n",
              "\n",
              "      const channel = await google.colab.kernel.comms.open(id);\n",
              "      // Send a message to notify the kernel that we're ready.\n",
              "      channel.send({})\n",
              "\n",
              "      for await (const message of channel.messages) {\n",
              "        // Send a message to notify the kernel that we're ready.\n",
              "        channel.send({})\n",
              "        if (message.buffers) {\n",
              "          for (const buffer of message.buffers) {\n",
              "            buffers.push(buffer);\n",
              "            downloaded += buffer.byteLength;\n",
              "            progress.value = downloaded;\n",
              "          }\n",
              "        }\n",
              "      }\n",
              "      const blob = new Blob(buffers, {type: 'application/binary'});\n",
              "      const a = document.createElement('a');\n",
              "      a.href = window.URL.createObjectURL(blob);\n",
              "      a.download = filename;\n",
              "      div.appendChild(a);\n",
              "      a.click();\n",
              "      div.remove();\n",
              "    }\n",
              "  "
            ],
            "text/plain": [
              "<IPython.core.display.Javascript object>"
            ]
          },
          "metadata": {}
        },
        {
          "output_type": "display_data",
          "data": {
            "application/javascript": [
              "download(\"download_e39a9411-86fc-4223-b35d-3289e2c063e4\", \"reddit_data_2.csv\", 151231)"
            ],
            "text/plain": [
              "<IPython.core.display.Javascript object>"
            ]
          },
          "metadata": {}
        }
      ]
    }
  ]
}