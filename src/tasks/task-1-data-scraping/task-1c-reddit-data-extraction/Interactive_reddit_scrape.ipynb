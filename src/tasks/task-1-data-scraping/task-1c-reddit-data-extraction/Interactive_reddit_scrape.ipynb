{
  "nbformat": 4,
  "nbformat_minor": 0,
  "metadata": {
    "colab": {
      "name": "Interactive reddit scrape.ipynb",
      "provenance": [],
      "collapsed_sections": [],
      "toc_visible": true,
      "include_colab_link": true
    },
    "kernelspec": {
      "name": "python3",
      "display_name": "Python 3"
    },
    "language_info": {
      "name": "python"
    }
  },
  "cells": [
    {
      "cell_type": "markdown",
      "metadata": {
        "id": "view-in-github",
        "colab_type": "text"
      },
      "source": [
        "<a href=\"https://colab.research.google.com/github/OmdenaAI/omdena-colombia-socialnetwork/blob/task-1c-reddit-data-extraction/src/tasks/task-1-data-scraping/task-1c-reddit-data-extraction/Interactive_reddit_scrape.ipynb\" target=\"_parent\"><img src=\"https://colab.research.google.com/assets/colab-badge.svg\" alt=\"Open In Colab\"/></a>"
      ]
    },
    {
      "cell_type": "markdown",
      "metadata": {
        "id": "gAJkQl-dt_l7"
      },
      "source": [
        "# Import and install useful libraries"
      ]
    },
    {
      "cell_type": "code",
      "metadata": {
        "id": "PZ2dDOCw63fj",
        "colab": {
          "base_uri": "https://localhost:8080/"
        },
        "outputId": "440148e2-6890-489b-e24a-cb56d78e6985"
      },
      "source": [
        "!pip install praw -q\n",
        "!pip install psaw -q"
      ],
      "execution_count": null,
      "outputs": [
        {
          "output_type": "stream",
          "name": "stdout",
          "text": [
            "\u001b[K     |████████████████████████████████| 167 kB 4.8 MB/s \n",
            "\u001b[K     |████████████████████████████████| 52 kB 810 kB/s \n",
            "\u001b[?25h"
          ]
        }
      ]
    },
    {
      "cell_type": "code",
      "metadata": {
        "id": "ZQVovHZd63cz"
      },
      "source": [
        "import praw\n",
        "import pandas as pd\n",
        "from psaw import PushshiftAPI\n",
        "import datetime \n",
        "from google.colab import files\n",
        "pd.set_option('display.max_colwidth', None)\n",
        "pd.set_option('display.max_columns', None)"
      ],
      "execution_count": null,
      "outputs": []
    },
    {
      "cell_type": "code",
      "metadata": {
        "colab": {
          "base_uri": "https://localhost:8080/"
        },
        "id": "6eWdN6iDFM5k",
        "outputId": "862dea23-8ce6-4400-959a-ebc21735d864"
      },
      "source": [
        "!mkdir CSV_FILES   # folder for saving the csv\n",
        "%cd /content/CSV_FILES"
      ],
      "execution_count": null,
      "outputs": [
        {
          "output_type": "stream",
          "name": "stdout",
          "text": [
            "/content/CSV_FILES\n"
          ]
        }
      ]
    },
    {
      "cell_type": "markdown",
      "metadata": {
        "id": "4ir7sj5puE-R"
      },
      "source": [
        "# Authentication\n",
        "Follow this article https://towardsdatascience.com/scraping-reddit-data-1c0af3040768 to get your client id, secret and agent details."
      ]
    },
    {
      "cell_type": "code",
      "metadata": {
        "id": "qenvAvk363aM",
        "cellView": "form"
      },
      "source": [
        "# Authenticate\n",
        "my_client_id = '' #@param {type: \"string\"}\n",
        "my_client_secret = '' #@param {type: \"string\"}\n",
        "my_user_agent = '' #@param {type: \"string\"}\n",
        "api = PushshiftAPI()\n",
        "reddit = praw.Reddit(client_id=my_client_id, client_secret=my_client_secret, user_agent=my_user_agent, check_for_async=False)"
      ],
      "execution_count": null,
      "outputs": []
    },
    {
      "cell_type": "markdown",
      "metadata": {
        "id": "WezKlkq0tXAS"
      },
      "source": [
        "# Extract comments by URL"
      ]
    },
    {
      "cell_type": "code",
      "metadata": {
        "id": "jdWgKdlw4c_u"
      },
      "source": [
        "# Function to scrape data from reddit and save it as a dataframe\n",
        "def reddit_scraper(urls):\n",
        "  posts_url = []\n",
        "  date_url = []\n",
        "  score_url = []\n",
        "  for url in urls:\n",
        "    submission = reddit.submission(url=url)\n",
        "    submission.comments.replace_more(limit=None)\n",
        "    for comment in submission.comments.list():\n",
        "      posts_url.append(comment.body)\n",
        "      date_url.append(comment.created_utc)\n",
        "      score_url.append(comment.score)\n",
        "  return posts_url, date_url, score_url"
      ],
      "execution_count": null,
      "outputs": []
    },
    {
      "cell_type": "code",
      "metadata": {
        "id": "NcQoDQMi49_b",
        "colab": {
          "base_uri": "https://localhost:8080/",
          "height": 604
        },
        "outputId": "f1c43aac-8a78-4cf6-81bd-69bba86bca40"
      },
      "source": [
        "urls = ['https://www.reddit.com/r/Colombia/comments/n40s29/megathread_de_protestas_2021/', \n",
        "        'https://www.reddit.com/r/Colombia/comments/jrtyn0/para_ls_libertatis_de_colombia_consideran_que/', \n",
        "        'https://www.reddit.com/r/Colombia/comments/n2vzqr/colombia_est%C3%A1_pasando_por_un_momento_grav%C3%ADsimo_y/', \n",
        "        'https://www.reddit.com/r/Colombia/comments/n6bl52/quiero_felicitar_a_todos_los_colombianos_y/', \n",
        "        'https://www.reddit.com/r/Colombia/comments/n2vzqr/colombia_est%C3%A1_pasando_por_un_momento_grav%C3%ADsimo_y/', \n",
        "        'https://www.reddit.com/r/Colombia/comments/nfqunl/cu%C3%A1l_es_la_opinion_de_ustedes_sobre_los_bloqueos/', \n",
        "        'https://www.reddit.com/r/Colombia/comments/nbtnqc/%C3%A1lvaro_uribe_violencia_en_colombia_busca_tumbar/', \n",
        "        'https://www.reddit.com/r/Colombia/comments/owtv86/por_que_seguimos_perdiendo_el_tiempo_entre/']\n",
        "\n",
        "posts, dates, scores = reddit_scraper(urls)\n",
        "\n",
        "df = pd.DataFrame({\"body\":posts, \"date\":dates, \"score\": scores})\n",
        "df"
      ],
      "execution_count": null,
      "outputs": [
        {
          "output_type": "execute_result",
          "data": {
            "text/html": [
              "<div>\n",
              "<style scoped>\n",
              "    .dataframe tbody tr th:only-of-type {\n",
              "        vertical-align: middle;\n",
              "    }\n",
              "\n",
              "    .dataframe tbody tr th {\n",
              "        vertical-align: top;\n",
              "    }\n",
              "\n",
              "    .dataframe thead th {\n",
              "        text-align: right;\n",
              "    }\n",
              "</style>\n",
              "<table border=\"1\" class=\"dataframe\">\n",
              "  <thead>\n",
              "    <tr style=\"text-align: right;\">\n",
              "      <th></th>\n",
              "      <th>body</th>\n",
              "      <th>date</th>\n",
              "      <th>score</th>\n",
              "    </tr>\n",
              "  </thead>\n",
              "  <tbody>\n",
              "    <tr>\n",
              "      <th>0</th>\n",
              "      <td>Hola Amigos. I am a 25 year old born and raised in Canada to first generation Colombian parents. I speak fluent Spanish but I feel like I can express myself better in english. I was in Colombia for the first time 2 years ago on a solo 4 month backpacking trip and it was the best 4 months of my life. During that time I saw and experienced more of Colombia than my parents ever have. Colombians are the nicest people I have ever met. I could go on for days with stories of kind strangers. Everyone I met treated me like i was part of their family. It was the first time I was surrounded with my own people. Growing up in a suburban dominantly white neighbourhood, I had never experienced that. It was a very life changing experience. It made me so proud to be where I am from. The Colombian people's passion and patriotism is what really stood out for me. I am so proud of my brothers and sister for standing up to what is right. Seeing the news makes me so sad. I have been crying. Looking at videos of police brutality against civilians makes me tear up every time. It makes me very angry. I have lived an incredibly privileged life and feel like I shouldn't be getting so emotional over something that is not directly affecting my life here in Canada. I feel like an impostor or something. I just want to say I am sending my support and I wish I could help in anyway. Viva Colombia ❤️</td>\n",
              "      <td>1.620319e+09</td>\n",
              "      <td>38</td>\n",
              "    </tr>\n",
              "    <tr>\n",
              "      <th>1</th>\n",
              "      <td>Vivo en Tabio, un pueblo una hora al norte de Bogotá, las protestas son pacíficas pero con todo el perrenque... Soy nuevo en Reddit además y no sé cómo adjuntar una foto xdd</td>\n",
              "      <td>1.620064e+09</td>\n",
              "      <td>34</td>\n",
              "    </tr>\n",
              "    <tr>\n",
              "      <th>2</th>\n",
              "      <td>[deleted]</td>\n",
              "      <td>1.620139e+09</td>\n",
              "      <td>24</td>\n",
              "    </tr>\n",
              "    <tr>\n",
              "      <th>3</th>\n",
              "      <td>Fuerza desde Argentina hermanos.  \\n\\n\\nDuque y Uribe estan cometiendo delitos de lesa humanidad.</td>\n",
              "      <td>1.620146e+09</td>\n",
              "      <td>21</td>\n",
              "    </tr>\n",
              "    <tr>\n",
              "      <th>4</th>\n",
              "      <td>Acabo de revisar Twitter y las etiquetas uribistas han sido inundadas de fancams. El activismo social de los fanáticos de K-Pop me divierte y me confunde en igual medida.</td>\n",
              "      <td>1.620228e+09</td>\n",
              "      <td>19</td>\n",
              "    </tr>\n",
              "    <tr>\n",
              "      <th>...</th>\n",
              "      <td>...</td>\n",
              "      <td>...</td>\n",
              "      <td>...</td>\n",
              "    </tr>\n",
              "    <tr>\n",
              "      <th>349</th>\n",
              "      <td>Jaja\\nPara Polo Polo, Wally opina, Lalis Smile, Alejo Vergel yo soy bodeguero, payaso, mamerto, corrupto, ignorante, demagogo o tibio. Quieren debatir a ver qué lado tiene la razón en vez de debatir cómo nos vamos a unir para salir de esta.</td>\n",
              "      <td>1.627963e+09</td>\n",
              "      <td>3</td>\n",
              "    </tr>\n",
              "    <tr>\n",
              "      <th>350</th>\n",
              "      <td>Si ,lo siento</td>\n",
              "      <td>1.627961e+09</td>\n",
              "      <td>1</td>\n",
              "    </tr>\n",
              "    <tr>\n",
              "      <th>351</th>\n",
              "      <td>Ah bueno master ahi nos damos cuenta que en este mundo no vamos a allar algun dia un poco mas de paz</td>\n",
              "      <td>1.628028e+09</td>\n",
              "      <td>1</td>\n",
              "    </tr>\n",
              "    <tr>\n",
              "      <th>352</th>\n",
              "      <td>Espeta que? Como que la energia solar es mala si es mejor que agarrar otras fuentes,si es la misma luz que cae en el suelo solo que la agarramos y la aprovechamos para otros usos y ahi se ahorra un poco mas y es mejor para el ambiente muy pendejo el que dijo eso,y pues a mi petro no me gusta simplemente es por lo de la administracion mas no por que digan que es un supesto \"guerrillero\" pues a esperar el otro año para votar a ver que pasa.</td>\n",
              "      <td>1.628002e+09</td>\n",
              "      <td>2</td>\n",
              "    </tr>\n",
              "    <tr>\n",
              "      <th>353</th>\n",
              "      <td>Creo que esta redactado mal, tal vez se refiere a que a los que están en contra</td>\n",
              "      <td>1.628019e+09</td>\n",
              "      <td>1</td>\n",
              "    </tr>\n",
              "  </tbody>\n",
              "</table>\n",
              "<p>354 rows × 3 columns</p>\n",
              "</div>"
            ],
            "text/plain": [
              "                                                                                                                                                                                                                                                                                                                                                                                                                                                                                                                                                                                                                                                                                                                                                                                                                                                                                                                                                                                                                                                                                                                                                                                                                                                                                                                                                                                                                                            body  \\\n",
              "0    Hola Amigos. I am a 25 year old born and raised in Canada to first generation Colombian parents. I speak fluent Spanish but I feel like I can express myself better in english. I was in Colombia for the first time 2 years ago on a solo 4 month backpacking trip and it was the best 4 months of my life. During that time I saw and experienced more of Colombia than my parents ever have. Colombians are the nicest people I have ever met. I could go on for days with stories of kind strangers. Everyone I met treated me like i was part of their family. It was the first time I was surrounded with my own people. Growing up in a suburban dominantly white neighbourhood, I had never experienced that. It was a very life changing experience. It made me so proud to be where I am from. The Colombian people's passion and patriotism is what really stood out for me. I am so proud of my brothers and sister for standing up to what is right. Seeing the news makes me so sad. I have been crying. Looking at videos of police brutality against civilians makes me tear up every time. It makes me very angry. I have lived an incredibly privileged life and feel like I shouldn't be getting so emotional over something that is not directly affecting my life here in Canada. I feel like an impostor or something. I just want to say I am sending my support and I wish I could help in anyway. Viva Colombia ❤️   \n",
              "1                                                                                                                                                                                                                                                                                                                                                                                                                                                                                                                                                                                                                                                                                                                                                                                                                                                                                                                                                                                                                                                                                                                                                                                                                                                                  Vivo en Tabio, un pueblo una hora al norte de Bogotá, las protestas son pacíficas pero con todo el perrenque... Soy nuevo en Reddit además y no sé cómo adjuntar una foto xdd   \n",
              "2                                                                                                                                                                                                                                                                                                                                                                                                                                                                                                                                                                                                                                                                                                                                                                                                                                                                                                                                                                                                                                                                                                                                                                                                                                                                                                                                                                                                                                      [deleted]   \n",
              "3                                                                                                                                                                                                                                                                                                                                                                                                                                                                                                                                                                                                                                                                                                                                                                                                                                                                                                                                                                                                                                                                                                                                                                                                                                                                                                                                              Fuerza desde Argentina hermanos.  \\n\\n\\nDuque y Uribe estan cometiendo delitos de lesa humanidad.   \n",
              "4                                                                                                                                                                                                                                                                                                                                                                                                                                                                                                                                                                                                                                                                                                                                                                                                                                                                                                                                                                                                                                                                                                                                                                                                                                                                     Acabo de revisar Twitter y las etiquetas uribistas han sido inundadas de fancams. El activismo social de los fanáticos de K-Pop me divierte y me confunde en igual medida.   \n",
              "..                                                                                                                                                                                                                                                                                                                                                                                                                                                                                                                                                                                                                                                                                                                                                                                                                                                                                                                                                                                                                                                                                                                                                                                                                                                                                                                                                                                                                                           ...   \n",
              "349                                                                                                                                                                                                                                                                                                                                                                                                                                                                                                                                                                                                                                                                                                                                                                                                                                                                                                                                                                                                                                                                                                                                                                                             Jaja\\nPara Polo Polo, Wally opina, Lalis Smile, Alejo Vergel yo soy bodeguero, payaso, mamerto, corrupto, ignorante, demagogo o tibio. Quieren debatir a ver qué lado tiene la razón en vez de debatir cómo nos vamos a unir para salir de esta.   \n",
              "350                                                                                                                                                                                                                                                                                                                                                                                                                                                                                                                                                                                                                                                                                                                                                                                                                                                                                                                                                                                                                                                                                                                                                                                                                                                                                                                                                                                                                                Si ,lo siento   \n",
              "351                                                                                                                                                                                                                                                                                                                                                                                                                                                                                                                                                                                                                                                                                                                                                                                                                                                                                                                                                                                                                                                                                                                                                                                                                                                                                                                                         Ah bueno master ahi nos damos cuenta que en este mundo no vamos a allar algun dia un poco mas de paz   \n",
              "352                                                                                                                                                                                                                                                                                                                                                                                                                                                                                                                                                                                                                                                                                                                                                                                                                                                                                                                                                                                   Espeta que? Como que la energia solar es mala si es mejor que agarrar otras fuentes,si es la misma luz que cae en el suelo solo que la agarramos y la aprovechamos para otros usos y ahi se ahorra un poco mas y es mejor para el ambiente muy pendejo el que dijo eso,y pues a mi petro no me gusta simplemente es por lo de la administracion mas no por que digan que es un supesto \"guerrillero\" pues a esperar el otro año para votar a ver que pasa.   \n",
              "353                                                                                                                                                                                                                                                                                                                                                                                                                                                                                                                                                                                                                                                                                                                                                                                                                                                                                                                                                                                                                                                                                                                                                                                                                                                                                                                                                              Creo que esta redactado mal, tal vez se refiere a que a los que están en contra   \n",
              "\n",
              "             date  score  \n",
              "0    1.620319e+09     38  \n",
              "1    1.620064e+09     34  \n",
              "2    1.620139e+09     24  \n",
              "3    1.620146e+09     21  \n",
              "4    1.620228e+09     19  \n",
              "..            ...    ...  \n",
              "349  1.627963e+09      3  \n",
              "350  1.627961e+09      1  \n",
              "351  1.628028e+09      1  \n",
              "352  1.628002e+09      2  \n",
              "353  1.628019e+09      1  \n",
              "\n",
              "[354 rows x 3 columns]"
            ]
          },
          "metadata": {},
          "execution_count": 8
        }
      ]
    },
    {
      "cell_type": "markdown",
      "metadata": {
        "id": "QATSnCIdtddc"
      },
      "source": [
        "# Extract comments by keywords"
      ]
    },
    {
      "cell_type": "code",
      "metadata": {
        "id": "XuCSogaFXBrY",
        "cellView": "form"
      },
      "source": [
        "# Function to get the comments from subreddits results\n",
        "start_date = '2021-04-01'  #@param {type: \"date\"}\n",
        "end_date = '2021-08-27'  #@param {type: \"date\"}\n",
        "limit =   100#@param {type: \"number\"}\n",
        "\n",
        "year_1, month_1, day_1 = [int(x) for x in start_date.split(\"-\")]\n",
        "year_2, month_2, day_2 = [int(x) for x in end_date.split(\"-\")]\n",
        "\n",
        "start_time = int(datetime.datetime(year_1,month_1,day_1).timestamp())\n",
        "end_time = int(datetime.datetime(year_2,month_2,day_2).timestamp())\n",
        "\n",
        "def get_comments(subreddit, keyword):\n",
        "  posts = []\n",
        "  date = []\n",
        "  score = []\n",
        "\n",
        "  # Get the URLs\n",
        "  submissions = list(api.search_submissions(after= start_time, before=end_time,\n",
        "                             subreddit = subreddit,\n",
        "                             q = keyword,\n",
        "                             filter = ['full_link', 'num_comments'],\n",
        "                             limit = limit))\n",
        "  sub = pd.DataFrame(submissions)\n",
        "  comments = sub[sub['num_comments']>0] #only posts with comments\n",
        "  comments.astype('str')\n",
        "  urls = comments['full_link'].tolist()\n",
        " \n",
        "# Get the comments\n",
        "  for url in urls:\n",
        "    submission = reddit.submission(url=url)\n",
        "    submission.comments.replace_more(limit=None)\n",
        "    for comment in submission.comments.list():\n",
        "      posts.append(comment.body)\n",
        "      date.append(comment.created_utc) \n",
        "      score.append(comment.score)\n",
        "  return posts, date, score\n"
      ],
      "execution_count": null,
      "outputs": []
    },
    {
      "cell_type": "code",
      "metadata": {
        "id": "CeYS-3XDIuRm",
        "colab": {
          "base_uri": "https://localhost:8080/",
          "height": 418
        },
        "outputId": "ee715313-a17d-4703-94e4-37d9a753ba39"
      },
      "source": [
        "keywords = [\"protest\"]\n",
        "# Creating dataframes for differents subreddits and keywords\n",
        "dfs = []\n",
        "for keyword in keywords:\n",
        "  bodies, dates, scores = get_comments('Colombia', keyword) \n",
        "  df = pd.DataFrame({\"body\":bodies, \"date\":dates, \"score\": scores})\n",
        "  dfs.append(df)\n",
        "# Data as a single dataframe\n",
        "reddit_data = pd.concat(dfs, ignore_index=True)\n",
        "reddit_data"
      ],
      "execution_count": null,
      "outputs": [
        {
          "output_type": "execute_result",
          "data": {
            "text/html": [
              "<div>\n",
              "<style scoped>\n",
              "    .dataframe tbody tr th:only-of-type {\n",
              "        vertical-align: middle;\n",
              "    }\n",
              "\n",
              "    .dataframe tbody tr th {\n",
              "        vertical-align: top;\n",
              "    }\n",
              "\n",
              "    .dataframe thead th {\n",
              "        text-align: right;\n",
              "    }\n",
              "</style>\n",
              "<table border=\"1\" class=\"dataframe\">\n",
              "  <thead>\n",
              "    <tr style=\"text-align: right;\">\n",
              "      <th></th>\n",
              "      <th>body</th>\n",
              "      <th>date</th>\n",
              "      <th>score</th>\n",
              "    </tr>\n",
              "  </thead>\n",
              "  <tbody>\n",
              "    <tr>\n",
              "      <th>0</th>\n",
              "      <td>Que Lamparas</td>\n",
              "      <td>1.622490e+09</td>\n",
              "      <td>2</td>\n",
              "    </tr>\n",
              "    <tr>\n",
              "      <th>1</th>\n",
              "      <td>Y no esta muerto hasta donde se, solo estaba convulsiónando</td>\n",
              "      <td>1.622485e+09</td>\n",
              "      <td>1</td>\n",
              "    </tr>\n",
              "    <tr>\n",
              "      <th>2</th>\n",
              "      <td>Cali?</td>\n",
              "      <td>1.622485e+09</td>\n",
              "      <td>0</td>\n",
              "    </tr>\n",
              "    <tr>\n",
              "      <th>3</th>\n",
              "      <td>tipico comunista dando pena</td>\n",
              "      <td>1.622519e+09</td>\n",
              "      <td>-6</td>\n",
              "    </tr>\n",
              "    <tr>\n",
              "      <th>4</th>\n",
              "      <td>Contexto? Que paso?</td>\n",
              "      <td>1.622574e+09</td>\n",
              "      <td>1</td>\n",
              "    </tr>\n",
              "    <tr>\n",
              "      <th>...</th>\n",
              "      <td>...</td>\n",
              "      <td>...</td>\n",
              "      <td>...</td>\n",
              "    </tr>\n",
              "    <tr>\n",
              "      <th>176</th>\n",
              "      <td>[deleted]</td>\n",
              "      <td>1.620331e+09</td>\n",
              "      <td>-2</td>\n",
              "    </tr>\n",
              "    <tr>\n",
              "      <th>177</th>\n",
              "      <td>Papi vaya a la casa a dormir, ya está hablando bobadas.</td>\n",
              "      <td>1.620331e+09</td>\n",
              "      <td>5</td>\n",
              "    </tr>\n",
              "    <tr>\n",
              "      <th>178</th>\n",
              "      <td>Ajá \\n\\nPor la revolución molecular disipada, ¿no?\\n\\nLa próxima una de vaqueros... Porfa\\n\\nO de un caballero medieval\\n\\nSon más entretenidas</td>\n",
              "      <td>1.620331e+09</td>\n",
              "      <td>4</td>\n",
              "    </tr>\n",
              "    <tr>\n",
              "      <th>179</th>\n",
              "      <td>[deleted]</td>\n",
              "      <td>1.620332e+09</td>\n",
              "      <td>-2</td>\n",
              "    </tr>\n",
              "    <tr>\n",
              "      <th>180</th>\n",
              "      <td>Bueno pero ya se le explico que la referencia es al himno de santander y usted insiste en descontextualizar la cosa.</td>\n",
              "      <td>1.620338e+09</td>\n",
              "      <td>1</td>\n",
              "    </tr>\n",
              "  </tbody>\n",
              "</table>\n",
              "<p>181 rows × 3 columns</p>\n",
              "</div>"
            ],
            "text/plain": [
              "                                                                                                                                                body  \\\n",
              "0                                                                                                                                       Que Lamparas   \n",
              "1                                                                                        Y no esta muerto hasta donde se, solo estaba convulsiónando   \n",
              "2                                                                                                                                              Cali?   \n",
              "3                                                                                                                        tipico comunista dando pena   \n",
              "4                                                                                                                                Contexto? Que paso?   \n",
              "..                                                                                                                                               ...   \n",
              "176                                                                                                                                        [deleted]   \n",
              "177                                                                                          Papi vaya a la casa a dormir, ya está hablando bobadas.   \n",
              "178  Ajá \\n\\nPor la revolución molecular disipada, ¿no?\\n\\nLa próxima una de vaqueros... Porfa\\n\\nO de un caballero medieval\\n\\nSon más entretenidas   \n",
              "179                                                                                                                                        [deleted]   \n",
              "180                             Bueno pero ya se le explico que la referencia es al himno de santander y usted insiste en descontextualizar la cosa.   \n",
              "\n",
              "             date  score  \n",
              "0    1.622490e+09      2  \n",
              "1    1.622485e+09      1  \n",
              "2    1.622485e+09      0  \n",
              "3    1.622519e+09     -6  \n",
              "4    1.622574e+09      1  \n",
              "..            ...    ...  \n",
              "176  1.620331e+09     -2  \n",
              "177  1.620331e+09      5  \n",
              "178  1.620331e+09      4  \n",
              "179  1.620332e+09     -2  \n",
              "180  1.620338e+09      1  \n",
              "\n",
              "[181 rows x 3 columns]"
            ]
          },
          "metadata": {},
          "execution_count": 10
        }
      ]
    },
    {
      "cell_type": "code",
      "metadata": {
        "id": "80V92lIqmzwO",
        "colab": {
          "base_uri": "https://localhost:8080/",
          "height": 16
        },
        "outputId": "f9bed552-47de-4a2f-e3d3-0f5d74303ace"
      },
      "source": [
        "# Save as csv\n",
        "reddit_data.to_csv('reddit_data_2.csv')\n",
        "files.download('reddit_data_2.csv')"
      ],
      "execution_count": null,
      "outputs": [
        {
          "output_type": "display_data",
          "data": {
            "application/javascript": [
              "\n",
              "    async function download(id, filename, size) {\n",
              "      if (!google.colab.kernel.accessAllowed) {\n",
              "        return;\n",
              "      }\n",
              "      const div = document.createElement('div');\n",
              "      const label = document.createElement('label');\n",
              "      label.textContent = `Downloading \"${filename}\": `;\n",
              "      div.appendChild(label);\n",
              "      const progress = document.createElement('progress');\n",
              "      progress.max = size;\n",
              "      div.appendChild(progress);\n",
              "      document.body.appendChild(div);\n",
              "\n",
              "      const buffers = [];\n",
              "      let downloaded = 0;\n",
              "\n",
              "      const channel = await google.colab.kernel.comms.open(id);\n",
              "      // Send a message to notify the kernel that we're ready.\n",
              "      channel.send({})\n",
              "\n",
              "      for await (const message of channel.messages) {\n",
              "        // Send a message to notify the kernel that we're ready.\n",
              "        channel.send({})\n",
              "        if (message.buffers) {\n",
              "          for (const buffer of message.buffers) {\n",
              "            buffers.push(buffer);\n",
              "            downloaded += buffer.byteLength;\n",
              "            progress.value = downloaded;\n",
              "          }\n",
              "        }\n",
              "      }\n",
              "      const blob = new Blob(buffers, {type: 'application/binary'});\n",
              "      const a = document.createElement('a');\n",
              "      a.href = window.URL.createObjectURL(blob);\n",
              "      a.download = filename;\n",
              "      div.appendChild(a);\n",
              "      a.click();\n",
              "      div.remove();\n",
              "    }\n",
              "  "
            ],
            "text/plain": [
              "<IPython.core.display.Javascript object>"
            ]
          },
          "metadata": {}
        },
        {
          "output_type": "display_data",
          "data": {
            "application/javascript": [
              "download(\"download_e39a9411-86fc-4223-b35d-3289e2c063e4\", \"reddit_data_2.csv\", 151231)"
            ],
            "text/plain": [
              "<IPython.core.display.Javascript object>"
            ]
          },
          "metadata": {}
        }
      ]
    }
  ]
}