{
  "nbformat": 4,
  "nbformat_minor": 0,
  "metadata": {
    "colab": {
      "name": "Big_files_joining.ipynb",
      "provenance": [],
      "collapsed_sections": [],
      "authorship_tag": "ABX9TyMocy0qrw6szzRbUhEaMrG6",
      "include_colab_link": true
    },
    "kernelspec": {
      "name": "python3",
      "display_name": "Python 3"
    },
    "language_info": {
      "name": "python"
    }
  },
  "cells": [
    {
      "cell_type": "markdown",
      "metadata": {
        "id": "view-in-github",
        "colab_type": "text"
      },
      "source": [
        "<a href=\"https://colab.research.google.com/github/OmdenaAI/omdena-colombia-socialnetwork/blob/task-2-preprocessing/omdena-colombia-socialnetwork/src/tasks/task-2-preprocessing/Big_files_joining.ipynb\" target=\"_parent\"><img src=\"https://colab.research.google.com/assets/colab-badge.svg\" alt=\"Open In Colab\"/></a>"
      ]
    },
    {
      "cell_type": "code",
      "metadata": {
        "id": "WwOfFJHAVm6G"
      },
      "source": [
        "import glob\n",
        "import os\n",
        "import pandas as pd"
      ],
      "execution_count": 1,
      "outputs": []
    },
    {
      "cell_type": "code",
      "metadata": {
        "id": "CcKCnyIAWuhm"
      },
      "source": [
        "all_files = glob.glob(os.getcwd()+ \"/*.csv\")\n",
        "\n",
        "li = []\n",
        "\n",
        "for filename in all_files:\n",
        "    df = pd.read_csv(filename, index_col=None, header=0)\n",
        "    li.append(df)\n",
        "\n",
        "frame = pd.concat(li, axis=0, ignore_index=True)"
      ],
      "execution_count": 2,
      "outputs": []
    },
    {
      "cell_type": "code",
      "metadata": {
        "colab": {
          "base_uri": "https://localhost:8080/",
          "height": 202
        },
        "id": "HsYdse_1Ycvj",
        "outputId": "d8f8a8da-72a6-4b33-c84e-54fb78e27509"
      },
      "source": [
        "frame.head()"
      ],
      "execution_count": 3,
      "outputs": [
        {
          "output_type": "execute_result",
          "data": {
            "text/html": [
              "<div>\n",
              "<style scoped>\n",
              "    .dataframe tbody tr th:only-of-type {\n",
              "        vertical-align: middle;\n",
              "    }\n",
              "\n",
              "    .dataframe tbody tr th {\n",
              "        vertical-align: top;\n",
              "    }\n",
              "\n",
              "    .dataframe thead th {\n",
              "        text-align: right;\n",
              "    }\n",
              "</style>\n",
              "<table border=\"1\" class=\"dataframe\">\n",
              "  <thead>\n",
              "    <tr style=\"text-align: right;\">\n",
              "      <th></th>\n",
              "      <th>Unnamed: 0</th>\n",
              "      <th>Datetime</th>\n",
              "      <th>Tweet Id</th>\n",
              "      <th>Text</th>\n",
              "      <th>Username</th>\n",
              "    </tr>\n",
              "  </thead>\n",
              "  <tbody>\n",
              "    <tr>\n",
              "      <th>0</th>\n",
              "      <td>0</td>\n",
              "      <td>2021-08-25 23:39:27+00:00</td>\n",
              "      <td>1430676224444149760</td>\n",
              "      <td>#HumanRightsDefenders\\n#humanrightswhithoutfro...</td>\n",
              "      <td>ser_seavers</td>\n",
              "    </tr>\n",
              "    <tr>\n",
              "      <th>1</th>\n",
              "      <td>1</td>\n",
              "      <td>2021-08-25 23:34:32+00:00</td>\n",
              "      <td>1430674989833981953</td>\n",
              "      <td>#civilrightsdefenders\\n#HumanRightsDefenders\\n...</td>\n",
              "      <td>ser_seavers</td>\n",
              "    </tr>\n",
              "    <tr>\n",
              "      <th>2</th>\n",
              "      <td>2</td>\n",
              "      <td>2021-08-25 18:04:06+00:00</td>\n",
              "      <td>1430591830295564290</td>\n",
              "      <td>#SOSCALICOLOMBIA #SOSColombiaEnDictadura #Colo...</td>\n",
              "      <td>MaribelLilian11</td>\n",
              "    </tr>\n",
              "    <tr>\n",
              "      <th>3</th>\n",
              "      <td>3</td>\n",
              "      <td>2021-08-24 00:06:43+00:00</td>\n",
              "      <td>1429958311030530053</td>\n",
              "      <td>#SOSColombia #ColombiaAlertaRoja #ColombiaResi...</td>\n",
              "      <td>RitaMWelch</td>\n",
              "    </tr>\n",
              "    <tr>\n",
              "      <th>4</th>\n",
              "      <td>4</td>\n",
              "      <td>2021-08-24 00:05:19+00:00</td>\n",
              "      <td>1429957961414238210</td>\n",
              "      <td>#SOSColombia #ColombiaAlertaRoja #ColombiaResi...</td>\n",
              "      <td>RitaMWelch</td>\n",
              "    </tr>\n",
              "  </tbody>\n",
              "</table>\n",
              "</div>"
            ],
            "text/plain": [
              "   Unnamed: 0  ...         Username\n",
              "0           0  ...      ser_seavers\n",
              "1           1  ...      ser_seavers\n",
              "2           2  ...  MaribelLilian11\n",
              "3           3  ...       RitaMWelch\n",
              "4           4  ...       RitaMWelch\n",
              "\n",
              "[5 rows x 5 columns]"
            ]
          },
          "metadata": {},
          "execution_count": 3
        }
      ]
    },
    {
      "cell_type": "code",
      "metadata": {
        "colab": {
          "base_uri": "https://localhost:8080/",
          "height": 202
        },
        "id": "Ei9Q4BoBYdpI",
        "outputId": "f10446eb-2ee3-48f3-940f-b865f0879d77"
      },
      "source": [
        "frame.tail()"
      ],
      "execution_count": 4,
      "outputs": [
        {
          "output_type": "execute_result",
          "data": {
            "text/html": [
              "<div>\n",
              "<style scoped>\n",
              "    .dataframe tbody tr th:only-of-type {\n",
              "        vertical-align: middle;\n",
              "    }\n",
              "\n",
              "    .dataframe tbody tr th {\n",
              "        vertical-align: top;\n",
              "    }\n",
              "\n",
              "    .dataframe thead th {\n",
              "        text-align: right;\n",
              "    }\n",
              "</style>\n",
              "<table border=\"1\" class=\"dataframe\">\n",
              "  <thead>\n",
              "    <tr style=\"text-align: right;\">\n",
              "      <th></th>\n",
              "      <th>Unnamed: 0</th>\n",
              "      <th>Datetime</th>\n",
              "      <th>Tweet Id</th>\n",
              "      <th>Text</th>\n",
              "      <th>Username</th>\n",
              "    </tr>\n",
              "  </thead>\n",
              "  <tbody>\n",
              "    <tr>\n",
              "      <th>2488423</th>\n",
              "      <td>491884</td>\n",
              "      <td>2021-04-29 07:36:47+00:00</td>\n",
              "      <td>1387672192679301120</td>\n",
              "      <td>Emigrar no es difícil, lo difícil es saber el ...</td>\n",
              "      <td>LaUsUaReZtAr</td>\n",
              "    </tr>\n",
              "    <tr>\n",
              "      <th>2488424</th>\n",
              "      <td>491885</td>\n",
              "      <td>2021-04-29 00:18:27+00:00</td>\n",
              "      <td>1387561884933558272</td>\n",
              "      <td>Vogue es anarquía, rebeldía y fuerza 💜🔥 #Resis...</td>\n",
              "      <td>elchicoturquesa</td>\n",
              "    </tr>\n",
              "    <tr>\n",
              "      <th>2488425</th>\n",
              "      <td>491886</td>\n",
              "      <td>2021-04-28 22:39:58+00:00</td>\n",
              "      <td>1387537099457548291</td>\n",
              "      <td>#ResisteColombia #NoALaReformaTributaria</td>\n",
              "      <td>lalloraderia</td>\n",
              "    </tr>\n",
              "    <tr>\n",
              "      <th>2488426</th>\n",
              "      <td>491887</td>\n",
              "      <td>2021-04-28 17:09:06+00:00</td>\n",
              "      <td>1387453833157169152</td>\n",
              "      <td>#ResisteColombia ✊ https://t.co/1avYW77nUP</td>\n",
              "      <td>nandorivas86</td>\n",
              "    </tr>\n",
              "    <tr>\n",
              "      <th>2488427</th>\n",
              "      <td>491888</td>\n",
              "      <td>2021-04-28 16:01:22+00:00</td>\n",
              "      <td>1387436787140804616</td>\n",
              "      <td>Meterle IVA a la comida en un país donde los n...</td>\n",
              "      <td>sara_casta03</td>\n",
              "    </tr>\n",
              "  </tbody>\n",
              "</table>\n",
              "</div>"
            ],
            "text/plain": [
              "         Unnamed: 0  ...         Username\n",
              "2488423      491884  ...     LaUsUaReZtAr\n",
              "2488424      491885  ...  elchicoturquesa\n",
              "2488425      491886  ...     lalloraderia\n",
              "2488426      491887  ...     nandorivas86\n",
              "2488427      491888  ...     sara_casta03\n",
              "\n",
              "[5 rows x 5 columns]"
            ]
          },
          "metadata": {},
          "execution_count": 4
        }
      ]
    },
    {
      "cell_type": "code",
      "metadata": {
        "colab": {
          "base_uri": "https://localhost:8080/"
        },
        "id": "lWn2mq4cYeyG",
        "outputId": "d2a20b1c-e99a-461e-b224-f5db96250624"
      },
      "source": [
        "frame.shape"
      ],
      "execution_count": 5,
      "outputs": [
        {
          "output_type": "execute_result",
          "data": {
            "text/plain": [
              "(2488428, 5)"
            ]
          },
          "metadata": {},
          "execution_count": 5
        }
      ]
    },
    {
      "cell_type": "code",
      "metadata": {
        "colab": {
          "base_uri": "https://localhost:8080/",
          "height": 294
        },
        "id": "1DNy8MyzYfQu",
        "outputId": "af5057a6-60e5-4436-de57-e38b5de28219"
      },
      "source": [
        "frame.describe()"
      ],
      "execution_count": 6,
      "outputs": [
        {
          "output_type": "execute_result",
          "data": {
            "text/html": [
              "<div>\n",
              "<style scoped>\n",
              "    .dataframe tbody tr th:only-of-type {\n",
              "        vertical-align: middle;\n",
              "    }\n",
              "\n",
              "    .dataframe tbody tr th {\n",
              "        vertical-align: top;\n",
              "    }\n",
              "\n",
              "    .dataframe thead th {\n",
              "        text-align: right;\n",
              "    }\n",
              "</style>\n",
              "<table border=\"1\" class=\"dataframe\">\n",
              "  <thead>\n",
              "    <tr style=\"text-align: right;\">\n",
              "      <th></th>\n",
              "      <th>Unnamed: 0</th>\n",
              "      <th>Tweet Id</th>\n",
              "    </tr>\n",
              "  </thead>\n",
              "  <tbody>\n",
              "    <tr>\n",
              "      <th>count</th>\n",
              "      <td>2.488428e+06</td>\n",
              "      <td>2.488428e+06</td>\n",
              "    </tr>\n",
              "    <tr>\n",
              "      <th>mean</th>\n",
              "      <td>2.470167e+05</td>\n",
              "      <td>1.390916e+18</td>\n",
              "    </tr>\n",
              "    <tr>\n",
              "      <th>std</th>\n",
              "      <td>1.440562e+05</td>\n",
              "      <td>4.291007e+15</td>\n",
              "    </tr>\n",
              "    <tr>\n",
              "      <th>min</th>\n",
              "      <td>0.000000e+00</td>\n",
              "      <td>5.271434e+15</td>\n",
              "    </tr>\n",
              "    <tr>\n",
              "      <th>25%</th>\n",
              "      <td>1.223230e+05</td>\n",
              "      <td>1.389987e+18</td>\n",
              "    </tr>\n",
              "    <tr>\n",
              "      <th>50%</th>\n",
              "      <td>2.467445e+05</td>\n",
              "      <td>1.390057e+18</td>\n",
              "    </tr>\n",
              "    <tr>\n",
              "      <th>75%</th>\n",
              "      <td>3.711660e+05</td>\n",
              "      <td>1.390229e+18</td>\n",
              "    </tr>\n",
              "    <tr>\n",
              "      <th>max</th>\n",
              "      <td>5.135840e+05</td>\n",
              "      <td>1.431994e+18</td>\n",
              "    </tr>\n",
              "  </tbody>\n",
              "</table>\n",
              "</div>"
            ],
            "text/plain": [
              "         Unnamed: 0      Tweet Id\n",
              "count  2.488428e+06  2.488428e+06\n",
              "mean   2.470167e+05  1.390916e+18\n",
              "std    1.440562e+05  4.291007e+15\n",
              "min    0.000000e+00  5.271434e+15\n",
              "25%    1.223230e+05  1.389987e+18\n",
              "50%    2.467445e+05  1.390057e+18\n",
              "75%    3.711660e+05  1.390229e+18\n",
              "max    5.135840e+05  1.431994e+18"
            ]
          },
          "metadata": {},
          "execution_count": 6
        }
      ]
    },
    {
      "cell_type": "code",
      "metadata": {
        "id": "aNFES1pyYg2v"
      },
      "source": [
        "frame.to_csv(\"big_files_joined.csv\")"
      ],
      "execution_count": 7,
      "outputs": []
    }
  ]
}